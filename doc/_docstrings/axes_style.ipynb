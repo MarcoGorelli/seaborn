{
 "cells": [
  {
   "cell_type": "code",
   "execution_count": 1,
   "id": "dated-mother",
   "metadata": {
    "execution": {
     "iopub.execute_input": "2023-05-21T17:50:14.416098Z",
     "iopub.status.busy": "2023-05-21T17:50:14.415841Z",
     "iopub.status.idle": "2023-05-21T17:50:15.079641Z",
     "shell.execute_reply": "2023-05-21T17:50:15.078759Z"
    },
    "tags": [
     "hide"
    ]
   },
   "outputs": [],
   "source": [
    "import seaborn as sns"
   ]
  },
  {
   "cell_type": "markdown",
   "id": "prospective-sellers",
   "metadata": {},
   "source": [
    "Calling with no arguments will return the current defaults for the style parameters:"
   ]
  },
  {
   "cell_type": "code",
   "execution_count": 2,
   "id": "recognized-rehabilitation",
   "metadata": {
    "execution": {
     "iopub.execute_input": "2023-05-21T17:50:15.082844Z",
     "iopub.status.busy": "2023-05-21T17:50:15.082480Z",
     "iopub.status.idle": "2023-05-21T17:50:15.088789Z",
     "shell.execute_reply": "2023-05-21T17:50:15.088257Z"
    },
    "tags": [
     "show-output"
    ]
   },
   "outputs": [
    {
     "data": {
      "text/plain": [
       "{'axes.facecolor': 'white',\n",
       " 'axes.edgecolor': 'black',\n",
       " 'axes.grid': False,\n",
       " 'axes.axisbelow': 'line',\n",
       " 'axes.labelcolor': 'black',\n",
       " 'figure.facecolor': 'white',\n",
       " 'grid.color': '#b0b0b0',\n",
       " 'grid.linestyle': '-',\n",
       " 'text.color': 'black',\n",
       " 'xtick.color': 'black',\n",
       " 'ytick.color': 'black',\n",
       " 'xtick.direction': 'out',\n",
       " 'ytick.direction': 'out',\n",
       " 'lines.solid_capstyle': <CapStyle.projecting: 'projecting'>,\n",
       " 'patch.edgecolor': 'black',\n",
       " 'patch.force_edgecolor': False,\n",
       " 'image.cmap': 'viridis',\n",
       " 'font.family': ['sans-serif'],\n",
       " 'font.sans-serif': ['DejaVu Sans',\n",
       "  'Bitstream Vera Sans',\n",
       "  'Computer Modern Sans Serif',\n",
       "  'Lucida Grande',\n",
       "  'Verdana',\n",
       "  'Geneva',\n",
       "  'Lucid',\n",
       "  'Arial',\n",
       "  'Helvetica',\n",
       "  'Avant Garde',\n",
       "  'sans-serif'],\n",
       " 'xtick.bottom': True,\n",
       " 'xtick.top': False,\n",
       " 'ytick.left': True,\n",
       " 'ytick.right': False,\n",
       " 'axes.spines.left': True,\n",
       " 'axes.spines.bottom': True,\n",
       " 'axes.spines.right': True,\n",
       " 'axes.spines.top': True}"
      ]
     },
     "execution_count": 2,
     "metadata": {},
     "output_type": "execute_result"
    }
   ],
   "source": [
    "sns.axes_style()"
   ]
  },
  {
   "cell_type": "markdown",
   "id": "furnished-irrigation",
   "metadata": {},
   "source": [
    "Calling with the name of a predefined style will show those parameter values:"
   ]
  },
  {
   "cell_type": "code",
   "execution_count": 3,
   "id": "coordinate-reward",
   "metadata": {
    "execution": {
     "iopub.execute_input": "2023-05-21T17:50:15.091015Z",
     "iopub.status.busy": "2023-05-21T17:50:15.090545Z",
     "iopub.status.idle": "2023-05-21T17:50:15.094777Z",
     "shell.execute_reply": "2023-05-21T17:50:15.094212Z"
    },
    "tags": [
     "show-output"
    ]
   },
   "outputs": [
    {
     "data": {
      "text/plain": [
       "{'figure.facecolor': 'white',\n",
       " 'axes.labelcolor': '.15',\n",
       " 'xtick.direction': 'out',\n",
       " 'ytick.direction': 'out',\n",
       " 'xtick.color': '.15',\n",
       " 'ytick.color': '.15',\n",
       " 'axes.axisbelow': True,\n",
       " 'grid.linestyle': '-',\n",
       " 'text.color': '.15',\n",
       " 'font.family': ['sans-serif'],\n",
       " 'font.sans-serif': ['Arial',\n",
       "  'DejaVu Sans',\n",
       "  'Liberation Sans',\n",
       "  'Bitstream Vera Sans',\n",
       "  'sans-serif'],\n",
       " 'lines.solid_capstyle': 'round',\n",
       " 'patch.edgecolor': 'w',\n",
       " 'patch.force_edgecolor': True,\n",
       " 'image.cmap': 'rocket',\n",
       " 'xtick.top': False,\n",
       " 'ytick.right': False,\n",
       " 'axes.grid': True,\n",
       " 'axes.facecolor': '#EAEAF2',\n",
       " 'axes.edgecolor': 'white',\n",
       " 'grid.color': 'white',\n",
       " 'axes.spines.left': True,\n",
       " 'axes.spines.bottom': True,\n",
       " 'axes.spines.right': True,\n",
       " 'axes.spines.top': True,\n",
       " 'xtick.bottom': False,\n",
       " 'ytick.left': False}"
      ]
     },
     "execution_count": 3,
     "metadata": {},
     "output_type": "execute_result"
    }
   ],
   "source": [
    "sns.axes_style(\"darkgrid\")"
   ]
  },
  {
   "cell_type": "markdown",
   "id": "mediterranean-picking",
   "metadata": {},
   "source": [
    "Use the function as a context manager to temporarily change the style of your plots:"
   ]
  },
  {
   "cell_type": "code",
   "execution_count": 4,
   "id": "missing-essence",
   "metadata": {
    "execution": {
     "iopub.execute_input": "2023-05-21T17:50:15.096744Z",
     "iopub.status.busy": "2023-05-21T17:50:15.096539Z",
     "iopub.status.idle": "2023-05-21T17:50:15.203569Z",
     "shell.execute_reply": "2023-05-21T17:50:15.202635Z"
    }
   },
   "outputs": [
    {
     "data": {
      "image/png": "[encoded data removed]",
      "text/plain": [
       "<Figure size 640x480 with 1 Axes>"
      ]
     },
     "metadata": {},
     "output_type": "display_data"
    }
   ],
   "source": [
    "with sns.axes_style(\"whitegrid\"):\n",
    "    sns.barplot(x=[1, 2, 3], y=[2, 5, 3])"
   ]
  }
 ],
 "metadata": {
  "kernelspec": {
   "display_name": "Python 3 (ipykernel)",
   "language": "python",
   "name": "python3"
  },
  "language_info": {
   "codemirror_mode": {
    "name": "ipython",
    "version": 3
   },
   "file_extension": ".py",
   "mimetype": "text/x-python",
   "name": "python",
   "nbconvert_exporter": "python",
   "pygments_lexer": "ipython3",
   "version": "3.10.6"
  }
 },
 "nbformat": 4,
 "nbformat_minor": 5
}
