{
 "cells": [
  {
   "cell_type": "code",
   "execution_count": 1,
   "id": "8f97280e-cec8-42b2-a968-4fd4364594f8",
   "metadata": {
    "execution": {
     "iopub.execute_input": "2023-05-21T17:04:58.439705Z",
     "iopub.status.busy": "2023-05-21T17:04:58.439250Z",
     "iopub.status.idle": "2023-05-21T17:04:59.108107Z",
     "shell.execute_reply": "2023-05-21T17:04:59.107506Z"
    },
    "tags": [
     "hide"
    ]
   },
   "outputs": [],
   "source": [
    "import seaborn as sns\n",
    "sns.set_theme()\n",
    "sns.palettes._patch_colormap_display()"
   ]
  },
  {
   "cell_type": "raw",
   "id": "972edede-df1a-4010-9674-00b864d020e2",
   "metadata": {},
   "source": [
    "Pass a list of two colors to interpolate between them:"
   ]
  },
  {
   "cell_type": "code",
   "execution_count": 2,
   "id": "e6ae2547-1042-4ac0-84ea-6f37a0229871",
   "metadata": {
    "execution": {
     "iopub.execute_input": "2023-05-21T17:04:59.111056Z",
     "iopub.status.busy": "2023-05-21T17:04:59.110769Z",
     "iopub.status.idle": "2023-05-21T17:04:59.117348Z",
     "shell.execute_reply": "2023-05-21T17:04:59.116850Z"
    }
   },
   "outputs": [
    {
     "data": {
      "text/html": [
       "<svg  width=\"330\" height=\"55\"><rect x=\"0\" y=\"0\" width=\"55\" height=\"55\" style=\"fill:#4c72b0;stroke-width:2;stroke:rgb(255,255,255)\"/><rect x=\"55\" y=\"0\" width=\"55\" height=\"55\" style=\"fill:#646b9d;stroke-width:2;stroke:rgb(255,255,255)\"/><rect x=\"110\" y=\"0\" width=\"55\" height=\"55\" style=\"fill:#7c648a;stroke-width:2;stroke:rgb(255,255,255)\"/><rect x=\"165\" y=\"0\" width=\"55\" height=\"55\" style=\"fill:#945c78;stroke-width:2;stroke:rgb(255,255,255)\"/><rect x=\"220\" y=\"0\" width=\"55\" height=\"55\" style=\"fill:#ac5565;stroke-width:2;stroke:rgb(255,255,255)\"/><rect x=\"275\" y=\"0\" width=\"55\" height=\"55\" style=\"fill:#c44e52;stroke-width:2;stroke:rgb(255,255,255)\"/></svg>"
      ],
      "text/plain": [
       "[(0.2980392156862745, 0.4470588235294118, 0.6901960784313725),\n",
       " (0.39215686274509803, 0.4188235294117647, 0.6164705882352941),\n",
       " (0.4862745098039216, 0.3905882352941177, 0.5427450980392157),\n",
       " (0.580392156862745, 0.3623529411764706, 0.46901960784313723),\n",
       " (0.6745098039215687, 0.3341176470588235, 0.39529411764705885),\n",
       " (0.7686274509803922, 0.3058823529411765, 0.3215686274509804)]"
      ]
     },
     "execution_count": 2,
     "metadata": {},
     "output_type": "execute_result"
    }
   ],
   "source": [
    "sns.blend_palette([\"b\", \"r\"])"
   ]
  },
  {
   "cell_type": "raw",
   "id": "1d983eac-2dd5-4746-b27f-4dfa19b5e091",
   "metadata": {},
   "source": [
    "The color list can be arbitrarily long, and any color format can be used:"
   ]
  },
  {
   "cell_type": "code",
   "execution_count": 3,
   "id": "846b78fd-30ce-4507-93f4-4274122c1987",
   "metadata": {
    "execution": {
     "iopub.execute_input": "2023-05-21T17:04:59.119434Z",
     "iopub.status.busy": "2023-05-21T17:04:59.119203Z",
     "iopub.status.idle": "2023-05-21T17:04:59.124208Z",
     "shell.execute_reply": "2023-05-21T17:04:59.123700Z"
    }
   },
   "outputs": [
    {
     "data": {
      "text/html": [
       "<svg  width=\"330\" height=\"55\"><rect x=\"0\" y=\"0\" width=\"55\" height=\"55\" style=\"fill:#45a872;stroke-width:2;stroke:rgb(255,255,255)\"/><rect x=\"55\" y=\"0\" width=\"55\" height=\"55\" style=\"fill:#7bb696;stroke-width:2;stroke:rgb(255,255,255)\"/><rect x=\"110\" y=\"0\" width=\"55\" height=\"55\" style=\"fill:#b1c5ba;stroke-width:2;stroke:rgb(255,255,255)\"/><rect x=\"165\" y=\"0\" width=\"55\" height=\"55\" style=\"fill:#d4c9a4;stroke-width:2;stroke:rgb(255,255,255)\"/><rect x=\"220\" y=\"0\" width=\"55\" height=\"55\" style=\"fill:#e5c453;stroke-width:2;stroke:rgb(255,255,255)\"/><rect x=\"275\" y=\"0\" width=\"55\" height=\"55\" style=\"fill:#f5bf03;stroke-width:2;stroke:rgb(255,255,255)\"/></svg>"
      ],
      "text/plain": [
       "[(0.27058823529411763, 0.6588235294117647, 0.4470588235294118),\n",
       " (0.48235294117647065, 0.7152941176470589, 0.5882352941176471),\n",
       " (0.6941176470588236, 0.771764705882353, 0.7294117647058824),\n",
       " (0.832156862745098, 0.7898039215686274, 0.6423529411764706),\n",
       " (0.8964705882352941, 0.7694117647058824, 0.3270588235294118),\n",
       " (0.9607843137254902, 0.7490196078431373, 0.011764705882352941)]"
      ]
     },
     "execution_count": 3,
     "metadata": {},
     "output_type": "execute_result"
    }
   ],
   "source": [
    "sns.blend_palette([\"#45a872\", \".8\", \"xkcd:golden\"])"
   ]
  },
  {
   "cell_type": "raw",
   "id": "318fef32-1f83-44d9-9ff9-21fa0231b7c6",
   "metadata": {},
   "source": [
    "Return a continuous colormap instead of a discrete palette:"
   ]
  },
  {
   "cell_type": "code",
   "execution_count": 4,
   "id": "f0a05bc3-c60b-47a1-b276-d2e28a4a8226",
   "metadata": {
    "execution": {
     "iopub.execute_input": "2023-05-21T17:04:59.126258Z",
     "iopub.status.busy": "2023-05-21T17:04:59.126019Z",
     "iopub.status.idle": "2023-05-21T17:04:59.133153Z",
     "shell.execute_reply": "2023-05-21T17:04:59.132668Z"
    }
   },
   "outputs": [
    {
     "data": {
      "image/png": "[encoded data removed]",
      "text/html": [
       "<img alt=\"blend color map\" title=\"blend\"src=\"data:image/png;base64,iVBORw0KGgoAAAANSUhEUgAAAZAAAAAyCAYAAAByHI2dAAABeklEQVR4nO3VzXHCMBSF0ef031FaSAupRVnAIKPIf3fw7pxFACM/ZDsz3/L9+9OqqlprVVX19vfx8jzSP7TVF+t3/fB69Th7XHtudt/POOtxztbs4/njte7t/bP35WjvW7Pn+5nfl1v23vqn67PXx2dX08/5zDMdZl/e+9uP9pfJ+6qlr59+P/xOW+azX/us4eDznMnaM/PH9Xt7vzp7nDfOfp1/4r4c7f19b6vZt+x9tf7i7PGaTj/Tf/die+97/y+t+ty7nulXAUBAQACICAgAEQEBICIgAEQEBICIgAAQERAAIgICQERAAIgICAARAQEgIiAARAQEgIiAABAREAAiAgJAREAAiAgIABEBASAiIABEBASAiIAAEBEQACICAkBEQACICAgAEQEBICIgAEQEBICIgAAQERAAIgICQERAAIgICAARAQEgIiAARAQEgIiAABAREAAiAgJAREAAiAgIABEBASAiIABEBASAiIAAEBEQACICAkDkDwz1Eteikwe5AAAAAElFTkSuQmCC\">"
      ],
      "text/plain": [
       "<matplotlib.colors.LinearSegmentedColormap at 0x7fc6a8f16170>"
      ]
     },
     "execution_count": 4,
     "metadata": {},
     "output_type": "execute_result"
    }
   ],
   "source": [
    "sns.blend_palette([\"#bdc\", \"#7b9\", \"#47a\"], as_cmap=True)"
   ]
  },
  {
   "cell_type": "code",
   "execution_count": null,
   "id": "0473a402-0ec2-4877-81d2-ed6c57aefc77",
   "metadata": {},
   "outputs": [],
   "source": []
  }
 ],
 "metadata": {
  "kernelspec": {
   "display_name": "py310",
   "language": "python",
   "name": "py310"
  },
  "language_info": {
   "codemirror_mode": {
    "name": "ipython",
    "version": 3
   },
   "file_extension": ".py",
   "mimetype": "text/x-python",
   "name": "python",
   "nbconvert_exporter": "python",
   "pygments_lexer": "ipython3",
   "version": "3.10.6"
  }
 },
 "nbformat": 4,
 "nbformat_minor": 5
}
