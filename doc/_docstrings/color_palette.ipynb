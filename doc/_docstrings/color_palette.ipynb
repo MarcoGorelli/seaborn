{
 "cells": [
  {
   "cell_type": "code",
   "execution_count": 1,
   "metadata": {
    "execution": {
     "iopub.execute_input": "2023-05-21T17:50:40.966047Z",
     "iopub.status.busy": "2023-05-21T17:50:40.965910Z",
     "iopub.status.idle": "2023-05-21T17:50:41.616078Z",
     "shell.execute_reply": "2023-05-21T17:50:41.615420Z"
    },
    "tags": [
     "hide"
    ]
   },
   "outputs": [],
   "source": [
    "import seaborn as sns\n",
    "sns.set_theme()\n",
    "sns.palettes._patch_colormap_display()"
   ]
  },
  {
   "cell_type": "raw",
   "metadata": {},
   "source": [
    "Calling with no arguments returns all colors from the current default\n",
    "color cycle:"
   ]
  },
  {
   "cell_type": "code",
   "execution_count": 2,
   "metadata": {
    "execution": {
     "iopub.execute_input": "2023-05-21T17:50:41.618847Z",
     "iopub.status.busy": "2023-05-21T17:50:41.618610Z",
     "iopub.status.idle": "2023-05-21T17:50:41.624122Z",
     "shell.execute_reply": "2023-05-21T17:50:41.623631Z"
    }
   },
   "outputs": [
    {
     "data": {
      "text/html": [
       "<svg  width=\"550\" height=\"55\"><rect x=\"0\" y=\"0\" width=\"55\" height=\"55\" style=\"fill:#4c72b0;stroke-width:2;stroke:rgb(255,255,255)\"/><rect x=\"55\" y=\"0\" width=\"55\" height=\"55\" style=\"fill:#dd8452;stroke-width:2;stroke:rgb(255,255,255)\"/><rect x=\"110\" y=\"0\" width=\"55\" height=\"55\" style=\"fill:#55a868;stroke-width:2;stroke:rgb(255,255,255)\"/><rect x=\"165\" y=\"0\" width=\"55\" height=\"55\" style=\"fill:#c44e52;stroke-width:2;stroke:rgb(255,255,255)\"/><rect x=\"220\" y=\"0\" width=\"55\" height=\"55\" style=\"fill:#8172b3;stroke-width:2;stroke:rgb(255,255,255)\"/><rect x=\"275\" y=\"0\" width=\"55\" height=\"55\" style=\"fill:#937860;stroke-width:2;stroke:rgb(255,255,255)\"/><rect x=\"330\" y=\"0\" width=\"55\" height=\"55\" style=\"fill:#da8bc3;stroke-width:2;stroke:rgb(255,255,255)\"/><rect x=\"385\" y=\"0\" width=\"55\" height=\"55\" style=\"fill:#8c8c8c;stroke-width:2;stroke:rgb(255,255,255)\"/><rect x=\"440\" y=\"0\" width=\"55\" height=\"55\" style=\"fill:#ccb974;stroke-width:2;stroke:rgb(255,255,255)\"/><rect x=\"495\" y=\"0\" width=\"55\" height=\"55\" style=\"fill:#64b5cd;stroke-width:2;stroke:rgb(255,255,255)\"/></svg>"
      ],
      "text/plain": [
       "[(0.2980392156862745, 0.4470588235294118, 0.6901960784313725),\n",
       " (0.8666666666666667, 0.5176470588235295, 0.3215686274509804),\n",
       " (0.3333333333333333, 0.6588235294117647, 0.40784313725490196),\n",
       " (0.7686274509803922, 0.3058823529411765, 0.3215686274509804),\n",
       " (0.5058823529411764, 0.4470588235294118, 0.7019607843137254),\n",
       " (0.5764705882352941, 0.47058823529411764, 0.3764705882352941),\n",
       " (0.8549019607843137, 0.5450980392156862, 0.7647058823529411),\n",
       " (0.5490196078431373, 0.5490196078431373, 0.5490196078431373),\n",
       " (0.8, 0.7254901960784313, 0.4549019607843137),\n",
       " (0.39215686274509803, 0.7098039215686275, 0.803921568627451)]"
      ]
     },
     "execution_count": 2,
     "metadata": {},
     "output_type": "execute_result"
    }
   ],
   "source": [
    "sns.color_palette()"
   ]
  },
  {
   "cell_type": "raw",
   "metadata": {},
   "source": [
    "Other variants on the seaborn categorical color palette can be referenced by name:"
   ]
  },
  {
   "cell_type": "code",
   "execution_count": 3,
   "metadata": {
    "execution": {
     "iopub.execute_input": "2023-05-21T17:50:41.626752Z",
     "iopub.status.busy": "2023-05-21T17:50:41.626581Z",
     "iopub.status.idle": "2023-05-21T17:50:41.630608Z",
     "shell.execute_reply": "2023-05-21T17:50:41.630147Z"
    }
   },
   "outputs": [
    {
     "data": {
      "text/html": [
       "<svg  width=\"550\" height=\"55\"><rect x=\"0\" y=\"0\" width=\"55\" height=\"55\" style=\"fill:#a1c9f4;stroke-width:2;stroke:rgb(255,255,255)\"/><rect x=\"55\" y=\"0\" width=\"55\" height=\"55\" style=\"fill:#ffb482;stroke-width:2;stroke:rgb(255,255,255)\"/><rect x=\"110\" y=\"0\" width=\"55\" height=\"55\" style=\"fill:#8de5a1;stroke-width:2;stroke:rgb(255,255,255)\"/><rect x=\"165\" y=\"0\" width=\"55\" height=\"55\" style=\"fill:#ff9f9b;stroke-width:2;stroke:rgb(255,255,255)\"/><rect x=\"220\" y=\"0\" width=\"55\" height=\"55\" style=\"fill:#d0bbff;stroke-width:2;stroke:rgb(255,255,255)\"/><rect x=\"275\" y=\"0\" width=\"55\" height=\"55\" style=\"fill:#debb9b;stroke-width:2;stroke:rgb(255,255,255)\"/><rect x=\"330\" y=\"0\" width=\"55\" height=\"55\" style=\"fill:#fab0e4;stroke-width:2;stroke:rgb(255,255,255)\"/><rect x=\"385\" y=\"0\" width=\"55\" height=\"55\" style=\"fill:#cfcfcf;stroke-width:2;stroke:rgb(255,255,255)\"/><rect x=\"440\" y=\"0\" width=\"55\" height=\"55\" style=\"fill:#fffea3;stroke-width:2;stroke:rgb(255,255,255)\"/><rect x=\"495\" y=\"0\" width=\"55\" height=\"55\" style=\"fill:#b9f2f0;stroke-width:2;stroke:rgb(255,255,255)\"/></svg>"
      ],
      "text/plain": [
       "[(0.6313725490196078, 0.788235294117647, 0.9568627450980393),\n",
       " (1.0, 0.7058823529411765, 0.5098039215686274),\n",
       " (0.5529411764705883, 0.8980392156862745, 0.6313725490196078),\n",
       " (1.0, 0.6235294117647059, 0.6078431372549019),\n",
       " (0.8156862745098039, 0.7333333333333333, 1.0),\n",
       " (0.8705882352941177, 0.7333333333333333, 0.6078431372549019),\n",
       " (0.9803921568627451, 0.6901960784313725, 0.8941176470588236),\n",
       " (0.8117647058823529, 0.8117647058823529, 0.8117647058823529),\n",
       " (1.0, 0.996078431372549, 0.6392156862745098),\n",
       " (0.7254901960784313, 0.9490196078431372, 0.9411764705882353)]"
      ]
     },
     "execution_count": 3,
     "metadata": {},
     "output_type": "execute_result"
    }
   ],
   "source": [
    "sns.color_palette(\"pastel\")"
   ]
  },
  {
   "cell_type": "raw",
   "metadata": {},
   "source": [
    "Return a specified number of evenly spaced hues in the \"HUSL\" system:"
   ]
  },
  {
   "cell_type": "code",
   "execution_count": 4,
   "metadata": {
    "execution": {
     "iopub.execute_input": "2023-05-21T17:50:41.632464Z",
     "iopub.status.busy": "2023-05-21T17:50:41.632239Z",
     "iopub.status.idle": "2023-05-21T17:50:41.635983Z",
     "shell.execute_reply": "2023-05-21T17:50:41.635523Z"
    }
   },
   "outputs": [
    {
     "data": {
      "text/html": [
       "<svg  width=\"495\" height=\"55\"><rect x=\"0\" y=\"0\" width=\"55\" height=\"55\" style=\"fill:#f77189;stroke-width:2;stroke:rgb(255,255,255)\"/><rect x=\"55\" y=\"0\" width=\"55\" height=\"55\" style=\"fill:#d58c32;stroke-width:2;stroke:rgb(255,255,255)\"/><rect x=\"110\" y=\"0\" width=\"55\" height=\"55\" style=\"fill:#a4a031;stroke-width:2;stroke:rgb(255,255,255)\"/><rect x=\"165\" y=\"0\" width=\"55\" height=\"55\" style=\"fill:#50b131;stroke-width:2;stroke:rgb(255,255,255)\"/><rect x=\"220\" y=\"0\" width=\"55\" height=\"55\" style=\"fill:#34ae91;stroke-width:2;stroke:rgb(255,255,255)\"/><rect x=\"275\" y=\"0\" width=\"55\" height=\"55\" style=\"fill:#37abb5;stroke-width:2;stroke:rgb(255,255,255)\"/><rect x=\"330\" y=\"0\" width=\"55\" height=\"55\" style=\"fill:#3ba3ec;stroke-width:2;stroke:rgb(255,255,255)\"/><rect x=\"385\" y=\"0\" width=\"55\" height=\"55\" style=\"fill:#bb83f4;stroke-width:2;stroke:rgb(255,255,255)\"/><rect x=\"440\" y=\"0\" width=\"55\" height=\"55\" style=\"fill:#f564d4;stroke-width:2;stroke:rgb(255,255,255)\"/></svg>"
      ],
      "text/plain": [
       "[(0.9677975592919913, 0.44127456009157356, 0.5358103155058701),\n",
       " (0.8369430560927636, 0.5495828952802333, 0.1952683223448124),\n",
       " (0.6430915736746491, 0.6271955086583126, 0.19381135329796756),\n",
       " (0.3126890019504329, 0.6928754610296064, 0.1923704830330379),\n",
       " (0.20582072623426667, 0.6842209016721069, 0.5675558225732941),\n",
       " (0.2151139535594307, 0.6700707833028816, 0.7112365203426209),\n",
       " (0.23299120924703914, 0.639586552066035, 0.9260706093977744),\n",
       " (0.731751635642941, 0.5128186367840487, 0.9581005178234921),\n",
       " (0.9614880299080136, 0.3909885385134758, 0.8298287106954371)]"
      ]
     },
     "execution_count": 4,
     "metadata": {},
     "output_type": "execute_result"
    }
   ],
   "source": [
    "sns.color_palette(\"husl\", 9)"
   ]
  },
  {
   "cell_type": "raw",
   "metadata": {},
   "source": [
    "Return all unique colors in a categorical Color Brewer palette:"
   ]
  },
  {
   "cell_type": "code",
   "execution_count": 5,
   "metadata": {
    "execution": {
     "iopub.execute_input": "2023-05-21T17:50:41.638093Z",
     "iopub.status.busy": "2023-05-21T17:50:41.637605Z",
     "iopub.status.idle": "2023-05-21T17:50:41.641474Z",
     "shell.execute_reply": "2023-05-21T17:50:41.641009Z"
    }
   },
   "outputs": [
    {
     "data": {
      "text/html": [
       "<svg  width=\"440\" height=\"55\"><rect x=\"0\" y=\"0\" width=\"55\" height=\"55\" style=\"fill:#66c2a5;stroke-width:2;stroke:rgb(255,255,255)\"/><rect x=\"55\" y=\"0\" width=\"55\" height=\"55\" style=\"fill:#fc8d62;stroke-width:2;stroke:rgb(255,255,255)\"/><rect x=\"110\" y=\"0\" width=\"55\" height=\"55\" style=\"fill:#8da0cb;stroke-width:2;stroke:rgb(255,255,255)\"/><rect x=\"165\" y=\"0\" width=\"55\" height=\"55\" style=\"fill:#e78ac3;stroke-width:2;stroke:rgb(255,255,255)\"/><rect x=\"220\" y=\"0\" width=\"55\" height=\"55\" style=\"fill:#a6d854;stroke-width:2;stroke:rgb(255,255,255)\"/><rect x=\"275\" y=\"0\" width=\"55\" height=\"55\" style=\"fill:#ffd92f;stroke-width:2;stroke:rgb(255,255,255)\"/><rect x=\"330\" y=\"0\" width=\"55\" height=\"55\" style=\"fill:#e5c494;stroke-width:2;stroke:rgb(255,255,255)\"/><rect x=\"385\" y=\"0\" width=\"55\" height=\"55\" style=\"fill:#b3b3b3;stroke-width:2;stroke:rgb(255,255,255)\"/></svg>"
      ],
      "text/plain": [
       "[(0.4, 0.7607843137254902, 0.6470588235294118),\n",
       " (0.9882352941176471, 0.5529411764705883, 0.3843137254901961),\n",
       " (0.5529411764705883, 0.6274509803921569, 0.796078431372549),\n",
       " (0.9058823529411765, 0.5411764705882353, 0.7647058823529411),\n",
       " (0.6509803921568628, 0.8470588235294118, 0.32941176470588235),\n",
       " (1.0, 0.8509803921568627, 0.1843137254901961),\n",
       " (0.8980392156862745, 0.7686274509803922, 0.5803921568627451),\n",
       " (0.7019607843137254, 0.7019607843137254, 0.7019607843137254)]"
      ]
     },
     "execution_count": 5,
     "metadata": {},
     "output_type": "execute_result"
    }
   ],
   "source": [
    "sns.color_palette(\"Set2\")"
   ]
  },
  {
   "cell_type": "raw",
   "metadata": {},
   "source": [
    "Return a diverging Color Brewer palette as a continuous colormap:"
   ]
  },
  {
   "cell_type": "code",
   "execution_count": 6,
   "metadata": {
    "execution": {
     "iopub.execute_input": "2023-05-21T17:50:41.643294Z",
     "iopub.status.busy": "2023-05-21T17:50:41.643003Z",
     "iopub.status.idle": "2023-05-21T17:50:41.649947Z",
     "shell.execute_reply": "2023-05-21T17:50:41.649507Z"
    }
   },
   "outputs": [
    {
     "data": {
      "image/png": "[encoded data removed]",
      "text/html": [
       "<img alt=\"Spectral color map\" title=\"Spectral\"src=\"data:image/png;base64,iVBORw0KGgoAAAANSUhEUgAAAZAAAAAyCAYAAAByHI2dAAAB9ElEQVR4nO3VSXbjMAwFQJC6WR+0byoyC02Q43jAumojBAIo2c57v/1v/2ZERO8R27VFX1J99JcWS6qPnd73ernqJdW93+eP/aNeHp/37Nn7tfWI3udZt1y3ec62c/73bE+zj/1j59xvV91zv+d+7EWL2D9nS3X0Fu384h5mIra/z15/2HtW93PvkzPOZ+Uvs6ezenq3XL+8/+KML/Za/mGPa677H/1396t7+Uc96tjed8aIGdv/ypx/1DFizqt+d/9Wp/O23rzX53lXHfvOOiPGVsaYLdZUH/011WO2tNf23jZz1LeZuPpvZ5+ct972Is1edZ6JiFjHZ7N55pvZ853X/f5oMcb+7muqX/S/nh1b/9Pnzf3d+pjR9w/Vx4y2zl/9lmfWcc2mvZ72nvVvvfOs+bx/XAMACgQIACUCBIASAQJAiQABoESAAFAiQAAoESAAlAgQAEoECAAlAgSAEgECQIkAAaBEgABQIkAAKBEgAJQIEABKBAgAJQIEgBIBAkCJAAGgRIAAUCJAACgRIACUCBAASgQIACUCBIASAQJAiQABoESAAFAiQAAoESAAlAgQAEoECAAlAgSAEgECQIkAAaBEgABQIkAAKBEgAJQIEABKBAgAJQIEgBIBAkCJAAGgRIAAUCJAACgRIACUCBAASn4AFoYSwd/5oIUAAAAASUVORK5CYII=\">"
      ],
      "text/plain": [
       "<matplotlib.colors.LinearSegmentedColormap at 0x7f9f45912320>"
      ]
     },
     "execution_count": 6,
     "metadata": {},
     "output_type": "execute_result"
    }
   ],
   "source": [
    "sns.color_palette(\"Spectral\", as_cmap=True)"
   ]
  },
  {
   "cell_type": "raw",
   "metadata": {},
   "source": [
    "Return one of the perceptually-uniform palettes included in seaborn as a discrete palette:"
   ]
  },
  {
   "cell_type": "code",
   "execution_count": 7,
   "metadata": {
    "execution": {
     "iopub.execute_input": "2023-05-21T17:50:41.651688Z",
     "iopub.status.busy": "2023-05-21T17:50:41.651469Z",
     "iopub.status.idle": "2023-05-21T17:50:41.655006Z",
     "shell.execute_reply": "2023-05-21T17:50:41.654567Z"
    }
   },
   "outputs": [
    {
     "data": {
      "text/html": [
       "<svg  width=\"330\" height=\"55\"><rect x=\"0\" y=\"0\" width=\"55\" height=\"55\" style=\"fill:#e98d6b;stroke-width:2;stroke:rgb(255,255,255)\"/><rect x=\"55\" y=\"0\" width=\"55\" height=\"55\" style=\"fill:#e3685c;stroke-width:2;stroke:rgb(255,255,255)\"/><rect x=\"110\" y=\"0\" width=\"55\" height=\"55\" style=\"fill:#d14a61;stroke-width:2;stroke:rgb(255,255,255)\"/><rect x=\"165\" y=\"0\" width=\"55\" height=\"55\" style=\"fill:#b13c6c;stroke-width:2;stroke:rgb(255,255,255)\"/><rect x=\"220\" y=\"0\" width=\"55\" height=\"55\" style=\"fill:#8f3371;stroke-width:2;stroke:rgb(255,255,255)\"/><rect x=\"275\" y=\"0\" width=\"55\" height=\"55\" style=\"fill:#6c2b6d;stroke-width:2;stroke:rgb(255,255,255)\"/></svg>"
      ],
      "text/plain": [
       "[(0.9155979, 0.55210684, 0.42070204),\n",
       " (0.888292, 0.40830288, 0.36223756),\n",
       " (0.81942908, 0.28911553, 0.38102921),\n",
       " (0.69226314, 0.23413578, 0.42480327),\n",
       " (0.56041794, 0.19845221, 0.44207535),\n",
       " (0.42355299, 0.16934709, 0.42581586)]"
      ]
     },
     "execution_count": 7,
     "metadata": {},
     "output_type": "execute_result"
    }
   ],
   "source": [
    "sns.color_palette(\"flare\")"
   ]
  },
  {
   "cell_type": "raw",
   "metadata": {},
   "source": [
    "Return one of the perceptually-uniform palettes included in seaborn as a continuous colormap:"
   ]
  },
  {
   "cell_type": "code",
   "execution_count": 8,
   "metadata": {
    "execution": {
     "iopub.execute_input": "2023-05-21T17:50:41.656847Z",
     "iopub.status.busy": "2023-05-21T17:50:41.656527Z",
     "iopub.status.idle": "2023-05-21T17:50:41.661754Z",
     "shell.execute_reply": "2023-05-21T17:50:41.661304Z"
    }
   },
   "outputs": [
    {
     "data": {
      "image/png": "[encoded data removed]",
      "text/html": [
       "<img alt=\"flare color map\" title=\"flare\"src=\"data:image/png;base64,iVBORw0KGgoAAAANSUhEUgAAAZAAAAAyCAYAAAByHI2dAAABp0lEQVR4nO3VQVbDMAwFQIWTcyMuxh3MAto4sZLSv57ZEGzZsl4Xf/v++hxVVTV+/9S4+h6//59ra98f8/7he67v9mu64+Id3V3Td3/ufqbxRu11j3WOcXdHTfXP/Xn+6s/N622/amovzr88d7FfW1u7ntseUx5+shrb/j0/71T/rD3csdd0a/uo2/Gn+avZ7zrdWxd3vLh3H/nUb+qz1v5vfdmf3nle389M++07j7P0Pfrez5ne6nFc73rUzfptj1fn2rePy7vXHuOm97idaUyTrb/TuHjneb3rMZZzj7Pd+9e3nec/9rh9Z9fj7+OjACAgQACICBAAIgIEgIgAASAiQACICBAAIgIEgIgAASAiQACICBAAIgIEgIgAASAiQACICBAAIgIEgIgAASAiQACICBAAIgIEgIgAASAiQACICBAAIgIEgIgAASAiQACICBAAIgIEgIgAASAiQACICBAAIgIEgIgAASAiQACICBAAIgIEgIgAASAiQACICBAAIgIEgIgAASAiQACICBAAIgIEgIgAASAiQACICBAAIgIEgIgAASDyAywPZEDTzkfkAAAAAElFTkSuQmCC\">"
      ],
      "text/plain": [
       "<matplotlib.colors.ListedColormap at 0x7f9f45718670>"
      ]
     },
     "execution_count": 8,
     "metadata": {},
     "output_type": "execute_result"
    }
   ],
   "source": [
    "sns.color_palette(\"flare\", as_cmap=True)"
   ]
  },
  {
   "cell_type": "raw",
   "metadata": {},
   "source": [
    "Return a customized cubehelix color palette:"
   ]
  },
  {
   "cell_type": "code",
   "execution_count": 9,
   "metadata": {
    "execution": {
     "iopub.execute_input": "2023-05-21T17:50:41.663769Z",
     "iopub.status.busy": "2023-05-21T17:50:41.663362Z",
     "iopub.status.idle": "2023-05-21T17:50:41.668407Z",
     "shell.execute_reply": "2023-05-21T17:50:41.667947Z"
    }
   },
   "outputs": [
    {
     "data": {
      "image/png": "[encoded data removed]",
      "text/html": [
       "<img alt=\"seaborn_cubehelix color map\" title=\"seaborn_cubehelix\"src=\"data:image/png;base64,iVBORw0KGgoAAAANSUhEUgAAAZAAAAAyCAYAAAByHI2dAAABsElEQVR4nO3VS1LDMBAFwIH7n4tjcAAOIbFIxUi2FKdesexeIXn0mTjhfXx9//Sqqt7r0OsxGOda78e4Dw+ef7dx/VC7qpnXX8fnmnHdat/z3Dh+zq3P7tXbtXbd57rv3X3uejpq27z+3Z5qqJ3OaPP87d3vemp9ena5z3L9MNfmcQ01q/c01W7OXvVUy7OH/Zbv6bTvae2u9vrZ9+m+53Xz2tOaquq93fS6P/t4vn1PN5/R3xfn6PnV2cu7b/Yd9zvO2PY0/xD3d291fsfj8+NOqz5388Oa1X3md3n5h/EPtfPcMb7tqV3GU81u3xdnv7VvVfV6zH0WAAQECAARAQJARIAAEBEgAEQECAARAQJARIAAEBEgAEQECAARAQJARIAAEBEgAEQECAARAQJARIAAEBEgAEQECAARAQJARIAAEBEgAEQECAARAQJARIAAEBEgAEQECAARAQJARIAAEBEgAEQECAARAQJARIAAEBEgAEQECAARAQJARIAAEBEgAEQECAARAQJARIAAEBEgAEQECAARAQJARIAAEBEgAEQECAARAQJARIAAEBEgAER+AXm53Pk4BtiVAAAAAElFTkSuQmCC\">"
      ],
      "text/plain": [
       "<matplotlib.colors.ListedColormap at 0x7f9f45718100>"
      ]
     },
     "execution_count": 9,
     "metadata": {},
     "output_type": "execute_result"
    }
   ],
   "source": [
    "sns.color_palette(\"ch:s=.25,rot=-.25\", as_cmap=True)"
   ]
  },
  {
   "cell_type": "raw",
   "metadata": {},
   "source": [
    "Return a light sequential gradient:"
   ]
  },
  {
   "cell_type": "code",
   "execution_count": 10,
   "metadata": {
    "execution": {
     "iopub.execute_input": "2023-05-21T17:50:41.669992Z",
     "iopub.status.busy": "2023-05-21T17:50:41.669829Z",
     "iopub.status.idle": "2023-05-21T17:50:41.675398Z",
     "shell.execute_reply": "2023-05-21T17:50:41.674750Z"
    }
   },
   "outputs": [
    {
     "data": {
      "image/png": "[encoded data removed]",
      "text/html": [
       "<img alt=\"blend color map\" title=\"blend\"src=\"data:image/png;base64,iVBORw0KGgoAAAANSUhEUgAAAZAAAAAyCAYAAAByHI2dAAABq0lEQVR4nO3VQVLDMAwFUMP9b8qG4QJiUdoorh3gM8PqvUWnSRON5Sj9L28f7zXGGFU1xhjj9jm+vtfjRN2P20U1f9ZxXx1F+tFRq+p0fPtyXHmq3W7vtap25869zH30uvMq5j563Xq6+lhEbfrodZZ9TGt4rHnuY1rT1f7041Uf/e7j2vkp3Z7Rqo++5ue9/V0f/b6nmTjt7TRDP+yjps3Yzl7bt+9m72pGnmfv3EevtZuHx++bPi5nb1P3r+9QX8PVunZzfa+7e4f+ZfY2a16fW/9HrN6tNnrTPi5mb/fer2ZvUffyHZqeTz576xlZ/Ue8DgAICBAAIgIEgIgAASAiQACICBAAIgIEgIgAASAiQACICBAAIgIEgIgAASAiQACICBAAIgIEgIgAASAiQACICBAAIgIEgIgAASAiQACICBAAIgIEgIgAASAiQACICBAAIgIEgIgAASAiQACICBAAIgIEgIgAASAiQACICBAAIgIEgIgAASAiQACICBAAIgIEgIgAASAiQACICBAAIgIEgIgAASAiQACICBAAIgIEgIgAASAiQACIfAJcGDgKfbFt9gAAAABJRU5ErkJggg==\">"
      ],
      "text/plain": [
       "<matplotlib.colors.LinearSegmentedColormap at 0x7f9fc8166440>"
      ]
     },
     "execution_count": 10,
     "metadata": {},
     "output_type": "execute_result"
    }
   ],
   "source": [
    "sns.color_palette(\"light:#5A9\", as_cmap=True)"
   ]
  },
  {
   "cell_type": "raw",
   "metadata": {},
   "source": [
    "Return a reversed dark sequential gradient:"
   ]
  },
  {
   "cell_type": "code",
   "execution_count": 11,
   "metadata": {
    "execution": {
     "iopub.execute_input": "2023-05-21T17:50:41.677380Z",
     "iopub.status.busy": "2023-05-21T17:50:41.677084Z",
     "iopub.status.idle": "2023-05-21T17:50:41.682340Z",
     "shell.execute_reply": "2023-05-21T17:50:41.681892Z"
    }
   },
   "outputs": [
    {
     "data": {
      "image/png": "[encoded data removed]",
      "text/html": [
       "<img alt=\"blend color map\" title=\"blend\"src=\"data:image/png;base64,iVBORw0KGgoAAAANSUhEUgAAAZAAAAAyCAYAAAByHI2dAAABhUlEQVR4nO3VQU7EMBBFwYY7cjiuwCXNZhTiOG6ir1lWLVAEGbeDA+/j6+d7VFWNMaqqqsbxZboey/dfF9Otxw+m63H+/s195+X2s+d50+xpvXWfY/O5qjGvPT1b8ww31+ex7Yybeev+L8+3+Vx/Nte9PTib5Zy6GZv9L7Ne+7/5XH++zf6fPsMy+zrjdDbNGq878/O9Xfc979Zx23bt//bWn83b9t/MWPbfrt/tf33OR+9W82z9/6fLjEe/n3U/3bv1t9T933d+Njezt+/eZv9V9VkAEBAQACICAkBEQACICAgAEQEBICIgAEQEBICIgAAQERAAIgICQERAAIgICAARAQEgIiAARAQEgIiAABAREAAiAgJAREAAiAgIABEBASAiIABEBASAiIAAEBEQACICAkBEQACICAgAEQEBICIgAEQEBICIgAAQERAAIgICQERAAIgICAARAQEgIiAARAQEgIiAABAREAAiAgJAREAAiAgIABEBASAiIABEBASAiIAAEPkFLJor4J/bwM0AAAAASUVORK5CYII=\">"
      ],
      "text/plain": [
       "<matplotlib.colors.LinearSegmentedColormap at 0x7f9f45913eb0>"
      ]
     },
     "execution_count": 11,
     "metadata": {},
     "output_type": "execute_result"
    }
   ],
   "source": [
    "sns.color_palette(\"dark:#5A9_r\", as_cmap=True)"
   ]
  },
  {
   "cell_type": "raw",
   "metadata": {},
   "source": [
    "Return a blend gradient between two endpoints:"
   ]
  },
  {
   "cell_type": "code",
   "execution_count": 12,
   "metadata": {
    "execution": {
     "iopub.execute_input": "2023-05-21T17:50:41.684334Z",
     "iopub.status.busy": "2023-05-21T17:50:41.683977Z",
     "iopub.status.idle": "2023-05-21T17:50:41.689260Z",
     "shell.execute_reply": "2023-05-21T17:50:41.688721Z"
    }
   },
   "outputs": [
    {
     "data": {
      "image/png": "[encoded data removed]",
      "text/html": [
       "<img alt=\"blend color map\" title=\"blend\"src=\"data:image/png;base64,iVBORw0KGgoAAAANSUhEUgAAAZAAAAAyCAYAAAByHI2dAAABQ0lEQVR4nO3VQU7DMBRAwW8uzZ24AocrG6SmqaKGVxBIzGyaOrXlJpbeen17v8zMzHx+zMyaq7X5sh0/+7s1M7MuM/uxU/MOxu/mfm3va3Px+D8drL27eLzHn9377dzb513WPrw3M2suNwN3z/Cpd/r83o/Wvs7/obO+W/v0vM3Anzzru4m/vffvXvvw3tyfx39z1k++05cBgEBAAEgEBIBEQABIBASAREAASAQEgERAAEgEBIBEQABIBASAREAASAQEgERAAEgEBIBEQABIBASAREAASAQEgERAAEgEBIBEQABIBASAREAASAQEgERAAEgEBIBEQABIBASAREAASAQEgERAAEgEBIBEQABIBASAREAASAQEgERAAEgEBIBEQABIBASAREAASAQEgERAAEgEBIBEQABIBASAREAASAQEgOQDITUU2BGkgCgAAAAASUVORK5CYII=\">"
      ],
      "text/plain": [
       "<matplotlib.colors.LinearSegmentedColormap at 0x7f9f45718580>"
      ]
     },
     "execution_count": 12,
     "metadata": {},
     "output_type": "execute_result"
    }
   ],
   "source": [
    "sns.color_palette(\"blend:#7AB,#EDA\", as_cmap=True)"
   ]
  },
  {
   "cell_type": "raw",
   "metadata": {},
   "source": [
    "Use as a context manager to change the default qualitative color palette:"
   ]
  },
  {
   "cell_type": "code",
   "execution_count": 13,
   "metadata": {
    "execution": {
     "iopub.execute_input": "2023-05-21T17:50:41.691415Z",
     "iopub.status.busy": "2023-05-21T17:50:41.690991Z",
     "iopub.status.idle": "2023-05-21T17:50:41.693483Z",
     "shell.execute_reply": "2023-05-21T17:50:41.693027Z"
    },
    "tags": [
     "hide"
    ]
   },
   "outputs": [],
   "source": [
    "x, y = list(range(10)), [0] * 10\n",
    "hue = list(map(str, x))"
   ]
  },
  {
   "cell_type": "code",
   "execution_count": 14,
   "metadata": {
    "execution": {
     "iopub.execute_input": "2023-05-21T17:50:41.695422Z",
     "iopub.status.busy": "2023-05-21T17:50:41.695135Z",
     "iopub.status.idle": "2023-05-21T17:50:42.021691Z",
     "shell.execute_reply": "2023-05-21T17:50:42.020970Z"
    }
   },
   "outputs": [
    {
     "data": {
      "text/plain": [
       "<seaborn.axisgrid.FacetGrid at 0x7f9fc8164c70>"
      ]
     },
     "execution_count": 14,
     "metadata": {},
     "output_type": "execute_result"
    },
    {
     "data": {
      "image/png": "[encoded data removed]",
      "text/plain": [
       "<Figure size 520x130 with 1 Axes>"
      ]
     },
     "metadata": {},
     "output_type": "display_data"
    },
    {
     "data": {
      "image/png": "[encoded data removed]",
      "text/plain": [
       "<Figure size 520x130 with 1 Axes>"
      ]
     },
     "metadata": {},
     "output_type": "display_data"
    }
   ],
   "source": [
    "with sns.color_palette(\"Set3\"):\n",
    "    sns.relplot(x=x, y=y, hue=hue, s=500, legend=False, height=1.3, aspect=4)\n",
    "\n",
    "sns.relplot(x=x, y=y, hue=hue, s=500, legend=False, height=1.3, aspect=4)"
   ]
  },
  {
   "cell_type": "raw",
   "metadata": {},
   "source": [
    "See the underlying color values as hex codes:"
   ]
  },
  {
   "cell_type": "code",
   "execution_count": 15,
   "metadata": {
    "execution": {
     "iopub.execute_input": "2023-05-21T17:50:42.023860Z",
     "iopub.status.busy": "2023-05-21T17:50:42.023704Z",
     "iopub.status.idle": "2023-05-21T17:50:42.027115Z",
     "shell.execute_reply": "2023-05-21T17:50:42.026626Z"
    },
    "tags": [
     "show-output"
    ]
   },
   "outputs": [
    {
     "name": "stdout",
     "output_type": "stream",
     "text": [
      "['#a1c9f4', '#8de5a1', '#ff9f9b', '#d0bbff', '#fffea3', '#b9f2f0']\n"
     ]
    }
   ],
   "source": [
    "print(sns.color_palette(\"pastel6\").as_hex())"
   ]
  },
  {
   "cell_type": "code",
   "execution_count": null,
   "metadata": {},
   "outputs": [],
   "source": []
  }
 ],
 "metadata": {
  "kernelspec": {
   "display_name": "py310",
   "language": "python",
   "name": "py310"
  },
  "language_info": {
   "codemirror_mode": {
    "name": "ipython",
    "version": 3
   },
   "file_extension": ".py",
   "mimetype": "text/x-python",
   "name": "python",
   "nbconvert_exporter": "python",
   "pygments_lexer": "ipython3",
   "version": "3.10.6"
  }
 },
 "nbformat": 4,
 "nbformat_minor": 4
}
