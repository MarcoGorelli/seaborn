{
 "cells": [
  {
   "cell_type": "code",
   "execution_count": 1,
   "id": "60aebc68-2c7c-4af5-a159-8421e1f94ba6",
   "metadata": {
    "execution": {
     "iopub.execute_input": "2023-05-21T17:50:45.548077Z",
     "iopub.status.busy": "2023-05-21T17:50:45.547611Z",
     "iopub.status.idle": "2023-05-21T17:50:46.142972Z",
     "shell.execute_reply": "2023-05-21T17:50:46.142159Z"
    },
    "tags": [
     "hide"
    ]
   },
   "outputs": [],
   "source": [
    "import seaborn as sns\n",
    "sns.set_theme()\n",
    "sns.palettes._patch_colormap_display()"
   ]
  },
  {
   "cell_type": "raw",
   "id": "242b3d42-1f10-4da2-9ef9-af06f7fbd724",
   "metadata": {},
   "source": [
    "Return a discrete palette with default parameters:"
   ]
  },
  {
   "cell_type": "code",
   "execution_count": 2,
   "id": "6526accb-9930-4e39-9f58-1ca2941c1c9d",
   "metadata": {
    "execution": {
     "iopub.execute_input": "2023-05-21T17:50:46.145808Z",
     "iopub.status.busy": "2023-05-21T17:50:46.145553Z",
     "iopub.status.idle": "2023-05-21T17:50:46.151443Z",
     "shell.execute_reply": "2023-05-21T17:50:46.150982Z"
    }
   },
   "outputs": [
    {
     "data": {
      "text/html": [
       "<svg  width=\"330\" height=\"55\"><rect x=\"0\" y=\"0\" width=\"55\" height=\"55\" style=\"fill:#edd1cb;stroke-width:2;stroke:rgb(255,255,255)\"/><rect x=\"55\" y=\"0\" width=\"55\" height=\"55\" style=\"fill:#daa4ac;stroke-width:2;stroke:rgb(255,255,255)\"/><rect x=\"110\" y=\"0\" width=\"55\" height=\"55\" style=\"fill:#bd7a98;stroke-width:2;stroke:rgb(255,255,255)\"/><rect x=\"165\" y=\"0\" width=\"55\" height=\"55\" style=\"fill:#945785;stroke-width:2;stroke:rgb(255,255,255)\"/><rect x=\"220\" y=\"0\" width=\"55\" height=\"55\" style=\"fill:#613969;stroke-width:2;stroke:rgb(255,255,255)\"/><rect x=\"275\" y=\"0\" width=\"55\" height=\"55\" style=\"fill:#2d1e3e;stroke-width:2;stroke:rgb(255,255,255)\"/></svg>"
      ],
      "text/plain": [
       "[[0.9312692223325372, 0.8201921796082118, 0.7971480974663592],\n",
       " [0.8559578605899612, 0.6418993116910497, 0.6754191211563135],\n",
       " [0.7397343294966419, 0.4765280683170713, 0.5959617419736206],\n",
       " [0.57916573903086, 0.33934576125314425, 0.5219003947563425],\n",
       " [0.37894937987024996, 0.2224702044652721, 0.4114001430157544],\n",
       " [0.1750865648952205, 0.11840023306916837, 0.24215989137836502]]"
      ]
     },
     "execution_count": 2,
     "metadata": {},
     "output_type": "execute_result"
    }
   ],
   "source": [
    "sns.cubehelix_palette()"
   ]
  },
  {
   "cell_type": "raw",
   "id": "887a40f0-d949-41fa-9a43-0ee246c9a077",
   "metadata": {},
   "source": [
    "Increase the number of colors:"
   ]
  },
  {
   "cell_type": "code",
   "execution_count": 3,
   "id": "02833290-b1ee-46df-a2a0-8268fba94628",
   "metadata": {
    "execution": {
     "iopub.execute_input": "2023-05-21T17:50:46.153373Z",
     "iopub.status.busy": "2023-05-21T17:50:46.153235Z",
     "iopub.status.idle": "2023-05-21T17:50:46.157497Z",
     "shell.execute_reply": "2023-05-21T17:50:46.156865Z"
    }
   },
   "outputs": [
    {
     "data": {
      "text/html": [
       "<svg  width=\"440\" height=\"55\"><rect x=\"0\" y=\"0\" width=\"55\" height=\"55\" style=\"fill:#edd1cb;stroke-width:2;stroke:rgb(255,255,255)\"/><rect x=\"55\" y=\"0\" width=\"55\" height=\"55\" style=\"fill:#e1b1b4;stroke-width:2;stroke:rgb(255,255,255)\"/><rect x=\"110\" y=\"0\" width=\"55\" height=\"55\" style=\"fill:#cf91a3;stroke-width:2;stroke:rgb(255,255,255)\"/><rect x=\"165\" y=\"0\" width=\"55\" height=\"55\" style=\"fill:#b77495;stroke-width:2;stroke:rgb(255,255,255)\"/><rect x=\"220\" y=\"0\" width=\"55\" height=\"55\" style=\"fill:#9a5b88;stroke-width:2;stroke:rgb(255,255,255)\"/><rect x=\"275\" y=\"0\" width=\"55\" height=\"55\" style=\"fill:#774576;stroke-width:2;stroke:rgb(255,255,255)\"/><rect x=\"330\" y=\"0\" width=\"55\" height=\"55\" style=\"fill:#52315f;stroke-width:2;stroke:rgb(255,255,255)\"/><rect x=\"385\" y=\"0\" width=\"55\" height=\"55\" style=\"fill:#2d1e3e;stroke-width:2;stroke:rgb(255,255,255)\"/></svg>"
      ],
      "text/plain": [
       "[[0.9312692223325372, 0.8201921796082118, 0.7971480974663592],\n",
       " [0.8822898168737189, 0.695820866705742, 0.7065457119485431],\n",
       " [0.8135380254700676, 0.5705055182357822, 0.639280859468155],\n",
       " [0.7195800708349119, 0.45537982893127477, 0.5861062995810926],\n",
       " [0.6046906802634469, 0.35739308184976665, 0.5337407853692406],\n",
       " [0.46496993672552045, 0.26868986121314253, 0.4636527763640647],\n",
       " [0.3210194743259347, 0.19303051265196464, 0.3707881677724792],\n",
       " [0.1750865648952205, 0.11840023306916837, 0.24215989137836502]]"
      ]
     },
     "execution_count": 3,
     "metadata": {},
     "output_type": "execute_result"
    }
   ],
   "source": [
    "sns.cubehelix_palette(8)"
   ]
  },
  {
   "cell_type": "raw",
   "id": "a9eb86c7-f92e-4422-ae62-a2ef136e7e35",
   "metadata": {},
   "source": [
    "Return a continuous colormap rather than a discrete palette:"
   ]
  },
  {
   "cell_type": "code",
   "execution_count": 4,
   "id": "a460efc2-cf0a-46bf-a12f-12870afce8a5",
   "metadata": {
    "execution": {
     "iopub.execute_input": "2023-05-21T17:50:46.159632Z",
     "iopub.status.busy": "2023-05-21T17:50:46.159382Z",
     "iopub.status.idle": "2023-05-21T17:50:46.166290Z",
     "shell.execute_reply": "2023-05-21T17:50:46.165814Z"
    }
   },
   "outputs": [
    {
     "data": {
      "image/png": "[encoded data removed]",
      "text/html": [
       "<img alt=\"seaborn_cubehelix color map\" title=\"seaborn_cubehelix\"src=\"data:image/png;base64,iVBORw0KGgoAAAANSUhEUgAAAZAAAAAyCAYAAAByHI2dAAABxElEQVR4nO3VQXbbMAwFQLT3v1lXPUivAHahqCFpKnH/embjmAJJQM8v/8ef379GVVX19VFVNca4/1jXPmrGtH7XLGs9zjX9cO78/ammqmpMz9+9+y7be/h4sJVea8c51++ffc5bp339sD6dt6+NPs80truvOV9r7n3/V3voc+r9s5+1bpz6P870cMdhpn3tuzuWc/vcZ7/b58Pd/c388zl9nPOhtta1/b71jPNM6/5zD11fzz3P97T+b61Ov83zO+4xatTa6PUv5PWMU21v723et840lufz2nxmL+/osL/2mc41+292Pnc+Zz/j7mc9t1/fRT312W/02cvc+ww9/eq+uuPq87V27fN6/rMAICBAAIgIEAAiAgSAiAABICJAAIgIEAAiAgSAiAABICJAAIgIEAAiAgSAiAABICJAAIgIEAAiAgSAiAABICJAAIgIEAAiAgSAiAABICJAAIgIEAAiAgSAiAABICJAAIgIEAAiAgSAiAABICJAAIgIEAAiAgSAiAABICJAAIgIEAAiAgSAiAABICJAAIgIEAAiAgSAiAABICJAAIgIEAAiAgSAiAABICJAAIgIEAAiAgSAiAABIPIXdvLG+cgzw6cAAAAASUVORK5CYII=\">"
      ],
      "text/plain": [
       "<matplotlib.colors.ListedColormap at 0x7f7c94e662c0>"
      ]
     },
     "execution_count": 4,
     "metadata": {},
     "output_type": "execute_result"
    }
   ],
   "source": [
    "sns.cubehelix_palette(as_cmap=True)"
   ]
  },
  {
   "cell_type": "raw",
   "id": "5b84aa6c-ad79-45b1-a7d2-44b7ecba5f7d",
   "metadata": {},
   "source": [
    "Change the starting point of the helix:"
   ]
  },
  {
   "cell_type": "code",
   "execution_count": 5,
   "id": "70ee079a-e760-4d43-8447-648fd236ab15",
   "metadata": {
    "execution": {
     "iopub.execute_input": "2023-05-21T17:50:46.168417Z",
     "iopub.status.busy": "2023-05-21T17:50:46.168030Z",
     "iopub.status.idle": "2023-05-21T17:50:46.172629Z",
     "shell.execute_reply": "2023-05-21T17:50:46.171983Z"
    }
   },
   "outputs": [
    {
     "data": {
      "text/html": [
       "<svg  width=\"330\" height=\"55\"><rect x=\"0\" y=\"0\" width=\"55\" height=\"55\" style=\"fill:#d8d5f2;stroke-width:2;stroke:rgb(255,255,255)\"/><rect x=\"55\" y=\"0\" width=\"55\" height=\"55\" style=\"fill:#a7b5dc;stroke-width:2;stroke:rgb(255,255,255)\"/><rect x=\"110\" y=\"0\" width=\"55\" height=\"55\" style=\"fill:#7399b8;stroke-width:2;stroke:rgb(255,255,255)\"/><rect x=\"165\" y=\"0\" width=\"55\" height=\"55\" style=\"fill:#467d88;stroke-width:2;stroke:rgb(255,255,255)\"/><rect x=\"220\" y=\"0\" width=\"55\" height=\"55\" style=\"fill:#255b52;stroke-width:2;stroke:rgb(255,255,255)\"/><rect x=\"275\" y=\"0\" width=\"55\" height=\"55\" style=\"fill:#0f3222;stroke-width:2;stroke:rgb(255,255,255)\"/></svg>"
      ],
      "text/plain": [
       "[[0.8474590274530256, 0.8341308330637194, 0.9509595675385358],\n",
       " [0.6532707452138709, 0.7096914809238813, 0.8645887521247335],\n",
       " [0.4491825421362929, 0.6009679522574894, 0.7209233304162909],\n",
       " [0.275471781210999, 0.4914560124554552, 0.5342896981629057],\n",
       " [0.14390492372280983, 0.3583895910036319, 0.3234055263019011],\n",
       " [0.06071093207260901, 0.19669331686871622, 0.13415606975390282]]"
      ]
     },
     "execution_count": 5,
     "metadata": {},
     "output_type": "execute_result"
    }
   ],
   "source": [
    "sns.cubehelix_palette(start=2)"
   ]
  },
  {
   "cell_type": "raw",
   "id": "5e21fa22-9ac3-4354-8694-967f2447b286",
   "metadata": {},
   "source": [
    "Change the amount of rotation in the helix:"
   ]
  },
  {
   "cell_type": "code",
   "execution_count": 6,
   "id": "ddb1b8c7-8933-4317-827f-4f10d2b4cecc",
   "metadata": {
    "execution": {
     "iopub.execute_input": "2023-05-21T17:50:46.174839Z",
     "iopub.status.busy": "2023-05-21T17:50:46.174587Z",
     "iopub.status.idle": "2023-05-21T17:50:46.178735Z",
     "shell.execute_reply": "2023-05-21T17:50:46.178282Z"
    }
   },
   "outputs": [
    {
     "data": {
      "text/html": [
       "<svg  width=\"330\" height=\"55\"><rect x=\"0\" y=\"0\" width=\"55\" height=\"55\" style=\"fill:#eccde5;stroke-width:2;stroke:rgb(255,255,255)\"/><rect x=\"55\" y=\"0\" width=\"55\" height=\"55\" style=\"fill:#d0a2cf;stroke-width:2;stroke:rgb(255,255,255)\"/><rect x=\"110\" y=\"0\" width=\"55\" height=\"55\" style=\"fill:#ab7db6;stroke-width:2;stroke:rgb(255,255,255)\"/><rect x=\"165\" y=\"0\" width=\"55\" height=\"55\" style=\"fill:#825c98;stroke-width:2;stroke:rgb(255,255,255)\"/><rect x=\"220\" y=\"0\" width=\"55\" height=\"55\" style=\"fill:#543d71;stroke-width:2;stroke:rgb(255,255,255)\"/><rect x=\"275\" y=\"0\" width=\"55\" height=\"55\" style=\"fill:#28203f;stroke-width:2;stroke:rgb(255,255,255)\"/></svg>"
      ],
      "text/plain": [
       "[[0.9266560240792759, 0.8035327795028581, 0.8990850578218313],\n",
       " [0.8164396270133074, 0.6365533576833817, 0.8118702834478388],\n",
       " [0.672234428169204, 0.4886840181053656, 0.7148523230237727],\n",
       " [0.5091254288337355, 0.36092086929737593, 0.5971981465158609],\n",
       " [0.33114315793451254, 0.24106162323665392, 0.44206285313479265],\n",
       " [0.15844880465605887, 0.1258928910300999, 0.2473475773038177]]"
      ]
     },
     "execution_count": 6,
     "metadata": {},
     "output_type": "execute_result"
    }
   ],
   "source": [
    "sns.cubehelix_palette(rot=.2)"
   ]
  },
  {
   "cell_type": "raw",
   "id": "fa91aff7-54e7-4754-a13c-b629dfc33e8f",
   "metadata": {},
   "source": [
    "Rotate in the reverse direction:"
   ]
  },
  {
   "cell_type": "code",
   "execution_count": 7,
   "id": "548a3942-48ae-40d2-abb7-acc2ffd71601",
   "metadata": {
    "execution": {
     "iopub.execute_input": "2023-05-21T17:50:46.180715Z",
     "iopub.status.busy": "2023-05-21T17:50:46.180417Z",
     "iopub.status.idle": "2023-05-21T17:50:46.184173Z",
     "shell.execute_reply": "2023-05-21T17:50:46.183721Z"
    }
   },
   "outputs": [
    {
     "data": {
      "text/html": [
       "<svg  width=\"330\" height=\"55\"><rect x=\"0\" y=\"0\" width=\"55\" height=\"55\" style=\"fill:#c4e1e5;stroke-width:2;stroke:rgb(255,255,255)\"/><rect x=\"55\" y=\"0\" width=\"55\" height=\"55\" style=\"fill:#96c0cf;stroke-width:2;stroke:rgb(255,255,255)\"/><rect x=\"110\" y=\"0\" width=\"55\" height=\"55\" style=\"fill:#719ab6;stroke-width:2;stroke:rgb(255,255,255)\"/><rect x=\"165\" y=\"0\" width=\"55\" height=\"55\" style=\"fill:#547398;stroke-width:2;stroke:rgb(255,255,255)\"/><rect x=\"220\" y=\"0\" width=\"55\" height=\"55\" style=\"fill:#3a4b71;stroke-width:2;stroke:rgb(255,255,255)\"/><rect x=\"275\" y=\"0\" width=\"55\" height=\"55\" style=\"fill:#20243f;stroke-width:2;stroke:rgb(255,255,255)\"/></svg>"
      ],
      "text/plain": [
       "[[0.7680578755197892, 0.8841756194023903, 0.8990850578218313],\n",
       " [0.5877920951685515, 0.7528144015319729, 0.8118702834478388],\n",
       " [0.442991949625243, 0.6052475761500462, 0.7148523230237727],\n",
       " [0.3286383296372033, 0.45269364455759714, 0.5971981465158609],\n",
       " [0.22637053188040007, 0.29433565061640143, 0.44206285313479265],\n",
       " [0.12477747242939481, 0.14301384659371646, 0.2473475773038177]]"
      ]
     },
     "execution_count": 7,
     "metadata": {},
     "output_type": "execute_result"
    }
   ],
   "source": [
    "sns.cubehelix_palette(rot=-.2)"
   ]
  },
  {
   "cell_type": "raw",
   "id": "e7188a1b-183f-4b04-93a0-975c27fe408e",
   "metadata": {},
   "source": [
    "Apply a nonlinearity to the luminance ramp:"
   ]
  },
  {
   "cell_type": "code",
   "execution_count": 8,
   "id": "9ced54ff-a396-451e-b17f-2366b56f920b",
   "metadata": {
    "execution": {
     "iopub.execute_input": "2023-05-21T17:50:46.186029Z",
     "iopub.status.busy": "2023-05-21T17:50:46.185705Z",
     "iopub.status.idle": "2023-05-21T17:50:46.190079Z",
     "shell.execute_reply": "2023-05-21T17:50:46.189586Z"
    }
   },
   "outputs": [
    {
     "data": {
      "text/html": [
       "<svg  width=\"330\" height=\"55\"><rect x=\"0\" y=\"0\" width=\"55\" height=\"55\" style=\"fill:#f7e7e3;stroke-width:2;stroke:rgb(255,255,255)\"/><rect x=\"55\" y=\"0\" width=\"55\" height=\"55\" style=\"fill:#efccd1;stroke-width:2;stroke:rgb(255,255,255)\"/><rect x=\"110\" y=\"0\" width=\"55\" height=\"55\" style=\"fill:#e1afc6;stroke-width:2;stroke:rgb(255,255,255)\"/><rect x=\"165\" y=\"0\" width=\"55\" height=\"55\" style=\"fill:#ca92bd;stroke-width:2;stroke:rgb(255,255,255)\"/><rect x=\"220\" y=\"0\" width=\"55\" height=\"55\" style=\"fill:#a575af;stroke-width:2;stroke:rgb(255,255,255)\"/><rect x=\"275\" y=\"0\" width=\"55\" height=\"55\" style=\"fill:#6f548f;stroke-width:2;stroke:rgb(255,255,255)\"/></svg>"
      ],
      "text/plain": [
       "[[0.9677582443832915, 0.905125513271256, 0.8921317049638422],\n",
       " [0.9366516168521423, 0.7987541751981306, 0.8203477812174477],\n",
       " [0.883435589853139, 0.6844441392020983, 0.7747394075250862],\n",
       " [0.7926086676355075, 0.5722187349695307, 0.7399829210830132],\n",
       " [0.6457727972419955, 0.4569922469969748, 0.684922242569941],\n",
       " [0.4347492929500456, 0.32880347098616963, 0.5601082371116484]]"
      ]
     },
     "execution_count": 8,
     "metadata": {},
     "output_type": "execute_result"
    }
   ],
   "source": [
    "sns.cubehelix_palette(gamma=.5)"
   ]
  },
  {
   "cell_type": "raw",
   "id": "bc82ce48-2df3-464e-b70e-a1d73d0432c6",
   "metadata": {},
   "source": [
    "Increase the saturation of the colors:"
   ]
  },
  {
   "cell_type": "code",
   "execution_count": 9,
   "id": "a38b91a8-3fdc-4293-a3ea-71b4006cd2a1",
   "metadata": {
    "execution": {
     "iopub.execute_input": "2023-05-21T17:50:46.191838Z",
     "iopub.status.busy": "2023-05-21T17:50:46.191614Z",
     "iopub.status.idle": "2023-05-21T17:50:46.195376Z",
     "shell.execute_reply": "2023-05-21T17:50:46.194934Z"
    }
   },
   "outputs": [
    {
     "data": {
      "text/html": [
       "<svg  width=\"330\" height=\"55\"><rect x=\"0\" y=\"0\" width=\"55\" height=\"55\" style=\"fill:#f3cfc8;stroke-width:2;stroke:rgb(255,255,255)\"/><rect x=\"55\" y=\"0\" width=\"55\" height=\"55\" style=\"fill:#e49faa;stroke-width:2;stroke:rgb(255,255,255)\"/><rect x=\"110\" y=\"0\" width=\"55\" height=\"55\" style=\"fill:#c8749a;stroke-width:2;stroke:rgb(255,255,255)\"/><rect x=\"165\" y=\"0\" width=\"55\" height=\"55\" style=\"fill:#9d518b;stroke-width:2;stroke:rgb(255,255,255)\"/><rect x=\"220\" y=\"0\" width=\"55\" height=\"55\" style=\"fill:#663471;stroke-width:2;stroke:rgb(255,255,255)\"/><rect x=\"275\" y=\"0\" width=\"55\" height=\"55\" style=\"fill:#2e1c44;stroke-width:2;stroke:rgb(255,255,255)\"/></svg>"
      ],
      "text/plain": [
       "[[0.9513414298764558, 0.812495126471049, 0.7836900237937333],\n",
       " [0.8924963453452945, 0.6249231592216553, 0.666822921053235],\n",
       " [0.7825110491257043, 0.45350322265124104, 0.6027953147219278],\n",
       " [0.616114036533673, 0.31633906431152836, 0.5445323561905261],\n",
       " [0.4011377052299693, 0.205538735973747, 0.4417011591618498],\n",
       " [0.18160330415824133, 0.11074538937567616, 0.26544496226217196]]"
      ]
     },
     "execution_count": 9,
     "metadata": {},
     "output_type": "execute_result"
    }
   ],
   "source": [
    "sns.cubehelix_palette(hue=1)"
   ]
  },
  {
   "cell_type": "raw",
   "id": "f8d23ba1-013a-489f-94c4-f2080bfdae87",
   "metadata": {},
   "source": [
    "Change the luminance at the start and end points:"
   ]
  },
  {
   "cell_type": "code",
   "execution_count": 10,
   "id": "a4f05a16-18f0-4c14-99a4-57a0734aad02",
   "metadata": {
    "execution": {
     "iopub.execute_input": "2023-05-21T17:50:46.197231Z",
     "iopub.status.busy": "2023-05-21T17:50:46.197006Z",
     "iopub.status.idle": "2023-05-21T17:50:46.200769Z",
     "shell.execute_reply": "2023-05-21T17:50:46.200269Z"
    }
   },
   "outputs": [
    {
     "data": {
      "text/html": [
       "<svg  width=\"330\" height=\"55\"><rect x=\"0\" y=\"0\" width=\"55\" height=\"55\" style=\"fill:#e1b1b4;stroke-width:2;stroke:rgb(255,255,255)\"/><rect x=\"55\" y=\"0\" width=\"55\" height=\"55\" style=\"fill:#cf91a3;stroke-width:2;stroke:rgb(255,255,255)\"/><rect x=\"110\" y=\"0\" width=\"55\" height=\"55\" style=\"fill:#b77495;stroke-width:2;stroke:rgb(255,255,255)\"/><rect x=\"165\" y=\"0\" width=\"55\" height=\"55\" style=\"fill:#9a5b88;stroke-width:2;stroke:rgb(255,255,255)\"/><rect x=\"220\" y=\"0\" width=\"55\" height=\"55\" style=\"fill:#774576;stroke-width:2;stroke:rgb(255,255,255)\"/><rect x=\"275\" y=\"0\" width=\"55\" height=\"55\" style=\"fill:#52315f;stroke-width:2;stroke:rgb(255,255,255)\"/></svg>"
      ],
      "text/plain": [
       "[[0.8822898168737189, 0.695820866705742, 0.7065457119485431],\n",
       " [0.8135380254700676, 0.5705055182357822, 0.639280859468155],\n",
       " [0.7195800708349119, 0.45537982893127477, 0.5861062995810926],\n",
       " [0.6046906802634469, 0.35739308184976665, 0.5337407853692406],\n",
       " [0.46496993672552045, 0.26868986121314253, 0.4636527763640647],\n",
       " [0.3210194743259347, 0.19303051265196464, 0.3707881677724792]]"
      ]
     },
     "execution_count": 10,
     "metadata": {},
     "output_type": "execute_result"
    }
   ],
   "source": [
    "sns.cubehelix_palette(dark=.25, light=.75)"
   ]
  },
  {
   "cell_type": "raw",
   "id": "0bfcc5d9-05ba-4715-94ac-8d430d9416c2",
   "metadata": {},
   "source": [
    "Reverse the direction of the luminance ramp:"
   ]
  },
  {
   "cell_type": "code",
   "execution_count": 11,
   "id": "74563491-5448-42c3-86c5-f5d55ce6924c",
   "metadata": {
    "execution": {
     "iopub.execute_input": "2023-05-21T17:50:46.202712Z",
     "iopub.status.busy": "2023-05-21T17:50:46.202418Z",
     "iopub.status.idle": "2023-05-21T17:50:46.206099Z",
     "shell.execute_reply": "2023-05-21T17:50:46.205604Z"
    }
   },
   "outputs": [
    {
     "data": {
      "text/html": [
       "<svg  width=\"330\" height=\"55\"><rect x=\"0\" y=\"0\" width=\"55\" height=\"55\" style=\"fill:#2d1e3e;stroke-width:2;stroke:rgb(255,255,255)\"/><rect x=\"55\" y=\"0\" width=\"55\" height=\"55\" style=\"fill:#613969;stroke-width:2;stroke:rgb(255,255,255)\"/><rect x=\"110\" y=\"0\" width=\"55\" height=\"55\" style=\"fill:#945785;stroke-width:2;stroke:rgb(255,255,255)\"/><rect x=\"165\" y=\"0\" width=\"55\" height=\"55\" style=\"fill:#bd7a98;stroke-width:2;stroke:rgb(255,255,255)\"/><rect x=\"220\" y=\"0\" width=\"55\" height=\"55\" style=\"fill:#daa4ac;stroke-width:2;stroke:rgb(255,255,255)\"/><rect x=\"275\" y=\"0\" width=\"55\" height=\"55\" style=\"fill:#edd1cb;stroke-width:2;stroke:rgb(255,255,255)\"/></svg>"
      ],
      "text/plain": [
       "[[0.1750865648952205, 0.11840023306916837, 0.24215989137836502],\n",
       " [0.37894937987024996, 0.2224702044652721, 0.4114001430157544],\n",
       " [0.57916573903086, 0.33934576125314425, 0.5219003947563425],\n",
       " [0.7397343294966419, 0.4765280683170713, 0.5959617419736206],\n",
       " [0.8559578605899612, 0.6418993116910497, 0.6754191211563135],\n",
       " [0.9312692223325372, 0.8201921796082118, 0.7971480974663592]]"
      ]
     },
     "execution_count": 11,
     "metadata": {},
     "output_type": "execute_result"
    }
   ],
   "source": [
    "sns.cubehelix_palette(reverse=True)"
   ]
  },
  {
   "cell_type": "code",
   "execution_count": null,
   "id": "94a83211-8b8e-4e60-8365-9600e71ddc5d",
   "metadata": {},
   "outputs": [],
   "source": []
  }
 ],
 "metadata": {
  "kernelspec": {
   "display_name": "py310",
   "language": "python",
   "name": "py310"
  },
  "language_info": {
   "codemirror_mode": {
    "name": "ipython",
    "version": 3
   },
   "file_extension": ".py",
   "mimetype": "text/x-python",
   "name": "python",
   "nbconvert_exporter": "python",
   "pygments_lexer": "ipython3",
   "version": "3.10.6"
  }
 },
 "nbformat": 4,
 "nbformat_minor": 5
}
