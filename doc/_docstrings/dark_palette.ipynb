{
 "cells": [
  {
   "cell_type": "code",
   "execution_count": 1,
   "id": "5cd1cbb8-ba1a-460b-8e3a-bc285867f1d1",
   "metadata": {
    "execution": {
     "iopub.execute_input": "2023-05-21T17:50:47.419873Z",
     "iopub.status.busy": "2023-05-21T17:50:47.419253Z",
     "iopub.status.idle": "2023-05-21T17:50:48.084207Z",
     "shell.execute_reply": "2023-05-21T17:50:48.083429Z"
    },
    "tags": [
     "hide"
    ]
   },
   "outputs": [],
   "source": [
    "import seaborn as sns\n",
    "sns.set_theme()\n",
    "sns.palettes._patch_colormap_display()"
   ]
  },
  {
   "cell_type": "raw",
   "id": "b157eb25-015f-4dd6-9785-83ba19cf4f94",
   "metadata": {},
   "source": [
    "Define a sequential ramp from a dark gray to a specified color:"
   ]
  },
  {
   "cell_type": "code",
   "execution_count": 2,
   "id": "5b655d28-9855-4528-8b8e-a6c50288fd1b",
   "metadata": {
    "execution": {
     "iopub.execute_input": "2023-05-21T17:50:48.087125Z",
     "iopub.status.busy": "2023-05-21T17:50:48.086678Z",
     "iopub.status.idle": "2023-05-21T17:50:48.094245Z",
     "shell.execute_reply": "2023-05-21T17:50:48.093717Z"
    }
   },
   "outputs": [
    {
     "data": {
      "text/html": [
       "<svg  width=\"330\" height=\"55\"><rect x=\"0\" y=\"0\" width=\"55\" height=\"55\" style=\"fill:#232724;stroke-width:2;stroke:rgb(255,255,255)\"/><rect x=\"55\" y=\"0\" width=\"55\" height=\"55\" style=\"fill:#253b2e;stroke-width:2;stroke:rgb(255,255,255)\"/><rect x=\"110\" y=\"0\" width=\"55\" height=\"55\" style=\"fill:#274f38;stroke-width:2;stroke:rgb(255,255,255)\"/><rect x=\"165\" y=\"0\" width=\"55\" height=\"55\" style=\"fill:#296343;stroke-width:2;stroke:rgb(255,255,255)\"/><rect x=\"220\" y=\"0\" width=\"55\" height=\"55\" style=\"fill:#2c774d;stroke-width:2;stroke:rgb(255,255,255)\"/><rect x=\"275\" y=\"0\" width=\"55\" height=\"55\" style=\"fill:#2e8b57;stroke-width:2;stroke:rgb(255,255,255)\"/></svg>"
      ],
      "text/plain": [
       "[(0.1353586476963603, 0.15189324693819162, 0.14041412140991744),\n",
       " (0.14436534952963725, 0.23053420539369054, 0.180566591245581),\n",
       " (0.1533720513629142, 0.30917516384918947, 0.2207190610812446),\n",
       " (0.1623787531961912, 0.38781612230468837, 0.2608715309169082),\n",
       " (0.17138545502946814, 0.4664570807601873, 0.30102400075257174),\n",
       " (0.1803921568627451, 0.5450980392156862, 0.3411764705882353)]"
      ]
     },
     "execution_count": 2,
     "metadata": {},
     "output_type": "execute_result"
    }
   ],
   "source": [
    "sns.dark_palette(\"seagreen\")"
   ]
  },
  {
   "cell_type": "raw",
   "id": "50053b26-112a-4378-8ef0-9be0fb565ec7",
   "metadata": {},
   "source": [
    "Specify the color with a hex code:"
   ]
  },
  {
   "cell_type": "code",
   "execution_count": 3,
   "id": "74ae0d17-f65b-4bcf-ae66-d97d46964d5c",
   "metadata": {
    "execution": {
     "iopub.execute_input": "2023-05-21T17:50:48.096544Z",
     "iopub.status.busy": "2023-05-21T17:50:48.096214Z",
     "iopub.status.idle": "2023-05-21T17:50:48.100967Z",
     "shell.execute_reply": "2023-05-21T17:50:48.100456Z"
    }
   },
   "outputs": [
    {
     "data": {
      "text/html": [
       "<svg  width=\"330\" height=\"55\"><rect x=\"0\" y=\"0\" width=\"55\" height=\"55\" style=\"fill:#242628;stroke-width:2;stroke:rgb(255,255,255)\"/><rect x=\"55\" y=\"0\" width=\"55\" height=\"55\" style=\"fill:#353d49;stroke-width:2;stroke:rgb(255,255,255)\"/><rect x=\"110\" y=\"0\" width=\"55\" height=\"55\" style=\"fill:#45546a;stroke-width:2;stroke:rgb(255,255,255)\"/><rect x=\"165\" y=\"0\" width=\"55\" height=\"55\" style=\"fill:#566b8b;stroke-width:2;stroke:rgb(255,255,255)\"/><rect x=\"220\" y=\"0\" width=\"55\" height=\"55\" style=\"fill:#6682ab;stroke-width:2;stroke:rgb(255,255,255)\"/><rect x=\"275\" y=\"0\" width=\"55\" height=\"55\" style=\"fill:#7799cc;stroke-width:2;stroke:rgb(255,255,255)\"/></svg>"
      ],
      "text/plain": [
       "[(0.14286922092981755, 0.14801776888901264, 0.15837342352055161),\n",
       " (0.20762871007718736, 0.2384142151112101, 0.2866987388164413),\n",
       " (0.2723881992245572, 0.3288106613334076, 0.415024054112331),\n",
       " (0.337147688371927, 0.41920710755560503, 0.5433493694082207),\n",
       " (0.40190717751929683, 0.5096035537778025, 0.6716746847041104),\n",
       " (0.4666666666666667, 0.6, 0.8)]"
      ]
     },
     "execution_count": 3,
     "metadata": {},
     "output_type": "execute_result"
    }
   ],
   "source": [
    "sns.dark_palette(\"#79C\")"
   ]
  },
  {
   "cell_type": "raw",
   "id": "eea376a2-fdf5-40e4-a187-3a28af529072",
   "metadata": {},
   "source": [
    "Specify the color from the husl system:"
   ]
  },
  {
   "cell_type": "code",
   "execution_count": 4,
   "id": "66e451ee-869a-41ea-8dc5-4240b11e7be5",
   "metadata": {
    "execution": {
     "iopub.execute_input": "2023-05-21T17:50:48.103140Z",
     "iopub.status.busy": "2023-05-21T17:50:48.102904Z",
     "iopub.status.idle": "2023-05-21T17:50:48.107363Z",
     "shell.execute_reply": "2023-05-21T17:50:48.106902Z"
    }
   },
   "outputs": [
    {
     "data": {
      "text/html": [
       "<svg  width=\"330\" height=\"55\"><rect x=\"0\" y=\"0\" width=\"55\" height=\"55\" style=\"fill:#2b2423;stroke-width:2;stroke:rgb(255,255,255)\"/><rect x=\"55\" y=\"0\" width=\"55\" height=\"55\" style=\"fill:#47302b;stroke-width:2;stroke:rgb(255,255,255)\"/><rect x=\"110\" y=\"0\" width=\"55\" height=\"55\" style=\"fill:#633b33;stroke-width:2;stroke:rgb(255,255,255)\"/><rect x=\"165\" y=\"0\" width=\"55\" height=\"55\" style=\"fill:#7f463a;stroke-width:2;stroke:rgb(255,255,255)\"/><rect x=\"220\" y=\"0\" width=\"55\" height=\"55\" style=\"fill:#9b5142;stroke-width:2;stroke:rgb(255,255,255)\"/><rect x=\"275\" y=\"0\" width=\"55\" height=\"55\" style=\"fill:#b85d4a;stroke-width:2;stroke:rgb(255,255,255)\"/></svg>"
      ],
      "text/plain": [
       "[(0.1678426992829011, 0.1420671093901477, 0.1388943730951417),\n",
       " (0.2783134897767575, 0.18638106638138052, 0.16898525031516964),\n",
       " (0.38878428027061396, 0.23069502337261336, 0.19907612753519763),\n",
       " (0.4992550707644704, 0.2750089803638462, 0.22916700475522558),\n",
       " (0.6097258612583268, 0.319322937355079, 0.25925788197525357),\n",
       " (0.7201966517521833, 0.36363689434631186, 0.2893487591952815)]"
      ]
     },
     "execution_count": 4,
     "metadata": {},
     "output_type": "execute_result"
    }
   ],
   "source": [
    "sns.dark_palette((20, 60, 50), input=\"husl\")"
   ]
  },
  {
   "cell_type": "raw",
   "id": "e4f44dcd-cf49-4920-ac05-b4db67870363",
   "metadata": {},
   "source": [
    "Increase the number of colors:"
   ]
  },
  {
   "cell_type": "code",
   "execution_count": 5,
   "id": "75985f07-de92-4d8b-89d5-caf445b9375e",
   "metadata": {
    "execution": {
     "iopub.execute_input": "2023-05-21T17:50:48.109675Z",
     "iopub.status.busy": "2023-05-21T17:50:48.109358Z",
     "iopub.status.idle": "2023-05-21T17:50:48.113690Z",
     "shell.execute_reply": "2023-05-21T17:50:48.113223Z"
    }
   },
   "outputs": [
    {
     "data": {
      "text/html": [
       "<svg  width=\"440\" height=\"55\"><rect x=\"0\" y=\"0\" width=\"55\" height=\"55\" style=\"fill:#282522;stroke-width:2;stroke:rgb(255,255,255)\"/><rect x=\"55\" y=\"0\" width=\"55\" height=\"55\" style=\"fill:#453b1d;stroke-width:2;stroke:rgb(255,255,255)\"/><rect x=\"110\" y=\"0\" width=\"55\" height=\"55\" style=\"fill:#635119;stroke-width:2;stroke:rgb(255,255,255)\"/><rect x=\"165\" y=\"0\" width=\"55\" height=\"55\" style=\"fill:#806715;stroke-width:2;stroke:rgb(255,255,255)\"/><rect x=\"220\" y=\"0\" width=\"55\" height=\"55\" style=\"fill:#9d7d10;stroke-width:2;stroke:rgb(255,255,255)\"/><rect x=\"275\" y=\"0\" width=\"55\" height=\"55\" style=\"fill:#ba930c;stroke-width:2;stroke:rgb(255,255,255)\"/><rect x=\"330\" y=\"0\" width=\"55\" height=\"55\" style=\"fill:#d8a907;stroke-width:2;stroke:rgb(255,255,255)\"/><rect x=\"385\" y=\"0\" width=\"55\" height=\"55\" style=\"fill:#f5bf03;stroke-width:2;stroke:rgb(255,255,255)\"/></svg>"
      ],
      "text/plain": [
       "[(0.1562911842531705, 0.1465466503768108, 0.13246883396266854),\n",
       " (0.2698666848845568, 0.23160165613676276, 0.11542825117485928),\n",
       " (0.38659706053348164, 0.31901930094560227, 0.09791431886516642),\n",
       " (0.500172561164868, 0.4040743067055543, 0.08087373607735716),\n",
       " (0.6169029368137927, 0.4914919515143938, 0.06335980376766431),\n",
       " (0.7304784374451792, 0.5765469572743458, 0.04631922097985505),\n",
       " (0.8472088130941038, 0.6639646020831853, 0.028805288670162202),\n",
       " (0.9607843137254902, 0.7490196078431373, 0.011764705882352941)]"
      ]
     },
     "execution_count": 5,
     "metadata": {},
     "output_type": "execute_result"
    }
   ],
   "source": [
    "sns.dark_palette(\"xkcd:golden\", 8)"
   ]
  },
  {
   "cell_type": "raw",
   "id": "34687ae8-fd6d-427a-a639-208f19e61122",
   "metadata": {},
   "source": [
    "Return a continuous colormap rather than a discrete palette:"
   ]
  },
  {
   "cell_type": "code",
   "execution_count": 6,
   "id": "2c342db4-7f97-40f5-934e-9a82201890d1",
   "metadata": {
    "execution": {
     "iopub.execute_input": "2023-05-21T17:50:48.115648Z",
     "iopub.status.busy": "2023-05-21T17:50:48.115354Z",
     "iopub.status.idle": "2023-05-21T17:50:48.122485Z",
     "shell.execute_reply": "2023-05-21T17:50:48.121987Z"
    }
   },
   "outputs": [
    {
     "data": {
      "image/png": "[encoded data removed]",
      "text/html": [
       "<img alt=\"blend color map\" title=\"blend\"src=\"data:image/png;base64,iVBORw0KGgoAAAANSUhEUgAAAZAAAAAyCAYAAAByHI2dAAABp0lEQVR4nO3VQVKFMBAFwMSzWKX3v6B/8QMkJCC+KnfdG4FoMkwxvvr1+f1TSimllvajltqu33fbZe3v2qN6uq77VsPasflxX2v3qG5HdE/GOub10u1xrmNxve9xelbH9fd7dr+x6MXwrpe96veYa/ptfaxpOH0/92p96ltX6F3f+pOPX3vSt7EXy77ue1zU1O67t7j5Rrb3vO/V8l3rqqZTpXW83vZafiM338uqF+P3sq5prOt+tlZnPJmt6Vk8W+e5uKip7flstq7Xh/9DF33762wd9/83W6e/uK9rmp3j3Mez1WpZ9W2evWC22vpHAYCAAAEgIkAAiAgQACICBICIAAEgIkAAiAgQACICBICIAAEgIkAAiAgQACICBICIAAEgIkAAiAgQACICBICIAAEgIkAAiAgQACICBICIAAEgIkAAiAgQACICBICIAAEgIkAAiAgQACICBICIAAEgIkAAiAgQACICBICIAAEgIkAAiAgQACICBICIAAEgIkAAiAgQACICBICIAAEgIkAAiAgQACICBICIAAEgIkAAiAgQACICBIDIC8QYA1YhP9boAAAAAElFTkSuQmCC\">"
      ],
      "text/plain": [
       "<matplotlib.colors.LinearSegmentedColormap at 0x7f6af3c690f0>"
      ]
     },
     "execution_count": 6,
     "metadata": {},
     "output_type": "execute_result"
    }
   ],
   "source": [
    "sns.dark_palette(\"#b285bc\", as_cmap=True)"
   ]
  },
  {
   "cell_type": "code",
   "execution_count": null,
   "id": "e7ebe64b-25fa-4c52-9ebe-fdcbba0ee51e",
   "metadata": {},
   "outputs": [],
   "source": []
  }
 ],
 "metadata": {
  "kernelspec": {
   "display_name": "py310",
   "language": "python",
   "name": "py310"
  },
  "language_info": {
   "codemirror_mode": {
    "name": "ipython",
    "version": 3
   },
   "file_extension": ".py",
   "mimetype": "text/x-python",
   "name": "python",
   "nbconvert_exporter": "python",
   "pygments_lexer": "ipython3",
   "version": "3.10.6"
  }
 },
 "nbformat": 4,
 "nbformat_minor": 5
}
