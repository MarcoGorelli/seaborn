{
 "cells": [
  {
   "cell_type": "code",
   "execution_count": 1,
   "id": "01295cb6-cc7a-4c6d-94cf-9b0e6cde9fa7",
   "metadata": {
    "execution": {
     "iopub.execute_input": "2023-05-21T17:05:37.681208Z",
     "iopub.status.busy": "2023-05-21T17:05:37.680979Z",
     "iopub.status.idle": "2023-05-21T17:05:38.306786Z",
     "shell.execute_reply": "2023-05-21T17:05:38.305969Z"
    },
    "tags": [
     "hide"
    ]
   },
   "outputs": [],
   "source": [
    "import seaborn as sns\n",
    "sns.set_theme()\n",
    "sns.palettes._patch_colormap_display()"
   ]
  },
  {
   "cell_type": "raw",
   "id": "84880848-0805-4c41-999a-50808b397275",
   "metadata": {},
   "source": [
    "Generate diverging ramps from blue to red through white:"
   ]
  },
  {
   "cell_type": "code",
   "execution_count": 2,
   "id": "643b3e07-8365-46e3-b033-af7a2fdcd158",
   "metadata": {
    "execution": {
     "iopub.execute_input": "2023-05-21T17:05:38.309724Z",
     "iopub.status.busy": "2023-05-21T17:05:38.309473Z",
     "iopub.status.idle": "2023-05-21T17:05:38.319629Z",
     "shell.execute_reply": "2023-05-21T17:05:38.319113Z"
    }
   },
   "outputs": [
    {
     "data": {
      "text/html": [
       "<svg  width=\"330\" height=\"55\"><rect x=\"0\" y=\"0\" width=\"55\" height=\"55\" style=\"fill:#417ca8;stroke-width:2;stroke:rgb(255,255,255)\"/><rect x=\"55\" y=\"0\" width=\"55\" height=\"55\" style=\"fill:#87abc6;stroke-width:2;stroke:rgb(255,255,255)\"/><rect x=\"110\" y=\"0\" width=\"55\" height=\"55\" style=\"fill:#cedae4;stroke-width:2;stroke:rgb(255,255,255)\"/><rect x=\"165\" y=\"0\" width=\"55\" height=\"55\" style=\"fill:#e9d2cd;stroke-width:2;stroke:rgb(255,255,255)\"/><rect x=\"220\" y=\"0\" width=\"55\" height=\"55\" style=\"fill:#d69483;stroke-width:2;stroke:rgb(255,255,255)\"/><rect x=\"275\" y=\"0\" width=\"55\" height=\"55\" style=\"fill:#c3553a;stroke-width:2;stroke:rgb(255,255,255)\"/></svg>"
      ],
      "text/plain": [
       "[(0.2564697186166857, 0.4871591358142198, 0.657003695890986),\n",
       " (0.5306779236344225, 0.6706424890731881, 0.7746018345077771),\n",
       " (0.8075639431542854, 0.8559176719538262, 0.8933483924469978),\n",
       " (0.9140860646530862, 0.8246826885128927, 0.8028133239419792),\n",
       " (0.8384144678873866, 0.5785740917778832, 0.5129511551488873),\n",
       " (0.7634747047461135, 0.3348456555528834, 0.225892295531744)]"
      ]
     },
     "execution_count": 2,
     "metadata": {},
     "output_type": "execute_result"
    }
   ],
   "source": [
    "sns.diverging_palette(240, 20)"
   ]
  },
  {
   "cell_type": "raw",
   "id": "5ae53941-d9d9-4b5a-8abc-173911ebee74",
   "metadata": {},
   "source": [
    "Change the center color to be dark:"
   ]
  },
  {
   "cell_type": "code",
   "execution_count": 3,
   "id": "41f03771-8fb2-46f6-93c5-5a0e28be625c",
   "metadata": {
    "execution": {
     "iopub.execute_input": "2023-05-21T17:05:38.322126Z",
     "iopub.status.busy": "2023-05-21T17:05:38.321548Z",
     "iopub.status.idle": "2023-05-21T17:05:38.329571Z",
     "shell.execute_reply": "2023-05-21T17:05:38.329047Z"
    }
   },
   "outputs": [
    {
     "data": {
      "text/html": [
       "<svg  width=\"330\" height=\"55\"><rect x=\"0\" y=\"0\" width=\"55\" height=\"55\" style=\"fill:#417ca8;stroke-width:2;stroke:rgb(255,255,255)\"/><rect x=\"55\" y=\"0\" width=\"55\" height=\"55\" style=\"fill:#355a75;stroke-width:2;stroke:rgb(255,255,255)\"/><rect x=\"110\" y=\"0\" width=\"55\" height=\"55\" style=\"fill:#293741;stroke-width:2;stroke:rgb(255,255,255)\"/><rect x=\"165\" y=\"0\" width=\"55\" height=\"55\" style=\"fill:#492d27;stroke-width:2;stroke:rgb(255,255,255)\"/><rect x=\"220\" y=\"0\" width=\"55\" height=\"55\" style=\"fill:#864130;stroke-width:2;stroke:rgb(255,255,255)\"/><rect x=\"275\" y=\"0\" width=\"55\" height=\"55\" style=\"fill:#c3553a;stroke-width:2;stroke:rgb(255,255,255)\"/></svg>"
      ],
      "text/plain": [
       "[(0.2564697186166857, 0.4871591358142198, 0.657003695890986),\n",
       " (0.20953269479151052, 0.3512899421458675, 0.45726192094823825),\n",
       " (0.16213730159304254, 0.2140939008830978, 0.25556954273456534),\n",
       " (0.28646138236776686, 0.1781102355109034, 0.15386049826995588),\n",
       " (0.5261269680525142, 0.25685874101304496, 0.1900514012673752),\n",
       " (0.7634747047461135, 0.3348456555528834, 0.225892295531744)]"
      ]
     },
     "execution_count": 3,
     "metadata": {},
     "output_type": "execute_result"
    }
   ],
   "source": [
    "sns.diverging_palette(240, 20, center=\"dark\")"
   ]
  },
  {
   "cell_type": "raw",
   "id": "0aeb2402-2cbe-4546-a354-f1f501f762ae",
   "metadata": {},
   "source": [
    "Return a continuous colormap rather than a discrete palette:"
   ]
  },
  {
   "cell_type": "code",
   "execution_count": 4,
   "id": "64d335a5-f8b2-433f-a83f-5aeff7db583a",
   "metadata": {
    "execution": {
     "iopub.execute_input": "2023-05-21T17:05:38.331496Z",
     "iopub.status.busy": "2023-05-21T17:05:38.331331Z",
     "iopub.status.idle": "2023-05-21T17:05:38.342347Z",
     "shell.execute_reply": "2023-05-21T17:05:38.341819Z"
    }
   },
   "outputs": [
    {
     "data": {
      "image/png": "[encoded data removed]",
      "text/html": [
       "<img alt=\"blend color map\" title=\"blend\"src=\"data:image/png;base64,iVBORw0KGgoAAAANSUhEUgAAAZAAAAAyCAYAAAByHI2dAAABz0lEQVR4nO3VQXLjMAwEQNA/23/lP/mlmIMsm1RIp3bO3SdGkAQITtW0f1/fvaqqtVZVVY9W1eo8t1b1aNe51fM4XNvXr3OrVo/r/Oox1Ntcn+YYzte75h6rOeaZVvXXe2ueY9W3De+a57ztovb13RzrXfyxowpm29Xr82z355Y7HOdYzPZ/c8773O3ofm23w9bmmVZ913O+53hUP28+jur9OM+9Vz/e53pe772ffz/vf18bzsNz/bq3H6/n+lQfehzP+nDv6r1jv3PORY/tdyx6HMc856vf+9r2Oxb9dt/Rl3sb6mO/3e6vGRY9fu9+eMevHrf61eOYd/vn7q/zclef/ofm5z7/Dy1+v219/R3r3W++4/abPgoAAgIEgIgAASAiQACICBAAIgIEgIgAASAiQACICBAAIgIEgIgAASAiQACICBAAIgIEgIgAASAiQACICBAAIgIEgIgAASAiQACICBAAIgIEgIgAASAiQACICBAAIgIEgIgAASAiQACICBAAIgIEgIgAASAiQACICBAAIgIEgIgAASAiQACICBAAIgIEgIgAASAiQACICBAAIgIEgIgAASAiQACICBAAIgIEgIgAASAiQACICBAAIj/DeTHCc5MSUQAAAABJRU5ErkJggg==\">"
      ],
      "text/plain": [
       "<matplotlib.colors.LinearSegmentedColormap at 0x7fa90327e560>"
      ]
     },
     "execution_count": 4,
     "metadata": {},
     "output_type": "execute_result"
    }
   ],
   "source": [
    "sns.diverging_palette(240, 20, as_cmap=True)"
   ]
  },
  {
   "cell_type": "raw",
   "id": "77223a07-8492-4056-a0f7-14e133e3ce2c",
   "metadata": {},
   "source": [
    "Increase the amount of separation around the center value:"
   ]
  },
  {
   "cell_type": "code",
   "execution_count": 5,
   "id": "82472c1e-4b16-40eb-be1d-480bbd2aa702",
   "metadata": {
    "execution": {
     "iopub.execute_input": "2023-05-21T17:05:38.344233Z",
     "iopub.status.busy": "2023-05-21T17:05:38.344040Z",
     "iopub.status.idle": "2023-05-21T17:05:38.352920Z",
     "shell.execute_reply": "2023-05-21T17:05:38.352435Z"
    }
   },
   "outputs": [
    {
     "data": {
      "image/png": "[encoded data removed]",
      "text/html": [
       "<img alt=\"blend color map\" title=\"blend\"src=\"data:image/png;base64,iVBORw0KGgoAAAANSUhEUgAAAZAAAAAyCAYAAAByHI2dAAAB6ElEQVR4nO3VQW7jMAwFUNo92dxr7jOnjNVF7Zhu5BT4m0GB9zZJFJlkpQZ/+fP336iqWpalqqrWpWqp/f261L5c67LUun/oa9f3S9tbddTttV/3fvV57q3Wb33t12f4qd/HzQxnjTb/eta6m+Gu3/E67/d9trP2yxmuS6016be2GjVZe9Pvpcdyf6f9XI6zusxQZ91+Zz/1m/eY9+trve672T6OwX6b7VFVVWMbVWPU/mF/2Z5rY2xV274+xnNPbaPtbd8/926XumNff9btz22t7hht7/ZVs+pad5vXHc/Z2nNt3un323au38x7maf1vvwts3kv53Kc56O9P/Y+2nmPmt5Dq3c+P/++38PsjHvd+zN8vf/bu5nc72Wtn/23Gu/PcHyd1zFP/5+sqt/60wPgPxMgAEQECAARAQJARIAAEBEgAEQECAARAQJARIAAEBEgAEQECAARAQJARIAAEBEgAEQECAARAQJARIAAEBEgAEQECAARAQJARIAAEBEgAEQECAARAQJARIAAEBEgAEQECAARAQJARIAAEBEgAEQECAARAQJARIAAEBEgAEQECAARAQJARIAAEBEgAEQECAARAQJARIAAEBEgAEQECAARAQJARIAAEBEgAEQECAARAQJARIAAEPkEoEcUwkJRuBwAAAAASUVORK5CYII=\">"
      ],
      "text/plain": [
       "<matplotlib.colors.LinearSegmentedColormap at 0x7fa90327c3a0>"
      ]
     },
     "execution_count": 5,
     "metadata": {},
     "output_type": "execute_result"
    }
   ],
   "source": [
    "sns.diverging_palette(240, 20, sep=30, as_cmap=True)"
   ]
  },
  {
   "cell_type": "raw",
   "id": "966e8594-b458-414c-a7b0-3e804ce407bf",
   "metadata": {},
   "source": [
    "Use a magenta-to-green palette instead:"
   ]
  },
  {
   "cell_type": "code",
   "execution_count": 6,
   "id": "a03f8ede-b424-4e06-beb6-cf63c94bcd9e",
   "metadata": {
    "execution": {
     "iopub.execute_input": "2023-05-21T17:05:38.354784Z",
     "iopub.status.busy": "2023-05-21T17:05:38.354456Z",
     "iopub.status.idle": "2023-05-21T17:05:38.362036Z",
     "shell.execute_reply": "2023-05-21T17:05:38.361556Z"
    }
   },
   "outputs": [
    {
     "data": {
      "text/html": [
       "<svg  width=\"330\" height=\"55\"><rect x=\"0\" y=\"0\" width=\"55\" height=\"55\" style=\"fill:#9558db;stroke-width:2;stroke:rgb(255,255,255)\"/><rect x=\"55\" y=\"0\" width=\"55\" height=\"55\" style=\"fill:#ba95e4;stroke-width:2;stroke:rgb(255,255,255)\"/><rect x=\"110\" y=\"0\" width=\"55\" height=\"55\" style=\"fill:#dfd3ee;stroke-width:2;stroke:rgb(255,255,255)\"/><rect x=\"165\" y=\"0\" width=\"55\" height=\"55\" style=\"fill:#c9ddd4;stroke-width:2;stroke:rgb(255,255,255)\"/><rect x=\"220\" y=\"0\" width=\"55\" height=\"55\" style=\"fill:#82b09c;stroke-width:2;stroke:rgb(255,255,255)\"/><rect x=\"275\" y=\"0\" width=\"55\" height=\"55\" style=\"fill:#3b8464;stroke-width:2;stroke:rgb(255,255,255)\"/></svg>"
      ],
      "text/plain": [
       "[(0.5824001997920059, 0.34516967641371604, 0.8572313460072372),\n",
       " (0.727964866011321, 0.5850071542869091, 0.8944207787888392),\n",
       " (0.8749510621741843, 0.8271867950299576, 0.931973389624949),\n",
       " (0.78941493590642, 0.866996439064838, 0.8305777598371817),\n",
       " (0.5085847189808066, 0.6919913793427944, 0.6105585426406518),\n",
       " (0.23047046159992834, 0.5186788250339235, 0.39266717087155434)]"
      ]
     },
     "execution_count": 6,
     "metadata": {},
     "output_type": "execute_result"
    }
   ],
   "source": [
    "sns.diverging_palette(280, 150)"
   ]
  },
  {
   "cell_type": "raw",
   "id": "b3b17689-58e2-4065-9d52-1cf5ebcd4e89",
   "metadata": {},
   "source": [
    "Decrease the saturation of the endpoints:"
   ]
  },
  {
   "cell_type": "code",
   "execution_count": 7,
   "id": "02aaa009-f257-4fc7-a2de-40fbb1464490",
   "metadata": {
    "execution": {
     "iopub.execute_input": "2023-05-21T17:05:38.363812Z",
     "iopub.status.busy": "2023-05-21T17:05:38.363529Z",
     "iopub.status.idle": "2023-05-21T17:05:38.371517Z",
     "shell.execute_reply": "2023-05-21T17:05:38.371021Z"
    }
   },
   "outputs": [
    {
     "data": {
      "text/html": [
       "<svg  width=\"330\" height=\"55\"><rect x=\"0\" y=\"0\" width=\"55\" height=\"55\" style=\"fill:#8966b9;stroke-width:2;stroke:rgb(255,255,255)\"/><rect x=\"55\" y=\"0\" width=\"55\" height=\"55\" style=\"fill:#b39ed0;stroke-width:2;stroke:rgb(255,255,255)\"/><rect x=\"110\" y=\"0\" width=\"55\" height=\"55\" style=\"fill:#ddd6e7;stroke-width:2;stroke:rgb(255,255,255)\"/><rect x=\"165\" y=\"0\" width=\"55\" height=\"55\" style=\"fill:#d0dcd6;stroke-width:2;stroke:rgb(255,255,255)\"/><rect x=\"220\" y=\"0\" width=\"55\" height=\"55\" style=\"fill:#91aea0;stroke-width:2;stroke:rgb(255,255,255)\"/><rect x=\"275\" y=\"0\" width=\"55\" height=\"55\" style=\"fill:#54806b;stroke-width:2;stroke:rgb(255,255,255)\"/></svg>"
      ],
      "text/plain": [
       "[(0.5375945194323805, 0.4015117969990462, 0.726622061704261),\n",
       " (0.7009612916826616, 0.6188688245250267, 0.8153958715023076),\n",
       " (0.8659234425681995, 0.8383484792729404, 0.9050366130366632),\n",
       " (0.8139868484959759, 0.8620953553378935, 0.8376514267246261),\n",
       " (0.5703829212708909, 0.6815042415138156, 0.6268103478592834),\n",
       " (0.32913493144643524, 0.5026596568369724, 0.41800835099457256)]"
      ]
     },
     "execution_count": 7,
     "metadata": {},
     "output_type": "execute_result"
    }
   ],
   "source": [
    "sns.diverging_palette(280, 150, s=50)"
   ]
  },
  {
   "cell_type": "raw",
   "id": "db75ca48-ba72-4ca2-8480-bc72c20a70cc",
   "metadata": {},
   "source": [
    "Decrease the lightness of the endpoints:"
   ]
  },
  {
   "cell_type": "code",
   "execution_count": 8,
   "id": "89e3bcb1-a17c-4465-830f-46043cb6c322",
   "metadata": {
    "execution": {
     "iopub.execute_input": "2023-05-21T17:05:38.373275Z",
     "iopub.status.busy": "2023-05-21T17:05:38.373048Z",
     "iopub.status.idle": "2023-05-21T17:05:38.380633Z",
     "shell.execute_reply": "2023-05-21T17:05:38.380129Z"
    }
   },
   "outputs": [
    {
     "data": {
      "text/html": [
       "<svg  width=\"330\" height=\"55\"><rect x=\"0\" y=\"0\" width=\"55\" height=\"55\" style=\"fill:#6d33a9;stroke-width:2;stroke:rgb(255,255,255)\"/><rect x=\"55\" y=\"0\" width=\"55\" height=\"55\" style=\"fill:#a27fc6;stroke-width:2;stroke:rgb(255,255,255)\"/><rect x=\"110\" y=\"0\" width=\"55\" height=\"55\" style=\"fill:#d7cce4;stroke-width:2;stroke:rgb(255,255,255)\"/><rect x=\"165\" y=\"0\" width=\"55\" height=\"55\" style=\"fill:#c5d5ce;stroke-width:2;stroke:rgb(255,255,255)\"/><rect x=\"220\" y=\"0\" width=\"55\" height=\"55\" style=\"fill:#769889;stroke-width:2;stroke:rgb(255,255,255)\"/><rect x=\"275\" y=\"0\" width=\"55\" height=\"55\" style=\"fill:#275c45;stroke-width:2;stroke:rgb(255,255,255)\"/></svg>"
      ],
      "text/plain": [
       "[(0.4275470510591371, 0.20104481017825293, 0.6617355527157276),\n",
       " (0.6352958850464913, 0.4987583138414329, 0.7774299483304332),\n",
       " (0.8450735162407532, 0.7993791759388236, 0.8942541720273137),\n",
       " (0.7742401560111659, 0.836501340371727, 0.8067810743719537),\n",
       " (0.4615182268666648, 0.5974069878678199, 0.5367501239009406),\n",
       " (0.15182068775257468, 0.36062495985621357, 0.2693306913261652)]"
      ]
     },
     "execution_count": 8,
     "metadata": {},
     "output_type": "execute_result"
    }
   ],
   "source": [
    "sns.diverging_palette(280, 150, l=35)"
   ]
  },
  {
   "cell_type": "code",
   "execution_count": null,
   "id": "4e42452a-a485-43e7-bbc3-338db58e4637",
   "metadata": {},
   "outputs": [],
   "source": []
  },
  {
   "cell_type": "code",
   "execution_count": null,
   "id": "e19f523f-c2f7-489a-ba00-326810e31a67",
   "metadata": {},
   "outputs": [],
   "source": []
  }
 ],
 "metadata": {
  "kernelspec": {
   "display_name": "py310",
   "language": "python",
   "name": "py310"
  },
  "language_info": {
   "codemirror_mode": {
    "name": "ipython",
    "version": 3
   },
   "file_extension": ".py",
   "mimetype": "text/x-python",
   "name": "python",
   "nbconvert_exporter": "python",
   "pygments_lexer": "ipython3",
   "version": "3.10.6"
  }
 },
 "nbformat": 4,
 "nbformat_minor": 5
}
