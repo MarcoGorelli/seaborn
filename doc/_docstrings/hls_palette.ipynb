{
 "cells": [
  {
   "cell_type": "code",
   "execution_count": 1,
   "id": "158cd1cf-6b30-4054-b32f-a166fcb883be",
   "metadata": {
    "tags": [
     "hide"
    ]
   },
   "outputs": [],
   "source": [
    "import seaborn as sns\n",
    "sns.set_theme()\n",
    "sns.palettes._patch_colormap_display()"
   ]
  },
  {
   "cell_type": "raw",
   "id": "c81b86cb-fb4e-418b-8d2f-6cd10601ac5a",
   "metadata": {},
   "source": [
    "By default, return 6 colors with identical lightness and saturation and evenly-sampled hues:"
   ]
  },
  {
   "cell_type": "code",
   "execution_count": 2,
   "id": "6c3eaeaf-88eb-4012-96ea-41b328fa98b9",
   "metadata": {},
   "outputs": [
    {
     "data": {
      "text/html": [
       "<svg  width=\"330\" height=\"55\"><rect x=\"0\" y=\"0\" width=\"55\" height=\"55\" style=\"fill:#db5f57;stroke-width:2;stroke:rgb(255,255,255)\"/><rect x=\"55\" y=\"0\" width=\"55\" height=\"55\" style=\"fill:#d3db57;stroke-width:2;stroke:rgb(255,255,255)\"/><rect x=\"110\" y=\"0\" width=\"55\" height=\"55\" style=\"fill:#57db5f;stroke-width:2;stroke:rgb(255,255,255)\"/><rect x=\"165\" y=\"0\" width=\"55\" height=\"55\" style=\"fill:#57d3db;stroke-width:2;stroke:rgb(255,255,255)\"/><rect x=\"220\" y=\"0\" width=\"55\" height=\"55\" style=\"fill:#5f57db;stroke-width:2;stroke:rgb(255,255,255)\"/><rect x=\"275\" y=\"0\" width=\"55\" height=\"55\" style=\"fill:#db57d3;stroke-width:2;stroke:rgb(255,255,255)\"/></svg>"
      ],
      "text/plain": [
       "[(0.86, 0.3712, 0.33999999999999997),\n",
       " (0.8287999999999999, 0.86, 0.33999999999999997),\n",
       " (0.33999999999999997, 0.86, 0.3712),\n",
       " (0.33999999999999997, 0.8287999999999999, 0.86),\n",
       " (0.3712, 0.33999999999999997, 0.86),\n",
       " (0.86, 0.33999999999999997, 0.8287999999999999)]"
      ]
     },
     "execution_count": 2,
     "metadata": {},
     "output_type": "execute_result"
    }
   ],
   "source": [
    "sns.hls_palette()"
   ]
  },
  {
   "cell_type": "raw",
   "id": "f7624b0b-2311-45de-b6a5-fc07132ce455",
   "metadata": {},
   "source": [
    "Increase the number of colors:"
   ]
  },
  {
   "cell_type": "code",
   "execution_count": 3,
   "id": "555c29d1-6972-4a19-ad32-957fb7545634",
   "metadata": {},
   "outputs": [
    {
     "data": {
      "text/html": [
       "<svg  width=\"440\" height=\"55\"><rect x=\"0\" y=\"0\" width=\"55\" height=\"55\" style=\"fill:#db5f57;stroke-width:2;stroke:rgb(255,255,255)\"/><rect x=\"55\" y=\"0\" width=\"55\" height=\"55\" style=\"fill:#dbc257;stroke-width:2;stroke:rgb(255,255,255)\"/><rect x=\"110\" y=\"0\" width=\"55\" height=\"55\" style=\"fill:#91db57;stroke-width:2;stroke:rgb(255,255,255)\"/><rect x=\"165\" y=\"0\" width=\"55\" height=\"55\" style=\"fill:#57db80;stroke-width:2;stroke:rgb(255,255,255)\"/><rect x=\"220\" y=\"0\" width=\"55\" height=\"55\" style=\"fill:#57d3db;stroke-width:2;stroke:rgb(255,255,255)\"/><rect x=\"275\" y=\"0\" width=\"55\" height=\"55\" style=\"fill:#5770db;stroke-width:2;stroke:rgb(255,255,255)\"/><rect x=\"330\" y=\"0\" width=\"55\" height=\"55\" style=\"fill:#a157db;stroke-width:2;stroke:rgb(255,255,255)\"/><rect x=\"385\" y=\"0\" width=\"55\" height=\"55\" style=\"fill:#db57b2;stroke-width:2;stroke:rgb(255,255,255)\"/></svg>"
      ],
      "text/plain": [
       "[(0.86, 0.3712, 0.33999999999999997),\n",
       " (0.86, 0.7612000000000001, 0.33999999999999997),\n",
       " (0.5688000000000001, 0.86, 0.33999999999999997),\n",
       " (0.33999999999999997, 0.86, 0.5012000000000001),\n",
       " (0.33999999999999997, 0.8287999999999999, 0.86),\n",
       " (0.33999999999999997, 0.43879999999999986, 0.86),\n",
       " (0.6311999999999998, 0.33999999999999997, 0.86),\n",
       " (0.86, 0.33999999999999997, 0.6987999999999996)]"
      ]
     },
     "execution_count": 3,
     "metadata": {},
     "output_type": "execute_result"
    }
   ],
   "source": [
    "sns.hls_palette(8)"
   ]
  },
  {
   "cell_type": "raw",
   "id": "24713fa6-e485-4358-9ffc-d40bd9543caa",
   "metadata": {},
   "source": [
    "Decrease the lightness:"
   ]
  },
  {
   "cell_type": "code",
   "execution_count": 4,
   "id": "b6f80b4c-f7b4-4deb-a119-cdf6cfe1f7b5",
   "metadata": {},
   "outputs": [
    {
     "data": {
      "text/html": [
       "<svg  width=\"330\" height=\"55\"><rect x=\"0\" y=\"0\" width=\"55\" height=\"55\" style=\"fill:#7e211b;stroke-width:2;stroke:rgb(255,255,255)\"/><rect x=\"55\" y=\"0\" width=\"55\" height=\"55\" style=\"fill:#787e1b;stroke-width:2;stroke:rgb(255,255,255)\"/><rect x=\"110\" y=\"0\" width=\"55\" height=\"55\" style=\"fill:#1b7e21;stroke-width:2;stroke:rgb(255,255,255)\"/><rect x=\"165\" y=\"0\" width=\"55\" height=\"55\" style=\"fill:#1b787e;stroke-width:2;stroke:rgb(255,255,255)\"/><rect x=\"220\" y=\"0\" width=\"55\" height=\"55\" style=\"fill:#211b7e;stroke-width:2;stroke:rgb(255,255,255)\"/><rect x=\"275\" y=\"0\" width=\"55\" height=\"55\" style=\"fill:#7e1b78;stroke-width:2;stroke:rgb(255,255,255)\"/></svg>"
      ],
      "text/plain": [
       "[(0.49499999999999994, 0.12840000000000004, 0.10500000000000004),\n",
       " (0.47159999999999985, 0.49499999999999994, 0.10500000000000004),\n",
       " (0.10500000000000004, 0.49499999999999994, 0.12840000000000004),\n",
       " (0.10500000000000004, 0.47159999999999985, 0.49499999999999994),\n",
       " (0.12840000000000004, 0.10500000000000004, 0.49499999999999994),\n",
       " (0.49499999999999994, 0.10500000000000004, 0.47159999999999985)]"
      ]
     },
     "execution_count": 4,
     "metadata": {},
     "output_type": "execute_result"
    }
   ],
   "source": [
    "sns.hls_palette(l=.3)"
   ]
  },
  {
   "cell_type": "raw",
   "id": "e521b514-5572-43e8-95ae-a20cc30169b8",
   "metadata": {},
   "source": [
    "Decrease the saturation:"
   ]
  },
  {
   "cell_type": "code",
   "execution_count": 5,
   "id": "f88bd038-0c9c-48b1-92b0-d272a9c199f4",
   "metadata": {},
   "outputs": [
    {
     "data": {
      "text/html": [
       "<svg  width=\"330\" height=\"55\"><rect x=\"0\" y=\"0\" width=\"55\" height=\"55\" style=\"fill:#b87e7a;stroke-width:2;stroke:rgb(255,255,255)\"/><rect x=\"55\" y=\"0\" width=\"55\" height=\"55\" style=\"fill:#b4b87a;stroke-width:2;stroke:rgb(255,255,255)\"/><rect x=\"110\" y=\"0\" width=\"55\" height=\"55\" style=\"fill:#7ab87e;stroke-width:2;stroke:rgb(255,255,255)\"/><rect x=\"165\" y=\"0\" width=\"55\" height=\"55\" style=\"fill:#7ab4b8;stroke-width:2;stroke:rgb(255,255,255)\"/><rect x=\"220\" y=\"0\" width=\"55\" height=\"55\" style=\"fill:#7e7ab8;stroke-width:2;stroke:rgb(255,255,255)\"/><rect x=\"275\" y=\"0\" width=\"55\" height=\"55\" style=\"fill:#b87ab4;stroke-width:2;stroke:rgb(255,255,255)\"/></svg>"
      ],
      "text/plain": [
       "[(0.72, 0.4944, 0.48),\n",
       " (0.7055999999999999, 0.72, 0.48),\n",
       " (0.48, 0.72, 0.4944),\n",
       " (0.48, 0.7055999999999999, 0.72),\n",
       " (0.4944, 0.48, 0.72),\n",
       " (0.72, 0.48, 0.7055999999999999)]"
      ]
     },
     "execution_count": 5,
     "metadata": {},
     "output_type": "execute_result"
    }
   ],
   "source": [
    "sns.hls_palette(s=.3)"
   ]
  },
  {
   "cell_type": "raw",
   "id": "92a2212c-2177-4c82-8a5e-9dd788e9f87c",
   "metadata": {},
   "source": [
    "Change the start-point for hue sampling:"
   ]
  },
  {
   "cell_type": "code",
   "execution_count": 6,
   "id": "f8da8fbc-551c-4896-b1b8-04203e740d78",
   "metadata": {},
   "outputs": [
    {
     "data": {
      "text/html": [
       "<svg  width=\"330\" height=\"55\"><rect x=\"0\" y=\"0\" width=\"55\" height=\"55\" style=\"fill:#57dbdb;stroke-width:2;stroke:rgb(255,255,255)\"/><rect x=\"55\" y=\"0\" width=\"55\" height=\"55\" style=\"fill:#5757db;stroke-width:2;stroke:rgb(255,255,255)\"/><rect x=\"110\" y=\"0\" width=\"55\" height=\"55\" style=\"fill:#db57db;stroke-width:2;stroke:rgb(255,255,255)\"/><rect x=\"165\" y=\"0\" width=\"55\" height=\"55\" style=\"fill:#db5757;stroke-width:2;stroke:rgb(255,255,255)\"/><rect x=\"220\" y=\"0\" width=\"55\" height=\"55\" style=\"fill:#dbdb57;stroke-width:2;stroke:rgb(255,255,255)\"/><rect x=\"275\" y=\"0\" width=\"55\" height=\"55\" style=\"fill:#57db57;stroke-width:2;stroke:rgb(255,255,255)\"/></svg>"
      ],
      "text/plain": [
       "[(0.33999999999999997, 0.8599999999999999, 0.86),\n",
       " (0.33999999999999997, 0.33999999999999997, 0.86),\n",
       " (0.8599999999999995, 0.33999999999999997, 0.86),\n",
       " (0.86, 0.33999999999999997, 0.33999999999999997),\n",
       " (0.86, 0.8599999999999995, 0.33999999999999997),\n",
       " (0.3400000000000003, 0.86, 0.33999999999999997)]"
      ]
     },
     "execution_count": 6,
     "metadata": {},
     "output_type": "execute_result"
    }
   ],
   "source": [
    "sns.hls_palette(h=.5)"
   ]
  },
  {
   "cell_type": "raw",
   "id": "87780608-1f5a-409f-b31f-6a31a599f122",
   "metadata": {},
   "source": [
    "Return a continuous colormap. Notice the perceptual discontinuities, especially around yellow, cyan, and magenta: "
   ]
  },
  {
   "cell_type": "code",
   "execution_count": 7,
   "id": "4c622b3b-70d7-4139-8389-f3d0d4addd66",
   "metadata": {},
   "outputs": [
    {
     "data": {
      "image/png": "[encoded data removed]",
      "text/html": [
       "<img alt=\"hls color map\" title=\"hls\"src=\"data:image/png;base64,iVBORw0KGgoAAAANSUhEUgAAAZAAAAAyCAYAAAByHI2dAAABR0lEQVR4nO3VS27CMBRAUUO6xg678W6FTwdAYZJYurQwOWcSE/SiyHJ0d99fn+cxxhjLGL/X2/pj5f7avXfNLdfZMHfcXZbHcb8+rg8r9x/XW/8f3jw3e/f7ejfmG7e2yf81t3YwZs96cu60n29iPRh/PTd71pMHYzlv7+DWJ1tPxexZr55bxvn6a7b5r/7anzkYcW5/uiyvG7QfABAICACJgACQCAgAiYAAkAgIAImAAJAICACJgACQCAgAiYAAkAgIAImAAJAICACJgACQCAgAiYAAkAgIAImAAJAICACJgACQCAgAiYAAkAgIAImAAJAICACJgACQCAgAiYAAkAgIAImAAJAICACJgACQCAgAiYAAkAgIAImAAJAICACJgACQCAgAiYAAkAgIAImAAJAICACJgACQCAgAiYAAkAgIAImAAJD8AFdAhe/9nGluAAAAAElFTkSuQmCC\">"
      ],
      "text/plain": [
       "<matplotlib.colors.ListedColormap at 0x7f7a0f971720>"
      ]
     },
     "execution_count": 7,
     "metadata": {},
     "output_type": "execute_result"
    }
   ],
   "source": [
    "sns.hls_palette(as_cmap=True)"
   ]
  },
  {
   "cell_type": "code",
   "execution_count": null,
   "id": "3a83c1de-88c5-4327-abd2-19e8f3642052",
   "metadata": {},
   "outputs": [],
   "source": []
  }
 ],
 "metadata": {
  "kernelspec": {
   "display_name": "Python 3 (ipykernel)",
   "language": "python",
   "name": "python3"
  },
  "language_info": {
   "codemirror_mode": {
    "name": "ipython",
    "version": 3
   },
   "file_extension": ".py",
   "mimetype": "text/x-python",
   "name": "python",
   "nbconvert_exporter": "python",
   "pygments_lexer": "ipython3",
   "version": "3.10.6"
  }
 },
 "nbformat": 4,
 "nbformat_minor": 5
}
