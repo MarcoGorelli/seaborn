{
 "cells": [
  {
   "cell_type": "code",
   "execution_count": 1,
   "id": "a6794650-f28f-40eb-95a7-3f0e5c4b332d",
   "metadata": {
    "tags": [
     "hide"
    ]
   },
   "outputs": [],
   "source": [
    "import seaborn as sns\n",
    "sns.set_theme()\n",
    "sns.palettes._patch_colormap_display()"
   ]
  },
  {
   "cell_type": "raw",
   "id": "fab2f86e-45d4-4982-ade7-0a5ea6d762d1",
   "metadata": {},
   "source": [
    "By default, return 6 colors with identical lightness and saturation and evenly-sampled hues:"
   ]
  },
  {
   "cell_type": "code",
   "execution_count": 2,
   "id": "b220950e-0ca2-4101-b56a-14eebe8ee8d0",
   "metadata": {},
   "outputs": [
    {
     "data": {
      "text/html": [
       "<svg  width=\"330\" height=\"55\"><rect x=\"0\" y=\"0\" width=\"55\" height=\"55\" style=\"fill:#f77189;stroke-width:2;stroke:rgb(255,255,255)\"/><rect x=\"55\" y=\"0\" width=\"55\" height=\"55\" style=\"fill:#bb9832;stroke-width:2;stroke:rgb(255,255,255)\"/><rect x=\"110\" y=\"0\" width=\"55\" height=\"55\" style=\"fill:#50b131;stroke-width:2;stroke:rgb(255,255,255)\"/><rect x=\"165\" y=\"0\" width=\"55\" height=\"55\" style=\"fill:#36ada4;stroke-width:2;stroke:rgb(255,255,255)\"/><rect x=\"220\" y=\"0\" width=\"55\" height=\"55\" style=\"fill:#3ba3ec;stroke-width:2;stroke:rgb(255,255,255)\"/><rect x=\"275\" y=\"0\" width=\"55\" height=\"55\" style=\"fill:#e866f4;stroke-width:2;stroke:rgb(255,255,255)\"/></svg>"
      ],
      "text/plain": [
       "[(0.9677975592919913, 0.44127456009157356, 0.5358103155058701),\n",
       " (0.7350228985632719, 0.5952719904750953, 0.1944419133847522),\n",
       " (0.3126890019504329, 0.6928754610296064, 0.1923704830330379),\n",
       " (0.21044753832183283, 0.6773105080456748, 0.6433941168468681),\n",
       " (0.23299120924703914, 0.639586552066035, 0.9260706093977744),\n",
       " (0.9082572436765556, 0.40195790729656516, 0.9576909250290225)]"
      ]
     },
     "execution_count": 2,
     "metadata": {},
     "output_type": "execute_result"
    }
   ],
   "source": [
    "sns.husl_palette()"
   ]
  },
  {
   "cell_type": "raw",
   "id": "c5e4a2e3-e6b8-42bf-be19-348ff7ae2798",
   "metadata": {},
   "source": [
    "Increase the number of colors:"
   ]
  },
  {
   "cell_type": "code",
   "execution_count": 3,
   "id": "7d0af740-cfca-49fb-a472-1daa4ccb3f3a",
   "metadata": {},
   "outputs": [
    {
     "data": {
      "text/html": [
       "<svg  width=\"440\" height=\"55\"><rect x=\"0\" y=\"0\" width=\"55\" height=\"55\" style=\"fill:#f77189;stroke-width:2;stroke:rgb(255,255,255)\"/><rect x=\"55\" y=\"0\" width=\"55\" height=\"55\" style=\"fill:#ce9032;stroke-width:2;stroke:rgb(255,255,255)\"/><rect x=\"110\" y=\"0\" width=\"55\" height=\"55\" style=\"fill:#97a431;stroke-width:2;stroke:rgb(255,255,255)\"/><rect x=\"165\" y=\"0\" width=\"55\" height=\"55\" style=\"fill:#32b166;stroke-width:2;stroke:rgb(255,255,255)\"/><rect x=\"220\" y=\"0\" width=\"55\" height=\"55\" style=\"fill:#36ada4;stroke-width:2;stroke:rgb(255,255,255)\"/><rect x=\"275\" y=\"0\" width=\"55\" height=\"55\" style=\"fill:#39a7d0;stroke-width:2;stroke:rgb(255,255,255)\"/><rect x=\"330\" y=\"0\" width=\"55\" height=\"55\" style=\"fill:#a48cf4;stroke-width:2;stroke:rgb(255,255,255)\"/><rect x=\"385\" y=\"0\" width=\"55\" height=\"55\" style=\"fill:#f561dd;stroke-width:2;stroke:rgb(255,255,255)\"/></svg>"
      ],
      "text/plain": [
       "[(0.9677975592919913, 0.44127456009157356, 0.5358103155058701),\n",
       " (0.8087954113106306, 0.5634700050056693, 0.19502642696727285),\n",
       " (0.5920891529639701, 0.6418467016378244, 0.1935069134991043),\n",
       " (0.19783576093349015, 0.6955516966063037, 0.3995301037444499),\n",
       " (0.21044753832183283, 0.6773105080456748, 0.6433941168468681),\n",
       " (0.22335772267769388, 0.6565792317435265, 0.8171355503265633),\n",
       " (0.6423044349219739, 0.5497680051256467, 0.9582651433656727),\n",
       " (0.9603888539940703, 0.3814317878772117, 0.8683117650835491)]"
      ]
     },
     "execution_count": 3,
     "metadata": {},
     "output_type": "execute_result"
    }
   ],
   "source": [
    "sns.husl_palette(8)"
   ]
  },
  {
   "cell_type": "raw",
   "id": "1a7189f2-2a26-446a-90e7-cf41dcac4f25",
   "metadata": {},
   "source": [
    "Decrease the lightness:"
   ]
  },
  {
   "cell_type": "code",
   "execution_count": 4,
   "id": "43af79c7-f497-41e5-874a-83eed99500f3",
   "metadata": {},
   "outputs": [
    {
     "data": {
      "text/html": [
       "<svg  width=\"330\" height=\"55\"><rect x=\"0\" y=\"0\" width=\"55\" height=\"55\" style=\"fill:#b41c46;stroke-width:2;stroke:rgb(255,255,255)\"/><rect x=\"55\" y=\"0\" width=\"55\" height=\"55\" style=\"fill:#715b1a;stroke-width:2;stroke:rgb(255,255,255)\"/><rect x=\"110\" y=\"0\" width=\"55\" height=\"55\" style=\"fill:#2d6a1a;stroke-width:2;stroke:rgb(255,255,255)\"/><rect x=\"165\" y=\"0\" width=\"55\" height=\"55\" style=\"fill:#1d6862;stroke-width:2;stroke:rgb(255,255,255)\"/><rect x=\"220\" y=\"0\" width=\"55\" height=\"55\" style=\"fill:#206290;stroke-width:2;stroke:rgb(255,255,255)\"/><rect x=\"275\" y=\"0\" width=\"55\" height=\"55\" style=\"fill:#9c23a6;stroke-width:2;stroke:rgb(255,255,255)\"/></svg>"
      ],
      "text/plain": [
       "[(0.7068574918274737, 0.11027871818526241, 0.2747061222663145),\n",
       " (0.44359832760663015, 0.3553988979685888, 0.10242748858902176),\n",
       " (0.17705545280426335, 0.4169982861326329, 0.10112016988851782),\n",
       " (0.1125289398766243, 0.40717495121262287, 0.38576967807315987),\n",
       " (0.12675667510032929, 0.38336665224260497, 0.564172135389151),\n",
       " (0.6114384687170589, 0.13753415571759905, 0.6502354669913063)]"
      ]
     },
     "execution_count": 4,
     "metadata": {},
     "output_type": "execute_result"
    }
   ],
   "source": [
    "sns.husl_palette(l=.4)"
   ]
  },
  {
   "cell_type": "raw",
   "id": "6d4099b7-5115-4365-b120-33a345581f5d",
   "metadata": {},
   "source": [
    "Decrease the saturation:"
   ]
  },
  {
   "cell_type": "code",
   "execution_count": 5,
   "id": "52c1afc7-d982-4199-b218-222aa94563c5",
   "metadata": {},
   "outputs": [
    {
     "data": {
      "text/html": [
       "<svg  width=\"330\" height=\"55\"><rect x=\"0\" y=\"0\" width=\"55\" height=\"55\" style=\"fill:#cb8b94;stroke-width:2;stroke:rgb(255,255,255)\"/><rect x=\"55\" y=\"0\" width=\"55\" height=\"55\" style=\"fill:#ac9a78;stroke-width:2;stroke:rgb(255,255,255)\"/><rect x=\"110\" y=\"0\" width=\"55\" height=\"55\" style=\"fill:#7ea677;stroke-width:2;stroke:rgb(255,255,255)\"/><rect x=\"165\" y=\"0\" width=\"55\" height=\"55\" style=\"fill:#7ca4a0;stroke-width:2;stroke:rgb(255,255,255)\"/><rect x=\"220\" y=\"0\" width=\"55\" height=\"55\" style=\"fill:#819fc1;stroke-width:2;stroke:rgb(255,255,255)\"/><rect x=\"275\" y=\"0\" width=\"55\" height=\"55\" style=\"fill:#be8bc4;stroke-width:2;stroke:rgb(255,255,255)\"/></svg>"
      ],
      "text/plain": [
       "[(0.7973774215435722, 0.5437247724897194, 0.5792120727646433),\n",
       " (0.6745106399346137, 0.6038862582260649, 0.47068885861899207),\n",
       " (0.4954406045983249, 0.6526830324326673, 0.46857428049966526),\n",
       " (0.4859798659523616, 0.6418250670095154, 0.6259446925861523),\n",
       " (0.5047731287519484, 0.6229130595802063, 0.7566756173582012),\n",
       " (0.7440150453033102, 0.5433228014843097, 0.7689691084933888)]"
      ]
     },
     "execution_count": 5,
     "metadata": {},
     "output_type": "execute_result"
    }
   ],
   "source": [
    "sns.husl_palette(s=.4)"
   ]
  },
  {
   "cell_type": "raw",
   "id": "d26131ac-0d11-48c5-88b1-4e5cf9383000",
   "metadata": {},
   "source": [
    "Change the start-point for hue sampling:"
   ]
  },
  {
   "cell_type": "code",
   "execution_count": 6,
   "id": "d72f06a0-13e0-47f7-bc70-4c5935eaa130",
   "metadata": {},
   "outputs": [
    {
     "data": {
      "text/html": [
       "<svg  width=\"330\" height=\"55\"><rect x=\"0\" y=\"0\" width=\"55\" height=\"55\" style=\"fill:#35ada1;stroke-width:2;stroke:rgb(255,255,255)\"/><rect x=\"55\" y=\"0\" width=\"55\" height=\"55\" style=\"fill:#3ba4e4;stroke-width:2;stroke:rgb(255,255,255)\"/><rect x=\"110\" y=\"0\" width=\"55\" height=\"55\" style=\"fill:#df6df4;stroke-width:2;stroke:rgb(255,255,255)\"/><rect x=\"165\" y=\"0\" width=\"55\" height=\"55\" style=\"fill:#f77090;stroke-width:2;stroke:rgb(255,255,255)\"/><rect x=\"220\" y=\"0\" width=\"55\" height=\"55\" style=\"fill:#c09632;stroke-width:2;stroke:rgb(255,255,255)\"/><rect x=\"275\" y=\"0\" width=\"55\" height=\"55\" style=\"fill:#5faf31;stroke-width:2;stroke:rgb(255,255,255)\"/></svg>"
      ],
      "text/plain": [
       "[(0.20964485513246672, 0.6785281560863641, 0.6309437466865638),\n",
       " (0.22998724882099564, 0.6450347825317236, 0.8934312158972127),\n",
       " (0.8746816678040925, 0.4285053295647366, 0.9577778309603971),\n",
       " (0.9673068486894055, 0.43760373463479557, 0.5661632485543318),\n",
       " (0.7517894910942996, 0.588577607886789, 0.1945685323918893),\n",
       " (0.3729582681530643, 0.6854123694904417, 0.1925442000975004)]"
      ]
     },
     "execution_count": 6,
     "metadata": {},
     "output_type": "execute_result"
    }
   ],
   "source": [
    "sns.husl_palette(h=.5)"
   ]
  },
  {
   "cell_type": "raw",
   "id": "7e6c3c19-41d3-4315-b03e-909d201d0e76",
   "metadata": {},
   "source": [
    "Return a continuous colormap:"
   ]
  },
  {
   "cell_type": "code",
   "execution_count": 7,
   "id": "49c18838-0589-496f-9a61-635195c07f61",
   "metadata": {},
   "outputs": [
    {
     "data": {
      "image/png": "[encoded data removed]",
      "text/html": [
       "<img alt=\"hsl color map\" title=\"hsl\"src=\"data:image/png;base64,iVBORw0KGgoAAAANSUhEUgAAAZAAAAAyCAYAAAByHI2dAAACR0lEQVR4nO3VW3KjShAE0Gxhe16bvcuYDc/LFuJ+0EBLw0TY9X1OhIJ0NQIhZLL9/O/7kiTJvG7anOSabdbalq/Jnt+Obdvya9Jee/6T5Hc/3s+k/VqPcOlHnZJ5y5clc9tyctvm7T4nya2tr4/kbdsv8q/1cX66b8/L8L5l3H9cz/uPcTtZf2/e3j9+L/3uZX7Iyfr3lq/tuLvXlrz1+VuO/Nq3v9v6SpIfSV7bS7+Qr0m+9KN8SrLO2/LcZ89Jnnp+SpYtT2mZ9pw99xu9TEfO5S63fZ9xvZ3s2+7zMs6T9rh+d4ztBj/OH/c9csul73+2z+PnHNaXS+4/08n5lrNjPOakLeM1jdfxnu/w+O7b3X047lNbel6Oezr12bcl+dJ/7J+X5FPPL7fkpefnYTvmp56fhvm0zW7H+rQ85NuRp5P37bN35n12G44xzudh3vM+m5PpuuWlPz+zPivb+Ezt27vZmlubk7b9h4/7jLOP5Nt+jpZ/rG/nWJ8kJ+c7W5+zP/v7+vZLAoAPUSAAlCgQAEoUCAAlCgSAEgUCQIkCAaBEgQBQokAAKFEgAJQoEABKFAgAJQoEgBIFAkCJAgGgRIEAUKJAAChRIACUKBAAShQIACUKBIASBQJAiQIBoESBAFCiQAAoUSAAlCgQAEoUCAAlCgSAEgUCQIkCAaBEgQBQokAAKFEgAJQoEABKFAgAJQoEgBIFAkCJAgGgRIEAUKJAAChRIACUKBAAShQIACUKBIASBQJAiQIBoESBAFCiQAAo+R/aZcJUv8KDSwAAAABJRU5ErkJggg==\">"
      ],
      "text/plain": [
       "<matplotlib.colors.ListedColormap at 0x7f47b1f2d870>"
      ]
     },
     "execution_count": 7,
     "metadata": {},
     "output_type": "execute_result"
    }
   ],
   "source": [
    "sns.husl_palette(as_cmap=True)"
   ]
  },
  {
   "cell_type": "code",
   "execution_count": null,
   "id": "c710a557-8e84-44cb-ab4c-baabcc4fd328",
   "metadata": {},
   "outputs": [],
   "source": []
  }
 ],
 "metadata": {
  "kernelspec": {
   "display_name": "Python 3 (ipykernel)",
   "language": "python",
   "name": "python3"
  },
  "language_info": {
   "codemirror_mode": {
    "name": "ipython",
    "version": 3
   },
   "file_extension": ".py",
   "mimetype": "text/x-python",
   "name": "python",
   "nbconvert_exporter": "python",
   "pygments_lexer": "ipython3",
   "version": "3.10.6"
  }
 },
 "nbformat": 4,
 "nbformat_minor": 5
}
