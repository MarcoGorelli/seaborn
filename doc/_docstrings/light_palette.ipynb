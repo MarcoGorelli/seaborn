{
 "cells": [
  {
   "cell_type": "code",
   "execution_count": 1,
   "id": "5cd1cbb8-ba1a-460b-8e3a-bc285867f1d1",
   "metadata": {
    "execution": {
     "iopub.execute_input": "2023-05-21T17:51:27.951868Z",
     "iopub.status.busy": "2023-05-21T17:51:27.951359Z",
     "iopub.status.idle": "2023-05-21T17:51:28.594278Z",
     "shell.execute_reply": "2023-05-21T17:51:28.593503Z"
    },
    "tags": [
     "hide"
    ]
   },
   "outputs": [],
   "source": [
    "import seaborn as sns\n",
    "sns.set_theme()\n",
    "sns.palettes._patch_colormap_display()"
   ]
  },
  {
   "cell_type": "raw",
   "id": "b157eb25-015f-4dd6-9785-83ba19cf4f94",
   "metadata": {},
   "source": [
    "Define a sequential ramp from a light gray to a specified color:"
   ]
  },
  {
   "cell_type": "code",
   "execution_count": 2,
   "id": "851a4742-6276-4383-b17e-480beb896877",
   "metadata": {
    "execution": {
     "iopub.execute_input": "2023-05-21T17:51:28.596888Z",
     "iopub.status.busy": "2023-05-21T17:51:28.596632Z",
     "iopub.status.idle": "2023-05-21T17:51:28.603637Z",
     "shell.execute_reply": "2023-05-21T17:51:28.603148Z"
    }
   },
   "outputs": [
    {
     "data": {
      "text/html": [
       "<svg  width=\"330\" height=\"55\"><rect x=\"0\" y=\"0\" width=\"55\" height=\"55\" style=\"fill:#ebf3ed;stroke-width:2;stroke:rgb(255,255,255)\"/><rect x=\"55\" y=\"0\" width=\"55\" height=\"55\" style=\"fill:#c5decf;stroke-width:2;stroke:rgb(255,255,255)\"/><rect x=\"110\" y=\"0\" width=\"55\" height=\"55\" style=\"fill:#9fc9b1;stroke-width:2;stroke:rgb(255,255,255)\"/><rect x=\"165\" y=\"0\" width=\"55\" height=\"55\" style=\"fill:#7ab493;stroke-width:2;stroke:rgb(255,255,255)\"/><rect x=\"220\" y=\"0\" width=\"55\" height=\"55\" style=\"fill:#54a075;stroke-width:2;stroke:rgb(255,255,255)\"/><rect x=\"275\" y=\"0\" width=\"55\" height=\"55\" style=\"fill:#2e8b57;stroke-width:2;stroke:rgb(255,255,255)\"/></svg>"
      ],
      "text/plain": [
       "[(0.921460863132993, 0.9512120106378944, 0.9302557793948234),\n",
       " (0.7732471218789434, 0.8699892163534527, 0.8124399176335058),\n",
       " (0.6250333806248938, 0.7887664220690112, 0.6946240558721881),\n",
       " (0.4768196393708443, 0.7075436277845695, 0.5768081941108705),\n",
       " (0.32860589811679464, 0.6263208335001278, 0.4589923323495529),\n",
       " (0.1803921568627451, 0.5450980392156862, 0.3411764705882353)]"
      ]
     },
     "execution_count": 2,
     "metadata": {},
     "output_type": "execute_result"
    }
   ],
   "source": [
    "sns.light_palette(\"seagreen\")"
   ]
  },
  {
   "cell_type": "raw",
   "id": "50053b26-112a-4378-8ef0-9be0fb565ec7",
   "metadata": {},
   "source": [
    "Specify the color with a hex code:"
   ]
  },
  {
   "cell_type": "code",
   "execution_count": 3,
   "id": "74ae0d17-f65b-4bcf-ae66-d97d46964d5c",
   "metadata": {
    "execution": {
     "iopub.execute_input": "2023-05-21T17:51:28.605538Z",
     "iopub.status.busy": "2023-05-21T17:51:28.605300Z",
     "iopub.status.idle": "2023-05-21T17:51:28.609994Z",
     "shell.execute_reply": "2023-05-21T17:51:28.609518Z"
    }
   },
   "outputs": [
    {
     "data": {
      "text/html": [
       "<svg  width=\"330\" height=\"55\"><rect x=\"0\" y=\"0\" width=\"55\" height=\"55\" style=\"fill:#f0f1f2;stroke-width:2;stroke:rgb(255,255,255)\"/><rect x=\"55\" y=\"0\" width=\"55\" height=\"55\" style=\"fill:#d8dfea;stroke-width:2;stroke:rgb(255,255,255)\"/><rect x=\"110\" y=\"0\" width=\"55\" height=\"55\" style=\"fill:#c0cee3;stroke-width:2;stroke:rgb(255,255,255)\"/><rect x=\"165\" y=\"0\" width=\"55\" height=\"55\" style=\"fill:#a7bcdb;stroke-width:2;stroke:rgb(255,255,255)\"/><rect x=\"220\" y=\"0\" width=\"55\" height=\"55\" style=\"fill:#8fabd4;stroke-width:2;stroke:rgb(255,255,255)\"/><rect x=\"275\" y=\"0\" width=\"55\" height=\"55\" style=\"fill:#7799cc;stroke-width:2;stroke:rgb(255,255,255)\"/></svg>"
      ],
      "text/plain": [
       "[(0.9416189672416196, 0.943616042212052, 0.9476594498033685),\n",
       " (0.8466285071266291, 0.8748928337696416, 0.9181275598426948),\n",
       " (0.7516380470116384, 0.8061696253272311, 0.8885956698820211),\n",
       " (0.6566475868966479, 0.7374464168848208, 0.8590637799213474),\n",
       " (0.5616571267816572, 0.6687232084424104, 0.8295318899606737),\n",
       " (0.4666666666666667, 0.6, 0.8)]"
      ]
     },
     "execution_count": 3,
     "metadata": {},
     "output_type": "execute_result"
    }
   ],
   "source": [
    "sns.light_palette(\"#79C\")"
   ]
  },
  {
   "cell_type": "raw",
   "id": "eea376a2-fdf5-40e4-a187-3a28af529072",
   "metadata": {},
   "source": [
    "Specify the color from the husl system:"
   ]
  },
  {
   "cell_type": "code",
   "execution_count": 4,
   "id": "66e451ee-869a-41ea-8dc5-4240b11e7be5",
   "metadata": {
    "execution": {
     "iopub.execute_input": "2023-05-21T17:51:28.611902Z",
     "iopub.status.busy": "2023-05-21T17:51:28.611672Z",
     "iopub.status.idle": "2023-05-21T17:51:28.617042Z",
     "shell.execute_reply": "2023-05-21T17:51:28.616548Z"
    }
   },
   "outputs": [
    {
     "data": {
      "text/html": [
       "<svg  width=\"330\" height=\"55\"><rect x=\"0\" y=\"0\" width=\"55\" height=\"55\" style=\"fill:#f2f0f0;stroke-width:2;stroke:rgb(255,255,255)\"/><rect x=\"55\" y=\"0\" width=\"55\" height=\"55\" style=\"fill:#e6d3cf;stroke-width:2;stroke:rgb(255,255,255)\"/><rect x=\"110\" y=\"0\" width=\"55\" height=\"55\" style=\"fill:#dbb5ae;stroke-width:2;stroke:rgb(255,255,255)\"/><rect x=\"165\" y=\"0\" width=\"55\" height=\"55\" style=\"fill:#cf988c;stroke-width:2;stroke:rgb(255,255,255)\"/><rect x=\"220\" y=\"0\" width=\"55\" height=\"55\" style=\"fill:#c37a6b;stroke-width:2;stroke:rgb(255,255,255)\"/><rect x=\"275\" y=\"0\" width=\"55\" height=\"55\" style=\"fill:#b85d4a;stroke-width:2;stroke:rgb(255,255,255)\"/></svg>"
      ],
      "text/plain": [
       "[(0.9487733782241364, 0.9421294677466974, 0.9412646607053444),\n",
       " (0.9030580329297458, 0.8264309530666203, 0.8108814804033319),\n",
       " (0.8573426876353551, 0.7107324383865432, 0.6804983001013193),\n",
       " (0.8116273423409646, 0.5950339237064661, 0.5501151197993067),\n",
       " (0.7659119970465739, 0.47933540902638894, 0.41973193949729415),\n",
       " (0.7201966517521833, 0.36363689434631186, 0.2893487591952815)]"
      ]
     },
     "execution_count": 4,
     "metadata": {},
     "output_type": "execute_result"
    }
   ],
   "source": [
    "sns.light_palette((20, 60, 50), input=\"husl\")"
   ]
  },
  {
   "cell_type": "raw",
   "id": "e4f44dcd-cf49-4920-ac05-b4db67870363",
   "metadata": {},
   "source": [
    "Increase the number of colors:"
   ]
  },
  {
   "cell_type": "code",
   "execution_count": 5,
   "id": "75985f07-de92-4d8b-89d5-caf445b9375e",
   "metadata": {
    "execution": {
     "iopub.execute_input": "2023-05-21T17:51:28.619018Z",
     "iopub.status.busy": "2023-05-21T17:51:28.618691Z",
     "iopub.status.idle": "2023-05-21T17:51:28.623307Z",
     "shell.execute_reply": "2023-05-21T17:51:28.622835Z"
    }
   },
   "outputs": [
    {
     "data": {
      "text/html": [
       "<svg  width=\"440\" height=\"55\"><rect x=\"0\" y=\"0\" width=\"55\" height=\"55\" style=\"fill:#f3f0ef;stroke-width:2;stroke:rgb(255,255,255)\"/><rect x=\"55\" y=\"0\" width=\"55\" height=\"55\" style=\"fill:#eadcd3;stroke-width:2;stroke:rgb(255,255,255)\"/><rect x=\"110\" y=\"0\" width=\"55\" height=\"55\" style=\"fill:#e1c8b5;stroke-width:2;stroke:rgb(255,255,255)\"/><rect x=\"165\" y=\"0\" width=\"55\" height=\"55\" style=\"fill:#d9b499;stroke-width:2;stroke:rgb(255,255,255)\"/><rect x=\"220\" y=\"0\" width=\"55\" height=\"55\" style=\"fill:#d09f7b;stroke-width:2;stroke:rgb(255,255,255)\"/><rect x=\"275\" y=\"0\" width=\"55\" height=\"55\" style=\"fill:#c78b5f;stroke-width:2;stroke:rgb(255,255,255)\"/><rect x=\"330\" y=\"0\" width=\"55\" height=\"55\" style=\"fill:#bf7742;stroke-width:2;stroke:rgb(255,255,255)\"/><rect x=\"385\" y=\"0\" width=\"55\" height=\"55\" style=\"fill:#b66325;stroke-width:2;stroke:rgb(255,255,255)\"/></svg>"
      ],
      "text/plain": [
       "[(0.9513480293336397, 0.9416368870623428, 0.9384679469414335),\n",
       " (0.917801317925984, 0.8635096033525034, 0.8264627834977987),\n",
       " (0.8833227534236712, 0.7832121173173907, 0.7113463655140628),\n",
       " (0.8497760420160155, 0.7050848336075513, 0.5993412020704278),\n",
       " (0.8152974775137027, 0.6247873475724386, 0.484224784086692),\n",
       " (0.781750766106047, 0.5466600638625991, 0.372219620643057),\n",
       " (0.7472722016037342, 0.46636257782748647, 0.2571032026593213),\n",
       " (0.7137254901960784, 0.38823529411764707, 0.1450980392156863)]"
      ]
     },
     "execution_count": 5,
     "metadata": {},
     "output_type": "execute_result"
    }
   ],
   "source": [
    "sns.light_palette(\"xkcd:copper\", 8)"
   ]
  },
  {
   "cell_type": "raw",
   "id": "34687ae8-fd6d-427a-a639-208f19e61122",
   "metadata": {},
   "source": [
    "Return a continuous colormap rather than a discrete palette:"
   ]
  },
  {
   "cell_type": "code",
   "execution_count": 6,
   "id": "2c342db4-7f97-40f5-934e-9a82201890d1",
   "metadata": {
    "execution": {
     "iopub.execute_input": "2023-05-21T17:51:28.625187Z",
     "iopub.status.busy": "2023-05-21T17:51:28.624929Z",
     "iopub.status.idle": "2023-05-21T17:51:28.632353Z",
     "shell.execute_reply": "2023-05-21T17:51:28.631850Z"
    }
   },
   "outputs": [
    {
     "data": {
      "image/png": "[encoded data removed]",
      "text/html": [
       "<img alt=\"blend color map\" title=\"blend\"src=\"data:image/png;base64,iVBORw0KGgoAAAANSUhEUgAAAZAAAAAyCAYAAAByHI2dAAABiklEQVR4nO3VQUKDMBRF0ej+F2tXECe0kMAn5Y3PmagB5Deg9+f19+qttdZ72/TW+ue744Hjt59zh7Verff58OHQ8YfjOeP69luna6uZxwvnWYaPcXvuds/FzPt91+t93oQ+j3A9x+X6o5mHE9Yzl3O3cQ8X+1K9I8NT+GavTrONF673sJ8uq2ee1j/3uNjXcuZ9IZ/5/WV+78+zVZ/n/lk+e75P9nCeeb+8ejfH9dt9nf+f3N33m5m3Y/VePfl72tfX70I182H9bu7l863W65nP11/P8fZ7XgKANQEBICIgAEQEBICIgAAQERAAIgICQERAAIgICAARAQEgIiAARAQEgIiAABAREAAiAgJAREAAiAgIABEBASAiIABEBASAiIAAEBEQACICAkBEQACICAgAEQEBICIgAEQEBICIgAAQERAAIgICQERAAIgICAARAQEgIiAARAQEgIiAABAREAAiAgJAREAAiAgIABEBASAiIABEBASAiIAAEBEQACICAkBEQACICAgAkX/f/RI1LnDg3AAAAABJRU5ErkJggg==\">"
      ],
      "text/plain": [
       "<matplotlib.colors.LinearSegmentedColormap at 0x7f5b38591030>"
      ]
     },
     "execution_count": 6,
     "metadata": {},
     "output_type": "execute_result"
    }
   ],
   "source": [
    "sns.light_palette(\"#a275ac\", as_cmap=True)"
   ]
  },
  {
   "cell_type": "code",
   "execution_count": null,
   "id": "e7ebe64b-25fa-4c52-9ebe-fdcbba0ee51e",
   "metadata": {},
   "outputs": [],
   "source": []
  }
 ],
 "metadata": {
  "kernelspec": {
   "display_name": "py310",
   "language": "python",
   "name": "py310"
  },
  "language_info": {
   "codemirror_mode": {
    "name": "ipython",
    "version": 3
   },
   "file_extension": ".py",
   "mimetype": "text/x-python",
   "name": "python",
   "nbconvert_exporter": "python",
   "pygments_lexer": "ipython3",
   "version": "3.10.6"
  }
 },
 "nbformat": 4,
 "nbformat_minor": 5
}
