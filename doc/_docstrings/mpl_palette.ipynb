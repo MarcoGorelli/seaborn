{
 "cells": [
  {
   "cell_type": "code",
   "execution_count": 1,
   "id": "1d0d41d3-463c-4c6f-aa65-38131bdf3ddb",
   "metadata": {
    "execution": {
     "iopub.execute_input": "2023-05-21T17:51:49.095306Z",
     "iopub.status.busy": "2023-05-21T17:51:49.094852Z",
     "iopub.status.idle": "2023-05-21T17:51:49.745454Z",
     "shell.execute_reply": "2023-05-21T17:51:49.744573Z"
    },
    "tags": [
     "hide"
    ]
   },
   "outputs": [],
   "source": [
    "import seaborn as sns\n",
    "sns.set_theme()\n",
    "sns.palettes._patch_colormap_display()"
   ]
  },
  {
   "cell_type": "markdown",
   "id": "d2a0ae1e-a01e-49b3-a677-2b05a195990a",
   "metadata": {},
   "source": [
    "Return discrete samples from a continuous matplotlib colormap:"
   ]
  },
  {
   "cell_type": "code",
   "execution_count": 2,
   "id": "2b6a4ce9-6e4e-4b59-ada8-14ef8aef21d7",
   "metadata": {
    "execution": {
     "iopub.execute_input": "2023-05-21T17:51:49.748183Z",
     "iopub.status.busy": "2023-05-21T17:51:49.747884Z",
     "iopub.status.idle": "2023-05-21T17:51:49.754250Z",
     "shell.execute_reply": "2023-05-21T17:51:49.753660Z"
    }
   },
   "outputs": [
    {
     "data": {
      "text/html": [
       "<svg  width=\"330\" height=\"55\"><rect x=\"0\" y=\"0\" width=\"55\" height=\"55\" style=\"fill:#46327e;stroke-width:2;stroke:rgb(255,255,255)\"/><rect x=\"55\" y=\"0\" width=\"55\" height=\"55\" style=\"fill:#365c8d;stroke-width:2;stroke:rgb(255,255,255)\"/><rect x=\"110\" y=\"0\" width=\"55\" height=\"55\" style=\"fill:#277f8e;stroke-width:2;stroke:rgb(255,255,255)\"/><rect x=\"165\" y=\"0\" width=\"55\" height=\"55\" style=\"fill:#1fa187;stroke-width:2;stroke:rgb(255,255,255)\"/><rect x=\"220\" y=\"0\" width=\"55\" height=\"55\" style=\"fill:#4ac16d;stroke-width:2;stroke:rgb(255,255,255)\"/><rect x=\"275\" y=\"0\" width=\"55\" height=\"55\" style=\"fill:#a0da39;stroke-width:2;stroke:rgb(255,255,255)\"/></svg>"
      ],
      "text/plain": [
       "[(0.275191, 0.194905, 0.496005),\n",
       " (0.212395, 0.359683, 0.55171),\n",
       " (0.153364, 0.497, 0.557724),\n",
       " (0.122312, 0.633153, 0.530398),\n",
       " (0.288921, 0.758394, 0.428426),\n",
       " (0.626579, 0.854645, 0.223353)]"
      ]
     },
     "execution_count": 2,
     "metadata": {},
     "output_type": "execute_result"
    }
   ],
   "source": [
    "sns.mpl_palette(\"viridis\")"
   ]
  },
  {
   "cell_type": "raw",
   "id": "0ccc47b1-c969-46e2-93bb-b9eb5a2e2141",
   "metadata": {},
   "source": [
    "Return the continuous colormap instead; note how the extreme values are more intense:"
   ]
  },
  {
   "cell_type": "code",
   "execution_count": 3,
   "id": "a8a1bc5d-1d62-45c6-a53b-9fadb58f11c0",
   "metadata": {
    "execution": {
     "iopub.execute_input": "2023-05-21T17:51:49.756849Z",
     "iopub.status.busy": "2023-05-21T17:51:49.756095Z",
     "iopub.status.idle": "2023-05-21T17:51:49.763598Z",
     "shell.execute_reply": "2023-05-21T17:51:49.763095Z"
    }
   },
   "outputs": [
    {
     "data": {
      "image/png": "[encoded data removed]",
      "text/html": [
       "<img alt=\"viridis color map\" title=\"viridis\"src=\"data:image/png;base64,iVBORw0KGgoAAAANSUhEUgAAAZAAAAAyCAYAAAByHI2dAAACCElEQVR4nO3VQXbbMAwFQIC8Wo/Q+x9F6sKyCEVykmI9swkfCIJ8ceKff/LvHhERmfH6OSLHWsexzsyIMeLSO8arHvHqy1HWH2a8z9dZlxl5q+/jXnvNeOjNjDhG1979vONrPdbd7/MZ9/0yt/acczMus/bHGfF8bkSZ8TDvsn6/s876tP5pVnx426fefO59OPfT22531/O/fNt17v6rOyIj9vh+xsdz53q/1NeML/Uo/V967zOu/4Z1Py/r0ht1f53Px/Ve/uxL7Zgxcr/UR+kdpX72lnPjcm71jLife9ofuV3q9/09Rm4RETG/qUdEjFi1kXvM2Ervq2fGum++e2N/XucWs7yzrm+zYisztvNN6w3r/MwtRmzn+pxbZlzvXbVR9mf5XawZ7ztqLWKWr8B5fH4z8/y6nMenOjLXOkbMXOtx1OfxXf8+CwD/RYAA0CJAAGgRIAC0CBAAWgQIAC0CBIAWAQJAiwABoEWAANAiQABoESAAtAgQAFoECAAtAgSAFgECQIsAAaBFgADQIkAAaBEgALQIEABaBAgALQIEgBYBAkCLAAGgRYAA0CJAAGgRIAC0CBAAWgQIAC0CBIAWAQJAiwABoEWAANAiQABoESAAtAgQAFoECAAtAgSAFgECQIsAAaBFgADQIkAAaBEgALQIEABaBAgALQIEgBYBAkCLAAGg5R9DQIlr2oxHRwAAAABJRU5ErkJggg==\">"
      ],
      "text/plain": [
       "<matplotlib.colors.ListedColormap at 0x7f4e6ee61090>"
      ]
     },
     "execution_count": 3,
     "metadata": {},
     "output_type": "execute_result"
    }
   ],
   "source": [
    "sns.mpl_palette(\"viridis\", as_cmap=True)"
   ]
  },
  {
   "cell_type": "raw",
   "id": "ff0d1a3b-8641-40c0-bb4b-c22b83ec9432",
   "metadata": {},
   "source": [
    "Return more colors:"
   ]
  },
  {
   "cell_type": "code",
   "execution_count": 4,
   "id": "8faef1d8-a1eb-4060-be10-377342c9bd1d",
   "metadata": {
    "execution": {
     "iopub.execute_input": "2023-05-21T17:51:49.765397Z",
     "iopub.status.busy": "2023-05-21T17:51:49.765210Z",
     "iopub.status.idle": "2023-05-21T17:51:49.769813Z",
     "shell.execute_reply": "2023-05-21T17:51:49.769329Z"
    }
   },
   "outputs": [
    {
     "data": {
      "text/html": [
       "<svg  width=\"440\" height=\"55\"><rect x=\"0\" y=\"0\" width=\"55\" height=\"55\" style=\"fill:#482878;stroke-width:2;stroke:rgb(255,255,255)\"/><rect x=\"55\" y=\"0\" width=\"55\" height=\"55\" style=\"fill:#3e4989;stroke-width:2;stroke:rgb(255,255,255)\"/><rect x=\"110\" y=\"0\" width=\"55\" height=\"55\" style=\"fill:#31688e;stroke-width:2;stroke:rgb(255,255,255)\"/><rect x=\"165\" y=\"0\" width=\"55\" height=\"55\" style=\"fill:#26828e;stroke-width:2;stroke:rgb(255,255,255)\"/><rect x=\"220\" y=\"0\" width=\"55\" height=\"55\" style=\"fill:#1f9e89;stroke-width:2;stroke:rgb(255,255,255)\"/><rect x=\"275\" y=\"0\" width=\"55\" height=\"55\" style=\"fill:#35b779;stroke-width:2;stroke:rgb(255,255,255)\"/><rect x=\"330\" y=\"0\" width=\"55\" height=\"55\" style=\"fill:#6ece58;stroke-width:2;stroke:rgb(255,255,255)\"/><rect x=\"385\" y=\"0\" width=\"55\" height=\"55\" style=\"fill:#b5de2b;stroke-width:2;stroke:rgb(255,255,255)\"/></svg>"
      ],
      "text/plain": [
       "[(0.281412, 0.155834, 0.469201),\n",
       " (0.244972, 0.287675, 0.53726),\n",
       " (0.190631, 0.407061, 0.556089),\n",
       " (0.147607, 0.511733, 0.557049),\n",
       " (0.119699, 0.61849, 0.536347),\n",
       " (0.20803, 0.718701, 0.472873),\n",
       " (0.430983, 0.808473, 0.346476),\n",
       " (0.709898, 0.868751, 0.169257)]"
      ]
     },
     "execution_count": 4,
     "metadata": {},
     "output_type": "execute_result"
    }
   ],
   "source": [
    "sns.mpl_palette(\"viridis\", 8)"
   ]
  },
  {
   "cell_type": "raw",
   "id": "612bf052-e888-411d-a2ea-6a742a78bc63",
   "metadata": {},
   "source": [
    "Return values from a qualitative colormap:"
   ]
  },
  {
   "cell_type": "code",
   "execution_count": 5,
   "id": "74db95a8-4898-4f6c-a57d-c751af1dc7bf",
   "metadata": {
    "execution": {
     "iopub.execute_input": "2023-05-21T17:51:49.771760Z",
     "iopub.status.busy": "2023-05-21T17:51:49.771501Z",
     "iopub.status.idle": "2023-05-21T17:51:49.775311Z",
     "shell.execute_reply": "2023-05-21T17:51:49.774844Z"
    }
   },
   "outputs": [
    {
     "data": {
      "text/html": [
       "<svg  width=\"330\" height=\"55\"><rect x=\"0\" y=\"0\" width=\"55\" height=\"55\" style=\"fill:#66c2a5;stroke-width:2;stroke:rgb(255,255,255)\"/><rect x=\"55\" y=\"0\" width=\"55\" height=\"55\" style=\"fill:#fc8d62;stroke-width:2;stroke:rgb(255,255,255)\"/><rect x=\"110\" y=\"0\" width=\"55\" height=\"55\" style=\"fill:#8da0cb;stroke-width:2;stroke:rgb(255,255,255)\"/><rect x=\"165\" y=\"0\" width=\"55\" height=\"55\" style=\"fill:#e78ac3;stroke-width:2;stroke:rgb(255,255,255)\"/><rect x=\"220\" y=\"0\" width=\"55\" height=\"55\" style=\"fill:#a6d854;stroke-width:2;stroke:rgb(255,255,255)\"/><rect x=\"275\" y=\"0\" width=\"55\" height=\"55\" style=\"fill:#ffd92f;stroke-width:2;stroke:rgb(255,255,255)\"/></svg>"
      ],
      "text/plain": [
       "[(0.4, 0.7607843137254902, 0.6470588235294118),\n",
       " (0.9882352941176471, 0.5529411764705883, 0.3843137254901961),\n",
       " (0.5529411764705883, 0.6274509803921569, 0.796078431372549),\n",
       " (0.9058823529411765, 0.5411764705882353, 0.7647058823529411),\n",
       " (0.6509803921568628, 0.8470588235294118, 0.32941176470588235),\n",
       " (1.0, 0.8509803921568627, 0.1843137254901961)]"
      ]
     },
     "execution_count": 5,
     "metadata": {},
     "output_type": "execute_result"
    }
   ],
   "source": [
    "sns.mpl_palette(\"Set2\")"
   ]
  },
  {
   "cell_type": "raw",
   "id": "918494bf-1b8e-4b00-8950-1bd73032dee1",
   "metadata": {},
   "source": [
    "Notice how the palette will only contain distinct colors and can be shorter than requested:"
   ]
  },
  {
   "cell_type": "code",
   "execution_count": 6,
   "id": "d97efa25-9050-4e28-b758-da6f43c9f963",
   "metadata": {
    "execution": {
     "iopub.execute_input": "2023-05-21T17:51:49.777220Z",
     "iopub.status.busy": "2023-05-21T17:51:49.776897Z",
     "iopub.status.idle": "2023-05-21T17:51:49.780832Z",
     "shell.execute_reply": "2023-05-21T17:51:49.780344Z"
    }
   },
   "outputs": [
    {
     "data": {
      "text/html": [
       "<svg  width=\"440\" height=\"55\"><rect x=\"0\" y=\"0\" width=\"55\" height=\"55\" style=\"fill:#66c2a5;stroke-width:2;stroke:rgb(255,255,255)\"/><rect x=\"55\" y=\"0\" width=\"55\" height=\"55\" style=\"fill:#fc8d62;stroke-width:2;stroke:rgb(255,255,255)\"/><rect x=\"110\" y=\"0\" width=\"55\" height=\"55\" style=\"fill:#8da0cb;stroke-width:2;stroke:rgb(255,255,255)\"/><rect x=\"165\" y=\"0\" width=\"55\" height=\"55\" style=\"fill:#e78ac3;stroke-width:2;stroke:rgb(255,255,255)\"/><rect x=\"220\" y=\"0\" width=\"55\" height=\"55\" style=\"fill:#a6d854;stroke-width:2;stroke:rgb(255,255,255)\"/><rect x=\"275\" y=\"0\" width=\"55\" height=\"55\" style=\"fill:#ffd92f;stroke-width:2;stroke:rgb(255,255,255)\"/><rect x=\"330\" y=\"0\" width=\"55\" height=\"55\" style=\"fill:#e5c494;stroke-width:2;stroke:rgb(255,255,255)\"/><rect x=\"385\" y=\"0\" width=\"55\" height=\"55\" style=\"fill:#b3b3b3;stroke-width:2;stroke:rgb(255,255,255)\"/></svg>"
      ],
      "text/plain": [
       "[(0.4, 0.7607843137254902, 0.6470588235294118),\n",
       " (0.9882352941176471, 0.5529411764705883, 0.3843137254901961),\n",
       " (0.5529411764705883, 0.6274509803921569, 0.796078431372549),\n",
       " (0.9058823529411765, 0.5411764705882353, 0.7647058823529411),\n",
       " (0.6509803921568628, 0.8470588235294118, 0.32941176470588235),\n",
       " (1.0, 0.8509803921568627, 0.1843137254901961),\n",
       " (0.8980392156862745, 0.7686274509803922, 0.5803921568627451),\n",
       " (0.7019607843137254, 0.7019607843137254, 0.7019607843137254)]"
      ]
     },
     "execution_count": 6,
     "metadata": {},
     "output_type": "execute_result"
    }
   ],
   "source": [
    "sns.mpl_palette(\"Set2\", 10)"
   ]
  },
  {
   "cell_type": "code",
   "execution_count": null,
   "id": "f64ad118-e213-43cc-a714-98ed13cc3824",
   "metadata": {},
   "outputs": [],
   "source": []
  }
 ],
 "metadata": {
  "kernelspec": {
   "display_name": "py310",
   "language": "python",
   "name": "py310"
  },
  "language_info": {
   "codemirror_mode": {
    "name": "ipython",
    "version": 3
   },
   "file_extension": ".py",
   "mimetype": "text/x-python",
   "name": "python",
   "nbconvert_exporter": "python",
   "pygments_lexer": "ipython3",
   "version": "3.10.6"
  }
 },
 "nbformat": 4,
 "nbformat_minor": 5
}
