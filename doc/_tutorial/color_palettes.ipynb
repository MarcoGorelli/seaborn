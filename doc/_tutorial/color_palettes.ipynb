{
 "cells": [
  {
   "cell_type": "raw",
   "metadata": {
    "raw_mimetype": "text/restructuredtext"
   },
   "source": [
    ".. _palette_tutorial:\n",
    "\n",
    ".. currentmodule:: seaborn"
   ]
  },
  {
   "cell_type": "raw",
   "metadata": {},
   "source": [
    "Choosing color palettes\n",
    "=======================\n",
    "\n",
    "Seaborn makes it easy to use colors that are well-suited to the characteristics of your data and your visualization goals. This chapter discusses both the general principles that should guide your choices and the tools in seaborn that help you quickly find the best solution for a given application."
   ]
  },
  {
   "cell_type": "code",
   "execution_count": 1,
   "metadata": {
    "tags": [
     "hide"
    ]
   },
   "outputs": [],
   "source": [
    "import numpy as np\n",
    "import matplotlib as mpl\n",
    "import seaborn as sns\n",
    "import matplotlib.pyplot as plt\n",
    "sns.set_theme(style=\"white\", rc={\"xtick.major.pad\": 1, \"ytick.major.pad\": 1})"
   ]
  },
  {
   "cell_type": "code",
   "execution_count": 2,
   "metadata": {
    "tags": [
     "hide"
    ]
   },
   "outputs": [],
   "source": [
    "%matplotlib inline\n",
    "np.random.seed(sum(map(ord, \"palettes\")))"
   ]
  },
  {
   "cell_type": "code",
   "execution_count": 3,
   "metadata": {
    "tags": [
     "hide"
    ]
   },
   "outputs": [],
   "source": [
    "# Add colormap display methods to matplotlib colormaps.\n",
    "# These are forthcoming in matplotlib 3.4, but, the matplotlib display\n",
    "# method includes the colormap name, which is redundant.\n",
    "def _repr_png_(self):\n",
    "    \"\"\"Generate a PNG representation of the Colormap.\"\"\"\n",
    "    import io\n",
    "    from PIL import Image\n",
    "    import numpy as np\n",
    "    IMAGE_SIZE = (400, 50)\n",
    "    X = np.tile(np.linspace(0, 1, IMAGE_SIZE[0]), (IMAGE_SIZE[1], 1))\n",
    "    pixels = self(X, bytes=True)\n",
    "    png_bytes = io.BytesIO()\n",
    "    Image.fromarray(pixels).save(png_bytes, format='png')\n",
    "    return png_bytes.getvalue()\n",
    "    \n",
    "def _repr_html_(self):\n",
    "    \"\"\"Generate an HTML representation of the Colormap.\"\"\"\n",
    "    import base64\n",
    "    png_bytes = self._repr_png_()\n",
    "    png_base64 = base64.b64encode(png_bytes).decode('ascii')\n",
    "    return ('<img ' +\n",
    "            'alt=\"' + self.name + ' color map\" ' +\n",
    "            'title=\"' + self.name + '\"' +\n",
    "            'src=\"data:image/png;base64,' + png_base64 + '\">')\n",
    "    \n",
    "import matplotlib as mpl\n",
    "mpl.colors.Colormap._repr_png_ = _repr_png_\n",
    "mpl.colors.Colormap._repr_html_ = _repr_html_"
   ]
  },
  {
   "cell_type": "raw",
   "metadata": {},
   "source": [
    "General principles for using color in plots\n",
    "-------------------------------------------\n",
    "\n",
    "Components of color\n",
    "~~~~~~~~~~~~~~~~~~~\n",
    "\n",
    "Because of the way our eyes work, a particular color can be defined using three components. We usually program colors in a computer by specifying their RGB values, which set the intensity of the red, green, and blue channels in a display. But for analyzing the perceptual attributes of a color, it's better to think in terms of *hue*, *saturation*, and *luminance* channels.\n",
    "\n",
    "Hue is the component that distinguishes \"different colors\" in a non-technical sense. It's property of color that leads to first-order names like \"red\" and \"blue\":"
   ]
  },
  {
   "cell_type": "code",
   "execution_count": 4,
   "metadata": {
    "tags": [
     "hide-input"
    ]
   },
   "outputs": [
    {
     "data": {
      "text/html": [
       "<svg  width=\"440\" height=\"55\"><rect x=\"0\" y=\"0\" width=\"55\" height=\"55\" style=\"fill:#e77c8d;stroke-width:2;stroke:rgb(255,255,255)\"/><rect x=\"55\" y=\"0\" width=\"55\" height=\"55\" style=\"fill:#c69255;stroke-width:2;stroke:rgb(255,255,255)\"/><rect x=\"110\" y=\"0\" width=\"55\" height=\"55\" style=\"fill:#98a255;stroke-width:2;stroke:rgb(255,255,255)\"/><rect x=\"165\" y=\"0\" width=\"55\" height=\"55\" style=\"fill:#56ad74;stroke-width:2;stroke:rgb(255,255,255)\"/><rect x=\"220\" y=\"0\" width=\"55\" height=\"55\" style=\"fill:#5aa9a2;stroke-width:2;stroke:rgb(255,255,255)\"/><rect x=\"275\" y=\"0\" width=\"55\" height=\"55\" style=\"fill:#5ea5c5;stroke-width:2;stroke:rgb(255,255,255)\"/><rect x=\"330\" y=\"0\" width=\"55\" height=\"55\" style=\"fill:#a291e1;stroke-width:2;stroke:rgb(255,255,255)\"/><rect x=\"385\" y=\"0\" width=\"55\" height=\"55\" style=\"fill:#e274cf;stroke-width:2;stroke:rgb(255,255,255)\"/></svg>"
      ],
      "text/plain": [
       "[(0.9050206690302031, 0.485333660078793, 0.5536060216272151),\n",
       " (0.7746134071777862, 0.5735064999982632, 0.33461170957219066),\n",
       " (0.5960157928303208, 0.6360472513664188, 0.332709174532649),\n",
       " (0.33807407728540445, 0.6795473933377336, 0.4531666972263207),\n",
       " (0.3534153088659702, 0.6633810279867839, 0.6364737558329581),\n",
       " (0.36855688121452856, 0.6460104224517847, 0.7735274903942881),\n",
       " (0.6343430589262583, 0.5670865384343673, 0.8832295477118143),\n",
       " (0.8878791356686371, 0.4548300970941765, 0.8124926618667797)]"
      ]
     },
     "execution_count": 4,
     "metadata": {},
     "output_type": "execute_result"
    }
   ],
   "source": [
    "sns.husl_palette(8, s=.7)"
   ]
  },
  {
   "cell_type": "raw",
   "metadata": {},
   "source": [
    "Saturation (or chroma) is the *colorfulness*. Two colors with different hues will look more distinct when they have more saturation:"
   ]
  },
  {
   "cell_type": "code",
   "execution_count": 5,
   "metadata": {
    "tags": [
     "hide-input"
    ]
   },
   "outputs": [
    {
     "data": {
      "text/html": [
       "<svg  width=\"440\" height=\"55\"><rect x=\"0\" y=\"0\" width=\"55\" height=\"55\" style=\"fill:#8c8c8c;stroke-width:2;stroke:rgb(255,255,255)\"/><rect x=\"55\" y=\"0\" width=\"55\" height=\"55\" style=\"fill:#828996;stroke-width:2;stroke:rgb(255,255,255)\"/><rect x=\"110\" y=\"0\" width=\"55\" height=\"55\" style=\"fill:#79869f;stroke-width:2;stroke:rgb(255,255,255)\"/><rect x=\"165\" y=\"0\" width=\"55\" height=\"55\" style=\"fill:#6f83a9;stroke-width:2;stroke:rgb(255,255,255)\"/><rect x=\"220\" y=\"0\" width=\"55\" height=\"55\" style=\"fill:#6581b3;stroke-width:2;stroke:rgb(255,255,255)\"/><rect x=\"275\" y=\"0\" width=\"55\" height=\"55\" style=\"fill:#5b7ebd;stroke-width:2;stroke:rgb(255,255,255)\"/><rect x=\"330\" y=\"0\" width=\"55\" height=\"55\" style=\"fill:#527bc6;stroke-width:2;stroke:rgb(255,255,255)\"/><rect x=\"385\" y=\"0\" width=\"55\" height=\"55\" style=\"fill:#4878d0;stroke-width:2;stroke:rgb(255,255,255)\"/></svg>"
      ],
      "text/plain": [
       "[(0.5490196078431373, 0.5490196078431373, 0.5490196078431373),\n",
       " (0.5113725490196079, 0.5379469434832757, 0.5866666666666667),\n",
       " (0.47267973856209156, 0.526566705113418, 0.625359477124183),\n",
       " (0.43503267973856213, 0.5154940407535563, 0.6630065359477124),\n",
       " (0.3963398692810458, 0.5041138023836986, 0.7016993464052288),\n",
       " (0.35869281045751633, 0.493041138023837, 0.7393464052287582),\n",
       " (0.32, 0.48166089965397924, 0.7780392156862745),\n",
       " (0.2823529411764706, 0.47058823529411764, 0.8156862745098039)]"
      ]
     },
     "execution_count": 5,
     "metadata": {},
     "output_type": "execute_result"
    }
   ],
   "source": [
    "c = sns.color_palette(\"muted\")[0]\n",
    "sns.blend_palette([sns.desaturate(c, 0), c], 8)"
   ]
  },
  {
   "cell_type": "raw",
   "metadata": {},
   "source": [
    "And lightness corresponds to how much light is emitted (or reflected, for printed colors), ranging from black to white:"
   ]
  },
  {
   "cell_type": "code",
   "execution_count": 6,
   "metadata": {
    "tags": [
     "hide-input"
    ]
   },
   "outputs": [
    {
     "data": {
      "text/html": [
       "<svg  width=\"440\" height=\"55\"><rect x=\"0\" y=\"0\" width=\"55\" height=\"55\" style=\"fill:#1a1a1a;stroke-width:2;stroke:rgb(255,255,255)\"/><rect x=\"55\" y=\"0\" width=\"55\" height=\"55\" style=\"fill:#27344d;stroke-width:2;stroke:rgb(255,255,255)\"/><rect x=\"110\" y=\"0\" width=\"55\" height=\"55\" style=\"fill:#345082;stroke-width:2;stroke:rgb(255,255,255)\"/><rect x=\"165\" y=\"0\" width=\"55\" height=\"55\" style=\"fill:#416ab6;stroke-width:2;stroke:rgb(255,255,255)\"/><rect x=\"220\" y=\"0\" width=\"55\" height=\"55\" style=\"fill:#618ad5;stroke-width:2;stroke:rgb(255,255,255)\"/><rect x=\"275\" y=\"0\" width=\"55\" height=\"55\" style=\"fill:#91acdf;stroke-width:2;stroke:rgb(255,255,255)\"/><rect x=\"330\" y=\"0\" width=\"55\" height=\"55\" style=\"fill:#c2d0e9;stroke-width:2;stroke:rgb(255,255,255)\"/><rect x=\"385\" y=\"0\" width=\"55\" height=\"55\" style=\"fill:#f2f2f2;stroke-width:2;stroke:rgb(255,255,255)\"/></svg>"
      ],
      "text/plain": [
       "[(0.1, 0.1, 0.1),\n",
       " (0.1514878892733564, 0.20463667820069203, 0.302076124567474),\n",
       " (0.20440599769319492, 0.3121799307958477, 0.5097654748173779),\n",
       " (0.25589388696655135, 0.41681660899653983, 0.7118415993848519),\n",
       " (0.37922722029988465, 0.5401499423298731, 0.8351749327181853),\n",
       " (0.5677393310265282, 0.675513264129181, 0.8730988081507113),\n",
       " (0.7614878892733563, 0.814636678200692, 0.912076124567474),\n",
       " (0.95, 0.95, 0.95)]"
      ]
     },
     "execution_count": 6,
     "metadata": {},
     "output_type": "execute_result"
    }
   ],
   "source": [
    "sns.blend_palette([\".1\", c, \".95\"], 8)"
   ]
  },
  {
   "cell_type": "raw",
   "metadata": {},
   "source": [
    "Vary hue to distinguish categories\n",
    "~~~~~~~~~~~~~~~~~~~~~~~~~~~~~~~~~~\n",
    "\n",
    "When you want to represent multiple categories in a plot, you typically should vary the color of the elements. Consider this simple example: in which of these two plots is it easier to count the number of triangular points?"
   ]
  },
  {
   "cell_type": "code",
   "execution_count": 7,
   "metadata": {
    "tags": [
     "hide-input"
    ]
   },
   "outputs": [
    {
     "name": "stderr",
     "output_type": "stream",
     "text": [
      "/home/marcogorelli/seaborn-dev/seaborn/_oldcore.py:1500: FutureWarning: is_categorical_dtype is deprecated and will be removed in a future version. Use isinstance(dtype, CategoricalDtype) instead\n",
      "  if pd.api.types.is_categorical_dtype(vector):\n",
      "/home/marcogorelli/seaborn-dev/seaborn/_oldcore.py:1500: FutureWarning: is_categorical_dtype is deprecated and will be removed in a future version. Use isinstance(dtype, CategoricalDtype) instead\n",
      "  if pd.api.types.is_categorical_dtype(vector):\n",
      "/home/marcogorelli/seaborn-dev/seaborn/_oldcore.py:1500: FutureWarning: is_categorical_dtype is deprecated and will be removed in a future version. Use isinstance(dtype, CategoricalDtype) instead\n",
      "  if pd.api.types.is_categorical_dtype(vector):\n",
      "/home/marcogorelli/seaborn-dev/seaborn/_oldcore.py:1500: FutureWarning: is_categorical_dtype is deprecated and will be removed in a future version. Use isinstance(dtype, CategoricalDtype) instead\n",
      "  if pd.api.types.is_categorical_dtype(vector):\n",
      "/home/marcogorelli/seaborn-dev/seaborn/_oldcore.py:1500: FutureWarning: is_categorical_dtype is deprecated and will be removed in a future version. Use isinstance(dtype, CategoricalDtype) instead\n",
      "  if pd.api.types.is_categorical_dtype(vector):\n",
      "/home/marcogorelli/seaborn-dev/seaborn/_oldcore.py:1500: FutureWarning: is_categorical_dtype is deprecated and will be removed in a future version. Use isinstance(dtype, CategoricalDtype) instead\n",
      "  if pd.api.types.is_categorical_dtype(vector):\n",
      "/home/marcogorelli/seaborn-dev/seaborn/_oldcore.py:1500: FutureWarning: is_categorical_dtype is deprecated and will be removed in a future version. Use isinstance(dtype, CategoricalDtype) instead\n",
      "  if pd.api.types.is_categorical_dtype(vector):\n",
      "/home/marcogorelli/seaborn-dev/seaborn/_oldcore.py:1500: FutureWarning: is_categorical_dtype is deprecated and will be removed in a future version. Use isinstance(dtype, CategoricalDtype) instead\n",
      "  if pd.api.types.is_categorical_dtype(vector):\n",
      "/home/marcogorelli/seaborn-dev/seaborn/_oldcore.py:1500: FutureWarning: is_categorical_dtype is deprecated and will be removed in a future version. Use isinstance(dtype, CategoricalDtype) instead\n",
      "  if pd.api.types.is_categorical_dtype(vector):\n",
      "/home/marcogorelli/seaborn-dev/seaborn/_oldcore.py:1500: FutureWarning: is_categorical_dtype is deprecated and will be removed in a future version. Use isinstance(dtype, CategoricalDtype) instead\n",
      "  if pd.api.types.is_categorical_dtype(vector):\n",
      "/home/marcogorelli/seaborn-dev/seaborn/_oldcore.py:1500: FutureWarning: is_categorical_dtype is deprecated and will be removed in a future version. Use isinstance(dtype, CategoricalDtype) instead\n",
      "  if pd.api.types.is_categorical_dtype(vector):\n",
      "/home/marcogorelli/seaborn-dev/seaborn/_oldcore.py:1500: FutureWarning: is_categorical_dtype is deprecated and will be removed in a future version. Use isinstance(dtype, CategoricalDtype) instead\n",
      "  if pd.api.types.is_categorical_dtype(vector):\n",
      "/home/marcogorelli/seaborn-dev/seaborn/_oldcore.py:1500: FutureWarning: is_categorical_dtype is deprecated and will be removed in a future version. Use isinstance(dtype, CategoricalDtype) instead\n",
      "  if pd.api.types.is_categorical_dtype(vector):\n",
      "/home/marcogorelli/seaborn-dev/seaborn/_oldcore.py:1500: FutureWarning: is_categorical_dtype is deprecated and will be removed in a future version. Use isinstance(dtype, CategoricalDtype) instead\n",
      "  if pd.api.types.is_categorical_dtype(vector):\n",
      "/home/marcogorelli/seaborn-dev/seaborn/_oldcore.py:1500: FutureWarning: is_categorical_dtype is deprecated and will be removed in a future version. Use isinstance(dtype, CategoricalDtype) instead\n",
      "  if pd.api.types.is_categorical_dtype(vector):\n",
      "/home/marcogorelli/seaborn-dev/seaborn/_oldcore.py:1500: FutureWarning: is_categorical_dtype is deprecated and will be removed in a future version. Use isinstance(dtype, CategoricalDtype) instead\n",
      "  if pd.api.types.is_categorical_dtype(vector):\n",
      "/home/marcogorelli/seaborn-dev/seaborn/_oldcore.py:1500: FutureWarning: is_categorical_dtype is deprecated and will be removed in a future version. Use isinstance(dtype, CategoricalDtype) instead\n",
      "  if pd.api.types.is_categorical_dtype(vector):\n",
      "/home/marcogorelli/seaborn-dev/seaborn/_oldcore.py:1500: FutureWarning: is_categorical_dtype is deprecated and will be removed in a future version. Use isinstance(dtype, CategoricalDtype) instead\n",
      "  if pd.api.types.is_categorical_dtype(vector):\n",
      "/home/marcogorelli/seaborn-dev/seaborn/_oldcore.py:1500: FutureWarning: is_categorical_dtype is deprecated and will be removed in a future version. Use isinstance(dtype, CategoricalDtype) instead\n",
      "  if pd.api.types.is_categorical_dtype(vector):\n",
      "/home/marcogorelli/seaborn-dev/seaborn/_oldcore.py:1500: FutureWarning: is_categorical_dtype is deprecated and will be removed in a future version. Use isinstance(dtype, CategoricalDtype) instead\n",
      "  if pd.api.types.is_categorical_dtype(vector):\n",
      "/home/marcogorelli/seaborn-dev/seaborn/_oldcore.py:1500: FutureWarning: is_categorical_dtype is deprecated and will be removed in a future version. Use isinstance(dtype, CategoricalDtype) instead\n",
      "  if pd.api.types.is_categorical_dtype(vector):\n",
      "/home/marcogorelli/seaborn-dev/seaborn/_oldcore.py:1500: FutureWarning: is_categorical_dtype is deprecated and will be removed in a future version. Use isinstance(dtype, CategoricalDtype) instead\n",
      "  if pd.api.types.is_categorical_dtype(vector):\n",
      "/home/marcogorelli/seaborn-dev/seaborn/_oldcore.py:1500: FutureWarning: is_categorical_dtype is deprecated and will be removed in a future version. Use isinstance(dtype, CategoricalDtype) instead\n",
      "  if pd.api.types.is_categorical_dtype(vector):\n"
     ]
    },
    {
     "data": {
      "image/png": "[encoded data removed]",
      "text/plain": [
       "<Figure size 700x350 with 2 Axes>"
      ]
     },
     "metadata": {},
     "output_type": "display_data"
    }
   ],
   "source": [
    "n = 45\n",
    "rng = np.random.default_rng(200)\n",
    "x = rng.uniform(0, 1, n * 2)\n",
    "y = rng.uniform(0, 1, n * 2)\n",
    "a = np.concatenate([np.zeros(n * 2 - 10), np.ones(10)])\n",
    "\n",
    "f, axs = plt.subplots(1, 2, figsize=(7, 3.5), sharey=True, sharex=True)\n",
    "\n",
    "sns.scatterplot(\n",
    "    x=x[::2], y=y[::2], style=a[::2], size=a[::2], legend=False,\n",
    "    markers=[\"o\", (3, 1, 1)], sizes=[70, 140], ax=axs[0],\n",
    ")\n",
    "\n",
    "sns.scatterplot(\n",
    "    x=x[1::2], y=y[1::2], style=a[1::2], size=a[1::2], hue=a[1::2], legend=False,\n",
    "    markers=[\"o\", (3, 1, 1)], sizes=[70, 140], ax=axs[1],\n",
    ")\n",
    "\n",
    "f.tight_layout(w_pad=2)"
   ]
  },
  {
   "cell_type": "raw",
   "metadata": {},
   "source": [
    "In the plot on the right, the orange triangles \"pop out\", making it easy to distinguish them from the circles. This pop-out effect happens because our visual system prioritizes color differences.\n",
    "\n",
    "The blue and orange colors differ mostly in terms of their hue. Hue is useful for representing categories: most people can distinguish a moderate number of hues relatively easily, and points that have different hues but similar brightness or intensity seem equally important. It also makes plots easier to talk about. Consider this example:"
   ]
  },
  {
   "cell_type": "code",
   "execution_count": 8,
   "metadata": {
    "tags": [
     "hide-input"
    ]
   },
   "outputs": [
    {
     "name": "stderr",
     "output_type": "stream",
     "text": [
      "/home/marcogorelli/seaborn-dev/seaborn/_oldcore.py:1500: FutureWarning: is_categorical_dtype is deprecated and will be removed in a future version. Use isinstance(dtype, CategoricalDtype) instead\n",
      "  if pd.api.types.is_categorical_dtype(vector):\n",
      "/home/marcogorelli/seaborn-dev/seaborn/_oldcore.py:1500: FutureWarning: is_categorical_dtype is deprecated and will be removed in a future version. Use isinstance(dtype, CategoricalDtype) instead\n",
      "  if pd.api.types.is_categorical_dtype(vector):\n",
      "/home/marcogorelli/seaborn-dev/seaborn/_oldcore.py:1500: FutureWarning: is_categorical_dtype is deprecated and will be removed in a future version. Use isinstance(dtype, CategoricalDtype) instead\n",
      "  if pd.api.types.is_categorical_dtype(vector):\n",
      "/home/marcogorelli/seaborn-dev/seaborn/_oldcore.py:1500: FutureWarning: is_categorical_dtype is deprecated and will be removed in a future version. Use isinstance(dtype, CategoricalDtype) instead\n",
      "  if pd.api.types.is_categorical_dtype(vector):\n",
      "/home/marcogorelli/seaborn-dev/seaborn/_oldcore.py:1500: FutureWarning: is_categorical_dtype is deprecated and will be removed in a future version. Use isinstance(dtype, CategoricalDtype) instead\n",
      "  if pd.api.types.is_categorical_dtype(vector):\n",
      "/home/marcogorelli/seaborn-dev/seaborn/_oldcore.py:1500: FutureWarning: is_categorical_dtype is deprecated and will be removed in a future version. Use isinstance(dtype, CategoricalDtype) instead\n",
      "  if pd.api.types.is_categorical_dtype(vector):\n",
      "/home/marcogorelli/seaborn-dev/seaborn/_oldcore.py:1500: FutureWarning: is_categorical_dtype is deprecated and will be removed in a future version. Use isinstance(dtype, CategoricalDtype) instead\n",
      "  if pd.api.types.is_categorical_dtype(vector):\n"
     ]
    },
    {
     "data": {
      "image/png": "[encoded data removed]",
      "text/plain": [
       "<Figure size 700x350 with 2 Axes>"
      ]
     },
     "metadata": {},
     "output_type": "display_data"
    }
   ],
   "source": [
    "b = np.tile(np.arange(10), n // 5)\n",
    "\n",
    "f, axs = plt.subplots(1, 2, figsize=(7, 3.5), sharey=True, sharex=True)\n",
    "\n",
    "sns.scatterplot(\n",
    "    x=x[::2], y=y[::2], hue=b[::2],\n",
    "    legend=False, palette=\"muted\", s=70, ax=axs[0],\n",
    ")\n",
    "\n",
    "sns.scatterplot(\n",
    "    x=x[1::2], y=y[1::2], hue=b[1::2],\n",
    "    legend=False, palette=\"blend:.75,C0\", s=70, ax=axs[1],\n",
    ")\n",
    "\n",
    "f.tight_layout(w_pad=2)"
   ]
  },
  {
   "cell_type": "raw",
   "metadata": {},
   "source": [
    "Most people would be able to quickly ascertain that there are five distinct categories in the plot on the left and, if asked to characterize the \"blue\" points, would be able to do so.\n",
    "\n",
    "With the plot on the right, where the points are all blue but vary in their luminance and saturation, it's harder to say how many unique categories are present. And how would we talk about a particular category? \"The fairly-but-not-too-blue points?\" What's more, the gray dots seem to fade into the background, de-emphasizing them relative to the more intense blue dots. If the categories are equally important, this is a poor representation.\n",
    "\n",
    "So as a general rule, use hue variation to represent categories. With that said, here are few notes of caution. If you have more than a handful of colors in your plot, it can become difficult to keep in mind what each one means, unless there are pre-existing associations between the categories and the colors used to represent them. This makes your plot harder to interpret: rather than focusing on the data, a viewer will have to continually refer to the legend to make sense of what is shown. So you should strive not to make plots that are too complex. And be mindful that not everyone sees colors the same way. Varying both shape (or some other attribute) and color can help people with anomalous color vision understand your plots, and it can keep them (somewhat) interpretable if they are printed to black-and-white."
   ]
  },
  {
   "cell_type": "raw",
   "metadata": {},
   "source": [
    "Vary luminance to represent numbers\n",
    "~~~~~~~~~~~~~~~~~~~~~~~~~~~~~~~~~~~\n",
    "\n",
    "On the other hand, hue variations are not well suited to representing numeric data. Consider this example, where we need colors to represent the counts in a bivariate histogram. On the left, we use a circular colormap, where gradual changes in the number of observation within each bin correspond to gradual changes in hue. On the right, we use a palette that uses brighter colors to represent bins with larger counts:"
   ]
  },
  {
   "cell_type": "code",
   "execution_count": 9,
   "metadata": {
    "tags": [
     "hide-input"
    ]
   },
   "outputs": [
    {
     "name": "stderr",
     "output_type": "stream",
     "text": [
      "/home/marcogorelli/seaborn-dev/seaborn/_oldcore.py:1500: FutureWarning: is_categorical_dtype is deprecated and will be removed in a future version. Use isinstance(dtype, CategoricalDtype) instead\n",
      "  if pd.api.types.is_categorical_dtype(vector):\n",
      "/home/marcogorelli/seaborn-dev/seaborn/_oldcore.py:1500: FutureWarning: is_categorical_dtype is deprecated and will be removed in a future version. Use isinstance(dtype, CategoricalDtype) instead\n",
      "  if pd.api.types.is_categorical_dtype(vector):\n",
      "/home/marcogorelli/seaborn-dev/seaborn/_oldcore.py:1500: FutureWarning: is_categorical_dtype is deprecated and will be removed in a future version. Use isinstance(dtype, CategoricalDtype) instead\n",
      "  if pd.api.types.is_categorical_dtype(vector):\n",
      "/home/marcogorelli/seaborn-dev/seaborn/_oldcore.py:1500: FutureWarning: is_categorical_dtype is deprecated and will be removed in a future version. Use isinstance(dtype, CategoricalDtype) instead\n",
      "  if pd.api.types.is_categorical_dtype(vector):\n"
     ]
    },
    {
     "data": {
      "image/png": "[encoded data removed]",
      "text/plain": [
       "<Figure size 700x425 with 4 Axes>"
      ]
     },
     "metadata": {},
     "output_type": "display_data"
    }
   ],
   "source": [
    "penguins = sns.load_dataset(\"penguins\")\n",
    "\n",
    "f, axs = plt.subplots(1, 2, figsize=(7, 4.25), sharey=True, sharex=True)\n",
    "\n",
    "sns.histplot(\n",
    "    data=penguins, x=\"bill_length_mm\", y=\"bill_depth_mm\",\n",
    "    binwidth=(3, .75), cmap=\"hls\", ax=axs[0],\n",
    "    cbar=True, cbar_kws=dict(orientation=\"horizontal\", pad=.1),\n",
    ")\n",
    "axs[0].set(xlabel=\"\", ylabel=\"\")\n",
    "\n",
    "\n",
    "sns.histplot(\n",
    "    data=penguins, x=\"bill_length_mm\", y=\"bill_depth_mm\",\n",
    "    binwidth=(3, .75), cmap=\"flare_r\", ax=axs[1],\n",
    "    cbar=True, cbar_kws=dict(orientation=\"horizontal\", pad=.1),\n",
    ")\n",
    "axs[1].set(xlabel=\"\", ylabel=\"\")\n",
    "\n",
    "f.tight_layout(w_pad=3)"
   ]
  },
  {
   "cell_type": "raw",
   "metadata": {},
   "source": [
    "With the hue-based palette, it's quite difficult to ascertain the shape of the bivariate distribution. In contrast, the luminance palette makes it much more clear that there are two prominent peaks.\n",
    "\n",
    "Varying luminance helps you see structure in data, and changes in luminance are more intuitively processed as changes in importance. But the plot on the right does not use a grayscale colormap. Its colorfulness makes it more interesting, and the subtle hue variation increases the perceptual distance between two values. As a result, small differences slightly easier to resolve.\n",
    "\n",
    "These examples show that color palette choices are about more than aesthetics: the colors you choose can reveal patterns in your data if used effectively or hide them if used poorly. There is not one optimal palette, but there are palettes that are better or worse for particular datasets and visualization approaches.\n",
    "\n",
    "And aesthetics do matter: the more that people want to look at your figures, the greater the chance that they will learn something from them. This is true even when you are making plots for yourself. During exploratory data analysis, you may generate many similar figures. Varying the color palettes will add a sense of novelty, which keeps you engaged and prepared to notice interesting features of your data.\n",
    "\n",
    "So how can you choose color palettes that both represent your data well and look attractive?"
   ]
  },
  {
   "cell_type": "raw",
   "metadata": {
    "raw_mimetype": "text/restructuredtext"
   },
   "source": [
    "Tools for choosing color palettes\n",
    "---------------------------------\n",
    "\n",
    "The most important function for working with color palettes is, aptly, :func:`color_palette`. This function provides an interface to most of the possible ways that one can generate color palettes in seaborn. And it's used internally by any function that has a ``palette`` argument.\n",
    "\n",
    "The primary argument to :func:`color_palette` is usually a string: either the name of a specific palette or the name of a family and additional arguments to select a specific member. In the latter case, :func:`color_palette` will delegate to more specific function, such as :func:`cubehelix_palette`. It's also possible to pass a list of colors specified any way that matplotlib accepts (an RGB tuple, a hex code, or a name in the X11 table). The return value is an object that wraps a list of RGB tuples with a few useful methods, such as conversion to hex codes and a rich HTML representation.\n",
    "\n",
    "Calling :func:`color_palette` with no arguments will return the current default color palette that matplotlib (and most seaborn functions) will use if colors are not otherwise specified. This default palette can be set with the corresponding :func:`set_palette` function, which calls :func:`color_palette` internally and accepts the same arguments.\n",
    "\n",
    "To motivate the different options that :func:`color_palette` provides, it will be useful to introduce a classification scheme for color palettes. Broadly, palettes fall into one of three categories:\n",
    "\n",
    "- qualitative palettes, good for representing categorical data\n",
    "- sequential palettes, good for representing numeric data\n",
    "- diverging palettes, good for representing numeric data with a categorical boundary"
   ]
  },
  {
   "cell_type": "raw",
   "metadata": {},
   "source": [
    ".. _qualitative_palettes:\n",
    "\n",
    "Qualitative color palettes\n",
    "--------------------------\n",
    "\n",
    "Qualitative palettes are well-suited to representing categorical data because most of their variation is in the hue component. The default color palette in seaborn is a qualitative palette with ten distinct hues:"
   ]
  },
  {
   "cell_type": "code",
   "execution_count": 10,
   "metadata": {},
   "outputs": [
    {
     "data": {
      "text/html": [
       "<svg  width=\"550\" height=\"55\"><rect x=\"0\" y=\"0\" width=\"55\" height=\"55\" style=\"fill:#4c72b0;stroke-width:2;stroke:rgb(255,255,255)\"/><rect x=\"55\" y=\"0\" width=\"55\" height=\"55\" style=\"fill:#dd8452;stroke-width:2;stroke:rgb(255,255,255)\"/><rect x=\"110\" y=\"0\" width=\"55\" height=\"55\" style=\"fill:#55a868;stroke-width:2;stroke:rgb(255,255,255)\"/><rect x=\"165\" y=\"0\" width=\"55\" height=\"55\" style=\"fill:#c44e52;stroke-width:2;stroke:rgb(255,255,255)\"/><rect x=\"220\" y=\"0\" width=\"55\" height=\"55\" style=\"fill:#8172b3;stroke-width:2;stroke:rgb(255,255,255)\"/><rect x=\"275\" y=\"0\" width=\"55\" height=\"55\" style=\"fill:#937860;stroke-width:2;stroke:rgb(255,255,255)\"/><rect x=\"330\" y=\"0\" width=\"55\" height=\"55\" style=\"fill:#da8bc3;stroke-width:2;stroke:rgb(255,255,255)\"/><rect x=\"385\" y=\"0\" width=\"55\" height=\"55\" style=\"fill:#8c8c8c;stroke-width:2;stroke:rgb(255,255,255)\"/><rect x=\"440\" y=\"0\" width=\"55\" height=\"55\" style=\"fill:#ccb974;stroke-width:2;stroke:rgb(255,255,255)\"/><rect x=\"495\" y=\"0\" width=\"55\" height=\"55\" style=\"fill:#64b5cd;stroke-width:2;stroke:rgb(255,255,255)\"/></svg>"
      ],
      "text/plain": [
       "[(0.2980392156862745, 0.4470588235294118, 0.6901960784313725),\n",
       " (0.8666666666666667, 0.5176470588235295, 0.3215686274509804),\n",
       " (0.3333333333333333, 0.6588235294117647, 0.40784313725490196),\n",
       " (0.7686274509803922, 0.3058823529411765, 0.3215686274509804),\n",
       " (0.5058823529411764, 0.4470588235294118, 0.7019607843137254),\n",
       " (0.5764705882352941, 0.47058823529411764, 0.3764705882352941),\n",
       " (0.8549019607843137, 0.5450980392156862, 0.7647058823529411),\n",
       " (0.5490196078431373, 0.5490196078431373, 0.5490196078431373),\n",
       " (0.8, 0.7254901960784313, 0.4549019607843137),\n",
       " (0.39215686274509803, 0.7098039215686275, 0.803921568627451)]"
      ]
     },
     "execution_count": 10,
     "metadata": {},
     "output_type": "execute_result"
    }
   ],
   "source": [
    "sns.color_palette()"
   ]
  },
  {
   "cell_type": "raw",
   "metadata": {},
   "source": [
    "These colors have the same ordering as the default matplotlib color palette, ``\"tab10\"``, but they are a bit less intense. Compare:"
   ]
  },
  {
   "cell_type": "code",
   "execution_count": 11,
   "metadata": {},
   "outputs": [
    {
     "data": {
      "text/html": [
       "<svg  width=\"550\" height=\"55\"><rect x=\"0\" y=\"0\" width=\"55\" height=\"55\" style=\"fill:#1f77b4;stroke-width:2;stroke:rgb(255,255,255)\"/><rect x=\"55\" y=\"0\" width=\"55\" height=\"55\" style=\"fill:#ff7f0e;stroke-width:2;stroke:rgb(255,255,255)\"/><rect x=\"110\" y=\"0\" width=\"55\" height=\"55\" style=\"fill:#2ca02c;stroke-width:2;stroke:rgb(255,255,255)\"/><rect x=\"165\" y=\"0\" width=\"55\" height=\"55\" style=\"fill:#d62728;stroke-width:2;stroke:rgb(255,255,255)\"/><rect x=\"220\" y=\"0\" width=\"55\" height=\"55\" style=\"fill:#9467bd;stroke-width:2;stroke:rgb(255,255,255)\"/><rect x=\"275\" y=\"0\" width=\"55\" height=\"55\" style=\"fill:#8c564b;stroke-width:2;stroke:rgb(255,255,255)\"/><rect x=\"330\" y=\"0\" width=\"55\" height=\"55\" style=\"fill:#e377c2;stroke-width:2;stroke:rgb(255,255,255)\"/><rect x=\"385\" y=\"0\" width=\"55\" height=\"55\" style=\"fill:#7f7f7f;stroke-width:2;stroke:rgb(255,255,255)\"/><rect x=\"440\" y=\"0\" width=\"55\" height=\"55\" style=\"fill:#bcbd22;stroke-width:2;stroke:rgb(255,255,255)\"/><rect x=\"495\" y=\"0\" width=\"55\" height=\"55\" style=\"fill:#17becf;stroke-width:2;stroke:rgb(255,255,255)\"/></svg>"
      ],
      "text/plain": [
       "[(0.12156862745098039, 0.4666666666666667, 0.7058823529411765),\n",
       " (1.0, 0.4980392156862745, 0.054901960784313725),\n",
       " (0.17254901960784313, 0.6274509803921569, 0.17254901960784313),\n",
       " (0.8392156862745098, 0.15294117647058825, 0.1568627450980392),\n",
       " (0.5803921568627451, 0.403921568627451, 0.7411764705882353),\n",
       " (0.5490196078431373, 0.33725490196078434, 0.29411764705882354),\n",
       " (0.8901960784313725, 0.4666666666666667, 0.7607843137254902),\n",
       " (0.4980392156862745, 0.4980392156862745, 0.4980392156862745),\n",
       " (0.7372549019607844, 0.7411764705882353, 0.13333333333333333),\n",
       " (0.09019607843137255, 0.7450980392156863, 0.8117647058823529)]"
      ]
     },
     "execution_count": 11,
     "metadata": {},
     "output_type": "execute_result"
    }
   ],
   "source": [
    "sns.color_palette(\"tab10\")"
   ]
  },
  {
   "cell_type": "raw",
   "metadata": {},
   "source": [
    "Seaborn in fact has six variations of matplotlib's palette, called ``deep``, ``muted``, ``pastel``, ``bright``, ``dark``, and ``colorblind``. These span a range of average luminance and saturation values:"
   ]
  },
  {
   "cell_type": "code",
   "execution_count": 12,
   "metadata": {
    "tags": [
     "hide-input"
    ]
   },
   "outputs": [
    {
     "data": {
      "image/svg+xml": [
       "<svg xmlns:xlink=\"http://www.w3.org/1999/xlink\" xmlns=\"http://www.w3.org/2000/svg\" width=\"432pt\" height=\"432pt\" viewBox=\"0 0 432 432\" version=\"1.1\">\n",
       " <metadata>\n",
       "  <rdf:RDF xmlns:dc=\"http://purl.org/dc/elements/1.1/\" xmlns:cc=\"http://creativecommons.org/ns#\" xmlns:rdf=\"http://www.w3.org/1999/02/22-rdf-syntax-ns#\">\n",
       "   <cc:Work>\n",
       "    <dc:type rdf:resource=\"http://purl.org/dc/dcmitype/StillImage\"/>\n",
       "    <dc:date>2023-04-20T13:59:00.582498</dc:date>\n",
       "    <dc:format>image/svg+xml</dc:format>\n",
       "    <dc:creator>\n",
       "     <cc:Agent>\n",
       "      <dc:title>Matplotlib v3.6.3, https://matplotlib.org/</dc:title>\n",
       "     </cc:Agent>\n",
       "    </dc:creator>\n",
       "   </cc:Work>\n",
       "  </rdf:RDF>\n",
       " </metadata>\n",
       " <defs>\n",
       "  <style type=\"text/css\">*{stroke-linejoin: round; stroke-linecap: butt}</style>\n",
       " </defs>\n",
       " <g id=\"figure_1\">\n",
       "  <g id=\"patch_1\">\n",
       "   <path d=\"M 0 432  L 432 432  L 432 0  L 0 0  z \" style=\"fill: #ffffff\"/>\n",
       "  </g>\n",
       "  <g id=\"axes_1\">\n",
       "   <g id=\"matplotlib.axis_1\"/>\n",
       "   <g id=\"matplotlib.axis_2\"/>\n",
       "   <g id=\"patch_2\">\n",
       "    <path d=\"M 123.870653 223.650747  C 120.140306 228.785129 117.241261 234.474824 115.280102 240.510652  C 113.318943 246.54648 112.32 252.853555 112.32 259.2  L 172.8 259.2  L 123.870653 223.650747  z \" style=\"fill: #4c72b0; stroke: #ffffff; stroke-linejoin: miter\"/>\n",
       "   </g>\n",
       "   <g id=\"patch_3\">\n",
       "    <path d=\"M 154.110653 201.680102  C 148.074825 203.641261 142.385131 206.540305 137.250749 210.270652  C 132.116367 214.000998 127.600999 218.516366 123.870653 223.650747  L 172.8 259.2  L 154.110653 201.680102  z \" style=\"fill: #dd8452; stroke: #ffffff; stroke-linejoin: miter\"/>\n",
       "   </g>\n",
       "   <g id=\"patch_4\">\n",
       "    <path d=\"M 191.489349 201.680102  C 185.453522 199.718943 179.146446 198.72 172.800001 198.72  C 166.453556 198.72 160.146481 199.718942 154.110653 201.680102  L 172.8 259.2  L 191.489349 201.680102  z \" style=\"fill: #55a868; stroke: #ffffff; stroke-linejoin: miter\"/>\n",
       "   </g>\n",
       "   <g id=\"patch_5\">\n",
       "    <path d=\"M 221.729349 223.65075  C 217.999003 218.516368 213.483635 214.001 208.349254 210.270653  C 203.214872 206.540306 197.525177 203.641262 191.489349 201.680102  L 172.8 259.2  L 221.729349 223.65075  z \" style=\"fill: #c44e52; stroke: #ffffff; stroke-linejoin: miter\"/>\n",
       "   </g>\n",
       "   <g id=\"patch_6\">\n",
       "    <path d=\"M 233.28 259.200003  C 233.28 252.853558 232.281058 246.546483 230.319899 240.510655  C 228.35874 234.474827 225.459696 228.785132 221.729349 223.65075  L 172.8 259.2  L 233.28 259.200003  z \" style=\"fill: #8172b3; stroke: #ffffff; stroke-linejoin: miter\"/>\n",
       "   </g>\n",
       "   <g id=\"patch_7\">\n",
       "    <path d=\"M 221.729346 294.749255  C 225.459693 289.614873 228.358737 283.925179 230.319897 277.889351  C 232.281057 271.853523 233.28 265.546448 233.28 259.200003  L 172.8 259.2  L 221.729346 294.749255  z \" style=\"fill: #937860; stroke: #ffffff; stroke-linejoin: miter\"/>\n",
       "   </g>\n",
       "   <g id=\"patch_8\">\n",
       "    <path d=\"M 191.489344 316.719899  C 197.525172 314.75874 203.214867 311.859696 208.349249 308.12935  C 213.483631 304.399003 217.998999 299.883636 221.729346 294.749255  L 172.8 259.2  L 191.489344 316.719899  z \" style=\"fill: #da8bc3; stroke: #ffffff; stroke-linejoin: miter\"/>\n",
       "   </g>\n",
       "   <g id=\"patch_9\">\n",
       "    <path d=\"M 154.110648 316.719897  C 160.146476 318.681057 166.453551 319.68 172.799996 319.68  C 179.146441 319.68 185.453516 318.681058 191.489344 316.719899  L 172.8 259.2  L 154.110648 316.719897  z \" style=\"fill: #8c8c8c; stroke: #ffffff; stroke-linejoin: miter\"/>\n",
       "   </g>\n",
       "   <g id=\"patch_10\">\n",
       "    <path d=\"M 123.870649 294.749248  C 127.600996 299.88363 132.116362 304.398998 137.250744 308.129345  C 142.385126 311.859692 148.07482 314.758737 154.110648 316.719897  L 172.8 259.2  L 123.870649 294.749248  z \" style=\"fill: #ccb974; stroke: #ffffff; stroke-linejoin: miter\"/>\n",
       "   </g>\n",
       "   <g id=\"patch_11\">\n",
       "    <path d=\"M 112.32 259.199994  C 112.319999 265.546439 113.318941 271.853515 115.2801 277.889343  C 117.241259 283.925171 120.140303 289.614866 123.870649 294.749248  L 172.8 259.2  L 112.32 259.199994  z \" style=\"fill: #64b5cd; stroke: #ffffff; stroke-linejoin: miter\"/>\n",
       "   </g>\n",
       "  </g>\n",
       "  <g id=\"axes_2\">\n",
       "   <g id=\"matplotlib.axis_3\"/>\n",
       "   <g id=\"matplotlib.axis_4\"/>\n",
       "   <g id=\"patch_12\">\n",
       "    <path d=\"M 296.670653 50.850747  C 292.940306 55.985129 290.041261 61.674824 288.080102 67.710652  C 286.118943 73.74648 285.12 80.053555 285.12 86.4  L 345.6 86.4  L 296.670653 50.850747  z \" style=\"fill: #023eff; stroke: #ffffff; stroke-linejoin: miter\"/>\n",
       "   </g>\n",
       "   <g id=\"patch_13\">\n",
       "    <path d=\"M 326.910653 28.880102  C 320.874825 30.841261 315.185131 33.740305 310.050749 37.470652  C 304.916367 41.200998 300.400999 45.716366 296.670653 50.850747  L 345.6 86.4  L 326.910653 28.880102  z \" style=\"fill: #ff7c00; stroke: #ffffff; stroke-linejoin: miter\"/>\n",
       "   </g>\n",
       "   <g id=\"patch_14\">\n",
       "    <path d=\"M 364.289349 28.880102  C 358.253522 26.918943 351.946446 25.92 345.600001 25.92  C 339.253556 25.92 332.946481 26.918942 326.910653 28.880102  L 345.6 86.4  L 364.289349 28.880102  z \" style=\"fill: #1ac938; stroke: #ffffff; stroke-linejoin: miter\"/>\n",
       "   </g>\n",
       "   <g id=\"patch_15\">\n",
       "    <path d=\"M 394.529349 50.85075  C 390.799003 45.716368 386.283635 41.201 381.149254 37.470653  C 376.014872 33.740306 370.325177 30.841262 364.289349 28.880102  L 345.6 86.4  L 394.529349 50.85075  z \" style=\"fill: #e8000b; stroke: #ffffff; stroke-linejoin: miter\"/>\n",
       "   </g>\n",
       "   <g id=\"patch_16\">\n",
       "    <path d=\"M 406.08 86.400003  C 406.08 80.053558 405.081058 73.746483 403.119899 67.710655  C 401.15874 61.674827 398.259696 55.985132 394.529349 50.85075  L 345.6 86.4  L 406.08 86.400003  z \" style=\"fill: #8b2be2; stroke: #ffffff; stroke-linejoin: miter\"/>\n",
       "   </g>\n",
       "   <g id=\"patch_17\">\n",
       "    <path d=\"M 394.529346 121.949255  C 398.259693 116.814873 401.158737 111.125179 403.119897 105.089351  C 405.081057 99.053523 406.08 92.746448 406.08 86.400003  L 345.6 86.4  L 394.529346 121.949255  z \" style=\"fill: #9f4800; stroke: #ffffff; stroke-linejoin: miter\"/>\n",
       "   </g>\n",
       "   <g id=\"patch_18\">\n",
       "    <path d=\"M 364.289344 143.919899  C 370.325172 141.95874 376.014867 139.059696 381.149249 135.32935  C 386.283631 131.599003 390.798999 127.083636 394.529346 121.949255  L 345.6 86.4  L 364.289344 143.919899  z \" style=\"fill: #f14cc1; stroke: #ffffff; stroke-linejoin: miter\"/>\n",
       "   </g>\n",
       "   <g id=\"patch_19\">\n",
       "    <path d=\"M 326.910648 143.919897  C 332.946476 145.881057 339.253551 146.88 345.599996 146.88  C 351.946441 146.88 358.253516 145.881058 364.289344 143.919899  L 345.6 86.4  L 326.910648 143.919897  z \" style=\"fill: #a3a3a3; stroke: #ffffff; stroke-linejoin: miter\"/>\n",
       "   </g>\n",
       "   <g id=\"patch_20\">\n",
       "    <path d=\"M 296.670649 121.949248  C 300.400996 127.08363 304.916362 131.598998 310.050744 135.329345  C 315.185126 139.059692 320.87482 141.958737 326.910648 143.919897  L 345.6 86.4  L 296.670649 121.949248  z \" style=\"fill: #ffc400; stroke: #ffffff; stroke-linejoin: miter\"/>\n",
       "   </g>\n",
       "   <g id=\"patch_21\">\n",
       "    <path d=\"M 285.12 86.399994  C 285.119999 92.746439 286.118941 99.053515 288.0801 105.089343  C 290.041259 111.125171 292.940303 116.814866 296.670649 121.949248  L 345.6 86.4  L 285.12 86.399994  z \" style=\"fill: #00d7ff; stroke: #ffffff; stroke-linejoin: miter\"/>\n",
       "   </g>\n",
       "  </g>\n",
       "  <g id=\"axes_3\">\n",
       "   <g id=\"matplotlib.axis_5\"/>\n",
       "   <g id=\"matplotlib.axis_6\"/>\n",
       "   <g id=\"patch_22\">\n",
       "    <path d=\"M 162.750653 89.730747  C 159.020306 94.865129 156.121261 100.554824 154.160102 106.590652  C 152.198943 112.62648 151.2 118.933555 151.2 125.28  L 211.68 125.28  L 162.750653 89.730747  z \" style=\"fill: #4878d0; stroke: #ffffff; stroke-linejoin: miter\"/>\n",
       "   </g>\n",
       "   <g id=\"patch_23\">\n",
       "    <path d=\"M 192.990653 67.760102  C 186.954825 69.721261 181.265131 72.620305 176.130749 76.350652  C 170.996367 80.080998 166.480999 84.596366 162.750653 89.730747  L 211.68 125.28  L 192.990653 67.760102  z \" style=\"fill: #ee854a; stroke: #ffffff; stroke-linejoin: miter\"/>\n",
       "   </g>\n",
       "   <g id=\"patch_24\">\n",
       "    <path d=\"M 230.369349 67.760102  C 224.333522 65.798943 218.026446 64.8 211.680001 64.8  C 205.333556 64.8 199.026481 65.798942 192.990653 67.760102  L 211.68 125.28  L 230.369349 67.760102  z \" style=\"fill: #6acc64; stroke: #ffffff; stroke-linejoin: miter\"/>\n",
       "   </g>\n",
       "   <g id=\"patch_25\">\n",
       "    <path d=\"M 260.609349 89.73075  C 256.879003 84.596368 252.363635 80.081 247.229254 76.350653  C 242.094872 72.620306 236.405177 69.721262 230.369349 67.760102  L 211.68 125.28  L 260.609349 89.73075  z \" style=\"fill: #d65f5f; stroke: #ffffff; stroke-linejoin: miter\"/>\n",
       "   </g>\n",
       "   <g id=\"patch_26\">\n",
       "    <path d=\"M 272.16 125.280003  C 272.16 118.933558 271.161058 112.626483 269.199899 106.590655  C 267.23874 100.554827 264.339696 94.865132 260.609349 89.73075  L 211.68 125.28  L 272.16 125.280003  z \" style=\"fill: #956cb4; stroke: #ffffff; stroke-linejoin: miter\"/>\n",
       "   </g>\n",
       "   <g id=\"patch_27\">\n",
       "    <path d=\"M 260.609346 160.829255  C 264.339693 155.694873 267.238737 150.005179 269.199897 143.969351  C 271.161057 137.933523 272.16 131.626448 272.16 125.280003  L 211.68 125.28  L 260.609346 160.829255  z \" style=\"fill: #8c613c; stroke: #ffffff; stroke-linejoin: miter\"/>\n",
       "   </g>\n",
       "   <g id=\"patch_28\">\n",
       "    <path d=\"M 230.369344 182.799899  C 236.405172 180.83874 242.094867 177.939696 247.229249 174.20935  C 252.363631 170.479003 256.878999 165.963636 260.609346 160.829255  L 211.68 125.28  L 230.369344 182.799899  z \" style=\"fill: #dc7ec0; stroke: #ffffff; stroke-linejoin: miter\"/>\n",
       "   </g>\n",
       "   <g id=\"patch_29\">\n",
       "    <path d=\"M 192.990648 182.799897  C 199.026476 184.761057 205.333551 185.76 211.679996 185.76  C 218.026441 185.76 224.333516 184.761058 230.369344 182.799899  L 211.68 125.28  L 192.990648 182.799897  z \" style=\"fill: #797979; stroke: #ffffff; stroke-linejoin: miter\"/>\n",
       "   </g>\n",
       "   <g id=\"patch_30\">\n",
       "    <path d=\"M 162.750649 160.829248  C 166.480996 165.96363 170.996362 170.478998 176.130744 174.209345  C 181.265126 177.939692 186.95482 180.838737 192.990648 182.799897  L 211.68 125.28  L 162.750649 160.829248  z \" style=\"fill: #d5bb67; stroke: #ffffff; stroke-linejoin: miter\"/>\n",
       "   </g>\n",
       "   <g id=\"patch_31\">\n",
       "    <path d=\"M 151.2 125.279994  C 151.199999 131.626439 152.198941 137.933515 154.1601 143.969343  C 156.121259 150.005171 159.020303 155.694866 162.750649 160.829248  L 211.68 125.28  L 151.2 125.279994  z \" style=\"fill: #82c6e2; stroke: #ffffff; stroke-linejoin: miter\"/>\n",
       "   </g>\n",
       "  </g>\n",
       "  <g id=\"axes_4\">\n",
       "   <g id=\"matplotlib.axis_7\"/>\n",
       "   <g id=\"matplotlib.axis_8\"/>\n",
       "   <g id=\"patch_32\">\n",
       "    <path d=\"M 296.670653 310.050747  C 292.940306 315.185129 290.041261 320.874824 288.080102 326.910652  C 286.118943 332.94648 285.12 339.253555 285.12 345.6  L 345.6 345.6  L 296.670653 310.050747  z \" style=\"fill: #001c7f; stroke: #ffffff; stroke-linejoin: miter\"/>\n",
       "   </g>\n",
       "   <g id=\"patch_33\">\n",
       "    <path d=\"M 326.910653 288.080102  C 320.874825 290.041261 315.185131 292.940305 310.050749 296.670652  C 304.916367 300.400998 300.400999 304.916366 296.670653 310.050747  L 345.6 345.6  L 326.910653 288.080102  z \" style=\"fill: #b1400d; stroke: #ffffff; stroke-linejoin: miter\"/>\n",
       "   </g>\n",
       "   <g id=\"patch_34\">\n",
       "    <path d=\"M 364.289349 288.080102  C 358.253522 286.118943 351.946446 285.12 345.600001 285.12  C 339.253556 285.12 332.946481 286.118942 326.910653 288.080102  L 345.6 345.6  L 364.289349 288.080102  z \" style=\"fill: #12711c; stroke: #ffffff; stroke-linejoin: miter\"/>\n",
       "   </g>\n",
       "   <g id=\"patch_35\">\n",
       "    <path d=\"M 394.529349 310.05075  C 390.799003 304.916368 386.283635 300.401 381.149254 296.670653  C 376.014872 292.940306 370.325177 290.041262 364.289349 288.080102  L 345.6 345.6  L 394.529349 310.05075  z \" style=\"fill: #8c0800; stroke: #ffffff; stroke-linejoin: miter\"/>\n",
       "   </g>\n",
       "   <g id=\"patch_36\">\n",
       "    <path d=\"M 406.08 345.600003  C 406.08 339.253558 405.081058 332.946483 403.119899 326.910655  C 401.15874 320.874827 398.259696 315.185132 394.529349 310.05075  L 345.6 345.6  L 406.08 345.600003  z \" style=\"fill: #591e71; stroke: #ffffff; stroke-linejoin: miter\"/>\n",
       "   </g>\n",
       "   <g id=\"patch_37\">\n",
       "    <path d=\"M 394.529346 381.149255  C 398.259693 376.014873 401.158737 370.325179 403.119897 364.289351  C 405.081057 358.253523 406.08 351.946448 406.08 345.600003  L 345.6 345.6  L 394.529346 381.149255  z \" style=\"fill: #592f0d; stroke: #ffffff; stroke-linejoin: miter\"/>\n",
       "   </g>\n",
       "   <g id=\"patch_38\">\n",
       "    <path d=\"M 364.289344 403.119899  C 370.325172 401.15874 376.014867 398.259696 381.149249 394.52935  C 386.283631 390.799003 390.798999 386.283636 394.529346 381.149255  L 345.6 345.6  L 364.289344 403.119899  z \" style=\"fill: #a23582; stroke: #ffffff; stroke-linejoin: miter\"/>\n",
       "   </g>\n",
       "   <g id=\"patch_39\">\n",
       "    <path d=\"M 326.910648 403.119897  C 332.946476 405.081057 339.253551 406.08 345.599996 406.08  C 351.946441 406.08 358.253516 405.081058 364.289344 403.119899  L 345.6 345.6  L 326.910648 403.119897  z \" style=\"fill: #3c3c3c; stroke: #ffffff; stroke-linejoin: miter\"/>\n",
       "   </g>\n",
       "   <g id=\"patch_40\">\n",
       "    <path d=\"M 296.670649 381.149248  C 300.400996 386.28363 304.916362 390.798998 310.050744 394.529345  C 315.185126 398.259692 320.87482 401.158737 326.910648 403.119897  L 345.6 345.6  L 296.670649 381.149248  z \" style=\"fill: #b8850a; stroke: #ffffff; stroke-linejoin: miter\"/>\n",
       "   </g>\n",
       "   <g id=\"patch_41\">\n",
       "    <path d=\"M 285.12 345.599994  C 285.119999 351.946439 286.118941 358.253515 288.0801 364.289343  C 290.041259 370.325171 292.940303 376.014866 296.670649 381.149248  L 345.6 345.6  L 285.12 345.599994  z \" style=\"fill: #006374; stroke: #ffffff; stroke-linejoin: miter\"/>\n",
       "   </g>\n",
       "  </g>\n",
       "  <g id=\"axes_5\">\n",
       "   <g id=\"matplotlib.axis_9\"/>\n",
       "   <g id=\"matplotlib.axis_10\"/>\n",
       "   <g id=\"patch_42\">\n",
       "    <path d=\"M 37.470653 50.850747  C 33.740306 55.985129 30.841261 61.674824 28.880102 67.710652  C 26.918943 73.74648 25.92 80.053555 25.92 86.4  L 86.4 86.4  L 37.470653 50.850747  z \" style=\"fill: #a1c9f4; stroke: #ffffff; stroke-linejoin: miter\"/>\n",
       "   </g>\n",
       "   <g id=\"patch_43\">\n",
       "    <path d=\"M 67.710653 28.880102  C 61.674825 30.841261 55.985131 33.740305 50.850749 37.470652  C 45.716367 41.200998 41.200999 45.716366 37.470653 50.850747  L 86.4 86.4  L 67.710653 28.880102  z \" style=\"fill: #ffb482; stroke: #ffffff; stroke-linejoin: miter\"/>\n",
       "   </g>\n",
       "   <g id=\"patch_44\">\n",
       "    <path d=\"M 105.089349 28.880102  C 99.053522 26.918943 92.746446 25.92 86.400001 25.92  C 80.053556 25.92 73.746481 26.918942 67.710653 28.880102  L 86.4 86.4  L 105.089349 28.880102  z \" style=\"fill: #8de5a1; stroke: #ffffff; stroke-linejoin: miter\"/>\n",
       "   </g>\n",
       "   <g id=\"patch_45\">\n",
       "    <path d=\"M 135.329349 50.85075  C 131.599003 45.716368 127.083635 41.201 121.949254 37.470653  C 116.814872 33.740306 111.125177 30.841262 105.089349 28.880102  L 86.4 86.4  L 135.329349 50.85075  z \" style=\"fill: #ff9f9b; stroke: #ffffff; stroke-linejoin: miter\"/>\n",
       "   </g>\n",
       "   <g id=\"patch_46\">\n",
       "    <path d=\"M 146.88 86.400003  C 146.88 80.053558 145.881058 73.746483 143.919899 67.710655  C 141.95874 61.674827 139.059696 55.985132 135.329349 50.85075  L 86.4 86.4  L 146.88 86.400003  z \" style=\"fill: #d0bbff; stroke: #ffffff; stroke-linejoin: miter\"/>\n",
       "   </g>\n",
       "   <g id=\"patch_47\">\n",
       "    <path d=\"M 135.329346 121.949255  C 139.059693 116.814873 141.958737 111.125179 143.919897 105.089351  C 145.881057 99.053523 146.88 92.746448 146.88 86.400003  L 86.4 86.4  L 135.329346 121.949255  z \" style=\"fill: #debb9b; stroke: #ffffff; stroke-linejoin: miter\"/>\n",
       "   </g>\n",
       "   <g id=\"patch_48\">\n",
       "    <path d=\"M 105.089344 143.919899  C 111.125172 141.95874 116.814867 139.059696 121.949249 135.32935  C 127.083631 131.599003 131.598999 127.083636 135.329346 121.949255  L 86.4 86.4  L 105.089344 143.919899  z \" style=\"fill: #fab0e4; stroke: #ffffff; stroke-linejoin: miter\"/>\n",
       "   </g>\n",
       "   <g id=\"patch_49\">\n",
       "    <path d=\"M 67.710648 143.919897  C 73.746476 145.881057 80.053551 146.88 86.399996 146.88  C 92.746441 146.88 99.053516 145.881058 105.089344 143.919899  L 86.4 86.4  L 67.710648 143.919897  z \" style=\"fill: #cfcfcf; stroke: #ffffff; stroke-linejoin: miter\"/>\n",
       "   </g>\n",
       "   <g id=\"patch_50\">\n",
       "    <path d=\"M 37.470649 121.949248  C 41.200996 127.08363 45.716362 131.598998 50.850744 135.329345  C 55.985126 139.059692 61.67482 141.958737 67.710648 143.919897  L 86.4 86.4  L 37.470649 121.949248  z \" style=\"fill: #fffea3; stroke: #ffffff; stroke-linejoin: miter\"/>\n",
       "   </g>\n",
       "   <g id=\"patch_51\">\n",
       "    <path d=\"M 25.92 86.399994  C 25.919999 92.746439 26.918941 99.053515 28.8801 105.089343  C 30.841259 111.125171 33.740303 116.814866 37.470649 121.949248  L 86.4 86.4  L 25.92 86.399994  z \" style=\"fill: #b9f2f0; stroke: #ffffff; stroke-linejoin: miter\"/>\n",
       "   </g>\n",
       "  </g>\n",
       "  <g id=\"axes_6\">\n",
       "   <g id=\"matplotlib.axis_11\"/>\n",
       "   <g id=\"matplotlib.axis_12\"/>\n",
       "   <g id=\"patch_52\">\n",
       "    <path d=\"M 257.790653 184.770747  C 254.060306 189.905129 251.161261 195.594824 249.200102 201.630652  C 247.238943 207.66648 246.24 213.973555 246.24 220.32  L 306.72 220.32  L 257.790653 184.770747  z \" style=\"fill: #0173b2; stroke: #ffffff; stroke-linejoin: miter\"/>\n",
       "   </g>\n",
       "   <g id=\"patch_53\">\n",
       "    <path d=\"M 288.030653 162.800102  C 281.994825 164.761261 276.305131 167.660305 271.170749 171.390652  C 266.036367 175.120998 261.520999 179.636366 257.790653 184.770747  L 306.72 220.32  L 288.030653 162.800102  z \" style=\"fill: #de8f05; stroke: #ffffff; stroke-linejoin: miter\"/>\n",
       "   </g>\n",
       "   <g id=\"patch_54\">\n",
       "    <path d=\"M 325.409349 162.800102  C 319.373522 160.838943 313.066446 159.84 306.720001 159.84  C 300.373556 159.84 294.066481 160.838942 288.030653 162.800102  L 306.72 220.32  L 325.409349 162.800102  z \" style=\"fill: #029e73; stroke: #ffffff; stroke-linejoin: miter\"/>\n",
       "   </g>\n",
       "   <g id=\"patch_55\">\n",
       "    <path d=\"M 355.649349 184.77075  C 351.919003 179.636368 347.403635 175.121 342.269254 171.390653  C 337.134872 167.660306 331.445177 164.761262 325.409349 162.800102  L 306.72 220.32  L 355.649349 184.77075  z \" style=\"fill: #d55e00; stroke: #ffffff; stroke-linejoin: miter\"/>\n",
       "   </g>\n",
       "   <g id=\"patch_56\">\n",
       "    <path d=\"M 367.2 220.320003  C 367.2 213.973558 366.201058 207.666483 364.239899 201.630655  C 362.27874 195.594827 359.379696 189.905132 355.649349 184.77075  L 306.72 220.32  L 367.2 220.320003  z \" style=\"fill: #cc78bc; stroke: #ffffff; stroke-linejoin: miter\"/>\n",
       "   </g>\n",
       "   <g id=\"patch_57\">\n",
       "    <path d=\"M 355.649346 255.869255  C 359.379693 250.734873 362.278737 245.045179 364.239897 239.009351  C 366.201057 232.973523 367.2 226.666448 367.2 220.320003  L 306.72 220.32  L 355.649346 255.869255  z \" style=\"fill: #ca9161; stroke: #ffffff; stroke-linejoin: miter\"/>\n",
       "   </g>\n",
       "   <g id=\"patch_58\">\n",
       "    <path d=\"M 325.409344 277.839899  C 331.445172 275.87874 337.134867 272.979696 342.269249 269.24935  C 347.403631 265.519003 351.918999 261.003636 355.649346 255.869255  L 306.72 220.32  L 325.409344 277.839899  z \" style=\"fill: #fbafe4; stroke: #ffffff; stroke-linejoin: miter\"/>\n",
       "   </g>\n",
       "   <g id=\"patch_59\">\n",
       "    <path d=\"M 288.030648 277.839897  C 294.066476 279.801057 300.373551 280.8 306.719996 280.8  C 313.066441 280.8 319.373516 279.801058 325.409344 277.839899  L 306.72 220.32  L 288.030648 277.839897  z \" style=\"fill: #949494; stroke: #ffffff; stroke-linejoin: miter\"/>\n",
       "   </g>\n",
       "   <g id=\"patch_60\">\n",
       "    <path d=\"M 257.790649 255.869248  C 261.520996 261.00363 266.036362 265.518998 271.170744 269.249345  C 276.305126 272.979692 281.99482 275.878737 288.030648 277.839897  L 306.72 220.32  L 257.790649 255.869248  z \" style=\"fill: #ece133; stroke: #ffffff; stroke-linejoin: miter\"/>\n",
       "   </g>\n",
       "   <g id=\"patch_61\">\n",
       "    <path d=\"M 246.24 220.319994  C 246.239999 226.666439 247.238941 232.973515 249.2001 239.009343  C 251.161259 245.045171 254.060303 250.734866 257.790649 255.869248  L 306.72 220.32  L 246.24 220.319994  z \" style=\"fill: #56b4e9; stroke: #ffffff; stroke-linejoin: miter\"/>\n",
       "   </g>\n",
       "  </g>\n",
       "  <g id=\"axes_7\">\n",
       "   <g id=\"patch_62\">\n",
       "    <path d=\"M 247.32 410.4  L 237.6 413.64  L 237.6 410.832  L 64.8 410.832  L 64.8 409.968  L 237.6 409.968  L 237.6 407.16  z \" clip-path=\"url(#pd48062e0f0)\" style=\"fill: #262626; stroke: #262626; stroke-linejoin: miter\"/>\n",
       "   </g>\n",
       "   <g id=\"patch_63\">\n",
       "    <path d=\"M 21.6 184.68  L 24.84 194.4  L 22.032 194.4  L 22.032 367.2  L 21.168 367.2  L 21.168 194.4  L 18.36 194.4  z \" clip-path=\"url(#pd48062e0f0)\" style=\"fill: #262626; stroke: #262626; stroke-linejoin: miter\"/>\n",
       "   </g>\n",
       "  </g>\n",
       "  <g id=\"text_1\">\n",
       "   <g id=\"patch_64\">\n",
       "    <path d=\"M 155.297813 268.774687  L 190.302188 268.774687  Q 193.102188 268.774687 193.102188 265.974687  L 193.102188 252.425312  Q 193.102188 249.625312 190.302188 249.625312  L 155.297813 249.625312  Q 152.497813 249.625312 152.497813 252.425312  L 152.497813 265.974687  Q 152.497813 268.774687 155.297813 268.774687  z \" style=\"fill: #ffffff; opacity: 0.85; stroke: #ffffff; stroke-linejoin: miter\"/>\n",
       "   </g>\n",
       "   <!-- deep -->\n",
       "   <g style=\"fill: #262626\" transform=\"translate(155.297813 263.063125) scale(0.14 -0.14)\">\n",
       "    <defs>\n",
       "     <path id=\"DejaVuSans-64\" d=\"M 2906 2969  L 2906 4863  L 3481 4863  L 3481 0  L 2906 0  L 2906 525  Q 2725 213 2448 61  Q 2172 -91 1784 -91  Q 1150 -91 751 415  Q 353 922 353 1747  Q 353 2572 751 3078  Q 1150 3584 1784 3584  Q 2172 3584 2448 3432  Q 2725 3281 2906 2969  z M 947 1747  Q 947 1113 1208 752  Q 1469 391 1925 391  Q 2381 391 2643 752  Q 2906 1113 2906 1747  Q 2906 2381 2643 2742  Q 2381 3103 1925 3103  Q 1469 3103 1208 2742  Q 947 2381 947 1747  z \" transform=\"scale(0.015625)\"/>\n",
       "     <path id=\"DejaVuSans-65\" d=\"M 3597 1894  L 3597 1613  L 953 1613  Q 991 1019 1311 708  Q 1631 397 2203 397  Q 2534 397 2845 478  Q 3156 559 3463 722  L 3463 178  Q 3153 47 2828 -22  Q 2503 -91 2169 -91  Q 1331 -91 842 396  Q 353 884 353 1716  Q 353 2575 817 3079  Q 1281 3584 2069 3584  Q 2775 3584 3186 3129  Q 3597 2675 3597 1894  z M 3022 2063  Q 3016 2534 2758 2815  Q 2500 3097 2075 3097  Q 1594 3097 1305 2825  Q 1016 2553 972 2059  L 3022 2063  z \" transform=\"scale(0.015625)\"/>\n",
       "     <path id=\"DejaVuSans-70\" d=\"M 1159 525  L 1159 -1331  L 581 -1331  L 581 3500  L 1159 3500  L 1159 2969  Q 1341 3281 1617 3432  Q 1894 3584 2278 3584  Q 2916 3584 3314 3078  Q 3713 2572 3713 1747  Q 3713 922 3314 415  Q 2916 -91 2278 -91  Q 1894 -91 1617 61  Q 1341 213 1159 525  z M 3116 1747  Q 3116 2381 2855 2742  Q 2594 3103 2138 3103  Q 1681 3103 1420 2742  Q 1159 2381 1159 1747  Q 1159 1113 1420 752  Q 1681 391 2138 391  Q 2594 391 2855 752  Q 3116 1113 3116 1747  z \" transform=\"scale(0.015625)\"/>\n",
       "    </defs>\n",
       "    <use xlink:href=\"#DejaVuSans-64\"/>\n",
       "    <use xlink:href=\"#DejaVuSans-65\" x=\"63.476562\"/>\n",
       "    <use xlink:href=\"#DejaVuSans-65\" x=\"125\"/>\n",
       "    <use xlink:href=\"#DejaVuSans-70\" x=\"186.523438\"/>\n",
       "   </g>\n",
       "  </g>\n",
       "  <g id=\"text_2\">\n",
       "   <g id=\"patch_65\">\n",
       "    <path d=\"M 324.709375 95.974688  L 366.490625 95.974688  Q 369.290625 95.974688 369.290625 93.174688  L 369.290625 79.625313  Q 369.290625 76.825312 366.490625 76.825312  L 324.709375 76.825312  Q 321.909375 76.825312 321.909375 79.625313  L 321.909375 93.174688  Q 321.909375 95.974688 324.709375 95.974688  z \" style=\"fill: #ffffff; opacity: 0.85; stroke: #ffffff; stroke-linejoin: miter\"/>\n",
       "   </g>\n",
       "   <!-- bright -->\n",
       "   <g style=\"fill: #262626\" transform=\"translate(324.709375 90.263125) scale(0.14 -0.14)\">\n",
       "    <defs>\n",
       "     <path id=\"DejaVuSans-62\" d=\"M 3116 1747  Q 3116 2381 2855 2742  Q 2594 3103 2138 3103  Q 1681 3103 1420 2742  Q 1159 2381 1159 1747  Q 1159 1113 1420 752  Q 1681 391 2138 391  Q 2594 391 2855 752  Q 3116 1113 3116 1747  z M 1159 2969  Q 1341 3281 1617 3432  Q 1894 3584 2278 3584  Q 2916 3584 3314 3078  Q 3713 2572 3713 1747  Q 3713 922 3314 415  Q 2916 -91 2278 -91  Q 1894 -91 1617 61  Q 1341 213 1159 525  L 1159 0  L 581 0  L 581 4863  L 1159 4863  L 1159 2969  z \" transform=\"scale(0.015625)\"/>\n",
       "     <path id=\"DejaVuSans-72\" d=\"M 2631 2963  Q 2534 3019 2420 3045  Q 2306 3072 2169 3072  Q 1681 3072 1420 2755  Q 1159 2438 1159 1844  L 1159 0  L 581 0  L 581 3500  L 1159 3500  L 1159 2956  Q 1341 3275 1631 3429  Q 1922 3584 2338 3584  Q 2397 3584 2469 3576  Q 2541 3569 2628 3553  L 2631 2963  z \" transform=\"scale(0.015625)\"/>\n",
       "     <path id=\"DejaVuSans-69\" d=\"M 603 3500  L 1178 3500  L 1178 0  L 603 0  L 603 3500  z M 603 4863  L 1178 4863  L 1178 4134  L 603 4134  L 603 4863  z \" transform=\"scale(0.015625)\"/>\n",
       "     <path id=\"DejaVuSans-67\" d=\"M 2906 1791  Q 2906 2416 2648 2759  Q 2391 3103 1925 3103  Q 1463 3103 1205 2759  Q 947 2416 947 1791  Q 947 1169 1205 825  Q 1463 481 1925 481  Q 2391 481 2648 825  Q 2906 1169 2906 1791  z M 3481 434  Q 3481 -459 3084 -895  Q 2688 -1331 1869 -1331  Q 1566 -1331 1297 -1286  Q 1028 -1241 775 -1147  L 775 -588  Q 1028 -725 1275 -790  Q 1522 -856 1778 -856  Q 2344 -856 2625 -561  Q 2906 -266 2906 331  L 2906 616  Q 2728 306 2450 153  Q 2172 0 1784 0  Q 1141 0 747 490  Q 353 981 353 1791  Q 353 2603 747 3093  Q 1141 3584 1784 3584  Q 2172 3584 2450 3431  Q 2728 3278 2906 2969  L 2906 3500  L 3481 3500  L 3481 434  z \" transform=\"scale(0.015625)\"/>\n",
       "     <path id=\"DejaVuSans-68\" d=\"M 3513 2113  L 3513 0  L 2938 0  L 2938 2094  Q 2938 2591 2744 2837  Q 2550 3084 2163 3084  Q 1697 3084 1428 2787  Q 1159 2491 1159 1978  L 1159 0  L 581 0  L 581 4863  L 1159 4863  L 1159 2956  Q 1366 3272 1645 3428  Q 1925 3584 2291 3584  Q 2894 3584 3203 3211  Q 3513 2838 3513 2113  z \" transform=\"scale(0.015625)\"/>\n",
       "     <path id=\"DejaVuSans-74\" d=\"M 1172 4494  L 1172 3500  L 2356 3500  L 2356 3053  L 1172 3053  L 1172 1153  Q 1172 725 1289 603  Q 1406 481 1766 481  L 2356 481  L 2356 0  L 1766 0  Q 1100 0 847 248  Q 594 497 594 1153  L 594 3053  L 172 3053  L 172 3500  L 594 3500  L 594 4494  L 1172 4494  z \" transform=\"scale(0.015625)\"/>\n",
       "    </defs>\n",
       "    <use xlink:href=\"#DejaVuSans-62\"/>\n",
       "    <use xlink:href=\"#DejaVuSans-72\" x=\"63.476562\"/>\n",
       "    <use xlink:href=\"#DejaVuSans-69\" x=\"104.589844\"/>\n",
       "    <use xlink:href=\"#DejaVuSans-67\" x=\"132.373047\"/>\n",
       "    <use xlink:href=\"#DejaVuSans-68\" x=\"195.849609\"/>\n",
       "    <use xlink:href=\"#DejaVuSans-74\" x=\"259.228516\"/>\n",
       "   </g>\n",
       "  </g>\n",
       "  <g id=\"text_3\">\n",
       "   <g id=\"patch_66\">\n",
       "    <path d=\"M 188.93 134.854688  L 234.43 134.854688  Q 237.23 134.854688 237.23 132.054688  L 237.23 118.505313  Q 237.23 115.705313 234.43 115.705313  L 188.93 115.705313  Q 186.13 115.705313 186.13 118.505313  L 186.13 132.054688  Q 186.13 134.854688 188.93 134.854688  z \" style=\"fill: #ffffff; opacity: 0.85; stroke: #ffffff; stroke-linejoin: miter\"/>\n",
       "   </g>\n",
       "   <!-- muted -->\n",
       "   <g style=\"fill: #262626\" transform=\"translate(188.93 129.143125) scale(0.14 -0.14)\">\n",
       "    <defs>\n",
       "     <path id=\"DejaVuSans-6d\" d=\"M 3328 2828  Q 3544 3216 3844 3400  Q 4144 3584 4550 3584  Q 5097 3584 5394 3201  Q 5691 2819 5691 2113  L 5691 0  L 5113 0  L 5113 2094  Q 5113 2597 4934 2840  Q 4756 3084 4391 3084  Q 3944 3084 3684 2787  Q 3425 2491 3425 1978  L 3425 0  L 2847 0  L 2847 2094  Q 2847 2600 2669 2842  Q 2491 3084 2119 3084  Q 1678 3084 1418 2786  Q 1159 2488 1159 1978  L 1159 0  L 581 0  L 581 3500  L 1159 3500  L 1159 2956  Q 1356 3278 1631 3431  Q 1906 3584 2284 3584  Q 2666 3584 2933 3390  Q 3200 3197 3328 2828  z \" transform=\"scale(0.015625)\"/>\n",
       "     <path id=\"DejaVuSans-75\" d=\"M 544 1381  L 544 3500  L 1119 3500  L 1119 1403  Q 1119 906 1312 657  Q 1506 409 1894 409  Q 2359 409 2629 706  Q 2900 1003 2900 1516  L 2900 3500  L 3475 3500  L 3475 0  L 2900 0  L 2900 538  Q 2691 219 2414 64  Q 2138 -91 1772 -91  Q 1169 -91 856 284  Q 544 659 544 1381  z M 1991 3584  L 1991 3584  z \" transform=\"scale(0.015625)\"/>\n",
       "    </defs>\n",
       "    <use xlink:href=\"#DejaVuSans-6d\"/>\n",
       "    <use xlink:href=\"#DejaVuSans-75\" x=\"97.412109\"/>\n",
       "    <use xlink:href=\"#DejaVuSans-74\" x=\"160.791016\"/>\n",
       "    <use xlink:href=\"#DejaVuSans-65\" x=\"200\"/>\n",
       "    <use xlink:href=\"#DejaVuSans-64\" x=\"261.523438\"/>\n",
       "   </g>\n",
       "  </g>\n",
       "  <g id=\"text_4\">\n",
       "   <g id=\"patch_67\">\n",
       "    <path d=\"M 329.935313 355.174688  L 361.264688 355.174688  Q 364.064687 355.174688 364.064687 352.374687  L 364.064687 338.825312  Q 364.064687 336.025312 361.264688 336.025312  L 329.935313 336.025312  Q 327.135312 336.025312 327.135312 338.825312  L 327.135312 352.374687  Q 327.135312 355.174688 329.935313 355.174688  z \" style=\"fill: #ffffff; opacity: 0.85; stroke: #ffffff; stroke-linejoin: miter\"/>\n",
       "   </g>\n",
       "   <!-- dark -->\n",
       "   <g style=\"fill: #262626\" transform=\"translate(329.935313 349.463125) scale(0.14 -0.14)\">\n",
       "    <defs>\n",
       "     <path id=\"DejaVuSans-61\" d=\"M 2194 1759  Q 1497 1759 1228 1600  Q 959 1441 959 1056  Q 959 750 1161 570  Q 1363 391 1709 391  Q 2188 391 2477 730  Q 2766 1069 2766 1631  L 2766 1759  L 2194 1759  z M 3341 1997  L 3341 0  L 2766 0  L 2766 531  Q 2569 213 2275 61  Q 1981 -91 1556 -91  Q 1019 -91 701 211  Q 384 513 384 1019  Q 384 1609 779 1909  Q 1175 2209 1959 2209  L 2766 2209  L 2766 2266  Q 2766 2663 2505 2880  Q 2244 3097 1772 3097  Q 1472 3097 1187 3025  Q 903 2953 641 2809  L 641 3341  Q 956 3463 1253 3523  Q 1550 3584 1831 3584  Q 2591 3584 2966 3190  Q 3341 2797 3341 1997  z \" transform=\"scale(0.015625)\"/>\n",
       "     <path id=\"DejaVuSans-6b\" d=\"M 581 4863  L 1159 4863  L 1159 1991  L 2875 3500  L 3609 3500  L 1753 1863  L 3688 0  L 2938 0  L 1159 1709  L 1159 0  L 581 0  L 581 4863  z \" transform=\"scale(0.015625)\"/>\n",
       "    </defs>\n",
       "    <use xlink:href=\"#DejaVuSans-64\"/>\n",
       "    <use xlink:href=\"#DejaVuSans-61\" x=\"63.476562\"/>\n",
       "    <use xlink:href=\"#DejaVuSans-72\" x=\"124.755859\"/>\n",
       "    <use xlink:href=\"#DejaVuSans-6b\" x=\"165.869141\"/>\n",
       "   </g>\n",
       "  </g>\n",
       "  <g id=\"text_5\">\n",
       "   <g id=\"patch_68\">\n",
       "    <path d=\"M 65.02375 95.974688  L 107.77625 95.974688  Q 110.57625 95.974688 110.57625 93.174688  L 110.57625 79.625313  Q 110.57625 76.825312 107.77625 76.825312  L 65.02375 76.825312  Q 62.22375 76.825312 62.22375 79.625313  L 62.22375 93.174688  Q 62.22375 95.974688 65.02375 95.974688  z \" style=\"fill: #ffffff; opacity: 0.85; stroke: #ffffff; stroke-linejoin: miter\"/>\n",
       "   </g>\n",
       "   <!-- pastel -->\n",
       "   <g style=\"fill: #262626\" transform=\"translate(65.02375 90.263125) scale(0.14 -0.14)\">\n",
       "    <defs>\n",
       "     <path id=\"DejaVuSans-73\" d=\"M 2834 3397  L 2834 2853  Q 2591 2978 2328 3040  Q 2066 3103 1784 3103  Q 1356 3103 1142 2972  Q 928 2841 928 2578  Q 928 2378 1081 2264  Q 1234 2150 1697 2047  L 1894 2003  Q 2506 1872 2764 1633  Q 3022 1394 3022 966  Q 3022 478 2636 193  Q 2250 -91 1575 -91  Q 1294 -91 989 -36  Q 684 19 347 128  L 347 722  Q 666 556 975 473  Q 1284 391 1588 391  Q 1994 391 2212 530  Q 2431 669 2431 922  Q 2431 1156 2273 1281  Q 2116 1406 1581 1522  L 1381 1569  Q 847 1681 609 1914  Q 372 2147 372 2553  Q 372 3047 722 3315  Q 1072 3584 1716 3584  Q 2034 3584 2315 3537  Q 2597 3491 2834 3397  z \" transform=\"scale(0.015625)\"/>\n",
       "     <path id=\"DejaVuSans-6c\" d=\"M 603 4863  L 1178 4863  L 1178 0  L 603 0  L 603 4863  z \" transform=\"scale(0.015625)\"/>\n",
       "    </defs>\n",
       "    <use xlink:href=\"#DejaVuSans-70\"/>\n",
       "    <use xlink:href=\"#DejaVuSans-61\" x=\"63.476562\"/>\n",
       "    <use xlink:href=\"#DejaVuSans-73\" x=\"124.755859\"/>\n",
       "    <use xlink:href=\"#DejaVuSans-74\" x=\"176.855469\"/>\n",
       "    <use xlink:href=\"#DejaVuSans-65\" x=\"216.064453\"/>\n",
       "    <use xlink:href=\"#DejaVuSans-6c\" x=\"277.587891\"/>\n",
       "   </g>\n",
       "  </g>\n",
       "  <g id=\"text_6\">\n",
       "   <g id=\"patch_69\">\n",
       "    <path d=\"M 272.269062 229.894688  L 341.170937 229.894688  Q 343.970937 229.894688 343.970937 227.094687  L 343.970937 213.545312  Q 343.970937 210.745312 341.170937 210.745312  L 272.269062 210.745312  Q 269.469062 210.745312 269.469062 213.545312  L 269.469062 227.094687  Q 269.469062 229.894688 272.269062 229.894688  z \" style=\"fill: #ffffff; opacity: 0.85; stroke: #ffffff; stroke-linejoin: miter\"/>\n",
       "   </g>\n",
       "   <!-- colorblind -->\n",
       "   <g style=\"fill: #262626\" transform=\"translate(272.269062 224.183125) scale(0.14 -0.14)\">\n",
       "    <defs>\n",
       "     <path id=\"DejaVuSans-63\" d=\"M 3122 3366  L 3122 2828  Q 2878 2963 2633 3030  Q 2388 3097 2138 3097  Q 1578 3097 1268 2742  Q 959 2388 959 1747  Q 959 1106 1268 751  Q 1578 397 2138 397  Q 2388 397 2633 464  Q 2878 531 3122 666  L 3122 134  Q 2881 22 2623 -34  Q 2366 -91 2075 -91  Q 1284 -91 818 406  Q 353 903 353 1747  Q 353 2603 823 3093  Q 1294 3584 2113 3584  Q 2378 3584 2631 3529  Q 2884 3475 3122 3366  z \" transform=\"scale(0.015625)\"/>\n",
       "     <path id=\"DejaVuSans-6f\" d=\"M 1959 3097  Q 1497 3097 1228 2736  Q 959 2375 959 1747  Q 959 1119 1226 758  Q 1494 397 1959 397  Q 2419 397 2687 759  Q 2956 1122 2956 1747  Q 2956 2369 2687 2733  Q 2419 3097 1959 3097  z M 1959 3584  Q 2709 3584 3137 3096  Q 3566 2609 3566 1747  Q 3566 888 3137 398  Q 2709 -91 1959 -91  Q 1206 -91 779 398  Q 353 888 353 1747  Q 353 2609 779 3096  Q 1206 3584 1959 3584  z \" transform=\"scale(0.015625)\"/>\n",
       "     <path id=\"DejaVuSans-6e\" d=\"M 3513 2113  L 3513 0  L 2938 0  L 2938 2094  Q 2938 2591 2744 2837  Q 2550 3084 2163 3084  Q 1697 3084 1428 2787  Q 1159 2491 1159 1978  L 1159 0  L 581 0  L 581 3500  L 1159 3500  L 1159 2956  Q 1366 3272 1645 3428  Q 1925 3584 2291 3584  Q 2894 3584 3203 3211  Q 3513 2838 3513 2113  z \" transform=\"scale(0.015625)\"/>\n",
       "    </defs>\n",
       "    <use xlink:href=\"#DejaVuSans-63\"/>\n",
       "    <use xlink:href=\"#DejaVuSans-6f\" x=\"54.980469\"/>\n",
       "    <use xlink:href=\"#DejaVuSans-6c\" x=\"116.162109\"/>\n",
       "    <use xlink:href=\"#DejaVuSans-6f\" x=\"143.945312\"/>\n",
       "    <use xlink:href=\"#DejaVuSans-72\" x=\"205.126953\"/>\n",
       "    <use xlink:href=\"#DejaVuSans-62\" x=\"246.240234\"/>\n",
       "    <use xlink:href=\"#DejaVuSans-6c\" x=\"309.716797\"/>\n",
       "    <use xlink:href=\"#DejaVuSans-69\" x=\"337.5\"/>\n",
       "    <use xlink:href=\"#DejaVuSans-6e\" x=\"365.283203\"/>\n",
       "    <use xlink:href=\"#DejaVuSans-64\" x=\"428.662109\"/>\n",
       "   </g>\n",
       "  </g>\n",
       "  <g id=\"text_7\">\n",
       "   <g id=\"patch_70\">\n",
       "    <path d=\"M 39.24 423.070312  L 140.990625 423.070312  L 140.990625 397.729688  L 39.24 397.729688  z \" style=\"fill: #ffffff; stroke: #ffffff; stroke-linejoin: miter\"/>\n",
       "   </g>\n",
       "   <!-- Saturation -->\n",
       "   <g style=\"fill: #262626\" transform=\"translate(43.2 415.366875) scale(0.18 -0.18)\">\n",
       "    <defs>\n",
       "     <path id=\"DejaVuSans-53\" d=\"M 3425 4513  L 3425 3897  Q 3066 4069 2747 4153  Q 2428 4238 2131 4238  Q 1616 4238 1336 4038  Q 1056 3838 1056 3469  Q 1056 3159 1242 3001  Q 1428 2844 1947 2747  L 2328 2669  Q 3034 2534 3370 2195  Q 3706 1856 3706 1288  Q 3706 609 3251 259  Q 2797 -91 1919 -91  Q 1588 -91 1214 -16  Q 841 59 441 206  L 441 856  Q 825 641 1194 531  Q 1563 422 1919 422  Q 2459 422 2753 634  Q 3047 847 3047 1241  Q 3047 1584 2836 1778  Q 2625 1972 2144 2069  L 1759 2144  Q 1053 2284 737 2584  Q 422 2884 422 3419  Q 422 4038 858 4394  Q 1294 4750 2059 4750  Q 2388 4750 2728 4690  Q 3069 4631 3425 4513  z \" transform=\"scale(0.015625)\"/>\n",
       "    </defs>\n",
       "    <use xlink:href=\"#DejaVuSans-53\"/>\n",
       "    <use xlink:href=\"#DejaVuSans-61\" x=\"63.476562\"/>\n",
       "    <use xlink:href=\"#DejaVuSans-74\" x=\"124.755859\"/>\n",
       "    <use xlink:href=\"#DejaVuSans-75\" x=\"163.964844\"/>\n",
       "    <use xlink:href=\"#DejaVuSans-72\" x=\"227.34375\"/>\n",
       "    <use xlink:href=\"#DejaVuSans-61\" x=\"268.457031\"/>\n",
       "    <use xlink:href=\"#DejaVuSans-74\" x=\"329.736328\"/>\n",
       "    <use xlink:href=\"#DejaVuSans-69\" x=\"368.945312\"/>\n",
       "    <use xlink:href=\"#DejaVuSans-6f\" x=\"396.728516\"/>\n",
       "    <use xlink:href=\"#DejaVuSans-6e\" x=\"457.910156\"/>\n",
       "   </g>\n",
       "  </g>\n",
       "  <g id=\"text_8\">\n",
       "   <g id=\"patch_71\">\n",
       "    <path d=\"M 34.270312 392.76  L 34.270313 286.365937  L 8.929688 286.365937  L 8.929688 392.76  z \" style=\"fill: #ffffff; stroke: #ffffff; stroke-linejoin: miter\"/>\n",
       "   </g>\n",
       "   <!-- Luminance -->\n",
       "   <g style=\"fill: #262626\" transform=\"translate(26.566875 388.8) rotate(-90) scale(0.18 -0.18)\">\n",
       "    <defs>\n",
       "     <path id=\"DejaVuSans-4c\" d=\"M 628 4666  L 1259 4666  L 1259 531  L 3531 531  L 3531 0  L 628 0  L 628 4666  z \" transform=\"scale(0.015625)\"/>\n",
       "    </defs>\n",
       "    <use xlink:href=\"#DejaVuSans-4c\"/>\n",
       "    <use xlink:href=\"#DejaVuSans-75\" x=\"53.962891\"/>\n",
       "    <use xlink:href=\"#DejaVuSans-6d\" x=\"117.341797\"/>\n",
       "    <use xlink:href=\"#DejaVuSans-69\" x=\"214.753906\"/>\n",
       "    <use xlink:href=\"#DejaVuSans-6e\" x=\"242.537109\"/>\n",
       "    <use xlink:href=\"#DejaVuSans-61\" x=\"305.916016\"/>\n",
       "    <use xlink:href=\"#DejaVuSans-6e\" x=\"367.195312\"/>\n",
       "    <use xlink:href=\"#DejaVuSans-63\" x=\"430.574219\"/>\n",
       "    <use xlink:href=\"#DejaVuSans-65\" x=\"485.554688\"/>\n",
       "   </g>\n",
       "  </g>\n",
       " </g>\n",
       " <defs>\n",
       "  <clipPath id=\"pd48062e0f0\">\n",
       "   <rect x=\"0\" y=\"0\" width=\"432\" height=\"432\"/>\n",
       "  </clipPath>\n",
       " </defs>\n",
       "</svg>"
      ],
      "text/plain": [
       "<IPython.core.display.SVG object>"
      ]
     },
     "execution_count": 12,
     "metadata": {},
     "output_type": "execute_result"
    }
   ],
   "source": [
    "import io\n",
    "from IPython.display import SVG\n",
    "f = mpl.figure.Figure(figsize=(6, 6))\n",
    "\n",
    "ax_locs = dict(\n",
    "    deep=(.4, .4),\n",
    "    bright=(.8, .8),\n",
    "    muted=(.49, .71),\n",
    "    dark=(.8, .2),\n",
    "    pastel=(.2, .8),\n",
    "    colorblind=(.71, .49),\n",
    ")\n",
    "\n",
    "s = .35\n",
    "\n",
    "for pal, (x, y) in ax_locs.items():\n",
    "    ax = f.add_axes([x - s / 2, y - s / 2, s, s])\n",
    "    ax.pie(np.ones(10),\n",
    "           colors=sns.color_palette(pal, 10),\n",
    "           counterclock=False, startangle=180,\n",
    "           wedgeprops=dict(linewidth=1, edgecolor=\"w\"))\n",
    "    f.text(x, y, pal, ha=\"center\", va=\"center\", size=14,\n",
    "           bbox=dict(facecolor=\"white\", alpha=0.85, boxstyle=\"round,pad=0.2\"))\n",
    "\n",
    "f.text(.1, .05, \"Saturation\", size=18, ha=\"left\", va=\"center\",\n",
    "       bbox=dict(facecolor=\"white\", edgecolor=\"w\"))\n",
    "f.text(.05, .1, \"Luminance\", size=18, ha=\"center\", va=\"bottom\", rotation=90,\n",
    "       bbox=dict(facecolor=\"white\", edgecolor=\"w\"))\n",
    "\n",
    "ax = f.add_axes([0, 0, 1, 1])\n",
    "ax.set_axis_off()\n",
    "ax.arrow(.15, .05, .4, 0, width=.002, head_width=.015, color=\".15\")\n",
    "ax.arrow(.05, .15, 0, .4, width=.002, head_width=.015, color=\".15\")\n",
    "ax.set(xlim=(0, 1), ylim=(0, 1))\n",
    "f.savefig(svg:=io.StringIO(), format=\"svg\")\n",
    "SVG(svg.getvalue())"
   ]
  },
  {
   "cell_type": "raw",
   "metadata": {},
   "source": [
    "Many people find the moderated hues of the default ``\"deep\"`` palette to be aesthetically pleasing, but they are also less distinct. As a result, they may be more difficult to discriminate in some contexts, which is something to keep in mind when making publication graphics. `This comparison <https://gist.github.com/mwaskom/b35f6ebc2d4b340b4f64a4e28e778486>`_ can be helpful for estimating how the seaborn color palettes perform when simulating different forms of colorblindess."
   ]
  },
  {
   "cell_type": "raw",
   "metadata": {},
   "source": [
    "Using circular color systems\n",
    "~~~~~~~~~~~~~~~~~~~~~~~~~~~~\n",
    "\n",
    "When you have an arbitrary number of categories, the easiest approach to finding unique hues is to draw evenly-spaced colors in a circular color space (one where the hue changes while keeping the brightness and saturation constant). This is what most seaborn functions default to when they need to use more colors than are currently set in the default color cycle.\n",
    "\n",
    "The most common way to do this uses the ``hls`` color space, which is a simple transformation of RGB values. We saw this color palette before as a counterexample for how to plot a histogram:"
   ]
  },
  {
   "cell_type": "code",
   "execution_count": 13,
   "metadata": {},
   "outputs": [
    {
     "data": {
      "text/html": [
       "<svg  width=\"440\" height=\"55\"><rect x=\"0\" y=\"0\" width=\"55\" height=\"55\" style=\"fill:#db5f57;stroke-width:2;stroke:rgb(255,255,255)\"/><rect x=\"55\" y=\"0\" width=\"55\" height=\"55\" style=\"fill:#dbc257;stroke-width:2;stroke:rgb(255,255,255)\"/><rect x=\"110\" y=\"0\" width=\"55\" height=\"55\" style=\"fill:#91db57;stroke-width:2;stroke:rgb(255,255,255)\"/><rect x=\"165\" y=\"0\" width=\"55\" height=\"55\" style=\"fill:#57db80;stroke-width:2;stroke:rgb(255,255,255)\"/><rect x=\"220\" y=\"0\" width=\"55\" height=\"55\" style=\"fill:#57d3db;stroke-width:2;stroke:rgb(255,255,255)\"/><rect x=\"275\" y=\"0\" width=\"55\" height=\"55\" style=\"fill:#5770db;stroke-width:2;stroke:rgb(255,255,255)\"/><rect x=\"330\" y=\"0\" width=\"55\" height=\"55\" style=\"fill:#a157db;stroke-width:2;stroke:rgb(255,255,255)\"/><rect x=\"385\" y=\"0\" width=\"55\" height=\"55\" style=\"fill:#db57b2;stroke-width:2;stroke:rgb(255,255,255)\"/></svg>"
      ],
      "text/plain": [
       "[(0.86, 0.3712, 0.33999999999999997),\n",
       " (0.86, 0.7612000000000001, 0.33999999999999997),\n",
       " (0.5688000000000001, 0.86, 0.33999999999999997),\n",
       " (0.33999999999999997, 0.86, 0.5012000000000001),\n",
       " (0.33999999999999997, 0.8287999999999999, 0.86),\n",
       " (0.33999999999999997, 0.43879999999999986, 0.86),\n",
       " (0.6311999999999998, 0.33999999999999997, 0.86),\n",
       " (0.86, 0.33999999999999997, 0.6987999999999996)]"
      ]
     },
     "execution_count": 13,
     "metadata": {},
     "output_type": "execute_result"
    }
   ],
   "source": [
    "sns.color_palette(\"hls\", 8)"
   ]
  },
  {
   "cell_type": "raw",
   "metadata": {
    "raw_mimetype": "text/restructuredtext"
   },
   "source": [
    "Because of the way the human visual system works, colors that have the same luminance and saturation in terms of their RGB values won't necessarily look equally intense To remedy this, seaborn provides an interface to the `husl <https://www.hsluv.org/>`_ system (since renamed to HSLuv), which achieves less intensity variation as you rotate around the color wheel:"
   ]
  },
  {
   "cell_type": "code",
   "execution_count": 14,
   "metadata": {},
   "outputs": [
    {
     "data": {
      "text/html": [
       "<svg  width=\"440\" height=\"55\"><rect x=\"0\" y=\"0\" width=\"55\" height=\"55\" style=\"fill:#f77189;stroke-width:2;stroke:rgb(255,255,255)\"/><rect x=\"55\" y=\"0\" width=\"55\" height=\"55\" style=\"fill:#ce9032;stroke-width:2;stroke:rgb(255,255,255)\"/><rect x=\"110\" y=\"0\" width=\"55\" height=\"55\" style=\"fill:#97a431;stroke-width:2;stroke:rgb(255,255,255)\"/><rect x=\"165\" y=\"0\" width=\"55\" height=\"55\" style=\"fill:#32b166;stroke-width:2;stroke:rgb(255,255,255)\"/><rect x=\"220\" y=\"0\" width=\"55\" height=\"55\" style=\"fill:#36ada4;stroke-width:2;stroke:rgb(255,255,255)\"/><rect x=\"275\" y=\"0\" width=\"55\" height=\"55\" style=\"fill:#39a7d0;stroke-width:2;stroke:rgb(255,255,255)\"/><rect x=\"330\" y=\"0\" width=\"55\" height=\"55\" style=\"fill:#a48cf4;stroke-width:2;stroke:rgb(255,255,255)\"/><rect x=\"385\" y=\"0\" width=\"55\" height=\"55\" style=\"fill:#f561dd;stroke-width:2;stroke:rgb(255,255,255)\"/></svg>"
      ],
      "text/plain": [
       "[(0.9677975592919913, 0.44127456009157356, 0.5358103155058701),\n",
       " (0.8087954113106306, 0.5634700050056693, 0.19502642696727285),\n",
       " (0.5920891529639701, 0.6418467016378244, 0.1935069134991043),\n",
       " (0.19783576093349015, 0.6955516966063037, 0.3995301037444499),\n",
       " (0.21044753832183283, 0.6773105080456748, 0.6433941168468681),\n",
       " (0.22335772267769388, 0.6565792317435265, 0.8171355503265633),\n",
       " (0.6423044349219739, 0.5497680051256467, 0.9582651433656727),\n",
       " (0.9603888539940703, 0.3814317878772117, 0.8683117650835491)]"
      ]
     },
     "execution_count": 14,
     "metadata": {},
     "output_type": "execute_result"
    }
   ],
   "source": [
    "sns.color_palette(\"husl\", 8)"
   ]
  },
  {
   "cell_type": "raw",
   "metadata": {},
   "source": [
    "When seaborn needs a categorical palette with more colors than are available in the current default, it will use this approach.\n",
    "\n",
    "Using categorical Color Brewer palettes\n",
    "~~~~~~~~~~~~~~~~~~~~~~~~~~~~~~~~~~~~~~~\n",
    "\n",
    "Another source of visually pleasing categorical palettes comes from the `Color Brewer <https://colorbrewer2.org/>`_ tool (which also has sequential and diverging palettes, as we'll see below)."
   ]
  },
  {
   "cell_type": "code",
   "execution_count": 15,
   "metadata": {},
   "outputs": [
    {
     "data": {
      "text/html": [
       "<svg  width=\"440\" height=\"55\"><rect x=\"0\" y=\"0\" width=\"55\" height=\"55\" style=\"fill:#66c2a5;stroke-width:2;stroke:rgb(255,255,255)\"/><rect x=\"55\" y=\"0\" width=\"55\" height=\"55\" style=\"fill:#fc8d62;stroke-width:2;stroke:rgb(255,255,255)\"/><rect x=\"110\" y=\"0\" width=\"55\" height=\"55\" style=\"fill:#8da0cb;stroke-width:2;stroke:rgb(255,255,255)\"/><rect x=\"165\" y=\"0\" width=\"55\" height=\"55\" style=\"fill:#e78ac3;stroke-width:2;stroke:rgb(255,255,255)\"/><rect x=\"220\" y=\"0\" width=\"55\" height=\"55\" style=\"fill:#a6d854;stroke-width:2;stroke:rgb(255,255,255)\"/><rect x=\"275\" y=\"0\" width=\"55\" height=\"55\" style=\"fill:#ffd92f;stroke-width:2;stroke:rgb(255,255,255)\"/><rect x=\"330\" y=\"0\" width=\"55\" height=\"55\" style=\"fill:#e5c494;stroke-width:2;stroke:rgb(255,255,255)\"/><rect x=\"385\" y=\"0\" width=\"55\" height=\"55\" style=\"fill:#b3b3b3;stroke-width:2;stroke:rgb(255,255,255)\"/></svg>"
      ],
      "text/plain": [
       "[(0.4, 0.7607843137254902, 0.6470588235294118),\n",
       " (0.9882352941176471, 0.5529411764705883, 0.3843137254901961),\n",
       " (0.5529411764705883, 0.6274509803921569, 0.796078431372549),\n",
       " (0.9058823529411765, 0.5411764705882353, 0.7647058823529411),\n",
       " (0.6509803921568628, 0.8470588235294118, 0.32941176470588235),\n",
       " (1.0, 0.8509803921568627, 0.1843137254901961),\n",
       " (0.8980392156862745, 0.7686274509803922, 0.5803921568627451),\n",
       " (0.7019607843137254, 0.7019607843137254, 0.7019607843137254)]"
      ]
     },
     "execution_count": 15,
     "metadata": {},
     "output_type": "execute_result"
    }
   ],
   "source": [
    "sns.color_palette(\"Set2\")"
   ]
  },
  {
   "cell_type": "raw",
   "metadata": {},
   "source": [
    "Be aware that the qualitative Color Brewer palettes have different lengths, and the default behavior of :func:`color_palette` is to give you the full list:"
   ]
  },
  {
   "cell_type": "code",
   "execution_count": 16,
   "metadata": {},
   "outputs": [
    {
     "data": {
      "text/html": [
       "<svg  width=\"660\" height=\"55\"><rect x=\"0\" y=\"0\" width=\"55\" height=\"55\" style=\"fill:#a6cee3;stroke-width:2;stroke:rgb(255,255,255)\"/><rect x=\"55\" y=\"0\" width=\"55\" height=\"55\" style=\"fill:#1f78b4;stroke-width:2;stroke:rgb(255,255,255)\"/><rect x=\"110\" y=\"0\" width=\"55\" height=\"55\" style=\"fill:#b2df8a;stroke-width:2;stroke:rgb(255,255,255)\"/><rect x=\"165\" y=\"0\" width=\"55\" height=\"55\" style=\"fill:#33a02c;stroke-width:2;stroke:rgb(255,255,255)\"/><rect x=\"220\" y=\"0\" width=\"55\" height=\"55\" style=\"fill:#fb9a99;stroke-width:2;stroke:rgb(255,255,255)\"/><rect x=\"275\" y=\"0\" width=\"55\" height=\"55\" style=\"fill:#e31a1c;stroke-width:2;stroke:rgb(255,255,255)\"/><rect x=\"330\" y=\"0\" width=\"55\" height=\"55\" style=\"fill:#fdbf6f;stroke-width:2;stroke:rgb(255,255,255)\"/><rect x=\"385\" y=\"0\" width=\"55\" height=\"55\" style=\"fill:#ff7f00;stroke-width:2;stroke:rgb(255,255,255)\"/><rect x=\"440\" y=\"0\" width=\"55\" height=\"55\" style=\"fill:#cab2d6;stroke-width:2;stroke:rgb(255,255,255)\"/><rect x=\"495\" y=\"0\" width=\"55\" height=\"55\" style=\"fill:#6a3d9a;stroke-width:2;stroke:rgb(255,255,255)\"/><rect x=\"550\" y=\"0\" width=\"55\" height=\"55\" style=\"fill:#ffff99;stroke-width:2;stroke:rgb(255,255,255)\"/><rect x=\"605\" y=\"0\" width=\"55\" height=\"55\" style=\"fill:#b15928;stroke-width:2;stroke:rgb(255,255,255)\"/></svg>"
      ],
      "text/plain": [
       "[(0.6509803921568628, 0.807843137254902, 0.8901960784313725),\n",
       " (0.12156862745098039, 0.47058823529411764, 0.7058823529411765),\n",
       " (0.6980392156862745, 0.8745098039215686, 0.5411764705882353),\n",
       " (0.2, 0.6274509803921569, 0.17254901960784313),\n",
       " (0.984313725490196, 0.6039215686274509, 0.6),\n",
       " (0.8901960784313725, 0.10196078431372549, 0.10980392156862745),\n",
       " (0.9921568627450981, 0.7490196078431373, 0.43529411764705883),\n",
       " (1.0, 0.4980392156862745, 0.0),\n",
       " (0.792156862745098, 0.6980392156862745, 0.8392156862745098),\n",
       " (0.41568627450980394, 0.23921568627450981, 0.6039215686274509),\n",
       " (1.0, 1.0, 0.6),\n",
       " (0.6941176470588235, 0.34901960784313724, 0.1568627450980392)]"
      ]
     },
     "execution_count": 16,
     "metadata": {},
     "output_type": "execute_result"
    }
   ],
   "source": [
    "sns.color_palette(\"Paired\")"
   ]
  },
  {
   "cell_type": "raw",
   "metadata": {},
   "source": [
    ".. _sequential_palettes:\n",
    "\n",
    "Sequential color palettes\n",
    "-------------------------\n",
    "\n",
    "The second major class of color palettes is called \"sequential\". This kind of mapping is appropriate when data range from relatively low or uninteresting values to relatively high or interesting values (or vice versa). As we saw above, the primary dimension of variation in a sequential palette is luminance. Some seaborn functions will default to a sequential palette when you are mapping numeric data. (For historical reasons, both categorical and numeric mappings are specified with the ``hue`` parameter in functions like :func:`relplot` or :func:`displot`, even though numeric mappings use color palettes with relatively little hue variation).\n",
    "\n",
    "Perceptually uniform palettes\n",
    "~~~~~~~~~~~~~~~~~~~~~~~~~~~~~\n",
    "\n",
    "Because they are intended to represent numeric values, the best sequential palettes will be *perceptually uniform*, meaning that the relative discriminability of two colors is proportional to the difference between the corresponding data values. Seaborn includes four perceptually uniform sequential colormaps: ``\"rocket\"``, ``\"mako\"``, ``\"flare\"``, and ``\"crest\"``. The first two have a very wide luminance range and are well suited for applications such as heatmaps, where colors fill the space they are plotted into:"
   ]
  },
  {
   "cell_type": "code",
   "execution_count": 17,
   "metadata": {},
   "outputs": [
    {
     "data": {
      "image/png": "[encoded data removed]",
      "text/html": [
       "<img alt=\"rocket color map\" title=\"rocket\"src=\"data:image/png;base64,iVBORw0KGgoAAAANSUhEUgAAAZAAAAAyCAYAAAByHI2dAAAB8UlEQVR4nO3VS27jQAwFQJKeS8z9D6pZWHJ/IjkYrqs2ISh2UxYCvKw/f4+IiMyMiIiM/NSVGRlnPzMqRx0RUQ+zlbnc9/VcPMxu9e2O+P2+2+fTHRVfdjz2ryo+5x/PzbPLvri9q846p3q/4zpft/ti3HHc9JZ742H32Ttim53uO8bsPPPeu/aeZus4tm+xzx6f95hn4jw7esfy7p9zEZGf+qaX6/Pz00blscxERGQekTmdO+vMI6quevRHb9ybNe7Ieu+564/eVE/9mPrXmRwfZpodH+xd57IjMiKvH1hrPWZzfISn3l0/M6Lq5tzU+3zwmu6r8/g2e9Xf+hGRVQ+zte1bz6297X2y7uvzb+ZvO67nr+e7vu5Yz637XtM77/vG83zc8fqxL/e7auzIbcf1rwQA/0WAANAiQABoESAAtAgQAFoECAAtAgSAFgECQIsAAaBFgADQIkAAaBEgALQIEABaBAgALQIEgBYBAkCLAAGgRYAA0CJAAGgRIAC0CBAAWgQIAC0CBIAWAQJAiwABoEWAANAiQABoESAAtAgQAFoECAAtAgSAFgECQIsAAaBFgADQIkAAaBEgALQIEABaBAgALQIEgBYBAkCLAAGgRYAA0CJAAGgRIAC0CBAAWgQIAC0CBIAWAQJAiwABoOUf1tIrI1jODScAAAAASUVORK5CYII=\">"
      ],
      "text/plain": [
       "<matplotlib.colors.ListedColormap at 0x7fa4d78aabe0>"
      ]
     },
     "execution_count": 17,
     "metadata": {},
     "output_type": "execute_result"
    }
   ],
   "source": [
    "sns.color_palette(\"rocket\", as_cmap=True)"
   ]
  },
  {
   "cell_type": "code",
   "execution_count": 18,
   "metadata": {},
   "outputs": [
    {
     "data": {
      "image/png": "[encoded data removed]",
      "text/html": [
       "<img alt=\"mako color map\" title=\"mako\"src=\"data:image/png;base64,iVBORw0KGgoAAAANSUhEUgAAAZAAAAAyCAYAAAByHI2dAAAB6ElEQVR4nO3VS27kMAwFQFLGrOb+5+1ZtN2WFDcyeOuqTRiK+jgI8Prv8edVVdXdVVXV1dU96urd/XHXy/r4sm+qK9i39P9/tnosb95na/uOu//Q28+a7q7tbbW/d56t+byr7h+z77dN6w/n1fTNS+9h37rev9avuX+dNd69V/dndq6ru17jrt/rd12j379fs1N9/VmWXl+9u65Ra7/O37+d9XDe8nN8WX+6e3nDl7sfzri/f737+f3b2T/2rXf0fsfyTc/7er/vbPbDvn22t7f1WGf74W29n1dVPfrreu+zU2/M/9J7v1+f+lof0/pv9TH1rvqY+kf3VFcd56OX9al3nI87qqez515/9j31x3TeOD/66K4x9T6z1evMWY/zn2HMvR7TfWPq//++0WOZee8BgIAAASAiQACICBAAIgIEgIgAASAiQACICBAAIgIEgIgAASAiQACICBAAIgIEgIgAASAiQACICBAAIgIEgIgAASAiQACICBAAIgIEgIgAASAiQACICBAAIgIEgIgAASAiQACICBAAIgIEgIgAASAiQACICBAAIgIEgIgAASAiQACICBAAIgIEgIgAASAiQACICBAAIgIEgIgAASAiQACICBAAIgIEgIgAASAiQACICBAAIgIEgMg/8/ESGZu70+MAAAAASUVORK5CYII=\">"
      ],
      "text/plain": [
       "<matplotlib.colors.ListedColormap at 0x7fa4d7833f40>"
      ]
     },
     "execution_count": 18,
     "metadata": {},
     "output_type": "execute_result"
    }
   ],
   "source": [
    "sns.color_palette(\"mako\", as_cmap=True)"
   ]
  },
  {
   "cell_type": "raw",
   "metadata": {},
   "source": [
    "Because the extreme values of these colormaps approach white, they are not well-suited for coloring elements such as lines or points: it will be difficult to discriminate important values against a white or gray background. The \"flare\" and \"crest\" colormaps are a better choice for such plots. They have a more restricted range of luminance variations, which they compensate for with a slightly more pronounced variation in hue. The default direction of the luminance ramp is also reversed, so that smaller values have lighter colors:"
   ]
  },
  {
   "cell_type": "code",
   "execution_count": 19,
   "metadata": {},
   "outputs": [
    {
     "data": {
      "image/png": "[encoded data removed]",
      "text/html": [
       "<img alt=\"flare color map\" title=\"flare\"src=\"data:image/png;base64,iVBORw0KGgoAAAANSUhEUgAAAZAAAAAyCAYAAAByHI2dAAABp0lEQVR4nO3VQVbDMAwFQIWTcyMuxh3MAto4sZLSv57ZEGzZsl4Xf/v++hxVVTV+/9S4+h6//59ra98f8/7he67v9mu64+Id3V3Td3/ufqbxRu11j3WOcXdHTfXP/Xn+6s/N622/amovzr88d7FfW1u7ntseUx5+shrb/j0/71T/rD3csdd0a/uo2/Gn+avZ7zrdWxd3vLh3H/nUb+qz1v5vfdmf3nle389M++07j7P0Pfrez5ne6nFc73rUzfptj1fn2rePy7vXHuOm97idaUyTrb/TuHjneb3rMZZzj7Pd+9e3nec/9rh9Z9fj7+OjACAgQACICBAAIgIEgIgAASAiQACICBAAIgIEgIgAASAiQACICBAAIgIEgIgAASAiQACICBAAIgIEgIgAASAiQACICBAAIgIEgIgAASAiQACICBAAIgIEgIgAASAiQACICBAAIgIEgIgAASAiQACICBAAIgIEgIgAASAiQACICBAAIgIEgIgAASAiQACICBAAIgIEgIgAASAiQACICBAAIgIEgIgAASAiQACICBAAIgIEgIgAASDyAywPZEDTzkfkAAAAAElFTkSuQmCC\">"
      ],
      "text/plain": [
       "<matplotlib.colors.ListedColormap at 0x7fa4d782b280>"
      ]
     },
     "execution_count": 19,
     "metadata": {},
     "output_type": "execute_result"
    }
   ],
   "source": [
    "sns.color_palette(\"flare\", as_cmap=True)"
   ]
  },
  {
   "cell_type": "code",
   "execution_count": 20,
   "metadata": {},
   "outputs": [
    {
     "data": {
      "image/png": "[encoded data removed]",
      "text/html": [
       "<img alt=\"crest color map\" title=\"crest\"src=\"data:image/png;base64,iVBORw0KGgoAAAANSUhEUgAAAZAAAAAyCAYAAAByHI2dAAABoklEQVR4nO3VQVbDIBiFUer+By7C5bgmcWBjgfwkPW9874imgRDs8Xt8fX/21lrr7U/vF+Pnh5/p+8f9vGF8zD/G/Z3xdl6/nDfv8729rWv99GzeOG6bNe7eeb13O2+4t1XPGDaxe4/Wlz0Xa+320frFtXH/03qvxe7Oqnqn8toxLn4X4/e377E853Wt2HOx1tX31Xm3Ye3998U+b57dei/PsPWLa8f8YuJ0ltX4dIhttl47/eBe48d63/aeZY3env+RzvP+15wOq17r9PxqT6d7++XeTtd26x73l2fZ5/e42uf6nsPneo3ieeuc5W/20QAgICAARAQEgIiAABAREAAiAgJAREAAiAgIABEBASAiIABEBASAiIAAEBEQACICAkBEQACICAgAEQEBICIgAEQEBICIgAAQERAAIgICQERAAIgICAARAQEgIiAARAQEgIiAABAREAAiAgJAREAAiAgIABEBASAiIABEBASAiIAAEBEQACICAkBEQACICAgAEQEBICIgAEQEBICIgAAQERAAIgICQERAAIgICAARAQEg8guKKEE/C1p1mgAAAABJRU5ErkJggg==\">"
      ],
      "text/plain": [
       "<matplotlib.colors.ListedColormap at 0x7fa4d78aa7f0>"
      ]
     },
     "execution_count": 20,
     "metadata": {},
     "output_type": "execute_result"
    }
   ],
   "source": [
    "sns.color_palette(\"crest\", as_cmap=True)"
   ]
  },
  {
   "cell_type": "raw",
   "metadata": {},
   "source": [
    "It is also possible to use the perceptually uniform colormaps provided by matplotlib, such as ``\"magma\"`` and ``\"viridis\"``:"
   ]
  },
  {
   "cell_type": "code",
   "execution_count": 21,
   "metadata": {},
   "outputs": [
    {
     "data": {
      "image/png": "[encoded data removed]",
      "text/html": [
       "<img alt=\"magma color map\" title=\"magma\"src=\"data:image/png;base64,iVBORw0KGgoAAAANSUhEUgAAAZAAAAAyCAYAAAByHI2dAAACAUlEQVR4nO3VSZbbMAwFQAC6/5mZhSyJ1JCXYF21MZoDSFnu9zNiGxEREbl/REUedVZE1F4+6oiM+q3Z63yrsyJjW/fl19pt7/lbU3GNP8/Yoqb62Fexrfc7xl7rioptXTumc2M764qMHPO+a/zYf9S13/Q3nst4Zt72RVTO8/Fa1/FKzrVxzWec72yvr/H49Z/Hrr5zj3zue5zxXp93+5j/Wls5Hvsqjue812O5Wy73HMszXWvGy93G6/z+rGPqcb/b+EuP8ezxNp/732e/nHqfPcb1zMcdctzqOOvn/HyHEVnXmuO8Y6xuY8t8Tf3qdt71bx+x7IvzpS319IKvfXOPnPY9X3DOP4zpR/QYP7/keT4f+9Z6uuTSt9735TR+7F/61j+uneqsZd8467de9x4fa36f47PHW/12n1rvczvj+PoB4L8IEABaBAgALQIEgBYBAkCLAAGgRYAA0CJAAGgRIAC0CBAAWgQIAC0CBIAWAQJAiwABoEWAANAiQABoESAAtAgQAFoECAAtAgSAFgECQIsAAaBFgADQIkAAaBEgALQIEABaBAgALQIEgBYBAkCLAAGgRYAA0CJAAGgRIAC0CBAAWgQIAC0CBIAWAQJAiwABoEWAANAiQABoESAAtAgQAFoECAAtAgSAFgECQIsAAaBFgADQIkAAaBEgALT8AcKALxnFEKpcAAAAAElFTkSuQmCC\">"
      ],
      "text/plain": [
       "<matplotlib.colors.ListedColormap at 0x7fa4d78aa880>"
      ]
     },
     "execution_count": 21,
     "metadata": {},
     "output_type": "execute_result"
    }
   ],
   "source": [
    "sns.color_palette(\"magma\", as_cmap=True)"
   ]
  },
  {
   "cell_type": "code",
   "execution_count": 22,
   "metadata": {},
   "outputs": [
    {
     "data": {
      "image/png": "[encoded data removed]",
      "text/html": [
       "<img alt=\"viridis color map\" title=\"viridis\"src=\"data:image/png;base64,iVBORw0KGgoAAAANSUhEUgAAAZAAAAAyCAYAAAByHI2dAAACCElEQVR4nO3VQXbbMAwFQIC8Wo/Q+x9F6sKyCEVykmI9swkfCIJ8ceKff/LvHhERmfH6OSLHWsexzsyIMeLSO8arHvHqy1HWH2a8z9dZlxl5q+/jXnvNeOjNjDhG1979vONrPdbd7/MZ9/0yt/acczMus/bHGfF8bkSZ8TDvsn6/s876tP5pVnx426fefO59OPfT22531/O/fNt17v6rOyIj9vh+xsdz53q/1NeML/Uo/V967zOu/4Z1Py/r0ht1f53Px/Ve/uxL7Zgxcr/UR+kdpX72lnPjcm71jLife9ofuV3q9/09Rm4RETG/qUdEjFi1kXvM2Ervq2fGum++e2N/XucWs7yzrm+zYisztvNN6w3r/MwtRmzn+pxbZlzvXbVR9mf5XawZ7ztqLWKWr8B5fH4z8/y6nMenOjLXOkbMXOtx1OfxXf8+CwD/RYAA0CJAAGgRIAC0CBAAWgQIAC0CBIAWAQJAiwABoEWAANAiQABoESAAtAgQAFoECAAtAgSAFgECQIsAAaBFgADQIkAAaBEgALQIEABaBAgALQIEgBYBAkCLAAGgRYAA0CJAAGgRIAC0CBAAWgQIAC0CBIAWAQJAiwABoEWAANAiQABoESAAtAgQAFoECAAtAgSAFgECQIsAAaBFgADQIkAAaBEgALQIEABaBAgALQIEgBYBAkCLAAGg5R9DQIlr2oxHRwAAAABJRU5ErkJggg==\">"
      ],
      "text/plain": [
       "<matplotlib.colors.ListedColormap at 0x7fa4e5792520>"
      ]
     },
     "execution_count": 22,
     "metadata": {},
     "output_type": "execute_result"
    }
   ],
   "source": [
    "sns.color_palette(\"viridis\", as_cmap=True)"
   ]
  },
  {
   "cell_type": "raw",
   "metadata": {},
   "source": [
    "As with the convention in matplotlib, every continuous colormap has a reversed version, which has the suffix ``\"_r\"``:"
   ]
  },
  {
   "cell_type": "code",
   "execution_count": 23,
   "metadata": {},
   "outputs": [
    {
     "data": {
      "image/png": "[encoded data removed]",
      "text/html": [
       "<img alt=\"rocket_r color map\" title=\"rocket_r\"src=\"data:image/png;base64,iVBORw0KGgoAAAANSUhEUgAAAZAAAAAyCAYAAAByHI2dAAAB9UlEQVR4nO3VQXIbIRAFUMj9j+gT5AipMp2FNMBIyEn99Xsb46ZpZkaL3//8/qrWWms1nn/GXLfxva1Hq209z4zvbb3qNdff9/7rfL3v18uMOftW+5/19kzX+blf5/v+NXfU53k/3PF419VTx3N17N3rtdev57ndt99Rq+dtbt33x4f6sff6LC/rWp9rnbvW2089Wmujz/Wq9+dirR/7fb7eXn/U+qyN6sd61eP/xyfoa39+lj73q/p87UfPNft6tN5Grbmj9a2+9czX7sdarc+y9bQ2ep/1VTuc6/ee9jy7fe5j72itVV/rn3qr1a1n+3m2Z6/1nLd5tfU8z/VD7XZHrdm1z13n7nPfe2qbdZqx31dbz3nWPuN8bj3Pa+9zXXWb91Z72b/NeL2j6rj+OK8+9J7u+HTuQ2+99P5qABAQIABEBAgAEQECQESAABARIABEBAgAEQECQESAABARIABEBAgAEQECQESAABARIABEBAgAEQECQESAABARIABEBAgAEQECQESAABARIABEBAgAEQECQESAABARIABEBAgAEQECQESAABARIABEBAgAEQECQESAABARIABEBAgAEQECQESAABARIABEBAgAEQECQESAABARIABEBAgAEQECQESAABARIABEBAgAEQECQESAABD5C9Rx55FE/f1gAAAAAElFTkSuQmCC\">"
      ],
      "text/plain": [
       "<matplotlib.colors.ListedColormap at 0x7fa4dbaaddf0>"
      ]
     },
     "execution_count": 23,
     "metadata": {},
     "output_type": "execute_result"
    }
   ],
   "source": [
    "sns.color_palette(\"rocket_r\", as_cmap=True)"
   ]
  },
  {
   "cell_type": "raw",
   "metadata": {},
   "source": [
    "Discrete vs. continuous mapping\n",
    "~~~~~~~~~~~~~~~~~~~~~~~~~~~~~~~\n",
    "\n",
    "One thing to be aware of is that seaborn can generate discrete values from sequential colormaps and, when doing so, it will not use the most extreme values. Compare the discrete version of ``\"rocket\"`` against the continuous version shown above:"
   ]
  },
  {
   "cell_type": "code",
   "execution_count": 24,
   "metadata": {},
   "outputs": [
    {
     "data": {
      "text/html": [
       "<svg  width=\"330\" height=\"55\"><rect x=\"0\" y=\"0\" width=\"55\" height=\"55\" style=\"fill:#35193e;stroke-width:2;stroke:rgb(255,255,255)\"/><rect x=\"55\" y=\"0\" width=\"55\" height=\"55\" style=\"fill:#701f57;stroke-width:2;stroke:rgb(255,255,255)\"/><rect x=\"110\" y=\"0\" width=\"55\" height=\"55\" style=\"fill:#ad1759;stroke-width:2;stroke:rgb(255,255,255)\"/><rect x=\"165\" y=\"0\" width=\"55\" height=\"55\" style=\"fill:#e13342;stroke-width:2;stroke:rgb(255,255,255)\"/><rect x=\"220\" y=\"0\" width=\"55\" height=\"55\" style=\"fill:#f37651;stroke-width:2;stroke:rgb(255,255,255)\"/><rect x=\"275\" y=\"0\" width=\"55\" height=\"55\" style=\"fill:#f6b48f;stroke-width:2;stroke:rgb(255,255,255)\"/></svg>"
      ],
      "text/plain": [
       "[(0.20973515, 0.09747934, 0.24238489),\n",
       " (0.43860848, 0.12177004, 0.34119475),\n",
       " (0.67824099, 0.09192342, 0.3504148),\n",
       " (0.8833417, 0.19830556, 0.26014181),\n",
       " (0.95381595, 0.46373781, 0.31769923),\n",
       " (0.96516917, 0.70776351, 0.5606593)]"
      ]
     },
     "execution_count": 24,
     "metadata": {},
     "output_type": "execute_result"
    }
   ],
   "source": [
    "sns.color_palette(\"rocket\")"
   ]
  },
  {
   "cell_type": "raw",
   "metadata": {},
   "source": [
    "Internally, seaborn uses the discrete version for categorical data and the continuous version when in numeric mapping mode. Discrete sequential colormaps can be well-suited for visualizing categorical data with an intrinsic ordering, especially if there is some hue variation."
   ]
  },
  {
   "cell_type": "raw",
   "metadata": {
    "raw_mimetype": "text/restructuredtext"
   },
   "source": [
    ".. _cubehelix_palettes:\n",
    "\n",
    "Sequential \"cubehelix\" palettes\n",
    "~~~~~~~~~~~~~~~~~~~~~~~~~~~~~~~\n",
    "\n",
    "The perceptually uniform colormaps are difficult to programmatically generate, because they are not based on the RGB color space. The `cubehelix <https://www.mrao.cam.ac.uk/~dag/CUBEHELIX/>`_ system offers an RGB-based compromise: it generates sequential palettes with a linear increase or decrease in brightness and some continuous variation in hue. While not perfectly perceptually uniform, the resulting colormaps have many good properties. Importantly, many aspects of the design process are parameterizable.\n",
    "\n",
    "Matplotlib has the default cubehelix version built into it:"
   ]
  },
  {
   "cell_type": "code",
   "execution_count": 25,
   "metadata": {},
   "outputs": [
    {
     "data": {
      "image/png": "[encoded data removed]",
      "text/html": [
       "<img alt=\"cubehelix color map\" title=\"cubehelix\"src=\"data:image/png;base64,iVBORw0KGgoAAAANSUhEUgAAAZAAAAAyCAYAAAByHI2dAAACMUlEQVR4nO3Vy5LiMAwFUEnh/z+5PQuIHxlmqlrrczaorh0gKczNiBgRERkZERGVdcwVFRERmRmZ73llNbOMisoveVbEtue5HvtcZz6vy1xZ/b0elf+eP3vHnHN7j1z5tr6yZx7bZ7zHI5tzzPWofU9E5Jhf/5m9P2/Mr3nPUSNyvt+9PiK/zJEj8vN+6zZXljmi6mfNez4fxZivxxxf8oi4tj0REdd/5utzG1eO+biu7fXKe84z/zzQleWRvea857XNn9dRj/Xarlu/75Vf87rasm9zxTX371nlteZY832HlSvPeM3sXs9jfh35Wn9fF3kdeeT9xF4zn1lt63mtH+V23ahH/syqYsx8nc+Rj/m5XhXj/lHXOp/jy5kdlfMcjsrjLB/nb+6NNR/ncD/Xn3xbP7IvZzlrbPPau87e9qgy1pnb9q7zFvNM5/GXNY78vrXcv/r+V5a59sxHsbJ1yzn/R+vYk1GR53XH3tzy2q6r+V4A8GsKBIAWBQJAiwIBoEWBANCiQABoUSAAtCgQAFoUCAAtCgSAFgUCQIsCAaBFgQDQokAAaFEgALQoEABaFAgALQoEgBYFAkCLAgGgRYEA0KJAAGhRIAC0KBAAWhQIAC0KBIAWBQJAiwIBoEWBANCiQABoUSAAtCgQAFoUCAAtCgSAFgUCQIsCAaBFgQDQokAAaFEgALQoEABaFAgALQoEgBYFAkCLAgGgRYEA0KJAAGhRIAC0KBAAWhQIAC1/AG8IQ2DsD2phAAAAAElFTkSuQmCC\">"
      ],
      "text/plain": [
       "<matplotlib.colors.LinearSegmentedColormap at 0x7fa4d78aae80>"
      ]
     },
     "execution_count": 25,
     "metadata": {},
     "output_type": "execute_result"
    }
   ],
   "source": [
    "sns.color_palette(\"cubehelix\", as_cmap=True)"
   ]
  },
  {
   "cell_type": "raw",
   "metadata": {},
   "source": [
    "The default palette returned by the seaborn :func:`cubehelix_palette` function is a bit different from the matplotlib default in that it does not rotate as far around the hue wheel or cover as wide a range of intensities. It also reverses the luminance ramp:"
   ]
  },
  {
   "cell_type": "code",
   "execution_count": 26,
   "metadata": {},
   "outputs": [
    {
     "data": {
      "image/png": "[encoded data removed]",
      "text/html": [
       "<img alt=\"seaborn_cubehelix color map\" title=\"seaborn_cubehelix\"src=\"data:image/png;base64,iVBORw0KGgoAAAANSUhEUgAAAZAAAAAyCAYAAAByHI2dAAABxElEQVR4nO3VQXbbMAwFQLT3v1lXPUivAHahqCFpKnH/embjmAJJQM8v/8ef379GVVX19VFVNca4/1jXPmrGtH7XLGs9zjX9cO78/ammqmpMz9+9+y7be/h4sJVea8c51++ffc5bp339sD6dt6+NPs80truvOV9r7n3/V3voc+r9s5+1bpz6P870cMdhpn3tuzuWc/vcZ7/b58Pd/c388zl9nPOhtta1/b71jPNM6/5zD11fzz3P97T+b61Ov83zO+4xatTa6PUv5PWMU21v723et840lufz2nxmL+/osL/2mc41+292Pnc+Zz/j7mc9t1/fRT312W/02cvc+ww9/eq+uuPq87V27fN6/rMAICBAAIgIEAAiAgSAiAABICJAAIgIEAAiAgSAiAABICJAAIgIEAAiAgSAiAABICJAAIgIEAAiAgSAiAABICJAAIgIEAAiAgSAiAABICJAAIgIEAAiAgSAiAABICJAAIgIEAAiAgSAiAABICJAAIgIEAAiAgSAiAABICJAAIgIEAAiAgSAiAABICJAAIgIEAAiAgSAiAABICJAAIgIEAAiAgSAiAABICJAAIgIEAAiAgSAiAABIPIXdvLG+cgzw6cAAAAASUVORK5CYII=\">"
      ],
      "text/plain": [
       "<matplotlib.colors.ListedColormap at 0x7fa4d78aa8e0>"
      ]
     },
     "execution_count": 26,
     "metadata": {},
     "output_type": "execute_result"
    }
   ],
   "source": [
    "sns.cubehelix_palette(as_cmap=True)"
   ]
  },
  {
   "cell_type": "raw",
   "metadata": {},
   "source": [
    "Other arguments to :func:`cubehelix_palette` control how the palette looks. The two main things you'll change are the ``start`` (a value between 0 and 3) and ``rot``, or number of rotations (an arbitrary value, but usually between -1 and 1)"
   ]
  },
  {
   "cell_type": "code",
   "execution_count": 27,
   "metadata": {},
   "outputs": [
    {
     "data": {
      "image/png": "[encoded data removed]",
      "text/html": [
       "<img alt=\"seaborn_cubehelix color map\" title=\"seaborn_cubehelix\"src=\"data:image/png;base64,iVBORw0KGgoAAAANSUhEUgAAAZAAAAAyCAYAAAByHI2dAAABzklEQVR4nO3VwZEjIRAEQPb8t+qcWAfODnofK2mAaeki6p350qBmaBCK+vr777vGGGOOGk/1+DjrGptVr/Ea+/g656zdah7z5vJdVd2eu/c9x2rt6ZjzrFn7Pufta+1zP9fue3qdRfXn9t/a2c9/996+z+V59mfU1q5nPO/9v61d1/qw/239+aFmjs15xs+HmnvN74f+PMe21rVG18NWu+xpq5/3/Y+qY499zfXeo6cxtr3X8gP1790vUx3nNj7MP+e+ejrHzkvSrj3b+ddvcp7neQ9ne8l+a+dRW/eaRw/tnvZL0vR5zWv3tO39XOOqOf9bZz91/bFHzdsF3/qsbu2tz7X22v869vF9x3ddn+3YeFd7P+M/AwACAgSAiAABICJAAIgIEAAiAgSAiAABICJAAIgIEAAiAgSAiAABICJAAIgIEAAiAgSAiAABICJAAIgIEAAiAgSAiAABICJAAIgIEAAiAgSAiAABICJAAIgIEAAiAgSAiAABICJAAIgIEAAiAgSAiAABICJAAIgIEAAiAgSAiAABICJAAIgIEAAiAgSAiAABICJAAIgIEAAiAgSAiAABICJAAIgIEAAiAgSAiAABICJAAIgIEAAiP0tPtPpjWEnLAAAAAElFTkSuQmCC\">"
      ],
      "text/plain": [
       "<matplotlib.colors.ListedColormap at 0x7fa4d77cb340>"
      ]
     },
     "execution_count": 27,
     "metadata": {},
     "output_type": "execute_result"
    }
   ],
   "source": [
    "sns.cubehelix_palette(start=.5, rot=-.5, as_cmap=True)"
   ]
  },
  {
   "cell_type": "raw",
   "metadata": {},
   "source": [
    "The more you rotate, the more hue variation you will see:"
   ]
  },
  {
   "cell_type": "code",
   "execution_count": 28,
   "metadata": {},
   "outputs": [
    {
     "data": {
      "image/png": "[encoded data removed]",
      "text/html": [
       "<img alt=\"seaborn_cubehelix color map\" title=\"seaborn_cubehelix\"src=\"data:image/png;base64,iVBORw0KGgoAAAANSUhEUgAAAZAAAAAyCAYAAAByHI2dAAAB3ElEQVR4nO3VQXbcIBAFwE7uf6fcIsschc5iohEgxvH766qVBzXQkpD/j99/fnVVVVfXZfTr7+5xj1W/f1/X53ljru0+r1fP+Z9q1z3uecvcuvpcx+aa6/rV3Vd773uMabwfe9/jz97v3l41571f97bvvc657mm7paV22eNYu/d5z1nX6OX63N++17H21Huvv+9nsfb0Xnc8a/f17h6+ru3xYfx9vs+1r4HvrTuvV5963+Yuc/7tdY9PPfyndt7sXbL00MeetsN1rK3DM7oe/mPscEi6u7ZPq2r08Vk9DuJ7/rPP6q7+zqGr7bnNB3H+33L64Lqrxph+fvhgrn7mFzKt1/uL2j6GPr30Mdb9vlv7upmPtb0d2h5b7VT/qN3XrfuZ/CwACAgQACICBICIAAEgIkAAiAgQACICBICIAAEgIkAAiAgQACICBICIAAEgIkAAiAgQACICBICIAAEgIkAAiAgQACICBICIAAEgIkAAiAgQACICBICIAAEgIkAAiAgQACICBICIAAEgIkAAiAgQACICBICIAAEgIkAAiAgQACICBICIAAEgIkAAiAgQACICBICIAAEgIkAAiAgQACICBICIAAEgIkAAiAgQACICBICIAAEgIkAAiPwFwKyP+cAd3K8AAAAASUVORK5CYII=\">"
      ],
      "text/plain": [
       "<matplotlib.colors.ListedColormap at 0x7fa4d77cb550>"
      ]
     },
     "execution_count": 28,
     "metadata": {},
     "output_type": "execute_result"
    }
   ],
   "source": [
    "sns.cubehelix_palette(start=.5, rot=-.75, as_cmap=True)"
   ]
  },
  {
   "cell_type": "raw",
   "metadata": {},
   "source": [
    "You can control both how dark and light the endpoints are and their order:"
   ]
  },
  {
   "cell_type": "code",
   "execution_count": 29,
   "metadata": {},
   "outputs": [
    {
     "data": {
      "image/png": "[encoded data removed]",
      "text/html": [
       "<img alt=\"seaborn_cubehelix color map\" title=\"seaborn_cubehelix\"src=\"data:image/png;base64,iVBORw0KGgoAAAANSUhEUgAAAZAAAAAyCAYAAAByHI2dAAABvElEQVR4nO3VO5bjMAwEQAL3v/NuMNYI+tmejqsS61EQAdJB11rr35pqrVX189jjuWqt3mpq/+nxvl6vu55rXj2q63evbXmtN/uda6vG+ti795q9399qf6+ixwxVn3s83dtYP/eph+/m3uc9Lmtzj5v7Psw+7rD6vH79bp9lzNz1uPe+Nu6tb87x0G+e4/Y/+TDDu+e7c971e5ptzvBtv29r6/XH3r3vu3N822Ptz32ZrT/ucei97mboxznP3/XpnLP2Mtvaa5/27XWc4/3sfegxa7b3T/PUus5x991hfZy1113fPt3L/p/06Z7/UrvVb3fYs3bcbY/72vcY51yj97jvWfOzBgABAQJARIAAEBEgAEQECAARAQJARIAAEBEgAEQECAARAQJARIAAEBEgAEQECAARAQJARIAAEBEgAEQECAARAQJARIAAEBEgAEQECAARAQJARIAAEBEgAEQECAARAQJARIAAEBEgAEQECAARAQJARIAAEBEgAEQECAARAQJARIAAEBEgAEQECAARAQJARIAAEBEgAEQECAARAQJARIAAEBEgAEQECAARAQJARIAAEBEgAEQECACR/0RJBDTPiFuMAAAAAElFTkSuQmCC\">"
      ],
      "text/plain": [
       "<matplotlib.colors.ListedColormap at 0x7fa4d74cb880>"
      ]
     },
     "execution_count": 29,
     "metadata": {},
     "output_type": "execute_result"
    }
   ],
   "source": [
    "sns.cubehelix_palette(start=2, rot=0, dark=0, light=.95, reverse=True, as_cmap=True)"
   ]
  },
  {
   "cell_type": "raw",
   "metadata": {},
   "source": [
    "The :func:`color_palette` accepts a string code, starting with ``\"ch:\"``, for generating an arbitrary cubehelix palette. You can passs the names of parameters in the string:"
   ]
  },
  {
   "cell_type": "code",
   "execution_count": 30,
   "metadata": {},
   "outputs": [
    {
     "data": {
      "image/png": "[encoded data removed]",
      "text/html": [
       "<img alt=\"seaborn_cubehelix color map\" title=\"seaborn_cubehelix\"src=\"data:image/png;base64,iVBORw0KGgoAAAANSUhEUgAAAZAAAAAyCAYAAAByHI2dAAABuElEQVR4nO3VQVLEMAwEQMP/X8VTeIjFgdps7GjDMufuE2VsSU4C8/H1/V1jjFFV4+Hx49zW5qjx7t7znlljObf/rsbf9R7n7up2vY/Zj97n9Rrb1lFVb+2tF3v6+9/vXXrM7k79nH299/eO+Z879c+45rq+F7idc65zju39nt/7ZfbtfDfnOPVeajw/nPZOe5/unnufux593XX2fqYXdzrNcvy+fU+11pt9vWOGbn2+fibX3s8XUnPtfemxfyNz+xhezVO19Lmfcy5rfe+5nnn0nuvZ50zrnJdnfKq3/x8aNbdv5PhjX8737/06Z2319j11uX/z3Op6z9+63f2va58DAAICBICIAAEgIkAAiAgQACICBICIAAEgIkAAiAgQACICBICIAAEgIkAAiAgQACICBICIAAEgIkAAiAgQACICBICIAAEgIkAAiAgQACICBICIAAEgIkAAiAgQACICBICIAAEgIkAAiAgQACICBICIAAEgIkAAiAgQACICBICIAAEgIkAAiAgQACICBICIAAEgIkAAiAgQACICBICIAAEgIkAAiAgQACICBICIAAEgIkAAiAgQACI/J9fS+IJt7S4AAAAASUVORK5CYII=\">"
      ],
      "text/plain": [
       "<matplotlib.colors.ListedColormap at 0x7fa4d74cb7f0>"
      ]
     },
     "execution_count": 30,
     "metadata": {},
     "output_type": "execute_result"
    }
   ],
   "source": [
    "sns.color_palette(\"ch:start=.2,rot=-.3\", as_cmap=True)"
   ]
  },
  {
   "cell_type": "raw",
   "metadata": {},
   "source": [
    "And for compactness, each parameter can be specified with its first letter:"
   ]
  },
  {
   "cell_type": "code",
   "execution_count": 31,
   "metadata": {},
   "outputs": [
    {
     "data": {
      "image/png": "[encoded data removed]",
      "text/html": [
       "<img alt=\"seaborn_cubehelix color map\" title=\"seaborn_cubehelix\"src=\"data:image/png;base64,iVBORw0KGgoAAAANSUhEUgAAAZAAAAAyCAYAAAByHI2dAAAB2klEQVR4nO3VS3IbMQwFQCb3v1RukXUOQnjhjESCVFL11t0bWxhwiPlI78ef379qjDFGzfGo+i6N2WpP/fk7xqinZ62tvbee3jvb5zbPc7yf9/m/5l6rtedZ//TWXj96l3m2Y3Xuc/TM97G9ftn7Ovt679fWGqOPOfdavc7XN/r7cXse9/PWdc79/O89LvXXo2u187aNmtXHHFXjuOfrvNv62tfXh3nqfD3f96qtn//o6b3H/Rh9/X3O+WnO57Gv9Xau5/j99T6vabY5b3u/X9n/z3lfXx97+3drLj2z97YXvF/n0z/Hvd5n6ntUfapfaqPafHWtv+Ycl96q1377NZ1z7vdtvs53nWH5Mnzfi9uc83qdc5y/8XP93V/2rWv9XP9zAEBAgAAQESAARAQIABEBAkBEgAAQESAARAQIABEBAkBEgAAQESAARAQIABEBAkBEgAAQESAARAQIABEBAkBEgAAQESAARAQIABEBAkBEgAAQESAARAQIABEBAkBEgAAQESAARAQIABEBAkBEgAAQESAARAQIABEBAkBEgAAQESAARAQIABEBAkBEgAAQESAARAQIABEBAkBEgAAQESAARAQIABEBAkBEgAAQESAARAQIABEBAkDkC3KRpvgh9YcxAAAAAElFTkSuQmCC\">"
      ],
      "text/plain": [
       "<matplotlib.colors.ListedColormap at 0x7fa4d74cb8b0>"
      ]
     },
     "execution_count": 31,
     "metadata": {},
     "output_type": "execute_result"
    }
   ],
   "source": [
    "sns.color_palette(\"ch:s=-.2,r=.6\", as_cmap=True)"
   ]
  },
  {
   "cell_type": "raw",
   "metadata": {},
   "source": [
    "Custom sequential palettes\n",
    "~~~~~~~~~~~~~~~~~~~~~~~~~~\n",
    "\n",
    "For a simpler interface to custom sequential palettes, you can use :func:`light_palette` or :func:`dark_palette`, which are both seeded with a single color and produce a palette that ramps either from light or dark desaturated values to that color:"
   ]
  },
  {
   "cell_type": "code",
   "execution_count": 32,
   "metadata": {},
   "outputs": [
    {
     "data": {
      "image/png": "[encoded data removed]",
      "text/html": [
       "<img alt=\"blend color map\" title=\"blend\"src=\"data:image/png;base64,iVBORw0KGgoAAAANSUhEUgAAAZAAAAAyCAYAAAByHI2dAAABkklEQVR4nO3VQXKCQBCG0U7uf9JUZZMLdBYqODCg/mzfWyRGx6GhAt/Xz99vV1VV3X51V3U93lpeVVdXP/5Y1o6fL1+rrr4vHn72fK+eHnt93cP392t73exgzs1ekzmGM/lwzvXTF3M+XYTXa6/MWcN12e01fH4w5/3N6ZzD3vNzWo8yzpHPOdlrmHNyTts5t+d0tvf2f+jknNM559dosvbpfpqtvV23q3Me3Pc9TLl/7+M592uPnxGfzbnf62zO43O6NOfsHnhjr6Nn7nqsd+Ycv3f+jHgx5/TY431dVfVdABAQEAAiAgJAREAAiAgIABEBASAiIABEBASAiIAAEBEQACICAkBEQACICAgAEQEBICIgAEQEBICIgAAQERAAIgICQERAAIgICAARAQEgIiAARAQEgIiAABAREAAiAgJAREAAiAgIABEBASAiIABEBASAiIAAEBEQACICAkBEQACICAgAEQEBICIgAEQEBICIgAAQERAAIgICQERAAIgICAARAQEgIiAARAQEgIiAABD5B86su4I70Lg4AAAAAElFTkSuQmCC\">"
      ],
      "text/plain": [
       "<matplotlib.colors.LinearSegmentedColormap at 0x7fa4d74cb970>"
      ]
     },
     "execution_count": 32,
     "metadata": {},
     "output_type": "execute_result"
    }
   ],
   "source": [
    "sns.light_palette(\"seagreen\", as_cmap=True)"
   ]
  },
  {
   "cell_type": "code",
   "execution_count": 33,
   "metadata": {},
   "outputs": [
    {
     "data": {
      "image/png": "[encoded data removed]",
      "text/html": [
       "<img alt=\"blend color map\" title=\"blend\"src=\"data:image/png;base64,iVBORw0KGgoAAAANSUhEUgAAAZAAAAAyCAYAAAByHI2dAAABmUlEQVR4nO3VQXqCMBSF0dcutnvq4rqWdFDUBAjB+3V4zkgjhoeo/8fX90+rqmqt1Z9WtT3eXujWH48eD1o9Fw97PFe79Tq8b3zt4tzb89e2/R7dMas52369O/d+ntmch3M/3v/GnN1+w+e2mvP5+bSb829H93PO1s+uaTbndP7FnMN67d53d846Of9qj5Nju/sx7rGbc3fs7P4O66s5Z3u8M+f0N9af43z+19LsdzOb8+TY6fdwMedwf8fr7+/d5ZyH/4junl0dO1xrHa7h9pz//D+0/y5fHbu+v/trOJlz+V92NWfVZwFAQEAAiAgIABEBASAiIABEBASAiIAAEBEQACICAkBEQACICAgAEQEBICIgAEQEBICIgAAQERAAIgICQERAAIgICAARAQEgIiAARAQEgIiAABAREAAiAgJAREAAiAgIABEBASAiIABEBASAiIAAEBEQACICAkBEQACICAgAEQEBICIgAEQEBICIgAAQERAAIgICQERAAIgICAARAQEgIiAARAQEgIiAABAREAAiAgJA5BdxR2zjclXaYQAAAABJRU5ErkJggg==\">"
      ],
      "text/plain": [
       "<matplotlib.colors.LinearSegmentedColormap at 0x7fa4d74cb1f0>"
      ]
     },
     "execution_count": 33,
     "metadata": {},
     "output_type": "execute_result"
    }
   ],
   "source": [
    "sns.dark_palette(\"#69d\", reverse=True, as_cmap=True)"
   ]
  },
  {
   "cell_type": "raw",
   "metadata": {},
   "source": [
    "As with cubehelix palettes, you can also specify light or dark palettes through :func:`color_palette` or anywhere ``palette`` is accepted:"
   ]
  },
  {
   "cell_type": "code",
   "execution_count": 34,
   "metadata": {},
   "outputs": [
    {
     "data": {
      "image/png": "[encoded data removed]",
      "text/html": [
       "<img alt=\"blend color map\" title=\"blend\"src=\"data:image/png;base64,iVBORw0KGgoAAAANSUhEUgAAAZAAAAAyCAYAAAByHI2dAAABg0lEQVR4nO3VQXaCMBhG0bT7X6xdwd+BAoGADZ8d3jtSDAESOe/r8fip1lqr9lTLh9ZaVa3HW/Vjqhuz/rx+6Sesw/hlWHVfZq59do3qBuzvYz16Mu92vO3uYzvnOH6da/dM+xPrMNfZNWbW7bgG4zNtE9xZt3t7Nr9u1Z14uQcX61bDM81d++waM3PM3s8w/o9nTq99te/Pn/7/3RvXe+4/dLb2M+/e+EzX796ne3b33evXYJz3zbvXHz855/M9m1+3d//DZa67ezY+08WevXw3AAgICAARAQEgIiAARAQEgIiAABAREAAiAgJAREAAiAgIABEBASAiIABEBASAiIAAEBEQACICAkBEQACICAgAEQEBICIgAEQEBICIgAAQERAAIgICQERAAIgICAARAQEgIiAARAQEgIiAABAREAAiAgJAREAAiAgIABEBASAiIABEBASAiIAAEBEQACICAkBEQACICAgAEQEBICIgAEQEBICIgAAQERAAIgICQERAAIj8As1TZeD4YfYTAAAAAElFTkSuQmCC\">"
      ],
      "text/plain": [
       "<matplotlib.colors.LinearSegmentedColormap at 0x7fa4d74cbc10>"
      ]
     },
     "execution_count": 34,
     "metadata": {},
     "output_type": "execute_result"
    }
   ],
   "source": [
    "sns.color_palette(\"light:b\", as_cmap=True)"
   ]
  },
  {
   "cell_type": "raw",
   "metadata": {},
   "source": [
    "Reverse the colormap by adding ``\"_r\"``:"
   ]
  },
  {
   "cell_type": "code",
   "execution_count": 35,
   "metadata": {},
   "outputs": [
    {
     "data": {
      "image/png": "[encoded data removed]",
      "text/html": [
       "<img alt=\"blend color map\" title=\"blend\"src=\"data:image/png;base64,iVBORw0KGgoAAAANSUhEUgAAAZAAAAAyCAYAAAByHI2dAAABtElEQVR4nO3VQXbDIAwFQLVH7gl67m7ook4AGxrnr2dWiRNbEob3P36+v1pVVWutqqpaVR0fq9Xx4bj2+N6Ga49vf7/3+1q/td/3fG7/b7U2PW+qcerjVm9DH/33ocYw6zzLtcZYZd/bdeY2DDvOOvZxq7dpveY1rFrP3KpdezvVWPc2r+ll5mldW9bbuF+m+dbvfFWjNnXHzu/s5WeNu72dZnu5l4dehu10ay+ve7s+77x3+3Ov7/d8zs41hm1z3cur87s5Q7t9tpz5nz10rrvqbZx9VWN7ft88Q8t9tnlPu3e57O3lGeozbs/v5l2+09u85r1m722+Nv73swAgIEAAiAgQACICBICIAAEgIkAAiAgQACICBICIAAEgIkAAiAgQACICBICIAAEgIkAAiAgQACICBICIAAEgIkAAiAgQACICBICIAAEgIkAAiAgQACICBICIAAEgIkAAiAgQACICBICIAAEgIkAAiAgQACICBICIAAEgIkAAiAgQACICBICIAAEgIkAAiAgQACICBICIAAEgIkAAiAgQACICBICIAAEgIkAAiAgQACICBICIAAEg8gvBBnrlggssIwAAAABJRU5ErkJggg==\">"
      ],
      "text/plain": [
       "<matplotlib.colors.LinearSegmentedColormap at 0x7fa4d74cb790>"
      ]
     },
     "execution_count": 35,
     "metadata": {},
     "output_type": "execute_result"
    }
   ],
   "source": [
    "sns.color_palette(\"dark:salmon_r\", as_cmap=True)"
   ]
  },
  {
   "cell_type": "raw",
   "metadata": {},
   "source": [
    "Sequential Color Brewer palettes\n",
    "~~~~~~~~~~~~~~~~~~~~~~~~~~~~~~~~\n",
    "\n",
    "The Color Brewer library also has some good options for sequential palettes. They include palettes with one primary hue:"
   ]
  },
  {
   "cell_type": "code",
   "execution_count": 36,
   "metadata": {},
   "outputs": [
    {
     "data": {
      "image/png": "[encoded data removed]",
      "text/html": [
       "<img alt=\"Blues color map\" title=\"Blues\"src=\"data:image/png;base64,iVBORw0KGgoAAAANSUhEUgAAAZAAAAAyCAYAAAByHI2dAAABsElEQVR4nO3Vy5LaMBAF0E7+/3+zmCppFgyoZWwCN1meUwWItp421P3152vOqqp5+6g5q26tVbuqz8fb7eOt+s9ca9651ee68NR/ti/zUD/udV/v9TmOYz6tf7LGu2v3842arc96TqO1t/pJ33t7zFf1fW+zqsa2n15ffY/jRm/P83OM2eZutT5utHnXeve+e63PNepk7X691dbeDmu3852tsd23Xm9zPO7P2XPs9bnXn+a9ql+Mvz+Pp/rJmc7bF/scfxt33V5zfdL3qr32WU9nur7+P8Y9/rdvzLvVD9drjnbY0X4w4/babsb4vP24seMfx71oV9XvAoCAAAEgIkAAiAgQACICBICIAAEgIkAAiAgQACICBICIAAEgIkAAiAgQACICBICIAAEgIkAAiAgQACICBICIAAEgIkAAiAgQACICBICIAAEgIkAAiAgQACICBICIAAEgIkAAiAgQACICBICIAAEgIkAAiAgQACICBICIAAEgIkAAiAgQACICBICIAAEgIkAAiAgQACICBICIAAEgIkAAiAgQACICBICIAAEgIkAAiAgQACICBIDIN702GCQIZoxJAAAAAElFTkSuQmCC\">"
      ],
      "text/plain": [
       "<matplotlib.colors.LinearSegmentedColormap at 0x7fa4d74cbd30>"
      ]
     },
     "execution_count": 36,
     "metadata": {},
     "output_type": "execute_result"
    }
   ],
   "source": [
    "sns.color_palette(\"Blues\", as_cmap=True)"
   ]
  },
  {
   "cell_type": "raw",
   "metadata": {},
   "source": [
    "Along with multi-hue options:"
   ]
  },
  {
   "cell_type": "code",
   "execution_count": 37,
   "metadata": {},
   "outputs": [
    {
     "data": {
      "image/png": "[encoded data removed]",
      "text/html": [
       "<img alt=\"YlOrBr color map\" title=\"YlOrBr\"src=\"data:image/png;base64,iVBORw0KGgoAAAANSUhEUgAAAZAAAAAyCAYAAAByHI2dAAABzUlEQVR4nO3VS47bMBAFQDr3v2aOEXUWluSWRDqTt64CBiM0ySb1gd+r6neNMcaobbzV/nfUqtX3OVXPuWO71Vu/S32fe+5xm7usH70mc0eNqtl+7bw1OWfN7unL+GxOf1Y1OWfVes5R6/d8rtvW12ftT6v9a+5/Xo/x7h+t67UaY5vc/9ae56U2W3frMRs/e9ze33bbo7bFuvneda4bo9q6T7tPj/errk/9WNdrZ4u2bmvrVrXVfvvZa3WGtl/1vffxWoxPr9sz+cncup3z67rtZ3P7Z9Nu73yll/FxndteyeOz2Kr92tTr+um1Pfr8e69vez/P+7qc/bP39froNT177z2ez6LG6zq+uO79nudcnG3//2sAQECAABARIABEBAgAEQECQESAABARIABEBAgAEQECQESAABARIABEBAgAEQECQESAABARIABEBAgAEQECQESAABARIABEBAgAEQECQESAABARIABEBAgAEQECQESAABARIABEBAgAEQECQESAABARIABEBAgAEQECQESAABARIABEBAgAEQECQESAABARIABEBAgAEQECQESAABARIABEBAgAEQECQESAABARIABEBAgAEQECQOQvRJbdArCutSMAAAAASUVORK5CYII=\">"
      ],
      "text/plain": [
       "<matplotlib.colors.LinearSegmentedColormap at 0x7fa4d77cb040>"
      ]
     },
     "execution_count": 37,
     "metadata": {},
     "output_type": "execute_result"
    }
   ],
   "source": [
    "sns.color_palette(\"YlOrBr\", as_cmap=True)"
   ]
  },
  {
   "cell_type": "raw",
   "metadata": {},
   "source": [
    ".. _diverging_palettes:\n",
    "\n",
    "Diverging color palettes\n",
    "------------------------\n",
    "\n",
    "The third class of color palettes is called \"diverging\". These are used for data where both large low and high values are interesting and span a midpoint value (often 0) that should be demphasized. The rules for choosing good diverging palettes are similar to good sequential palettes, except now there should be two dominant hues in the colormap, one at (or near) each pole. It's also important that the starting values are of similar brightness and saturation.\n",
    "\n",
    "Perceptually uniform diverging palettes\n",
    "~~~~~~~~~~~~~~~~~~~~~~~~~~~~~~~~~~~~~~~\n",
    "\n",
    "Seaborn includes two perceptually uniform diverging palettes: ``\"vlag\"`` and ``\"icefire\"``. They both use blue and red at their poles, which many intuitively processes as \"cold\" and \"hot\":"
   ]
  },
  {
   "cell_type": "code",
   "execution_count": 38,
   "metadata": {},
   "outputs": [
    {
     "data": {
      "image/png": "[encoded data removed]",
      "text/html": [
       "<img alt=\"vlag color map\" title=\"vlag\"src=\"data:image/png;base64,iVBORw0KGgoAAAANSUhEUgAAAZAAAAAyCAYAAAByHI2dAAAB8ElEQVR4nO3VW27cMBAEQFI+Sk6XO+ZsYj6yEod6YJH+rgIM03wOuWt0//X7z2ittZ/e2vH7aG9Le8z29jT+7+db+97XH/v707qtv4733l/P65cznub2Ws/2fV2d/zzez7c65vS+1jRr6GffOb715Y2u5/WybtvW8XttvfWtjj+cvbztXLfW0x/P6Nvsv9+/r/stb7uuu51Raq5zbvco6/r1PbfZf/T1NvvO/jKnOrvGmJ1jzL/HaKO2932ZP8bexn6Mz/bY9zbGZ+4+znYdb6Vvju+t7XPvudfnjL2cMfbWPvWMpbayb6l3lLlzXan/Za/1vJf2cbeHO7VL/bczru/z1v5Sw/JGo7zzef+Hz+m6R5nzfKdvZ9Q3/vIdedvrbNc3fPgO1c+x1LbuUfd+Ou/6HVnv9PkXBYD/I0AAiAgQACICBICIAAEgIkAAiAgQACICBICIAAEgIkAAiAgQACICBICIAAEgIkAAiAgQACICBICIAAEgIkAAiAgQACICBICIAAEgIkAAiAgQACICBICIAAEgIkAAiAgQACICBICIAAEgIkAAiAgQACICBICIAAEgIkAAiAgQACICBICIAAEgIkAAiAgQACICBICIAAEgIkAAiAgQACICBICIAAEgIkAAiAgQACICBICIAAEg8hcmDFGKLgWJNwAAAABJRU5ErkJggg==\">"
      ],
      "text/plain": [
       "<matplotlib.colors.ListedColormap at 0x7fa4d77cb610>"
      ]
     },
     "execution_count": 38,
     "metadata": {},
     "output_type": "execute_result"
    }
   ],
   "source": [
    "sns.color_palette(\"vlag\", as_cmap=True)"
   ]
  },
  {
   "cell_type": "code",
   "execution_count": 39,
   "metadata": {},
   "outputs": [
    {
     "data": {
      "image/png": "[encoded data removed]",
      "text/html": [
       "<img alt=\"icefire color map\" title=\"icefire\"src=\"data:image/png;base64,iVBORw0KGgoAAAANSUhEUgAAAZAAAAAyCAYAAAByHI2dAAACVklEQVR4nO3Vy3XjOBAF0AKg/CPqSDqAicIEZiEQgGTOYmp974ZPhY9s2ue88uefvyMi4uojIiJ63/nqI3qPlff896yP+Fj/rxwRcY1x3PG1d5x3x9e5+Dr3kEccP3Mcv9Nz7kfes/K4fufRS4yV93NcZW6eLyQiyjU/R0Tp4/05Iuq93keU+QPVPqLML6lXX7n0a+frmrMepc/L+rXz+IlY859j9s5j/MQ45mPMeb92XrNjfVyfed7Rv+b3s/fr+dx8Ye9z169z9/oYV/SV+7Fnv/DxsT5z9PVHGTF2HvMfK/p7/h5G3DnGnq9nRLmf48jxnGuUnUtZ63VOa0SUUtbeWvZ87XlYbx97S7Qj32famR/Otahr/7neHu5tse9rJXaO3+fax/wrH3v2+kMuEW2+81bu9zeO9RGtjD2/99TP+ZrVPat3rnHkEbXtO+5nWbM9L+39+Z3HkctaL3NWWznmZ54bWo0yLyitRmnzC1t7zGtWz/XXsf6KqK+9t732fJ177XP1OHfuPedf3xH1dcyP++b3zt8MAP4fBQJAigIBIEWBAJCiQABIUSAApCgQAFIUCAApCgSAFAUCQIoCASBFgQCQokAASFEgAKQoEABSFAgAKQoEgBQFAkCKAgEgRYEAkKJAAEhRIACkKBAAUhQIACkKBIAUBQJAigIBIEWBAJCiQABIUSAApCgQAFIUCAApCgSAFAUCQIoCASBFgQCQokAASFEgAKQoEABSFAgAKQoEgBQFAkCKAgEgRYEAkKJAAEhRIACkKBAAUhQIACkKBICUfwGdkTrvIk24DwAAAABJRU5ErkJggg==\">"
      ],
      "text/plain": [
       "<matplotlib.colors.ListedColormap at 0x7fa4d77cb1f0>"
      ]
     },
     "execution_count": 39,
     "metadata": {},
     "output_type": "execute_result"
    }
   ],
   "source": [
    "sns.color_palette(\"icefire\", as_cmap=True)"
   ]
  },
  {
   "cell_type": "raw",
   "metadata": {},
   "source": [
    "Custom diverging palettes\n",
    "~~~~~~~~~~~~~~~~~~~~~~~~~\n",
    "\n",
    "You can also use the seaborn function :func:`diverging_palette` to create a custom colormap for diverging data. This function makes diverging palettes using the ``husl`` color system. You pass it two hues (in degrees) and, optionally, the lightness and saturation values for the extremes. Using ``husl`` means that the extreme values, and the resulting ramps to the midpoint, while not perfectly perceptually uniform, will be well-balanced:"
   ]
  },
  {
   "cell_type": "code",
   "execution_count": 40,
   "metadata": {},
   "outputs": [
    {
     "data": {
      "image/png": "[encoded data removed]",
      "text/html": [
       "<img alt=\"blend color map\" title=\"blend\"src=\"data:image/png;base64,iVBORw0KGgoAAAANSUhEUgAAAZAAAAAyCAYAAAByHI2dAAAB1ElEQVR4nO3VQbKbMBAFQA05WI6WQ+S+KAuMkYz4Tr1198ZYEow0UPXq95+/vbXWqlo7fqttrd7X5/hW1er1Z6tzvk1j53VNa2pafx+rtp3jrT6ed62/7+Ean/c8177VqHWN+cwPNVb7f6j7tUdD3XF+267nRr2v+SyrXi57X/U+y7ca975c7/1rjbj3H32bvrf/qFEPNdr9fFWt/TrXtH48YN9b7/tx3Xvr+3XdXuO99+P/a/01NlwP9/Vzbd/f9/Vpfqixv+aHtavnjvWOfS5qPJ5jUWPf532+611jj+dY1Hs6R1/2bZgf6z31/tzDosa998MzbjU+5s8a+9zbr70/r5e9+ukbmu/7+RtavL/H+fU51r1/OMfHO90aAAQECAARAQJARIAAEBEgAEQECAARAQJARIAAEBEgAEQECAARAQJARIAAEBEgAEQECAARAQJARIAAEBEgAEQECAARAQJARIAAEBEgAEQECAARAQJARIAAEBEgAEQECAARAQJARIAAEBEgAEQECAARAQJARIAAEBEgAEQECAARAQJARIAAEBEgAEQECAARAQJARIAAEBEgAEQECAARAQJARIAAEBEgAEQECAARAQJARIAAEBEgAET+AaOhMcJyTuRZAAAAAElFTkSuQmCC\">"
      ],
      "text/plain": [
       "<matplotlib.colors.LinearSegmentedColormap at 0x7fa4d77cb2b0>"
      ]
     },
     "execution_count": 40,
     "metadata": {},
     "output_type": "execute_result"
    }
   ],
   "source": [
    "sns.diverging_palette(220, 20, as_cmap=True)"
   ]
  },
  {
   "cell_type": "raw",
   "metadata": {},
   "source": [
    "This is convenient when you want to stray from the boring confines of cold-hot approaches:"
   ]
  },
  {
   "cell_type": "code",
   "execution_count": 41,
   "metadata": {},
   "outputs": [
    {
     "data": {
      "image/png": "[encoded data removed]",
      "text/html": [
       "<img alt=\"blend color map\" title=\"blend\"src=\"data:image/png;base64,iVBORw0KGgoAAAANSUhEUgAAAZAAAAAyCAYAAAByHI2dAAAB0UlEQVR4nO3VS3LbMBAFwBkmp8s1cpMcnMhClkRSgCy/dffChQLxGQ7lev3n399RVdXdVVW1dVfXbdzd1b095/s5/zJXPZ/v7TT/OLdma9dn3O/Yvl3br/fV+j3e1dZ9vG9b3veutndnzPv2gzpP32z7aO2pnsXd89pXfZndt53PqEXN1x5213b41qs6vq/ttRere2e1dXf97l+39eN2Vu2jxrgNa4wa+304qsZkvN8HX/O3bVUf7hvj/ucy3i/z9/2Pc9f7xnjWNL33MP9418W+5/NLXybzx/2P8V7Tfefnkx4e33/Vi8U7Heefd/+gF4fv/kmPj/tm9Z7Wrn4vl16eenzY9/LdJ/XOfy+XHj3OXTzfz2u//jsA4GcECAARAQJARIAAEBEgAEQECAARAQJARIAAEBEgAEQECAARAQJARIAAEBEgAEQECAARAQJARIAAEBEgAEQECAARAQJARIAAEBEgAEQECAARAQJARIAAEBEgAEQECAARAQJARIAAEBEgAEQECAARAQJARIAAEBEgAEQECAARAQJARIAAEBEgAEQECAARAQJARIAAEBEgAEQECAARAQJARIAAEBEgAEQECAARAQJARIAAEBEgAET+A3iqCCVk41njAAAAAElFTkSuQmCC\">"
      ],
      "text/plain": [
       "<matplotlib.colors.LinearSegmentedColormap at 0x7fa4d77cbdf0>"
      ]
     },
     "execution_count": 41,
     "metadata": {},
     "output_type": "execute_result"
    }
   ],
   "source": [
    "sns.diverging_palette(145, 300, s=60, as_cmap=True)"
   ]
  },
  {
   "cell_type": "raw",
   "metadata": {},
   "source": [
    "It's also possible to make a palette where the midpoint is dark rather than light:"
   ]
  },
  {
   "cell_type": "code",
   "execution_count": 42,
   "metadata": {},
   "outputs": [
    {
     "data": {
      "image/png": "[encoded data removed]",
      "text/html": [
       "<img alt=\"blend color map\" title=\"blend\"src=\"data:image/png;base64,iVBORw0KGgoAAAANSUhEUgAAAZAAAAAyCAYAAAByHI2dAAABu0lEQVR4nO3VUZKaQABF0dcky82esrwsIjWQDzWCgjhv5vOcH7u0aZqWqjt+/f6zJEmW+fKxLJvxch3nYZwkS+b7eJkv117XOhrf1309d1m2a+/tYTnYc7Ien6z74h5P6x7e72Td9Rnl+Sw25zLP/38/PYu8cxafOOPvPIu8cRY778Xxu/eZua/f2Xfe0/njb5LkZz4unyOZxkiSjPU4yXQZZoxxH18+Mo2R69RMIxnXX6aR1fdjNX9/re29b98/rzXGyJSs5q6uy33O2R42c1bPsreHd/b81ee/7efH4XVnezv+z75y3eP5HD3r2VrfcW7rPd2eY7PG7fc8rHEbZ2c/I5myc0artQDg0wQEgIqAAFAREAAqAgJARUAAqAgIABUBAaAiIABUBASAioAAUBEQACoCAkBFQACoCAgAFQEBoCIgAFQEBICKgABQERAAKgICQEVAAKgICAAVAQGgIiAAVAQEgIqAAFAREAAqAgJARUAAqAgIABUBAaAiIABUBASAioAAUBEQACoCAkBFQACoCAgAFQEBoCIgAFQEBICKgABQERAAKgICQEVAAKgICAAVAQGgIiAAVP4Bi9tFKvZdo5QAAAAASUVORK5CYII=\">"
      ],
      "text/plain": [
       "<matplotlib.colors.LinearSegmentedColormap at 0x7fa4d77cb490>"
      ]
     },
     "execution_count": 42,
     "metadata": {},
     "output_type": "execute_result"
    }
   ],
   "source": [
    "sns.diverging_palette(250, 30, l=65, center=\"dark\", as_cmap=True)"
   ]
  },
  {
   "cell_type": "raw",
   "metadata": {},
   "source": [
    "It's important to emphasize here that using red and green, while intuitive, `should be avoided <https://en.wikipedia.org/wiki/Color_blindness>`_.\n",
    "\n",
    "Other diverging palettes\n",
    "~~~~~~~~~~~~~~~~~~~~~~~~\n",
    "\n",
    "There are a few other good diverging palettes built into matplotlib, including Color Brewer palettes:"
   ]
  },
  {
   "cell_type": "code",
   "execution_count": 43,
   "metadata": {},
   "outputs": [
    {
     "data": {
      "image/png": "[encoded data removed]",
      "text/html": [
       "<img alt=\"Spectral color map\" title=\"Spectral\"src=\"data:image/png;base64,iVBORw0KGgoAAAANSUhEUgAAAZAAAAAyCAYAAAByHI2dAAAB9ElEQVR4nO3VSXbjMAwFQJC6WR+0byoyC02Q43jAumojBAIo2c57v/1v/2ZERO8R27VFX1J99JcWS6qPnd73ernqJdW93+eP/aNeHp/37Nn7tfWI3udZt1y3ec62c/73bE+zj/1j59xvV91zv+d+7EWL2D9nS3X0Fu384h5mIra/z15/2HtW93PvkzPOZ+Uvs6ezenq3XL+8/+KML/Za/mGPa677H/1396t7+Uc96tjed8aIGdv/ypx/1DFizqt+d/9Wp/O23rzX53lXHfvOOiPGVsaYLdZUH/011WO2tNf23jZz1LeZuPpvZ5+ct972Is1edZ6JiFjHZ7N55pvZ853X/f5oMcb+7muqX/S/nh1b/9Pnzf3d+pjR9w/Vx4y2zl/9lmfWcc2mvZ72nvVvvfOs+bx/XAMACgQIACUCBIASAQJAiQABoESAAFAiQAAoESAAlAgQAEoECAAlAgSAEgECQIkAAaBEgABQIkAAKBEgAJQIEABKBAgAJQIEgBIBAkCJAAGgRIAAUCJAACgRIACUCBAASgQIACUCBIASAQJAiQABoESAAFAiQAAoESAAlAgQAEoECAAlAgSAEgECQIkAAaBEgABQIkAAKBEgAJQIEABKBAgAJQIEgBIBAkCJAAGgRIAAUCJAACgRIACUCBAASn4AFoYSwd/5oIUAAAAASUVORK5CYII=\">"
      ],
      "text/plain": [
       "<matplotlib.colors.LinearSegmentedColormap at 0x7fa4d77cb400>"
      ]
     },
     "execution_count": 43,
     "metadata": {},
     "output_type": "execute_result"
    }
   ],
   "source": [
    "sns.color_palette(\"Spectral\", as_cmap=True)"
   ]
  },
  {
   "cell_type": "raw",
   "metadata": {},
   "source": [
    "And the ``coolwarm`` palette, which has less contrast between the middle values and the extremes:"
   ]
  },
  {
   "cell_type": "code",
   "execution_count": 44,
   "metadata": {},
   "outputs": [
    {
     "data": {
      "image/png": "[encoded data removed]",
      "text/html": [
       "<img alt=\"coolwarm color map\" title=\"coolwarm\"src=\"data:image/png;base64,iVBORw0KGgoAAAANSUhEUgAAAZAAAAAyCAYAAAByHI2dAAACAklEQVR4nO3VQXLbMAwFUJDH6hl66N4rMdmFLRFi5dbF+r1NOCAIKJnJ/Pbj568ZEdFai4iI1nv0vs653lI9IqK3dp5bbx/MeP7sW+2sv5l3zmotfUOLfplxfNPak9/nfdd5ce7+Y+8267XidT7qkb4nbucePb2nv/Ob2jmjp29qqf9yH7f3LdX32n7f23y/o83t3ep9/XpbT5oVqfeox0y752XGun+e+5v6Ze55nqu+9bbU85ybe8fl/jIj9UREtJlqc3xwXrXI9/P+XVz6I2LOtPt6f8yIub4t8rvb8/2Oc8bIM1ZvzBEx9n1b7U3vHGnP3ay/9Y4RM52P+hz7u9QT8Xxzdx7zsmOm+r4v75hj7Zhjxjz+Rrf3W++2Y699+m487t8962nG41XPsx5j9T5WfRznx4xxzP56vf+e/z5/rf9TAPhvAgSAEgECQIkAAaBEgABQIkAAKBEgAJQIEABKBAgAJQIEgBIBAkCJAAGgRIAAUCJAACgRIACUCBAASgQIACUCBIASAQJAiQABoESAAFAiQAAoESAAlAgQAEoECAAlAgSAEgECQIkAAaBEgABQIkAAKBEgAJQIEABKBAgAJQIEgBIBAkCJAAGgRIAAUCJAACgRIACUCBAASgQIACUCBIASAQJAiQABoESAAFAiQAAoESAAlAgQAEoECAAlvwHsCVROVcP06wAAAABJRU5ErkJggg==\">"
      ],
      "text/plain": [
       "<matplotlib.colors.LinearSegmentedColormap at 0x7fa4d77cb4c0>"
      ]
     },
     "execution_count": 44,
     "metadata": {},
     "output_type": "execute_result"
    }
   ],
   "source": [
    "sns.color_palette(\"coolwarm\", as_cmap=True)"
   ]
  },
  {
   "cell_type": "raw",
   "metadata": {},
   "source": [
    "As you can see, there are many options for using color in your visualizations. Seaborn tries both to use good defaults and to offer a lot of flexibility.\n",
    "\n",
    "This discussion is only the beginning, and there are a number of good resources for learning more about techniques for using color in visualizations. One great example is this `series of blog posts <https://earthobservatory.nasa.gov/blogs/elegantfigures/2013/08/05/subtleties-of-color-part-1-of-6/>`_ from the NASA Earth Observatory. The matplotlib docs also have a `nice tutorial <https://matplotlib.org/users/colormaps.html>`_ that illustrates some of the perceptual properties of their colormaps."
   ]
  }
 ],
 "metadata": {
  "celltoolbar": "Tags",
  "kernelspec": {
   "display_name": "Python 3 (ipykernel)",
   "language": "python",
   "name": "python3"
  },
  "language_info": {
   "codemirror_mode": {
    "name": "ipython",
    "version": 3
   },
   "file_extension": ".py",
   "mimetype": "text/x-python",
   "name": "python",
   "nbconvert_exporter": "python",
   "pygments_lexer": "ipython3",
   "version": "3.8.16"
  }
 },
 "nbformat": 4,
 "nbformat_minor": 4
}
