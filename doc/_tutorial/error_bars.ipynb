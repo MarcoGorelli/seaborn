{
 "cells": [
  {
   "cell_type": "raw",
   "metadata": {},
   "source": [
    ".. _errorbar_tutorial:\n",
    "\n",
    ".. currentmodule:: seaborn"
   ]
  },
  {
   "cell_type": "code",
   "execution_count": 1,
   "metadata": {
    "execution": {
     "iopub.execute_input": "2023-05-21T16:21:39.062875Z",
     "iopub.status.busy": "2023-05-21T16:21:39.062733Z",
     "iopub.status.idle": "2023-05-21T16:21:39.713101Z",
     "shell.execute_reply": "2023-05-21T16:21:39.712234Z"
    },
    "tags": [
     "hide"
    ]
   },
   "outputs": [],
   "source": [
    "import numpy as np\n",
    "import pandas as pd\n",
    "import seaborn as sns\n",
    "import matplotlib as mpl\n",
    "import matplotlib.pyplot as plt\n",
    "sns.set_theme(style=\"darkgrid\")"
   ]
  },
  {
   "cell_type": "code",
   "execution_count": 2,
   "metadata": {
    "execution": {
     "iopub.execute_input": "2023-05-21T16:21:39.715764Z",
     "iopub.status.busy": "2023-05-21T16:21:39.715467Z",
     "iopub.status.idle": "2023-05-21T16:21:39.718400Z",
     "shell.execute_reply": "2023-05-21T16:21:39.717931Z"
    },
    "tags": [
     "hide"
    ]
   },
   "outputs": [],
   "source": [
    "np.random.seed(sum(map(ord, \"errorbars\")))"
   ]
  },
  {
   "cell_type": "raw",
   "metadata": {},
   "source": [
    "Statistical estimation and error bars\n",
    "=====================================\n",
    "\n",
    "Data visualization sometimes involves a step of aggregation or estimation, where multiple data points are reduced to a summary statistic such as the mean or median. When showing a summary statistic, it is usually appropriate to add *error bars*, which provide a visual cue about how well the summary represents the underlying data points.\n",
    "\n",
    "Several seaborn functions will automatically calculate both summary statistics and the error bars when given a full dataset. This chapter explains how you can control what the error bars show and why you might choose each of the options that seaborn affords.\n",
    "\n",
    "The error bars around an estimate of central tendency can show one of two general things: either the range of uncertainty about the estimate or the spread of the underlying data around it. These measures are related: given the same sample size, estimates will be more uncertain when data has a broader spread. But uncertainty will decrease as sample sizes grow, whereas spread will not.\n",
    "\n",
    "In seaborn, there are two approaches for constructing each kind of error bar. One approach is parametric, using a formula that relies on assumptions about the shape of the distribution. The other approach is nonparametric, using only the data that you provide.\n",
    "\n",
    "Your choice is made with the `errorbar` parameter, which exists for each function that does estimation as part of plotting. This parameter accepts the name of the method to use and, optionally, a parameter that controls the size of the interval. The choices can be defined in a 2D taxonomy that depends on what is shown and how it is constructed:"
   ]
  },
  {
   "cell_type": "code",
   "execution_count": 3,
   "metadata": {
    "execution": {
     "iopub.execute_input": "2023-05-21T16:21:39.720528Z",
     "iopub.status.busy": "2023-05-21T16:21:39.720395Z",
     "iopub.status.idle": "2023-05-21T16:21:39.810351Z",
     "shell.execute_reply": "2023-05-21T16:21:39.809680Z"
    },
    "tags": [
     "hide-input"
    ]
   },
   "outputs": [
    {
     "name": "stderr",
     "output_type": "stream",
     "text": [
      "findfont: Font family 'Courier New' not found.\n",
      "findfont: Font family 'Courier New' not found.\n",
      "findfont: Font family 'Courier New' not found.\n",
      "findfont: Font family 'Courier New' not found.\n",
      "findfont: Font family 'Courier New' not found.\n",
      "findfont: Font family 'Courier New' not found.\n",
      "findfont: Font family 'Courier New' not found.\n",
      "findfont: Font family 'Courier New' not found.\n",
      "findfont: Font family 'Courier New' not found.\n",
      "findfont: Font family 'Courier New' not found.\n",
      "findfont: Font family 'Courier New' not found.\n",
      "findfont: Font family 'Courier New' not found.\n",
      "findfont: Font family 'Courier New' not found.\n",
      "findfont: Font family 'Courier New' not found.\n"
     ]
    },
    {
     "data": {
      "image/svg+xml": [
       "<svg xmlns:xlink=\"http://www.w3.org/1999/xlink\" xmlns=\"http://www.w3.org/2000/svg\" width=\"576pt\" height=\"360pt\" viewBox=\"0 0 576 360\" version=\"1.1\">\n",
       " <metadata>\n",
       "  <rdf:RDF xmlns:dc=\"http://purl.org/dc/elements/1.1/\" xmlns:cc=\"http://creativecommons.org/ns#\" xmlns:rdf=\"http://www.w3.org/1999/02/22-rdf-syntax-ns#\">\n",
       "   <cc:Work>\n",
       "    <dc:type rdf:resource=\"http://purl.org/dc/dcmitype/StillImage\"/>\n",
       "    <dc:date>2023-05-21T17:21:39.778620</dc:date>\n",
       "    <dc:format>image/svg+xml</dc:format>\n",
       "    <dc:creator>\n",
       "     <cc:Agent>\n",
       "      <dc:title>Matplotlib v3.7.1, https://matplotlib.org/</dc:title>\n",
       "     </cc:Agent>\n",
       "    </dc:creator>\n",
       "   </cc:Work>\n",
       "  </rdf:RDF>\n",
       " </metadata>\n",
       " <defs>\n",
       "  <style type=\"text/css\">*{stroke-linejoin: round; stroke-linecap: butt}</style>\n",
       " </defs>\n",
       " <g id=\"figure_1\">\n",
       "  <g id=\"patch_1\">\n",
       "   <path d=\"M 0 360  L 576 360  L 576 0  L 0 0  z \" style=\"fill: #ffffff\"/>\n",
       "  </g>\n",
       "  <g id=\"axes_1\">\n",
       "   <g id=\"patch_2\">\n",
       "    <path d=\"M 34.24 186.005854  L 294.305574 186.005854  L 294.305574 32.64  L 34.24 32.64  z \" style=\"fill: #4c72b0; fill-opacity: 0.25\"/>\n",
       "   </g>\n",
       "   <g id=\"matplotlib.axis_1\"/>\n",
       "   <g id=\"matplotlib.axis_2\">\n",
       "    <g id=\"text_1\">\n",
       "     <!-- Parametric -->\n",
       "     <g style=\"fill: #262626\" transform=\"translate(26.496563 158.056521) rotate(-90) scale(0.18 -0.18)\">\n",
       "      <defs>\n",
       "       <path id=\"DejaVuSans-50\" d=\"M 1259 4147  L 1259 2394  L 2053 2394  Q 2494 2394 2734 2622  Q 2975 2850 2975 3272  Q 2975 3691 2734 3919  Q 2494 4147 2053 4147  L 1259 4147  z M 628 4666  L 2053 4666  Q 2838 4666 3239 4311  Q 3641 3956 3641 3272  Q 3641 2581 3239 2228  Q 2838 1875 2053 1875  L 1259 1875  L 1259 0  L 628 0  L 628 4666  z \" transform=\"scale(0.015625)\"/>\n",
       "       <path id=\"DejaVuSans-61\" d=\"M 2194 1759  Q 1497 1759 1228 1600  Q 959 1441 959 1056  Q 959 750 1161 570  Q 1363 391 1709 391  Q 2188 391 2477 730  Q 2766 1069 2766 1631  L 2766 1759  L 2194 1759  z M 3341 1997  L 3341 0  L 2766 0  L 2766 531  Q 2569 213 2275 61  Q 1981 -91 1556 -91  Q 1019 -91 701 211  Q 384 513 384 1019  Q 384 1609 779 1909  Q 1175 2209 1959 2209  L 2766 2209  L 2766 2266  Q 2766 2663 2505 2880  Q 2244 3097 1772 3097  Q 1472 3097 1187 3025  Q 903 2953 641 2809  L 641 3341  Q 956 3463 1253 3523  Q 1550 3584 1831 3584  Q 2591 3584 2966 3190  Q 3341 2797 3341 1997  z \" transform=\"scale(0.015625)\"/>\n",
       "       <path id=\"DejaVuSans-72\" d=\"M 2631 2963  Q 2534 3019 2420 3045  Q 2306 3072 2169 3072  Q 1681 3072 1420 2755  Q 1159 2438 1159 1844  L 1159 0  L 581 0  L 581 3500  L 1159 3500  L 1159 2956  Q 1341 3275 1631 3429  Q 1922 3584 2338 3584  Q 2397 3584 2469 3576  Q 2541 3569 2628 3553  L 2631 2963  z \" transform=\"scale(0.015625)\"/>\n",
       "       <path id=\"DejaVuSans-6d\" d=\"M 3328 2828  Q 3544 3216 3844 3400  Q 4144 3584 4550 3584  Q 5097 3584 5394 3201  Q 5691 2819 5691 2113  L 5691 0  L 5113 0  L 5113 2094  Q 5113 2597 4934 2840  Q 4756 3084 4391 3084  Q 3944 3084 3684 2787  Q 3425 2491 3425 1978  L 3425 0  L 2847 0  L 2847 2094  Q 2847 2600 2669 2842  Q 2491 3084 2119 3084  Q 1678 3084 1418 2786  Q 1159 2488 1159 1978  L 1159 0  L 581 0  L 581 3500  L 1159 3500  L 1159 2956  Q 1356 3278 1631 3431  Q 1906 3584 2284 3584  Q 2666 3584 2933 3390  Q 3200 3197 3328 2828  z \" transform=\"scale(0.015625)\"/>\n",
       "       <path id=\"DejaVuSans-65\" d=\"M 3597 1894  L 3597 1613  L 953 1613  Q 991 1019 1311 708  Q 1631 397 2203 397  Q 2534 397 2845 478  Q 3156 559 3463 722  L 3463 178  Q 3153 47 2828 -22  Q 2503 -91 2169 -91  Q 1331 -91 842 396  Q 353 884 353 1716  Q 353 2575 817 3079  Q 1281 3584 2069 3584  Q 2775 3584 3186 3129  Q 3597 2675 3597 1894  z M 3022 2063  Q 3016 2534 2758 2815  Q 2500 3097 2075 3097  Q 1594 3097 1305 2825  Q 1016 2553 972 2059  L 3022 2063  z \" transform=\"scale(0.015625)\"/>\n",
       "       <path id=\"DejaVuSans-74\" d=\"M 1172 4494  L 1172 3500  L 2356 3500  L 2356 3053  L 1172 3053  L 1172 1153  Q 1172 725 1289 603  Q 1406 481 1766 481  L 2356 481  L 2356 0  L 1766 0  Q 1100 0 847 248  Q 594 497 594 1153  L 594 3053  L 172 3053  L 172 3500  L 594 3500  L 594 4494  L 1172 4494  z \" transform=\"scale(0.015625)\"/>\n",
       "       <path id=\"DejaVuSans-69\" d=\"M 603 3500  L 1178 3500  L 1178 0  L 603 0  L 603 3500  z M 603 4863  L 1178 4863  L 1178 4134  L 603 4134  L 603 4863  z \" transform=\"scale(0.015625)\"/>\n",
       "       <path id=\"DejaVuSans-63\" d=\"M 3122 3366  L 3122 2828  Q 2878 2963 2633 3030  Q 2388 3097 2138 3097  Q 1578 3097 1268 2742  Q 959 2388 959 1747  Q 959 1106 1268 751  Q 1578 397 2138 397  Q 2388 397 2633 464  Q 2878 531 3122 666  L 3122 134  Q 2881 22 2623 -34  Q 2366 -91 2075 -91  Q 1284 -91 818 406  Q 353 903 353 1747  Q 353 2603 823 3093  Q 1294 3584 2113 3584  Q 2378 3584 2631 3529  Q 2884 3475 3122 3366  z \" transform=\"scale(0.015625)\"/>\n",
       "      </defs>\n",
       "      <use xlink:href=\"#DejaVuSans-50\"/>\n",
       "      <use xlink:href=\"#DejaVuSans-61\" x=\"55.802734\"/>\n",
       "      <use xlink:href=\"#DejaVuSans-72\" x=\"117.082031\"/>\n",
       "      <use xlink:href=\"#DejaVuSans-61\" x=\"158.195312\"/>\n",
       "      <use xlink:href=\"#DejaVuSans-6d\" x=\"219.474609\"/>\n",
       "      <use xlink:href=\"#DejaVuSans-65\" x=\"316.886719\"/>\n",
       "      <use xlink:href=\"#DejaVuSans-74\" x=\"378.410156\"/>\n",
       "      <use xlink:href=\"#DejaVuSans-72\" x=\"417.619141\"/>\n",
       "      <use xlink:href=\"#DejaVuSans-69\" x=\"458.732422\"/>\n",
       "      <use xlink:href=\"#DejaVuSans-63\" x=\"486.515625\"/>\n",
       "     </g>\n",
       "    </g>\n",
       "   </g>\n",
       "   <g id=\"patch_3\">\n",
       "    <path d=\"M 34.24 186.005854  L 34.24 32.64  \" style=\"fill: none; stroke: #ffffff; stroke-width: 1.25; stroke-linejoin: miter; stroke-linecap: square\"/>\n",
       "   </g>\n",
       "   <g id=\"patch_4\">\n",
       "    <path d=\"M 294.305574 186.005854  L 294.305574 32.64  \" style=\"fill: none; stroke: #ffffff; stroke-width: 1.25; stroke-linejoin: miter; stroke-linecap: square\"/>\n",
       "   </g>\n",
       "   <g id=\"patch_5\">\n",
       "    <path d=\"M 34.24 186.005854  L 294.305574 186.005854  \" style=\"fill: none; stroke: #ffffff; stroke-width: 1.25; stroke-linejoin: miter; stroke-linecap: square\"/>\n",
       "   </g>\n",
       "   <g id=\"patch_6\">\n",
       "    <path d=\"M 34.24 32.64  L 294.305574 32.64  \" style=\"fill: none; stroke: #ffffff; stroke-width: 1.25; stroke-linejoin: miter; stroke-linecap: square\"/>\n",
       "   </g>\n",
       "   <g id=\"text_2\">\n",
       "    <!-- Standard deviation -->\n",
       "    <g style=\"fill: #262626\" transform=\"translate(78.633568 98.953216) scale(0.18 -0.18)\">\n",
       "     <defs>\n",
       "      <path id=\"DejaVuSans-53\" d=\"M 3425 4513  L 3425 3897  Q 3066 4069 2747 4153  Q 2428 4238 2131 4238  Q 1616 4238 1336 4038  Q 1056 3838 1056 3469  Q 1056 3159 1242 3001  Q 1428 2844 1947 2747  L 2328 2669  Q 3034 2534 3370 2195  Q 3706 1856 3706 1288  Q 3706 609 3251 259  Q 2797 -91 1919 -91  Q 1588 -91 1214 -16  Q 841 59 441 206  L 441 856  Q 825 641 1194 531  Q 1563 422 1919 422  Q 2459 422 2753 634  Q 3047 847 3047 1241  Q 3047 1584 2836 1778  Q 2625 1972 2144 2069  L 1759 2144  Q 1053 2284 737 2584  Q 422 2884 422 3419  Q 422 4038 858 4394  Q 1294 4750 2059 4750  Q 2388 4750 2728 4690  Q 3069 4631 3425 4513  z \" transform=\"scale(0.015625)\"/>\n",
       "      <path id=\"DejaVuSans-6e\" d=\"M 3513 2113  L 3513 0  L 2938 0  L 2938 2094  Q 2938 2591 2744 2837  Q 2550 3084 2163 3084  Q 1697 3084 1428 2787  Q 1159 2491 1159 1978  L 1159 0  L 581 0  L 581 3500  L 1159 3500  L 1159 2956  Q 1366 3272 1645 3428  Q 1925 3584 2291 3584  Q 2894 3584 3203 3211  Q 3513 2838 3513 2113  z \" transform=\"scale(0.015625)\"/>\n",
       "      <path id=\"DejaVuSans-64\" d=\"M 2906 2969  L 2906 4863  L 3481 4863  L 3481 0  L 2906 0  L 2906 525  Q 2725 213 2448 61  Q 2172 -91 1784 -91  Q 1150 -91 751 415  Q 353 922 353 1747  Q 353 2572 751 3078  Q 1150 3584 1784 3584  Q 2172 3584 2448 3432  Q 2725 3281 2906 2969  z M 947 1747  Q 947 1113 1208 752  Q 1469 391 1925 391  Q 2381 391 2643 752  Q 2906 1113 2906 1747  Q 2906 2381 2643 2742  Q 2381 3103 1925 3103  Q 1469 3103 1208 2742  Q 947 2381 947 1747  z \" transform=\"scale(0.015625)\"/>\n",
       "      <path id=\"DejaVuSans-20\" transform=\"scale(0.015625)\"/>\n",
       "      <path id=\"DejaVuSans-76\" d=\"M 191 3500  L 800 3500  L 1894 563  L 2988 3500  L 3597 3500  L 2284 0  L 1503 0  L 191 3500  z \" transform=\"scale(0.015625)\"/>\n",
       "      <path id=\"DejaVuSans-6f\" d=\"M 1959 3097  Q 1497 3097 1228 2736  Q 959 2375 959 1747  Q 959 1119 1226 758  Q 1494 397 1959 397  Q 2419 397 2687 759  Q 2956 1122 2956 1747  Q 2956 2369 2687 2733  Q 2419 3097 1959 3097  z M 1959 3584  Q 2709 3584 3137 3096  Q 3566 2609 3566 1747  Q 3566 888 3137 398  Q 2709 -91 1959 -91  Q 1206 -91 779 398  Q 353 888 353 1747  Q 353 2609 779 3096  Q 1206 3584 1959 3584  z \" transform=\"scale(0.015625)\"/>\n",
       "     </defs>\n",
       "     <use xlink:href=\"#DejaVuSans-53\"/>\n",
       "     <use xlink:href=\"#DejaVuSans-74\" x=\"63.476562\"/>\n",
       "     <use xlink:href=\"#DejaVuSans-61\" x=\"102.685547\"/>\n",
       "     <use xlink:href=\"#DejaVuSans-6e\" x=\"163.964844\"/>\n",
       "     <use xlink:href=\"#DejaVuSans-64\" x=\"227.34375\"/>\n",
       "     <use xlink:href=\"#DejaVuSans-61\" x=\"290.820312\"/>\n",
       "     <use xlink:href=\"#DejaVuSans-72\" x=\"352.099609\"/>\n",
       "     <use xlink:href=\"#DejaVuSans-64\" x=\"391.462891\"/>\n",
       "     <use xlink:href=\"#DejaVuSans-20\" x=\"454.939453\"/>\n",
       "     <use xlink:href=\"#DejaVuSans-64\" x=\"486.726562\"/>\n",
       "     <use xlink:href=\"#DejaVuSans-65\" x=\"550.203125\"/>\n",
       "     <use xlink:href=\"#DejaVuSans-76\" x=\"611.726562\"/>\n",
       "     <use xlink:href=\"#DejaVuSans-69\" x=\"670.90625\"/>\n",
       "     <use xlink:href=\"#DejaVuSans-61\" x=\"698.689453\"/>\n",
       "     <use xlink:href=\"#DejaVuSans-74\" x=\"759.96875\"/>\n",
       "     <use xlink:href=\"#DejaVuSans-69\" x=\"799.177734\"/>\n",
       "     <use xlink:href=\"#DejaVuSans-6f\" x=\"826.960938\"/>\n",
       "     <use xlink:href=\"#DejaVuSans-6e\" x=\"888.142578\"/>\n",
       "    </g>\n",
       "   </g>\n",
       "   <g id=\"text_3\">\n",
       "    <!-- errorbar=(\"sd\", scale) -->\n",
       "    <g style=\"fill: #262626\" transform=\"translate(65.402162 129.626387) scale(0.18 -0.18)\">\n",
       "     <defs>\n",
       "      <path id=\"DejaVuSans-62\" d=\"M 3116 1747  Q 3116 2381 2855 2742  Q 2594 3103 2138 3103  Q 1681 3103 1420 2742  Q 1159 2381 1159 1747  Q 1159 1113 1420 752  Q 1681 391 2138 391  Q 2594 391 2855 752  Q 3116 1113 3116 1747  z M 1159 2969  Q 1341 3281 1617 3432  Q 1894 3584 2278 3584  Q 2916 3584 3314 3078  Q 3713 2572 3713 1747  Q 3713 922 3314 415  Q 2916 -91 2278 -91  Q 1894 -91 1617 61  Q 1341 213 1159 525  L 1159 0  L 581 0  L 581 4863  L 1159 4863  L 1159 2969  z \" transform=\"scale(0.015625)\"/>\n",
       "      <path id=\"DejaVuSans-3d\" d=\"M 678 2906  L 4684 2906  L 4684 2381  L 678 2381  L 678 2906  z M 678 1631  L 4684 1631  L 4684 1100  L 678 1100  L 678 1631  z \" transform=\"scale(0.015625)\"/>\n",
       "      <path id=\"DejaVuSans-28\" d=\"M 1984 4856  Q 1566 4138 1362 3434  Q 1159 2731 1159 2009  Q 1159 1288 1364 580  Q 1569 -128 1984 -844  L 1484 -844  Q 1016 -109 783 600  Q 550 1309 550 2009  Q 550 2706 781 3412  Q 1013 4119 1484 4856  L 1984 4856  z \" transform=\"scale(0.015625)\"/>\n",
       "      <path id=\"DejaVuSans-22\" d=\"M 1147 4666  L 1147 2931  L 616 2931  L 616 4666  L 1147 4666  z M 2328 4666  L 2328 2931  L 1797 2931  L 1797 4666  L 2328 4666  z \" transform=\"scale(0.015625)\"/>\n",
       "      <path id=\"DejaVuSans-73\" d=\"M 2834 3397  L 2834 2853  Q 2591 2978 2328 3040  Q 2066 3103 1784 3103  Q 1356 3103 1142 2972  Q 928 2841 928 2578  Q 928 2378 1081 2264  Q 1234 2150 1697 2047  L 1894 2003  Q 2506 1872 2764 1633  Q 3022 1394 3022 966  Q 3022 478 2636 193  Q 2250 -91 1575 -91  Q 1294 -91 989 -36  Q 684 19 347 128  L 347 722  Q 666 556 975 473  Q 1284 391 1588 391  Q 1994 391 2212 530  Q 2431 669 2431 922  Q 2431 1156 2273 1281  Q 2116 1406 1581 1522  L 1381 1569  Q 847 1681 609 1914  Q 372 2147 372 2553  Q 372 3047 722 3315  Q 1072 3584 1716 3584  Q 2034 3584 2315 3537  Q 2597 3491 2834 3397  z \" transform=\"scale(0.015625)\"/>\n",
       "      <path id=\"DejaVuSans-2c\" d=\"M 750 794  L 1409 794  L 1409 256  L 897 -744  L 494 -744  L 750 256  L 750 794  z \" transform=\"scale(0.015625)\"/>\n",
       "      <path id=\"DejaVuSans-6c\" d=\"M 603 4863  L 1178 4863  L 1178 0  L 603 0  L 603 4863  z \" transform=\"scale(0.015625)\"/>\n",
       "      <path id=\"DejaVuSans-29\" d=\"M 513 4856  L 1013 4856  Q 1481 4119 1714 3412  Q 1947 2706 1947 2009  Q 1947 1309 1714 600  Q 1481 -109 1013 -844  L 513 -844  Q 928 -128 1133 580  Q 1338 1288 1338 2009  Q 1338 2731 1133 3434  Q 928 4138 513 4856  z \" transform=\"scale(0.015625)\"/>\n",
       "     </defs>\n",
       "     <use xlink:href=\"#DejaVuSans-65\"/>\n",
       "     <use xlink:href=\"#DejaVuSans-72\" x=\"61.523438\"/>\n",
       "     <use xlink:href=\"#DejaVuSans-72\" x=\"100.886719\"/>\n",
       "     <use xlink:href=\"#DejaVuSans-6f\" x=\"139.75\"/>\n",
       "     <use xlink:href=\"#DejaVuSans-72\" x=\"200.931641\"/>\n",
       "     <use xlink:href=\"#DejaVuSans-62\" x=\"242.044922\"/>\n",
       "     <use xlink:href=\"#DejaVuSans-61\" x=\"305.521484\"/>\n",
       "     <use xlink:href=\"#DejaVuSans-72\" x=\"366.800781\"/>\n",
       "     <use xlink:href=\"#DejaVuSans-3d\" x=\"407.914062\"/>\n",
       "     <use xlink:href=\"#DejaVuSans-28\" x=\"491.703125\"/>\n",
       "     <use xlink:href=\"#DejaVuSans-22\" x=\"530.716797\"/>\n",
       "     <use xlink:href=\"#DejaVuSans-73\" x=\"576.712891\"/>\n",
       "     <use xlink:href=\"#DejaVuSans-64\" x=\"628.8125\"/>\n",
       "     <use xlink:href=\"#DejaVuSans-22\" x=\"692.289062\"/>\n",
       "     <use xlink:href=\"#DejaVuSans-2c\" x=\"738.285156\"/>\n",
       "     <use xlink:href=\"#DejaVuSans-20\" x=\"770.072266\"/>\n",
       "     <use xlink:href=\"#DejaVuSans-73\" x=\"801.859375\"/>\n",
       "     <use xlink:href=\"#DejaVuSans-63\" x=\"853.958984\"/>\n",
       "     <use xlink:href=\"#DejaVuSans-61\" x=\"908.939453\"/>\n",
       "     <use xlink:href=\"#DejaVuSans-6c\" x=\"970.21875\"/>\n",
       "     <use xlink:href=\"#DejaVuSans-65\" x=\"998.001953\"/>\n",
       "     <use xlink:href=\"#DejaVuSans-29\" x=\"1059.525391\"/>\n",
       "    </g>\n",
       "   </g>\n",
       "   <g id=\"text_4\">\n",
       "    <!-- Spread -->\n",
       "    <g style=\"fill: #262626\" transform=\"translate(132.581537 26.64) scale(0.18 -0.18)\">\n",
       "     <defs>\n",
       "      <path id=\"DejaVuSans-70\" d=\"M 1159 525  L 1159 -1331  L 581 -1331  L 581 3500  L 1159 3500  L 1159 2969  Q 1341 3281 1617 3432  Q 1894 3584 2278 3584  Q 2916 3584 3314 3078  Q 3713 2572 3713 1747  Q 3713 922 3314 415  Q 2916 -91 2278 -91  Q 1894 -91 1617 61  Q 1341 213 1159 525  z M 3116 1747  Q 3116 2381 2855 2742  Q 2594 3103 2138 3103  Q 1681 3103 1420 2742  Q 1159 2381 1159 1747  Q 1159 1113 1420 752  Q 1681 391 2138 391  Q 2594 391 2855 752  Q 3116 1113 3116 1747  z \" transform=\"scale(0.015625)\"/>\n",
       "     </defs>\n",
       "     <use xlink:href=\"#DejaVuSans-53\"/>\n",
       "     <use xlink:href=\"#DejaVuSans-70\" x=\"63.476562\"/>\n",
       "     <use xlink:href=\"#DejaVuSans-72\" x=\"126.953125\"/>\n",
       "     <use xlink:href=\"#DejaVuSans-65\" x=\"165.816406\"/>\n",
       "     <use xlink:href=\"#DejaVuSans-61\" x=\"227.339844\"/>\n",
       "     <use xlink:href=\"#DejaVuSans-64\" x=\"288.619141\"/>\n",
       "    </g>\n",
       "   </g>\n",
       "  </g>\n",
       "  <g id=\"axes_2\">\n",
       "   <g id=\"patch_7\">\n",
       "    <path d=\"M 302.974426 186.005854  L 563.04 186.005854  L 563.04 32.64  L 302.974426 32.64  z \" style=\"fill: #55a868; fill-opacity: 0.25\"/>\n",
       "   </g>\n",
       "   <g id=\"matplotlib.axis_3\"/>\n",
       "   <g id=\"matplotlib.axis_4\"/>\n",
       "   <g id=\"patch_8\">\n",
       "    <path d=\"M 302.974426 186.005854  L 302.974426 32.64  \" style=\"fill: none; stroke: #ffffff; stroke-width: 1.25; stroke-linejoin: miter; stroke-linecap: square\"/>\n",
       "   </g>\n",
       "   <g id=\"patch_9\">\n",
       "    <path d=\"M 563.04 186.005854  L 563.04 32.64  \" style=\"fill: none; stroke: #ffffff; stroke-width: 1.25; stroke-linejoin: miter; stroke-linecap: square\"/>\n",
       "   </g>\n",
       "   <g id=\"patch_10\">\n",
       "    <path d=\"M 302.974426 186.005854  L 563.04 186.005854  \" style=\"fill: none; stroke: #ffffff; stroke-width: 1.25; stroke-linejoin: miter; stroke-linecap: square\"/>\n",
       "   </g>\n",
       "   <g id=\"patch_11\">\n",
       "    <path d=\"M 302.974426 32.64  L 563.04 32.64  \" style=\"fill: none; stroke: #ffffff; stroke-width: 1.25; stroke-linejoin: miter; stroke-linecap: square\"/>\n",
       "   </g>\n",
       "   <g id=\"text_5\">\n",
       "    <!-- Standard error -->\n",
       "    <g style=\"fill: #262626\" transform=\"translate(367.416901 98.953216) scale(0.18 -0.18)\">\n",
       "     <use xlink:href=\"#DejaVuSans-53\"/>\n",
       "     <use xlink:href=\"#DejaVuSans-74\" x=\"63.476562\"/>\n",
       "     <use xlink:href=\"#DejaVuSans-61\" x=\"102.685547\"/>\n",
       "     <use xlink:href=\"#DejaVuSans-6e\" x=\"163.964844\"/>\n",
       "     <use xlink:href=\"#DejaVuSans-64\" x=\"227.34375\"/>\n",
       "     <use xlink:href=\"#DejaVuSans-61\" x=\"290.820312\"/>\n",
       "     <use xlink:href=\"#DejaVuSans-72\" x=\"352.099609\"/>\n",
       "     <use xlink:href=\"#DejaVuSans-64\" x=\"391.462891\"/>\n",
       "     <use xlink:href=\"#DejaVuSans-20\" x=\"454.939453\"/>\n",
       "     <use xlink:href=\"#DejaVuSans-65\" x=\"486.726562\"/>\n",
       "     <use xlink:href=\"#DejaVuSans-72\" x=\"548.25\"/>\n",
       "     <use xlink:href=\"#DejaVuSans-72\" x=\"587.613281\"/>\n",
       "     <use xlink:href=\"#DejaVuSans-6f\" x=\"626.476562\"/>\n",
       "     <use xlink:href=\"#DejaVuSans-72\" x=\"687.658203\"/>\n",
       "    </g>\n",
       "   </g>\n",
       "   <g id=\"text_6\">\n",
       "    <!-- errorbar=(\"se\", scale) -->\n",
       "    <g style=\"fill: #262626\" transform=\"translate(334.312369 129.626387) scale(0.18 -0.18)\">\n",
       "     <use xlink:href=\"#DejaVuSans-65\"/>\n",
       "     <use xlink:href=\"#DejaVuSans-72\" x=\"61.523438\"/>\n",
       "     <use xlink:href=\"#DejaVuSans-72\" x=\"100.886719\"/>\n",
       "     <use xlink:href=\"#DejaVuSans-6f\" x=\"139.75\"/>\n",
       "     <use xlink:href=\"#DejaVuSans-72\" x=\"200.931641\"/>\n",
       "     <use xlink:href=\"#DejaVuSans-62\" x=\"242.044922\"/>\n",
       "     <use xlink:href=\"#DejaVuSans-61\" x=\"305.521484\"/>\n",
       "     <use xlink:href=\"#DejaVuSans-72\" x=\"366.800781\"/>\n",
       "     <use xlink:href=\"#DejaVuSans-3d\" x=\"407.914062\"/>\n",
       "     <use xlink:href=\"#DejaVuSans-28\" x=\"491.703125\"/>\n",
       "     <use xlink:href=\"#DejaVuSans-22\" x=\"530.716797\"/>\n",
       "     <use xlink:href=\"#DejaVuSans-73\" x=\"576.712891\"/>\n",
       "     <use xlink:href=\"#DejaVuSans-65\" x=\"628.8125\"/>\n",
       "     <use xlink:href=\"#DejaVuSans-22\" x=\"690.335938\"/>\n",
       "     <use xlink:href=\"#DejaVuSans-2c\" x=\"736.332031\"/>\n",
       "     <use xlink:href=\"#DejaVuSans-20\" x=\"768.119141\"/>\n",
       "     <use xlink:href=\"#DejaVuSans-73\" x=\"799.90625\"/>\n",
       "     <use xlink:href=\"#DejaVuSans-63\" x=\"852.005859\"/>\n",
       "     <use xlink:href=\"#DejaVuSans-61\" x=\"906.986328\"/>\n",
       "     <use xlink:href=\"#DejaVuSans-6c\" x=\"968.265625\"/>\n",
       "     <use xlink:href=\"#DejaVuSans-65\" x=\"996.048828\"/>\n",
       "     <use xlink:href=\"#DejaVuSans-29\" x=\"1057.572266\"/>\n",
       "    </g>\n",
       "   </g>\n",
       "   <g id=\"text_7\">\n",
       "    <!-- Uncertainty -->\n",
       "    <g style=\"fill: #262626\" transform=\"translate(380.427526 26.64) scale(0.18 -0.18)\">\n",
       "     <defs>\n",
       "      <path id=\"DejaVuSans-55\" d=\"M 556 4666  L 1191 4666  L 1191 1831  Q 1191 1081 1462 751  Q 1734 422 2344 422  Q 2950 422 3222 751  Q 3494 1081 3494 1831  L 3494 4666  L 4128 4666  L 4128 1753  Q 4128 841 3676 375  Q 3225 -91 2344 -91  Q 1459 -91 1007 375  Q 556 841 556 1753  L 556 4666  z \" transform=\"scale(0.015625)\"/>\n",
       "      <path id=\"DejaVuSans-79\" d=\"M 2059 -325  Q 1816 -950 1584 -1140  Q 1353 -1331 966 -1331  L 506 -1331  L 506 -850  L 844 -850  Q 1081 -850 1212 -737  Q 1344 -625 1503 -206  L 1606 56  L 191 3500  L 800 3500  L 1894 763  L 2988 3500  L 3597 3500  L 2059 -325  z \" transform=\"scale(0.015625)\"/>\n",
       "     </defs>\n",
       "     <use xlink:href=\"#DejaVuSans-55\"/>\n",
       "     <use xlink:href=\"#DejaVuSans-6e\" x=\"73.193359\"/>\n",
       "     <use xlink:href=\"#DejaVuSans-63\" x=\"136.572266\"/>\n",
       "     <use xlink:href=\"#DejaVuSans-65\" x=\"191.552734\"/>\n",
       "     <use xlink:href=\"#DejaVuSans-72\" x=\"253.076172\"/>\n",
       "     <use xlink:href=\"#DejaVuSans-74\" x=\"294.189453\"/>\n",
       "     <use xlink:href=\"#DejaVuSans-61\" x=\"333.398438\"/>\n",
       "     <use xlink:href=\"#DejaVuSans-69\" x=\"394.677734\"/>\n",
       "     <use xlink:href=\"#DejaVuSans-6e\" x=\"422.460938\"/>\n",
       "     <use xlink:href=\"#DejaVuSans-74\" x=\"485.839844\"/>\n",
       "     <use xlink:href=\"#DejaVuSans-79\" x=\"525.048828\"/>\n",
       "    </g>\n",
       "   </g>\n",
       "  </g>\n",
       "  <g id=\"axes_3\">\n",
       "   <g id=\"patch_12\">\n",
       "    <path d=\"M 34.24 347.04  L 294.305574 347.04  L 294.305574 193.674146  L 34.24 193.674146  z \" style=\"fill: #c44e52; fill-opacity: 0.25\"/>\n",
       "   </g>\n",
       "   <g id=\"matplotlib.axis_5\"/>\n",
       "   <g id=\"matplotlib.axis_6\">\n",
       "    <g id=\"text_8\">\n",
       "     <!-- Nonparametric -->\n",
       "     <g style=\"fill: #262626\" transform=\"translate(26.496563 337.726292) rotate(-90) scale(0.18 -0.18)\">\n",
       "      <defs>\n",
       "       <path id=\"DejaVuSans-4e\" d=\"M 628 4666  L 1478 4666  L 3547 763  L 3547 4666  L 4159 4666  L 4159 0  L 3309 0  L 1241 3903  L 1241 0  L 628 0  L 628 4666  z \" transform=\"scale(0.015625)\"/>\n",
       "      </defs>\n",
       "      <use xlink:href=\"#DejaVuSans-4e\"/>\n",
       "      <use xlink:href=\"#DejaVuSans-6f\" x=\"74.804688\"/>\n",
       "      <use xlink:href=\"#DejaVuSans-6e\" x=\"135.986328\"/>\n",
       "      <use xlink:href=\"#DejaVuSans-70\" x=\"199.365234\"/>\n",
       "      <use xlink:href=\"#DejaVuSans-61\" x=\"262.841797\"/>\n",
       "      <use xlink:href=\"#DejaVuSans-72\" x=\"324.121094\"/>\n",
       "      <use xlink:href=\"#DejaVuSans-61\" x=\"365.234375\"/>\n",
       "      <use xlink:href=\"#DejaVuSans-6d\" x=\"426.513672\"/>\n",
       "      <use xlink:href=\"#DejaVuSans-65\" x=\"523.925781\"/>\n",
       "      <use xlink:href=\"#DejaVuSans-74\" x=\"585.449219\"/>\n",
       "      <use xlink:href=\"#DejaVuSans-72\" x=\"624.658203\"/>\n",
       "      <use xlink:href=\"#DejaVuSans-69\" x=\"665.771484\"/>\n",
       "      <use xlink:href=\"#DejaVuSans-63\" x=\"693.554688\"/>\n",
       "     </g>\n",
       "    </g>\n",
       "   </g>\n",
       "   <g id=\"patch_13\">\n",
       "    <path d=\"M 34.24 347.04  L 34.24 193.674146  \" style=\"fill: none; stroke: #ffffff; stroke-width: 1.25; stroke-linejoin: miter; stroke-linecap: square\"/>\n",
       "   </g>\n",
       "   <g id=\"patch_14\">\n",
       "    <path d=\"M 294.305574 347.04  L 294.305574 193.674146  \" style=\"fill: none; stroke: #ffffff; stroke-width: 1.25; stroke-linejoin: miter; stroke-linecap: square\"/>\n",
       "   </g>\n",
       "   <g id=\"patch_15\">\n",
       "    <path d=\"M 34.24 347.04  L 294.305574 347.04  \" style=\"fill: none; stroke: #ffffff; stroke-width: 1.25; stroke-linejoin: miter; stroke-linecap: square\"/>\n",
       "   </g>\n",
       "   <g id=\"patch_16\">\n",
       "    <path d=\"M 34.24 193.674146  L 294.305574 193.674146  \" style=\"fill: none; stroke: #ffffff; stroke-width: 1.25; stroke-linejoin: miter; stroke-linecap: square\"/>\n",
       "   </g>\n",
       "   <g id=\"text_9\">\n",
       "    <!-- Percentile interval -->\n",
       "    <g style=\"fill: #262626\" transform=\"translate(82.707474 259.987363) scale(0.18 -0.18)\">\n",
       "     <use xlink:href=\"#DejaVuSans-50\"/>\n",
       "     <use xlink:href=\"#DejaVuSans-65\" x=\"56.677734\"/>\n",
       "     <use xlink:href=\"#DejaVuSans-72\" x=\"118.201172\"/>\n",
       "     <use xlink:href=\"#DejaVuSans-63\" x=\"157.064453\"/>\n",
       "     <use xlink:href=\"#DejaVuSans-65\" x=\"212.044922\"/>\n",
       "     <use xlink:href=\"#DejaVuSans-6e\" x=\"273.568359\"/>\n",
       "     <use xlink:href=\"#DejaVuSans-74\" x=\"336.947266\"/>\n",
       "     <use xlink:href=\"#DejaVuSans-69\" x=\"376.15625\"/>\n",
       "     <use xlink:href=\"#DejaVuSans-6c\" x=\"403.939453\"/>\n",
       "     <use xlink:href=\"#DejaVuSans-65\" x=\"431.722656\"/>\n",
       "     <use xlink:href=\"#DejaVuSans-20\" x=\"493.246094\"/>\n",
       "     <use xlink:href=\"#DejaVuSans-69\" x=\"525.033203\"/>\n",
       "     <use xlink:href=\"#DejaVuSans-6e\" x=\"552.816406\"/>\n",
       "     <use xlink:href=\"#DejaVuSans-74\" x=\"616.195312\"/>\n",
       "     <use xlink:href=\"#DejaVuSans-65\" x=\"655.404297\"/>\n",
       "     <use xlink:href=\"#DejaVuSans-72\" x=\"716.927734\"/>\n",
       "     <use xlink:href=\"#DejaVuSans-76\" x=\"758.041016\"/>\n",
       "     <use xlink:href=\"#DejaVuSans-61\" x=\"817.220703\"/>\n",
       "     <use xlink:href=\"#DejaVuSans-6c\" x=\"878.5\"/>\n",
       "    </g>\n",
       "   </g>\n",
       "   <g id=\"text_10\">\n",
       "    <!-- errorbar=(\"pi\", width) -->\n",
       "    <g style=\"fill: #262626\" transform=\"translate(65.974506 290.660534) scale(0.18 -0.18)\">\n",
       "     <defs>\n",
       "      <path id=\"DejaVuSans-77\" d=\"M 269 3500  L 844 3500  L 1563 769  L 2278 3500  L 2956 3500  L 3675 769  L 4391 3500  L 4966 3500  L 4050 0  L 3372 0  L 2619 2869  L 1863 0  L 1184 0  L 269 3500  z \" transform=\"scale(0.015625)\"/>\n",
       "      <path id=\"DejaVuSans-68\" d=\"M 3513 2113  L 3513 0  L 2938 0  L 2938 2094  Q 2938 2591 2744 2837  Q 2550 3084 2163 3084  Q 1697 3084 1428 2787  Q 1159 2491 1159 1978  L 1159 0  L 581 0  L 581 4863  L 1159 4863  L 1159 2956  Q 1366 3272 1645 3428  Q 1925 3584 2291 3584  Q 2894 3584 3203 3211  Q 3513 2838 3513 2113  z \" transform=\"scale(0.015625)\"/>\n",
       "     </defs>\n",
       "     <use xlink:href=\"#DejaVuSans-65\"/>\n",
       "     <use xlink:href=\"#DejaVuSans-72\" x=\"61.523438\"/>\n",
       "     <use xlink:href=\"#DejaVuSans-72\" x=\"100.886719\"/>\n",
       "     <use xlink:href=\"#DejaVuSans-6f\" x=\"139.75\"/>\n",
       "     <use xlink:href=\"#DejaVuSans-72\" x=\"200.931641\"/>\n",
       "     <use xlink:href=\"#DejaVuSans-62\" x=\"242.044922\"/>\n",
       "     <use xlink:href=\"#DejaVuSans-61\" x=\"305.521484\"/>\n",
       "     <use xlink:href=\"#DejaVuSans-72\" x=\"366.800781\"/>\n",
       "     <use xlink:href=\"#DejaVuSans-3d\" x=\"407.914062\"/>\n",
       "     <use xlink:href=\"#DejaVuSans-28\" x=\"491.703125\"/>\n",
       "     <use xlink:href=\"#DejaVuSans-22\" x=\"530.716797\"/>\n",
       "     <use xlink:href=\"#DejaVuSans-70\" x=\"576.712891\"/>\n",
       "     <use xlink:href=\"#DejaVuSans-69\" x=\"640.189453\"/>\n",
       "     <use xlink:href=\"#DejaVuSans-22\" x=\"667.972656\"/>\n",
       "     <use xlink:href=\"#DejaVuSans-2c\" x=\"713.96875\"/>\n",
       "     <use xlink:href=\"#DejaVuSans-20\" x=\"745.755859\"/>\n",
       "     <use xlink:href=\"#DejaVuSans-77\" x=\"777.542969\"/>\n",
       "     <use xlink:href=\"#DejaVuSans-69\" x=\"859.330078\"/>\n",
       "     <use xlink:href=\"#DejaVuSans-64\" x=\"887.113281\"/>\n",
       "     <use xlink:href=\"#DejaVuSans-74\" x=\"950.589844\"/>\n",
       "     <use xlink:href=\"#DejaVuSans-68\" x=\"989.798828\"/>\n",
       "     <use xlink:href=\"#DejaVuSans-29\" x=\"1053.177734\"/>\n",
       "    </g>\n",
       "   </g>\n",
       "  </g>\n",
       "  <g id=\"axes_4\">\n",
       "   <g id=\"patch_17\">\n",
       "    <path d=\"M 302.974426 347.04  L 563.04 347.04  L 563.04 193.674146  L 302.974426 193.674146  z \" style=\"fill: #dd8452; fill-opacity: 0.25\"/>\n",
       "   </g>\n",
       "   <g id=\"matplotlib.axis_7\"/>\n",
       "   <g id=\"matplotlib.axis_8\"/>\n",
       "   <g id=\"patch_18\">\n",
       "    <path d=\"M 302.974426 347.04  L 302.974426 193.674146  \" style=\"fill: none; stroke: #ffffff; stroke-width: 1.25; stroke-linejoin: miter; stroke-linecap: square\"/>\n",
       "   </g>\n",
       "   <g id=\"patch_19\">\n",
       "    <path d=\"M 563.04 347.04  L 563.04 193.674146  \" style=\"fill: none; stroke: #ffffff; stroke-width: 1.25; stroke-linejoin: miter; stroke-linecap: square\"/>\n",
       "   </g>\n",
       "   <g id=\"patch_20\">\n",
       "    <path d=\"M 302.974426 347.04  L 563.04 347.04  \" style=\"fill: none; stroke: #ffffff; stroke-width: 1.25; stroke-linejoin: miter; stroke-linecap: square\"/>\n",
       "   </g>\n",
       "   <g id=\"patch_21\">\n",
       "    <path d=\"M 302.974426 193.674146  L 563.04 193.674146  \" style=\"fill: none; stroke: #ffffff; stroke-width: 1.25; stroke-linejoin: miter; stroke-linecap: square\"/>\n",
       "   </g>\n",
       "   <g id=\"text_11\">\n",
       "    <!-- Confidence interval -->\n",
       "    <g style=\"fill: #262626\" transform=\"translate(345.229088 259.987363) scale(0.18 -0.18)\">\n",
       "     <defs>\n",
       "      <path id=\"DejaVuSans-43\" d=\"M 4122 4306  L 4122 3641  Q 3803 3938 3442 4084  Q 3081 4231 2675 4231  Q 1875 4231 1450 3742  Q 1025 3253 1025 2328  Q 1025 1406 1450 917  Q 1875 428 2675 428  Q 3081 428 3442 575  Q 3803 722 4122 1019  L 4122 359  Q 3791 134 3420 21  Q 3050 -91 2638 -91  Q 1578 -91 968 557  Q 359 1206 359 2328  Q 359 3453 968 4101  Q 1578 4750 2638 4750  Q 3056 4750 3426 4639  Q 3797 4528 4122 4306  z \" transform=\"scale(0.015625)\"/>\n",
       "      <path id=\"DejaVuSans-66\" d=\"M 2375 4863  L 2375 4384  L 1825 4384  Q 1516 4384 1395 4259  Q 1275 4134 1275 3809  L 1275 3500  L 2222 3500  L 2222 3053  L 1275 3053  L 1275 0  L 697 0  L 697 3053  L 147 3053  L 147 3500  L 697 3500  L 697 3744  Q 697 4328 969 4595  Q 1241 4863 1831 4863  L 2375 4863  z \" transform=\"scale(0.015625)\"/>\n",
       "     </defs>\n",
       "     <use xlink:href=\"#DejaVuSans-43\"/>\n",
       "     <use xlink:href=\"#DejaVuSans-6f\" x=\"69.824219\"/>\n",
       "     <use xlink:href=\"#DejaVuSans-6e\" x=\"131.005859\"/>\n",
       "     <use xlink:href=\"#DejaVuSans-66\" x=\"194.384766\"/>\n",
       "     <use xlink:href=\"#DejaVuSans-69\" x=\"229.589844\"/>\n",
       "     <use xlink:href=\"#DejaVuSans-64\" x=\"257.373047\"/>\n",
       "     <use xlink:href=\"#DejaVuSans-65\" x=\"320.849609\"/>\n",
       "     <use xlink:href=\"#DejaVuSans-6e\" x=\"382.373047\"/>\n",
       "     <use xlink:href=\"#DejaVuSans-63\" x=\"445.751953\"/>\n",
       "     <use xlink:href=\"#DejaVuSans-65\" x=\"500.732422\"/>\n",
       "     <use xlink:href=\"#DejaVuSans-20\" x=\"562.255859\"/>\n",
       "     <use xlink:href=\"#DejaVuSans-69\" x=\"594.042969\"/>\n",
       "     <use xlink:href=\"#DejaVuSans-6e\" x=\"621.826172\"/>\n",
       "     <use xlink:href=\"#DejaVuSans-74\" x=\"685.205078\"/>\n",
       "     <use xlink:href=\"#DejaVuSans-65\" x=\"724.414062\"/>\n",
       "     <use xlink:href=\"#DejaVuSans-72\" x=\"785.9375\"/>\n",
       "     <use xlink:href=\"#DejaVuSans-76\" x=\"827.050781\"/>\n",
       "     <use xlink:href=\"#DejaVuSans-61\" x=\"886.230469\"/>\n",
       "     <use xlink:href=\"#DejaVuSans-6c\" x=\"947.509766\"/>\n",
       "    </g>\n",
       "   </g>\n",
       "   <g id=\"text_12\">\n",
       "    <!-- errorbar=(\"ci\", width) -->\n",
       "    <g style=\"fill: #262626\" transform=\"translate(335.473932 290.660534) scale(0.18 -0.18)\">\n",
       "     <use xlink:href=\"#DejaVuSans-65\"/>\n",
       "     <use xlink:href=\"#DejaVuSans-72\" x=\"61.523438\"/>\n",
       "     <use xlink:href=\"#DejaVuSans-72\" x=\"100.886719\"/>\n",
       "     <use xlink:href=\"#DejaVuSans-6f\" x=\"139.75\"/>\n",
       "     <use xlink:href=\"#DejaVuSans-72\" x=\"200.931641\"/>\n",
       "     <use xlink:href=\"#DejaVuSans-62\" x=\"242.044922\"/>\n",
       "     <use xlink:href=\"#DejaVuSans-61\" x=\"305.521484\"/>\n",
       "     <use xlink:href=\"#DejaVuSans-72\" x=\"366.800781\"/>\n",
       "     <use xlink:href=\"#DejaVuSans-3d\" x=\"407.914062\"/>\n",
       "     <use xlink:href=\"#DejaVuSans-28\" x=\"491.703125\"/>\n",
       "     <use xlink:href=\"#DejaVuSans-22\" x=\"530.716797\"/>\n",
       "     <use xlink:href=\"#DejaVuSans-63\" x=\"576.712891\"/>\n",
       "     <use xlink:href=\"#DejaVuSans-69\" x=\"631.693359\"/>\n",
       "     <use xlink:href=\"#DejaVuSans-22\" x=\"659.476562\"/>\n",
       "     <use xlink:href=\"#DejaVuSans-2c\" x=\"705.472656\"/>\n",
       "     <use xlink:href=\"#DejaVuSans-20\" x=\"737.259766\"/>\n",
       "     <use xlink:href=\"#DejaVuSans-77\" x=\"769.046875\"/>\n",
       "     <use xlink:href=\"#DejaVuSans-69\" x=\"850.833984\"/>\n",
       "     <use xlink:href=\"#DejaVuSans-64\" x=\"878.617188\"/>\n",
       "     <use xlink:href=\"#DejaVuSans-74\" x=\"942.09375\"/>\n",
       "     <use xlink:href=\"#DejaVuSans-68\" x=\"981.302734\"/>\n",
       "     <use xlink:href=\"#DejaVuSans-29\" x=\"1044.681641\"/>\n",
       "    </g>\n",
       "   </g>\n",
       "  </g>\n",
       " </g>\n",
       "</svg>"
      ],
      "text/plain": [
       "<IPython.core.display.SVG object>"
      ]
     },
     "execution_count": 3,
     "metadata": {},
     "output_type": "execute_result"
    }
   ],
   "source": [
    "import io\n",
    "from IPython.display import SVG\n",
    "f = mpl.figure.Figure(figsize=(8, 5))\n",
    "axs = f.subplots(2, 2, sharex=True, sharey=True,)\n",
    "\n",
    "plt.setp(axs, xlim=(-1, 1), ylim=(-1, 1), xticks=[], yticks=[])\n",
    "for ax, color in zip(axs.flat, [\"C0\", \"C2\", \"C3\", \"C1\"]):\n",
    "    ax.set_facecolor(mpl.colors.to_rgba(color, .25))\n",
    "\n",
    "kws = dict(x=0, y=.2, ha=\"center\", va=\"center\", size=18)\n",
    "axs[0, 0].text(s=\"Standard deviation\", **kws)\n",
    "axs[0, 1].text(s=\"Standard error\", **kws)\n",
    "axs[1, 0].text(s=\"Percentile interval\", **kws)\n",
    "axs[1, 1].text(s=\"Confidence interval\", **kws)\n",
    "\n",
    "kws = dict(x=0, y=-.2, ha=\"center\", va=\"center\", size=18, font=\"Courier New\")\n",
    "axs[0, 0].text(s='errorbar=(\"sd\", scale)', **kws)\n",
    "axs[0, 1].text(s='errorbar=(\"se\", scale)', **kws)\n",
    "axs[1, 0].text(s='errorbar=(\"pi\", width)', **kws)\n",
    "axs[1, 1].text(s='errorbar=(\"ci\", width)', **kws)\n",
    "\n",
    "kws = dict(size=18)\n",
    "axs[0, 0].set_title(\"Spread\", **kws)\n",
    "axs[0, 1].set_title(\"Uncertainty\", **kws)\n",
    "axs[0, 0].set_ylabel(\"Parametric\", **kws)\n",
    "axs[1, 0].set_ylabel(\"Nonparametric\", **kws)\n",
    "\n",
    "f.tight_layout()\n",
    "f.subplots_adjust(hspace=.05, wspace=.05 * (4 / 6))\n",
    "f.savefig(svg:=io.StringIO(), format=\"svg\")\n",
    "SVG(svg.getvalue())"
   ]
  },
  {
   "cell_type": "raw",
   "metadata": {},
   "source": [
    "You will note that the size parameter is defined differently for the parametric and nonparametric approaches. For parametric error bars, it is a scalar factor that is multiplied by the statistic defining the error (standard error or standard deviation). For nonparametric error bars, it is a percentile width. This is explained further for each specific approach below.\n",
    "\n",
    "\n",
    ".. note::\n",
    "    The `errorbar` API described here was introduced in seaborn v0.12. In prior versions, the only options were to show a bootstrap confidence interval or a standard deviation, with the choice controlled by the `ci` parameter (i.e., `ci=<size>` or `ci=\"sd\"`).\n",
    "\n",
    "To compare the different parameterizations, we'll use the following helper function:"
   ]
  },
  {
   "cell_type": "code",
   "execution_count": 4,
   "metadata": {
    "execution": {
     "iopub.execute_input": "2023-05-21T16:21:39.812499Z",
     "iopub.status.busy": "2023-05-21T16:21:39.812355Z",
     "iopub.status.idle": "2023-05-21T16:21:39.815650Z",
     "shell.execute_reply": "2023-05-21T16:21:39.815169Z"
    }
   },
   "outputs": [],
   "source": [
    "def plot_errorbars(arg, **kws):\n",
    "    np.random.seed(sum(map(ord, \"error_bars\")))\n",
    "    x = np.random.normal(0, 1, 100)\n",
    "    f, axs = plt.subplots(2, figsize=(7, 2), sharex=True, layout=\"tight\")\n",
    "    sns.pointplot(x=x, errorbar=arg, **kws, capsize=.3, ax=axs[0])\n",
    "    sns.stripplot(x=x, jitter=.3, ax=axs[1])"
   ]
  },
  {
   "cell_type": "raw",
   "metadata": {},
   "source": [
    "Measures of data spread\n",
    "-----------------------\n",
    "\n",
    "Error bars that represent data spread present a compact display of the distribution, using three numbers where :func:`boxplot` would use 5 or more and :func:`violinplot` would use a complicated algorithm.\n",
    "\n",
    "Standard deviation error bars\n",
    "~~~~~~~~~~~~~~~~~~~~~~~~~~~~~\n",
    "\n",
    "Standard deviation error bars are the simplest to explain, because the standard deviation is a familiar statistic. It is the average distance from each data point to the sample mean. By default, `errorbar=\"sd\"` will draw error bars at +/- 1 sd around the estimate, but the range can be increased by passing a scaling size parameter. Note that, assuming normally-distributed data, ~68% of the data will lie within one standard deviation, ~95% will lie within two, and ~99.7% will lie within three:"
   ]
  },
  {
   "cell_type": "code",
   "execution_count": 5,
   "metadata": {
    "execution": {
     "iopub.execute_input": "2023-05-21T16:21:39.817810Z",
     "iopub.status.busy": "2023-05-21T16:21:39.817676Z",
     "iopub.status.idle": "2023-05-21T16:21:40.132026Z",
     "shell.execute_reply": "2023-05-21T16:21:40.131542Z"
    }
   },
   "outputs": [
    {
     "data": {
      "image/png": "[encoded data removed]",
      "text/plain": [
       "<Figure size 700x200 with 2 Axes>"
      ]
     },
     "metadata": {},
     "output_type": "display_data"
    }
   ],
   "source": [
    "plot_errorbars(\"sd\")"
   ]
  },
  {
   "cell_type": "raw",
   "metadata": {},
   "source": [
    "Percentile interval error bars\n",
    "~~~~~~~~~~~~~~~~~~~~~~~~~~~~~~\n",
    "\n",
    "Percentile intervals also represent the range where some amount of the data fall, but they do so by \n",
    "computing those percentiles directly from your sample. By default, `errorbar=\"pi\"` will show a 95% interval, ranging from the 2.5 to the 97.5 percentiles. You can choose a different range by passing a size parameter, e.g., to show the inter-quartile range:"
   ]
  },
  {
   "cell_type": "code",
   "execution_count": 6,
   "metadata": {
    "execution": {
     "iopub.execute_input": "2023-05-21T16:21:40.134212Z",
     "iopub.status.busy": "2023-05-21T16:21:40.134056Z",
     "iopub.status.idle": "2023-05-21T16:21:40.411423Z",
     "shell.execute_reply": "2023-05-21T16:21:40.410702Z"
    }
   },
   "outputs": [
    {
     "data": {
      "image/png": "[encoded data removed]",
      "text/plain": [
       "<Figure size 700x200 with 2 Axes>"
      ]
     },
     "metadata": {},
     "output_type": "display_data"
    }
   ],
   "source": [
    "plot_errorbars((\"pi\", 50))"
   ]
  },
  {
   "cell_type": "raw",
   "metadata": {},
   "source": [
    "The standard deviation error bars will always be symmetrical around the estimate. This can be a problem when the data are skewed, especially if there are natural bounds (e.g., if the data represent a quantity that can only be positive). In some cases, standard deviation error bars may extend to \"impossible\" values. The nonparametric approach does not have this problem, because it can account for asymmetrical spread and will never extend beyond the range of the data."
   ]
  },
  {
   "cell_type": "raw",
   "metadata": {},
   "source": [
    "Measures of estimate uncertainty\n",
    "--------------------------------\n",
    "\n",
    "If your data are a random sample from a larger population, then the mean (or other estimate) will be an imperfect measure of the true population average. Error bars that show estimate uncertainty try to represent the range of likely values for the true parameter.\n",
    "\n",
    "Standard error bars\n",
    "~~~~~~~~~~~~~~~~~~~\n",
    "\n",
    "The standard error statistic is related to the standard deviation: in fact it is just the standard deviation divided by the square root of the sample size. The default, with `errorbar=\"se\"`, draws an interval +/-1 standard error from the mean:"
   ]
  },
  {
   "cell_type": "code",
   "execution_count": 7,
   "metadata": {
    "execution": {
     "iopub.execute_input": "2023-05-21T16:21:40.414023Z",
     "iopub.status.busy": "2023-05-21T16:21:40.413495Z",
     "iopub.status.idle": "2023-05-21T16:21:40.661445Z",
     "shell.execute_reply": "2023-05-21T16:21:40.660701Z"
    }
   },
   "outputs": [
    {
     "data": {
      "image/png": "[encoded data removed]",
      "text/plain": [
       "<Figure size 700x200 with 2 Axes>"
      ]
     },
     "metadata": {},
     "output_type": "display_data"
    }
   ],
   "source": [
    "plot_errorbars(\"se\")"
   ]
  },
  {
   "cell_type": "raw",
   "metadata": {},
   "source": [
    "Confidence interval error bars\n",
    "~~~~~~~~~~~~~~~~~~~~~~~~~~~~~~\n",
    "\n",
    "The nonparametric approach to representing uncertainty uses *bootstrapping*: a procedure where the dataset is randomly resampled with replacement a number of times, and the estimate is recalculated from each resample. This procedure creates a distribution of statistics approximating the distribution of values that you could have gotten for your estimate if you had a different sample.\n",
    "\n",
    "The confidence interval is constructed by taking a percentile interval of the *bootstrap distribution*. By default `errorbar=\"ci\"` draws a 95% confidence interval:"
   ]
  },
  {
   "cell_type": "code",
   "execution_count": 8,
   "metadata": {
    "execution": {
     "iopub.execute_input": "2023-05-21T16:21:40.663384Z",
     "iopub.status.busy": "2023-05-21T16:21:40.663240Z",
     "iopub.status.idle": "2023-05-21T16:21:40.923346Z",
     "shell.execute_reply": "2023-05-21T16:21:40.922663Z"
    }
   },
   "outputs": [
    {
     "data": {
      "image/png": "[encoded data removed]",
      "text/plain": [
       "<Figure size 700x200 with 2 Axes>"
      ]
     },
     "metadata": {},
     "output_type": "display_data"
    }
   ],
   "source": [
    "plot_errorbars(\"ci\")"
   ]
  },
  {
   "cell_type": "raw",
   "metadata": {},
   "source": [
    "The seaborn terminology is somewhat specific, because a confidence interval in statistics can be parametric or nonparametric. To draw a parametric confidence interval, you scale the standard error, using a formula similar to the one mentioned above. For example, an approximate 95% confidence interval can be constructed by taking the mean +/- two standard errors:"
   ]
  },
  {
   "cell_type": "code",
   "execution_count": 9,
   "metadata": {
    "execution": {
     "iopub.execute_input": "2023-05-21T16:21:40.925361Z",
     "iopub.status.busy": "2023-05-21T16:21:40.925218Z",
     "iopub.status.idle": "2023-05-21T16:21:41.186113Z",
     "shell.execute_reply": "2023-05-21T16:21:41.185406Z"
    }
   },
   "outputs": [
    {
     "data": {
      "image/png": "[encoded data removed]",
      "text/plain": [
       "<Figure size 700x200 with 2 Axes>"
      ]
     },
     "metadata": {},
     "output_type": "display_data"
    }
   ],
   "source": [
    "plot_errorbars((\"se\", 2))"
   ]
  },
  {
   "cell_type": "raw",
   "metadata": {},
   "source": [
    "The nonparametric bootstrap has advantages similar to those of the percentile interval: it will naturally adapt to skewed and bounded data in a way that a standard error interval cannot. It is also more general. While the standard error formula is specific to the mean, error bars can be computed using the bootstrap for any estimator:"
   ]
  },
  {
   "cell_type": "code",
   "execution_count": 10,
   "metadata": {
    "execution": {
     "iopub.execute_input": "2023-05-21T16:21:41.188255Z",
     "iopub.status.busy": "2023-05-21T16:21:41.188094Z",
     "iopub.status.idle": "2023-05-21T16:21:41.485618Z",
     "shell.execute_reply": "2023-05-21T16:21:41.485063Z"
    }
   },
   "outputs": [
    {
     "data": {
      "image/png": "[encoded data removed]",
      "text/plain": [
       "<Figure size 700x200 with 2 Axes>"
      ]
     },
     "metadata": {},
     "output_type": "display_data"
    }
   ],
   "source": [
    "plot_errorbars(\"ci\", estimator=\"median\")"
   ]
  },
  {
   "cell_type": "raw",
   "metadata": {},
   "source": [
    "Bootstrapping involves randomness, and the error bars will appear slightly different each time you run the code that creates them. A few parameters control this. One sets the number of iterations (`n_boot`): with more iterations, the resulting intervals will be more stable. The other sets the `seed` for the random number generator, which will ensure identical results:"
   ]
  },
  {
   "cell_type": "code",
   "execution_count": 11,
   "metadata": {
    "execution": {
     "iopub.execute_input": "2023-05-21T16:21:41.487885Z",
     "iopub.status.busy": "2023-05-21T16:21:41.487730Z",
     "iopub.status.idle": "2023-05-21T16:21:41.790360Z",
     "shell.execute_reply": "2023-05-21T16:21:41.789623Z"
    }
   },
   "outputs": [
    {
     "data": {
      "image/png": "[encoded data removed]",
      "text/plain": [
       "<Figure size 700x200 with 2 Axes>"
      ]
     },
     "metadata": {},
     "output_type": "display_data"
    }
   ],
   "source": [
    "plot_errorbars(\"ci\", n_boot=5000, seed=10)"
   ]
  },
  {
   "cell_type": "raw",
   "metadata": {},
   "source": [
    "Because of its iterative process, bootstrap intervals can be expensive to compute, especially for large datasets. But because uncertainty decreases with sample size, it may be more informative in that case to use an error bar that represents data spread.\n",
    "\n",
    "Custom error bars\n",
    "~~~~~~~~~~~~~~~~~\n",
    "\n",
    "If these recipes are not sufficient, it is also possible to pass a generic function to the `errorbar` parameter. This function should take a vector and produce a pair of values representing the minimum and maximum points of the interval:"
   ]
  },
  {
   "cell_type": "code",
   "execution_count": 12,
   "metadata": {
    "execution": {
     "iopub.execute_input": "2023-05-21T16:21:41.792554Z",
     "iopub.status.busy": "2023-05-21T16:21:41.792415Z",
     "iopub.status.idle": "2023-05-21T16:21:42.047317Z",
     "shell.execute_reply": "2023-05-21T16:21:42.046612Z"
    }
   },
   "outputs": [
    {
     "data": {
      "image/png": "[encoded data removed]",
      "text/plain": [
       "<Figure size 700x200 with 2 Axes>"
      ]
     },
     "metadata": {},
     "output_type": "display_data"
    }
   ],
   "source": [
    "plot_errorbars(lambda x: (x.min(), x.max()))"
   ]
  },
  {
   "cell_type": "raw",
   "metadata": {},
   "source": [
    "(In practice, you could show the full range of the data with `errorbar=(\"pi\", 100)` rather than the custom function shown above).\n",
    "\n",
    "Note that seaborn functions cannot currently draw error bars from values that have been calculated externally, although matplotlib functions can be used to add such error bars to seaborn plots."
   ]
  },
  {
   "cell_type": "raw",
   "metadata": {},
   "source": [
    "Error bars on regression fits\n",
    "-----------------------------\n",
    "\n",
    "The preceding discussion has focused on error bars shown around parameter estimates for aggregate data. Error bars also arise in seaborn when estimating regression models to visualize relationships. Here, the error bars will be represented by a \"band\" around the regression line:"
   ]
  },
  {
   "cell_type": "code",
   "execution_count": 13,
   "metadata": {
    "execution": {
     "iopub.execute_input": "2023-05-21T16:21:42.049362Z",
     "iopub.status.busy": "2023-05-21T16:21:42.049207Z",
     "iopub.status.idle": "2023-05-21T16:21:42.225517Z",
     "shell.execute_reply": "2023-05-21T16:21:42.224827Z"
    }
   },
   "outputs": [
    {
     "data": {
      "text/plain": [
       "<Axes: >"
      ]
     },
     "execution_count": 13,
     "metadata": {},
     "output_type": "execute_result"
    },
    {
     "data": {
      "image/png": "[encoded data removed]",
      "text/plain": [
       "<Figure size 640x480 with 1 Axes>"
      ]
     },
     "metadata": {},
     "output_type": "display_data"
    }
   ],
   "source": [
    "x = np.random.normal(0, 1, 50)\n",
    "y = x * 2 + np.random.normal(0, 2, size=x.size)\n",
    "sns.regplot(x=x, y=y)"
   ]
  },
  {
   "cell_type": "raw",
   "metadata": {},
   "source": [
    "Currently, the error bars on a regression estimate are less flexible, only showing a confidence interval with a size set through `ci=`. This may change in the future."
   ]
  },
  {
   "cell_type": "raw",
   "metadata": {},
   "source": [
    "Are error bars enough?\n",
    "----------------------\n",
    "\n",
    "You should always ask yourself whether it's best to use a plot that displays only a summary statistic and error bar. In many cases, it isn't.\n",
    "\n",
    "If you are interested in questions about summaries (such as whether the mean value differs between groups or increases over time), aggregation reduces the complexity of the plot and makes those inferences easier. But in doing so, it obscures valuable information about the underlying data points, such as the shape of the distributions and the presence of outliers.\n",
    "\n",
    "When analyzing your own data, don't be satisfied with summary statistics. Always look at the underlying distributions too. Sometimes, it can be helpful to combine both perspectives into the same figure. Many seaborn functions can help with this task, especially those discussed in the :doc:`categorical tutorial </tutorial/categorical>`."
   ]
  }
 ],
 "metadata": {
  "kernelspec": {
   "display_name": "Python 3 (ipykernel)",
   "language": "python",
   "name": "python3"
  },
  "language_info": {
   "codemirror_mode": {
    "name": "ipython",
    "version": 3
   },
   "file_extension": ".py",
   "mimetype": "text/x-python",
   "name": "python",
   "nbconvert_exporter": "python",
   "pygments_lexer": "ipython3",
   "version": "3.10.6"
  }
 },
 "nbformat": 4,
 "nbformat_minor": 4
}
